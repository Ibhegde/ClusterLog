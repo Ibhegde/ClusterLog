{
 "cells": [
  {
   "cell_type": "markdown",
   "metadata": {},
   "source": [
    "# Clusterlogs Notebook"
   ]
  },
  {
   "cell_type": "code",
   "execution_count": 1,
   "metadata": {},
   "outputs": [],
   "source": [
    "import pandas as pd\n",
    "from clusterlogs import pipeline\n",
    "import numpy as np"
   ]
  },
  {
   "cell_type": "markdown",
   "metadata": {},
   "source": [
    "## 1. Download data from file and create pandas DataFrame with index "
   ]
  },
  {
   "cell_type": "code",
   "execution_count": 2,
   "metadata": {},
   "outputs": [],
   "source": [
    "df = pd.read_csv('samples/harvester_errors24.csv', sep=';')"
   ]
  },
  {
   "cell_type": "code",
   "execution_count": null,
   "metadata": {},
   "outputs": [],
   "source": [
    "df = pd.read_csv('/Users/maria/cernbox/LogsClusterization/Harvester/data_sample.csv', sep='\\t')"
   ]
  },
  {
   "cell_type": "code",
   "execution_count": null,
   "metadata": {},
   "outputs": [],
   "source": [
    "df = pd.read_csv('/Users/maria/cernbox/LogsClusterization/Harvester/data_sample-2020-02-27 15_01_06.750914.csv', sep='\\t')"
   ]
  },
  {
   "cell_type": "code",
   "execution_count": 11,
   "metadata": {},
   "outputs": [],
   "source": [
    "df = pd.read_csv('/Users/maria/cernbox/LogsClusterization/Harvester/data_sample_superror-2020-03-03 09_35_47.158324.csv', sep='\\t')"
   ]
  },
  {
   "cell_type": "code",
   "execution_count": null,
   "metadata": {},
   "outputs": [],
   "source": [
    "df.dropna(inplace=True)"
   ]
  },
  {
   "cell_type": "code",
   "execution_count": null,
   "metadata": {},
   "outputs": [],
   "source": [
    "df.shape"
   ]
  },
  {
   "cell_type": "code",
   "execution_count": null,
   "metadata": {},
   "outputs": [],
   "source": [
    "df.head()"
   ]
  },
  {
   "cell_type": "code",
   "execution_count": 12,
   "metadata": {},
   "outputs": [],
   "source": [
    "target = 'message'"
   ]
  },
  {
   "cell_type": "code",
   "execution_count": 13,
   "metadata": {},
   "outputs": [
    {
     "data": {
      "text/plain": [
       "161"
      ]
     },
     "execution_count": 13,
     "metadata": {},
     "output_type": "execute_result"
    }
   ],
   "source": [
    "len(np.unique(df['message'].values))"
   ]
  },
  {
   "cell_type": "markdown",
   "metadata": {},
   "source": [
    "## 2. Execute clusterization pipeline"
   ]
  },
  {
   "cell_type": "code",
   "execution_count": 14,
   "metadata": {},
   "outputs": [],
   "source": [
    "cluster = pipeline.Chain(df, target, mode='create', model_name='models/harvester_new.model', matching_accuracy=0.8)"
   ]
  },
  {
   "cell_type": "code",
   "execution_count": 15,
   "metadata": {
    "scrolled": true
   },
   "outputs": [
    {
     "name": "stdout",
     "output_type": "stream",
     "text": [
      "['Diag from worker Condor HoldReason Network error talking to schedd probably an authorization failure Worker canceled by harvester due to held too long or not found', 'Diag from worker LRMS error Job timeout', 'Diag from worker Condor HoldReason Network error talking to schedd probably an authorization failure Worker canceled by harvester due to held too long or not found', 'Diag from worker Condor HoldReason Network error talking to schedd probably an authorization failure Worker canceled by harvester due to held too long or not found', 'Diag from worker Condor HoldReason Network error talking to schedd probably an authorization failure Worker canceled by harvester due to held too long or not found', 'Diag from worker Condor HoldReason Network error talking to schedd probably an authorization failure Worker canceled by harvester due to held too long or not found', 'Diag from worker Condor HoldReason Network error talking to schedd probably an authorization failure Worker canceled by harvester due to held too long or not found', 'Diag from worker Condor HoldReason Network error talking to schedd probably an authorization failure Worker canceled by harvester due to held too long or not found', 'Diag from worker Condor HoldReason None Condor RemoveReason removed by SYSTEM_PERIODIC_REMOVE due to job restarted undesirably ', 'Diag from worker Condor HoldReason Network error talking to schedd probably an authorization failure Worker canceled by harvester due to held too long or not found', 'Diag from worker Condor HoldReason Network error talking to schedd probably an authorization failure Worker canceled by harvester due to held too long or not found', 'Diag from worker Condor HoldReason Network error talking to schedd probably an authorization failure Worker canceled by harvester due to held too long or not found', 'Diag from worker Condor HoldReason Network error talking to schedd probably an authorization failure Worker canceled by harvester due to held too long or not found', 'Diag from worker Condor HoldReason CREAM error reason Worker canceled by harvester due to held too long or not found', 'Diag from worker Condor HoldReason Network error talking to schedd probably an authorization failure Worker canceled by harvester due to held too long or not found', 'Diag from worker Condor HoldReason Network error talking to schedd probably an authorization failure Worker canceled by harvester due to held too long or not found', 'Diag from worker Condor HoldReason Network error talking to schedd probably an authorization failure Worker canceled by harvester due to held too long or not found', 'Diag from worker Condor HoldReason Network error talking to schedd probably an authorization failure Worker canceled by harvester due to held too long or not found', 'Diag from worker Condor HoldReason Network error talking to schedd probably an authorization failure Worker canceled by harvester due to held too long or not found', 'Diag from worker Condor HoldReason Network error talking to schedd probably an authorization failure Worker canceled by harvester due to held too long or not found', 'Diag from worker Condor HoldReason Network error talking to schedd probably an authorization failure Worker canceled by harvester due to held too long or not found', 'Diag from worker Condor HoldReason Network error talking to schedd probably an authorization failure Worker canceled by harvester due to held too long or not found', 'Diag from worker Condor HoldReason Network error talking to schedd probably an authorization failure Worker canceled by harvester due to held too long or not found', 'Diag from worker Condor HoldReason Network error talking to schedd probably an authorization failure Worker canceled by harvester due to held too long or not found', 'Diag from worker Condor HoldReason Network error talking to schedd probably an authorization failure Worker canceled by harvester due to held too long or not found', 'Diag from worker Condor HoldReason Network error talking to schedd probably an authorization failure Worker canceled by harvester due to held too long or not found', 'Diag from worker LRMS error job killed wall', 'Diag from worker Condor HoldReason Network error talking to schedd probably an authorization failure Worker canceled by harvester due to held too long or not found', 'Diag from worker Condor HoldReason Network error talking to schedd probably an authorization failure Worker canceled by harvester due to held too long or not found', 'Diag from worker LRMS error job killed wall', 'Diag from worker Condor HoldReason Network error talking to schedd probably an authorization failure Worker canceled by harvester due to held too long or not found', 'Diag from worker LRMS error job killed wall', 'Diag from worker Condor HoldReason Network error talking to schedd probably an authorization failure Worker canceled by harvester due to held too long or not found', 'Diag from worker Condor HoldReason Network error talking to schedd probably an authorization failure Worker canceled by harvester due to held too long or not found', 'Diag from worker LRMS error job killed vmem', 'Diag from worker Condor HoldReason Network error talking to schedd probably an authorization failure Worker canceled by harvester due to held too long or not found', 'Diag from worker Condor HoldReason Network error talking to schedd probably an authorization failure Worker canceled by harvester due to held too long or not found', 'Diag from worker LRMS error job killed wall', 'Diag from worker LRMS error Job was cancelled', 'Diag from worker LRMS error Job missing from SLURM', 'Diag from worker LRMS error Job missing from SLURM', 'Diag from worker LRMS error Job missing from SLURM', 'Diag from worker LRMS error Job was cancelled', 'Diag from worker LRMS error Job missing from SLURM', 'Diag from worker LRMS error Job was cancelled', 'Diag from worker LRMS error Job missing from SLURM', 'Diag from worker LRMS error Job missing from SLURM', 'Diag from worker LRMS error Job was cancelled', 'Diag from worker LRMS error Job was cancelled', 'Diag from worker LRMS error Job was cancelled', 'Diag from worker LRMS error Job missing from SLURM', 'Diag from worker Condor HoldReason Network error talking to schedd probably an authorization failure Worker canceled by harvester due to held too long or not found', 'Diag from worker LRMS error Job missing from SLURM', 'Diag from worker Condor HoldReason Network error talking to schedd probably an authorization failure Worker canceled by harvester due to held too long or not found', 'Diag from worker Condor HoldReason Network error talking to schedd probably an authorization failure Worker canceled by harvester due to held too long or not found', 'Diag from worker Condor HoldReason Network error talking to schedd probably an authorization failure Worker canceled by harvester due to held too long or not found', 'Diag from worker Condor HoldReason Network error talking to schedd probably an authorization failure Worker canceled by harvester due to held too long or not found', 'Diag from worker Condor HoldReason Network error talking to schedd probably an authorization failure Worker canceled by harvester due to held too long or not found', 'Diag from worker Condor HoldReason Network error talking to schedd probably an authorization failure Worker canceled by harvester due to held too long or not found', 'Diag from worker Condor HoldReason Network error talking to schedd probably an authorization failure Worker canceled by harvester due to held too long or not found', 'Diag from worker Condor HoldReason Network error talking to schedd probably an authorization failure Worker canceled by harvester due to held too long or not found', 'Diag from worker Condor HoldReason Network error talking to schedd probably an authorization failure Worker canceled by harvester due to held too long or not found', 'Diag from worker Condor HoldReason Network error talking to schedd probably an authorization failure Worker canceled by harvester due to held too long or not found', 'Diag from worker Condor HoldReason Network error talking to schedd probably an authorization failure Worker canceled by harvester due to held too long or not found', 'Diag from worker Condor HoldReason Network error talking to schedd probably an authorization failure Worker canceled by harvester due to held too long or not found', 'Diag from worker Condor HoldReason Network error talking to schedd probably an authorization failure Worker canceled by harvester due to held too long or not found', 'Diag from worker Condor HoldReason Network error talking to schedd probably an authorization failure Worker canceled by harvester due to held too long or not found', 'Diag from worker Condor HoldReason Network error talking to schedd probably an authorization failure Worker canceled by harvester due to held too long or not found', 'Diag from worker Condor HoldReason Network error talking to schedd probably an authorization failure Worker canceled by harvester due to held too long or not found', 'Diag from worker Condor HoldReason Network error talking to schedd probably an authorization failure Worker canceled by harvester due to held too long or not found', 'Diag from worker Condor HoldReason Network error talking to schedd probably an authorization failure Worker canceled by harvester due to held too long or not found', 'Diag from worker Condor HoldReason Network error talking to schedd probably an authorization failure Worker canceled by harvester due to held too long or not found', 'Diag from worker Condor HoldReason Network error talking to schedd probably an authorization failure Worker canceled by harvester due to held too long or not found', 'Diag from worker Condor HoldReason Network error talking to schedd probably an authorization failure Worker canceled by harvester due to held too long or not found', 'Diag from worker Condor HoldReason Network error talking to schedd probably an authorization failure Worker canceled by harvester due to held too long or not found', 'Diag from worker LRMS error job killed wall', 'Diag from worker Condor HoldReason Network error talking to schedd probably an authorization failure Worker canceled by harvester due to held too long or not found', 'Diag from worker Condor HoldReason Network error talking to schedd probably an authorization failure Worker canceled by harvester due to held too long or not found', 'Diag from worker Condor HoldReason Network error talking to schedd probably an authorization failure Worker canceled by harvester due to held too long or not found', 'Diag from worker Condor HoldReason Job not found Worker canceled by harvester due to held too long or not found', 'Diag from worker Condor HoldReason Network error talking to schedd probably an authorization failure Worker canceled by harvester due to held too long or not found', 'Diag from worker Job submission to LRMS failed', 'Diag from worker Condor HoldReason Job not found Worker canceled by harvester due to held too long or not found', 'Diag from worker LRMS error Job timeout', 'Diag from worker LRMS error Job failed', 'Diag from worker LRMS error Job missing from SLURM', 'Diag from worker Condor HoldReason None Condor RemoveReason removed by SYSTEM_PERIODIC_REMOVE due to job restarted undesirably ', 'Diag from worker LRMS error Job timeout', 'Diag from worker Condor HoldReason Job not found Worker canceled by harvester due to held too long or not found', 'Diag from worker Condor HoldReason Network error talking to schedd probably an authorization failure Worker canceled by harvester due to held too long or not found', 'Diag from worker Condor HoldReason CREAM error Cannot upload file home into gsiftp var cream_sandbox prdatlas ', 'Diag from worker Failed in data staging Failed to prepare destination srm srm SFN dpm lhep unibe ch home atlas atlasscratchdisk rucio panda ', 'Diag from worker Failed in data staging Failed to prepare destination srm srm SFN dpm lhep unibe ch home atlas atlasscratchdisk rucio panda ', 'Diag from worker Failed in data staging Failed to prepare destination srm srm SFN dpm lhep unibe ch home atlas atlasscratchdisk rucio panda fb ', 'Diag from worker Failed in data staging Failed to prepare destination srm srm SFN dpm lhep unibe ch home atlas atlasscratchdisk rucio user gangarbt cf ', 'Diag from worker LRMS error Job timeout', 'Diag from worker Failed in data staging Failed to prepare destination srm srm SFN dpm lhep unibe ch home atlas atlasscratchdisk rucio user gangarbt aa ', 'Diag from worker Condor HoldReason CREAM error Cannot upload file home into gsiftp var cream_sandbox prdatlas ', 'Diag from worker Condor HoldReason CREAM error Cannot upload file home into gsiftp var cream_sandbox prdatlas ', 'Diag from worker Condor HoldReason CREAM error Cannot upload file home into gsiftp var cream_sandbox prdatlas ', 'Diag from worker Condor HoldReason CREAM error Cannot upload file home into gsiftp var cream_sandbox prdatlas ', 'Diag from worker LRMS error job killed wall', 'Diag from worker Failed in data staging Failed to prepare destination srm srm SFN dpm lhep unibe ch home atlas atlasscratchdisk rucio user krbjoerk adl', 'Diag from worker Failed in data staging Failed to prepare destination srm srm SFN dpm lhep unibe ch home atlas atlasscratchdisk rucio user krbjoerk ', 'Diag from worker Failed in data staging Failed to prepare destination srm srm SFN dpm lhep unibe ch home atlas atlasscratchdisk rucio user krbjoerk ', 'Diag from worker Failed in data staging Failed to prepare destination srm srm SFN dpm lhep unibe ch home atlas atlasscratchdisk rucio user krbjoerk bb ', 'Diag from worker Failed in data staging Failed to prepare destination srm srm SFN dpm lhep unibe ch home atlas atlasscratchdisk rucio user krbjoerk adl', 'Diag from worker Failed in data staging Failed to prepare destination srm srm SFN dpm lhep unibe ch home atlas atlasscratchdisk rucio user krbjoerk ff adl', 'Diag from worker Failed in data staging Failed to prepare destination srm srm SFN dpm lhep unibe ch home atlas atlasscratchdisk rucio user krbjoerk adl', 'Diag from worker Condor HoldReason CREAM error Cannot upload file home into gsiftp var cream_sandbox prdatlas ', 'Diag from worker Condor HoldReason CREAM error Cannot upload file home into gsiftp var cream_sandbox prdatlas ', 'Diag from worker Condor HoldReason None Condor RemoveReason removed by SYSTEM_PERIODIC_REMOVE due to job restarted undesirably ', 'Diag from worker Condor HoldReason Network error talking to schedd probably an authorization failure Worker canceled by harvester due to held too long or not found', 'Diag from worker Condor HoldReason Network error talking to schedd probably an authorization failure Worker canceled by harvester due to held too long or not found', 'Diag from worker LRMS error Job missing from SLURM', 'Diag from worker Condor HoldReason Network error talking to schedd probably an authorization failure Worker canceled by harvester due to held too long or not found', 'Diag from worker Condor HoldReason Network error talking to schedd probably an authorization failure Worker canceled by harvester due to held too long or not found', 'Diag from worker Condor HoldReason Network error talking to schedd probably an authorization failure Worker canceled by harvester due to held too long or not found', 'Diag from worker LRMS error job killed wall', 'Diag from worker Condor HoldReason Network error talking to schedd probably an authorization failure Worker canceled by harvester due to held too long or not found', 'Diag from worker Condor HoldReason CREAM error Job has been terminated got SIGTERM Worker canceled by harvester due to held too long or not found', 'Diag from worker Condor HoldReason CREAM error Job has been terminated got SIGTERM Worker canceled by harvester due to held too long or not found', 'Diag from worker Condor HoldReason Network error talking to schedd probably an authorization failure Worker canceled by harvester due to held too long or not found', 'Diag from worker Condor HoldReason Network error talking to schedd probably an authorization failure Worker canceled by harvester due to held too long or not found', 'Diag from worker Condor HoldReason Network error talking to schedd probably an authorization failure Worker canceled by harvester due to held too long or not found', 'Diag from worker Failed in data staging Failed to prepare destination srm srm SFN dpm lhep unibe ch home atlas atlasscratchdisk rucio panda ', 'Diag from worker Failed in data staging Failed to prepare destination srm srm SFN dpm lhep unibe ch home atlas atlasscratchdisk rucio panda ', 'Diag from worker Failed in data staging Failed to prepare destination srm srm SFN dpm lhep unibe ch home atlas atlasscratchdisk rucio panda ab ', 'Diag from worker Failed in data staging Failed to prepare destination srm srm SFN dpm lhep unibe ch home atlas atlasdatadisk rucio ', 'Diag from worker Condor HoldReason Unspecified gridmanager error Worker canceled by harvester due to held too long or not found', 'Diag from worker Failed in data staging Failed to prepare destination srm srm SFN dpm lhep unibe ch home atlas atlasdatadisk rucio ', 'Diag from worker Job submission to LRMS failed', 'Diag from worker LRMS error RemoveReason Job removed by SYSTEM_PERIODIC_REMOVE due to exceeding the requested memory ', 'Diag from worker Condor HoldReason Network error talking to schedd probably an authorization failure Worker canceled by harvester due to held too long or not found', 'Diag from worker Failed in data staging Failed to prepare destination srm srm SFN dpm lhep unibe ch home atlas atlasdatadisk rucio ', 'Diag from worker Condor HoldReason Network error talking to schedd probably an authorization failure ', 'Diag from worker Condor HoldReason Network error talking to schedd probably an authorization failure Worker canceled by harvester due to held too long or not found', 'Diag from worker Failed in data staging Failed to prepare destination srm srm SFN dpm lhep unibe ch home atlas atlasdatadisk rucio ca ', 'Diag from worker Failed in data staging Failed to prepare destination srm srm SFN dpm lhep unibe ch home atlas atlasdatadisk rucio ee ', 'Diag from worker Failed in data staging Failed to prepare destination srm srm SFN dpm lhep unibe ch home atlas atlasdatadisk rucio ', 'Diag from worker Failed in data staging Failed to prepare destination srm srm SFN dpm lhep unibe ch home atlas atlasdatadisk rucio ', 'Diag from worker Failed in data staging Failed to prepare destination srm srm SFN dpm lhep unibe ch home atlas atlasdatadisk rucio ', 'Diag from worker Failed in data staging Failed to prepare destination srm srm SFN dpm lhep unibe ch home atlas atlasdatadisk rucio ', 'Diag from worker Failed in data staging Failed to prepare destination srm srm SFN dpm lhep unibe ch home atlas atlasscratchdisk rucio user carquin ', 'Diag from worker LRMS error Job timeout', 'Diag from worker Failed in data staging Failed to prepare destination srm srm SFN dpm lhep unibe ch home atlas atlasscratchdisk rucio user solovyev ', 'Diag from worker Job submission to LRMS failed', 'Diag from worker Failed in data staging Failed to prepare destination srm srm SFN dpm lhep unibe ch home atlas atlasdatadisk rucio cf ', 'Diag from worker Failed in data staging Failed to prepare destination srm srm SFN dpm lhep unibe ch home atlas atlasdatadisk rucio ad ', 'Diag from worker Failed in data staging Failed to prepare destination srm srm SFN dpm lhep unibe ch home atlas atlasdatadisk rucio ff ', 'Diag from worker Failed in data staging Failed to prepare destination srm srm SFN dpm lhep unibe ch home atlas atlasdatadisk rucio ', 'Diag from worker Failed in data staging Failed to prepare destination srm srm SFN dpm lhep unibe ch home atlas atlasdatadisk rucio ', 'Diag from worker Failed in data staging Failed to prepare destination srm srm SFN dpm lhep unibe ch home atlas atlasdatadisk rucio ', 'Diag from worker Condor HoldReason Network error talking to schedd probably an authorization failure Worker canceled by harvester due to held too long or not found', 'Diag from worker Condor HoldReason Network error talking to schedd probably an authorization failure Worker canceled by harvester due to held too long or not found', 'Diag from worker Condor HoldReason Network error talking to schedd probably an authorization failure Worker canceled by harvester due to held too long or not found', 'Diag from worker Failed in data staging Failed to prepare destination srm srm SFN dpm lhep unibe ch home atlas atlasscratchdisk rucio user nkang adler', 'Diag from worker Failed in data staging Failed to prepare destination srm srm SFN dpm lhep unibe ch home atlas atlasdatadisk rucio ', 'Diag from worker LRMS error Job timeout Failed in data staging Failed to prepare destination srm srm SFN dpm lhep unibe ch home atlas atlasdatadisk rucio ', 'Diag from worker Failed in data staging Failed to prepare destination srm srm SFN dpm lhep unibe ch home atlas atlasdatadisk rucio ', 'Diag from worker Failed in data staging Failed to prepare destination srm srm SFN dpm lhep unibe ch home atlas atlasscratchdisk rucio user gangarbt ', 'Diag from worker Failed in data staging Failed to prepare destination srm srm SFN dpm lhep unibe ch home atlas atlasdatadisk rucio ', 'Diag from worker Failed in data staging Failed to prepare destination srm srm SFN dpm lhep unibe ch home atlas atlasdatadisk rucio ', 'Diag from worker Condor HoldReason Network error talking to schedd probably an authorization failure ', 'Diag from worker Failed in data staging Failed to prepare destination srm srm SFN dpm lhep unibe ch home atlas atlasdatadisk rucio df ', 'Diag from worker Condor HoldReason Network error talking to schedd probably an authorization failure ', 'Diag from worker Failed in data staging Failed to prepare destination srm srm SFN dpm lhep unibe ch home atlas atlasdatadisk rucio ', 'Diag from worker Failed in data staging Failed to prepare destination srm srm SFN dpm lhep unibe ch home atlas atlasdatadisk rucio ', 'Diag from worker Failed in data staging Failed to prepare destination srm srm SFN dpm lhep unibe ch home atlas atlasdatadisk rucio ', 'Diag from worker Failed in data staging Failed to prepare destination srm srm SFN dpm lhep unibe ch home atlas atlasdatadisk rucio ', 'Diag from worker Failed in data staging Failed to prepare destination srm srm SFN dpm lhep unibe ch home atlas atlasdatadisk rucio cf ', 'Diag from worker Failed in data staging Failed to prepare destination srm srm SFN dpm lhep unibe ch home atlas atlasdatadisk rucio ', 'Diag from worker Failed in data staging Failed to prepare destination srm srm SFN dpm lhep unibe ch home atlas atlasdatadisk rucio ', 'Diag from worker Failed in data staging Failed to prepare destination srm srm SFN dpm lhep unibe ch home atlas atlasdatadisk rucio ', 'Diag from worker Condor HoldReason Network error talking to schedd probably an authorization failure ', 'Diag from worker LRMS error Job timeout', 'Diag from worker Failed in data staging Failed to prepare destination srm srm SFN dpm lhep unibe ch home atlas atlasdatadisk rucio ', 'Diag from worker Condor HoldReason Network error talking to schedd probably an authorization failure Worker canceled by harvester due to held too long or not found', 'Diag from worker Failed in data staging Failed to prepare destination srm srm SFN dpm lhep unibe ch home atlas atlasdatadisk rucio ', 'Diag from worker Failed in data staging Failed to prepare destination srm srm SFN dpm lhep unibe ch home atlas atlasdatadisk rucio ', 'Diag from worker Failed in data staging Failed to prepare destination srm srm SFN dpm lhep unibe ch home atlas atlasdatadisk rucio ', 'Diag from worker Failed in data staging Failed to prepare destination srm srm SFN dpm lhep unibe ch home atlas atlasdatadisk rucio ', 'Diag from worker Failed in data staging Failed to prepare destination srm srm SFN dpm lhep unibe ch home atlas atlasdatadisk rucio fc ae ', 'Diag from worker Failed in data staging Failed to prepare destination srm srm SFN dpm lhep unibe ch home atlas atlasdatadisk rucio ', 'Diag from worker Failed in data staging Failed to prepare destination srm srm SFN dpm lhep unibe ch home atlas atlasdatadisk rucio ', 'Diag from worker Failed in data staging Failed to prepare destination srm srm SFN dpm lhep unibe ch home atlas atlasdatadisk rucio ', 'Diag from worker Failed in data staging Failed to prepare destination srm srm SFN dpm lhep unibe ch home atlas atlasdatadisk rucio ', 'Diag from worker Failed in data staging Failed to prepare destination srm srm SFN dpm lhep unibe ch home atlas atlasdatadisk rucio ', 'Diag from worker Condor HoldReason Network error talking to schedd probably an authorization failure Worker canceled by harvester due to held too long or not found', 'Diag from worker Failed in data staging Failed to prepare destination srm srm SFN dpm lhep unibe ch home atlas atlasdatadisk rucio ', 'Diag from worker Condor HoldReason Network error talking to schedd probably an authorization failure Worker canceled by harvester due to held too long or not found', 'Diag from worker Condor HoldReason Network error talking to schedd probably an authorization failure Worker canceled by harvester due to held too long or not found', 'Diag from worker Failed in data staging Failed to prepare destination srm srm SFN dpm lhep unibe ch home atlas atlasdatadisk rucio cf ', 'Diag from worker Condor HoldReason Network error talking to schedd probably an authorization failure Worker canceled by harvester due to held too long or not found', 'Diag from worker Failed in data staging Failed to prepare destination srm srm SFN dpm lhep unibe ch home atlas atlasdatadisk rucio ', 'Diag from worker Condor HoldReason Network error talking to schedd probably an authorization failure Worker canceled by harvester due to held too long or not found', 'Diag from worker Failed in data staging Failed to prepare destination srm srm SFN dpm lhep unibe ch home atlas atlasdatadisk rucio ', 'Diag from worker Condor HoldReason Network error talking to schedd probably an authorization failure ', 'Diag from worker Failed in data staging Failed to prepare destination srm srm SFN dpm lhep unibe ch home atlas atlasdatadisk rucio aa ', 'Diag from worker Failed in data staging Failed to prepare destination srm srm SFN dpm lhep unibe ch home atlas atlasscratchdisk rucio user carquin ', 'Diag from worker Condor HoldReason Network error talking to schedd probably an authorization failure ', 'Diag from worker Condor HoldReason Network error talking to schedd probably an authorization failure ', 'Diag from worker Failed in data staging Failed to prepare destination srm srm SFN dpm lhep unibe ch home atlas atlasdatadisk rucio ', 'Diag from worker Failed in data staging Failed to prepare destination srm srm SFN dpm lhep unibe ch home atlas atlasdatadisk rucio ', 'Diag from worker Condor HoldReason Network error talking to schedd probably an authorization failure Worker canceled by harvester due to held too long or not found', 'Diag from worker Failed in data staging Failed to prepare destination srm srm SFN dpm lhep unibe ch home atlas atlasdatadisk rucio ', 'Diag from worker Condor HoldReason Network error talking to schedd probably an authorization failure ', 'Diag from worker Failed in data staging Failed to prepare destination srm srm SFN dpm lhep unibe ch home atlas atlasdatadisk rucio ', 'Diag from worker Failed in data staging Failed to prepare destination srm srm SFN dpm lhep unibe ch home atlas atlasdatadisk rucio ', 'Diag from worker Failed in data staging Failed to prepare destination srm srm SFN dpm lhep unibe ch home atlas atlasdatadisk rucio ', 'Diag from worker Failed in data staging Failed to prepare destination srm srm SFN dpm lhep unibe ch home atlas atlasdatadisk rucio ', 'Diag from worker Condor HoldReason None Condor RemoveReason removed by SYSTEM_PERIODIC_REMOVE due to job restarted undesirably ', 'Diag from worker Failed in data staging Failed to prepare destination srm srm SFN dpm lhep unibe ch home atlas atlasdatadisk rucio bc ', 'Diag from worker Failed in data staging Failed to prepare destination srm srm SFN dpm lhep unibe ch home atlas atlasdatadisk rucio cf ', 'Diag from worker LRMS error Job timeout', 'Diag from worker Condor HoldReason Network error talking to schedd probably an authorization failure ', 'Diag from worker Failed in data staging Failed to prepare destination srm srm SFN dpm lhep unibe ch home atlas atlasdatadisk rucio ', 'Diag from worker Failed in data staging Failed to prepare destination srm srm SFN dpm lhep unibe ch home atlas atlasdatadisk rucio ', 'Diag from worker Condor HoldReason Network error talking to schedd probably an authorization failure Worker canceled by harvester due to held too long or not found', 'Diag from worker Condor HoldReason Network error talking to schedd probably an authorization failure Worker canceled by harvester due to held too long or not found', 'Diag from worker Failed in data staging Failed to prepare destination srm srm SFN dpm lhep unibe ch home atlas atlasdatadisk rucio ', 'Diag from worker Condor HoldReason Network error talking to schedd probably an authorization failure Worker canceled by harvester due to held too long or not found', 'Diag from worker Condor HoldReason Network error talking to schedd probably an authorization failure Worker canceled by harvester due to held too long or not found', 'Diag from worker Failed in data staging Failed to prepare destination srm srm SFN dpm lhep unibe ch home atlas atlasdatadisk rucio ', 'Diag from worker Failed in data staging Failed to prepare destination srm srm SFN dpm lhep unibe ch home atlas atlasdatadisk rucio ', 'Diag from worker LRMS error Job timeout', 'Diag from worker LRMS error Job timeout', 'Diag from worker LRMS error Job timeout Failed in data staging Failed to prepare destination srm srm SFN dpm lhep unibe ch home atlas atlasscratchdisk rucio user mniemeye ', 'Diag from worker LRMS error Job timeout', 'Diag from worker LRMS error Job timeout', 'Diag from worker LRMS error Job timeout', 'Diag from worker Failed in data staging Failed to prepare destination srm srm SFN dpm lhep unibe ch home atlas atlasdatadisk rucio ', 'Diag from worker LRMS error Job timeout', 'Diag from worker LRMS error Job timeout', 'Diag from worker LRMS error Job timeout', 'Diag from worker LRMS error Job timeout', 'Diag from worker LRMS error Job timeout', 'Diag from worker LRMS error Job timeout', 'Diag from worker LRMS error Job timeout', 'Diag from worker LRMS error Job timeout', 'Diag from worker LRMS error Job timeout', 'Diag from worker Failed in data staging Failed to prepare destination srm srm SFN dpm lhep unibe ch home atlas atlasdatadisk rucio cc ', 'Diag from worker LRMS error Job timeout', 'Diag from worker LRMS error Job timeout', 'Diag from worker LRMS error Job timeout', 'Diag from worker LRMS error Job timeout Failed in data staging Failed to prepare destination srm srm SFN dpm lhep unibe ch home atlas atlasscratchdisk rucio user mniemeye ', 'Diag from worker LRMS error Job timeout', 'Diag from worker LRMS error Job timeout', 'Diag from worker LRMS error Job timeout', 'Diag from worker Failed in data staging Failed to prepare destination srm srm SFN dpm lhep unibe ch home atlas atlasdatadisk rucio ', 'Diag from worker Condor HoldReason Network error talking to schedd probably an authorization failure ', 'Diag from worker Failed in data staging Failed to prepare destination srm srm SFN dpm lhep unibe ch home atlas atlasdatadisk rucio ', 'Diag from worker LRMS error Job timeout', 'Diag from worker Condor HoldReason Network error talking to schedd probably an authorization failure Worker canceled by harvester due to held too long or not found', 'Diag from worker Failed in data staging Failed to prepare destination srm srm SFN dpm lhep unibe ch home atlas atlasdatadisk rucio eb ', 'Diag from worker Failed in data staging Failed to prepare destination srm srm SFN dpm lhep unibe ch home atlas atlasdatadisk rucio ', 'Diag from worker Condor HoldReason Network error talking to schedd probably an authorization failure Worker canceled by harvester due to held too long or not found', 'Diag from worker Condor HoldReason Network error talking to schedd probably an authorization failure Worker canceled by harvester due to held too long or not found', 'Diag from worker Failed in data staging Failed to prepare destination srm srm SFN dpm lhep unibe ch home atlas atlasdatadisk rucio ', 'Diag from worker Failed in data staging Failed to prepare destination srm srm SFN dpm lhep unibe ch home atlas atlasdatadisk rucio ', 'Diag from worker Condor HoldReason Network error talking to schedd probably an authorization failure Worker canceled by harvester due to held too long or not found', 'Diag from worker Failed in data staging Failed to prepare destination srm srm SFN dpm lhep unibe ch home atlas atlasdatadisk rucio ', 'Diag from worker Condor HoldReason Network error talking to schedd probably an authorization failure ', 'Diag from worker Condor HoldReason Network error talking to schedd probably an authorization failure Worker canceled by harvester due to held too long or not found', 'Diag from worker Condor HoldReason Network error talking to schedd probably an authorization failure Worker canceled by harvester due to held too long or not found', 'Diag from worker Condor HoldReason Network error talking to schedd probably an authorization failure Worker canceled by harvester due to held too long or not found', 'Diag from worker Condor HoldReason Network error talking to schedd probably an authorization failure Worker canceled by harvester due to held too long or not found', 'Diag from worker Failed in data staging Failed to prepare destination srm srm SFN dpm lhep unibe ch home atlas atlasdatadisk rucio ', 'Diag from worker Failed in data staging Failed to prepare destination srm srm SFN dpm lhep unibe ch home atlas atlasscratchdisk rucio user carquin ', 'Diag from worker Condor HoldReason Network error talking to schedd probably an authorization failure Worker canceled by harvester due to held too long or not found', 'Diag from worker Failed in data staging Failed to prepare destination srm srm SFN dpm lhep unibe ch home atlas atlasdatadisk rucio ', 'Diag from worker Condor HoldReason Network error talking to schedd probably an authorization failure Worker canceled by harvester due to held too long or not found', 'Diag from worker Condor HoldReason Network error talking to schedd probably an authorization failure Worker canceled by harvester due to held too long or not found', 'Diag from worker Condor HoldReason Network error talking to schedd probably an authorization failure Worker canceled by harvester due to held too long or not found', 'Diag from worker Failed in data staging Failed to prepare destination srm srm SFN dpm lhep unibe ch home atlas atlasdatadisk rucio ', 'Diag from worker Condor HoldReason Network error talking to schedd probably an authorization failure Worker canceled by harvester due to held too long or not found', 'Diag from worker Condor HoldReason Network error talking to schedd probably an authorization failure Worker canceled by harvester due to held too long or not found', 'Diag from worker Condor HoldReason Unspecified gridmanager error Condor RemoveReason Python initiated action by user atlpan ', 'Diag from worker Failed in data staging Failed to prepare destination srm srm SFN dpm lhep unibe ch home atlas atlasdatadisk rucio ', 'Diag from worker Failed in data staging Failed to prepare destination srm srm SFN dpm lhep unibe ch home atlas atlasdatadisk rucio ', 'Diag from worker Failed in data staging Failed to prepare destination srm srm SFN dpm lhep unibe ch home atlas atlasdatadisk rucio db ', 'Diag from worker Condor HoldReason Network error talking to schedd probably an authorization failure Worker canceled by harvester due to held too long or not found', 'Diag from worker Condor HoldReason Network error talking to schedd probably an authorization failure ', 'Diag from worker Failed in data staging Failed to prepare destination srm srm SFN dpm lhep unibe ch home atlas atlasdatadisk rucio da fb ', 'Diag from worker LRMS error Job timeout Failed in data staging Failed to prepare destination srm srm SFN dpm lhep unibe ch home atlas atlasdatadisk rucio ad ', 'Diag from worker Failed in data staging Failed to prepare destination srm srm SFN dpm lhep unibe ch home atlas atlasdatadisk rucio dd ', 'Diag from worker Failed in data staging Failed to prepare destination srm srm SFN dpm lhep unibe ch home atlas atlasdatadisk rucio ', 'Diag from worker Condor HoldReason Network error talking to schedd probably an authorization failure Worker canceled by harvester due to held too long or not found', 'Diag from worker Failed in data staging Failed to prepare destination srm srm SFN dpm lhep unibe ch home atlas atlasdatadisk rucio cc ', 'Diag from worker Failed in data staging Failed to prepare destination srm srm SFN dpm lhep unibe ch home atlas atlasdatadisk rucio ', 'Diag from worker Condor HoldReason Network error talking to schedd probably an authorization failure Worker canceled by harvester due to held too long or not found', 'Diag from worker Failed in data staging Failed to prepare destination srm srm SFN dpm lhep unibe ch home atlas atlasdatadisk rucio ', 'Diag from worker Failed in data staging Failed to prepare destination srm srm SFN dpm lhep unibe ch home atlas atlasdatadisk rucio ', 'Diag from worker Failed in data staging Failed to prepare destination srm srm SFN dpm lhep unibe ch home atlas atlasdatadisk rucio cf ', 'Diag from worker Failed in data staging Failed to prepare destination srm srm SFN dpm lhep unibe ch home atlas atlasdatadisk rucio ', 'Diag from worker Failed in data staging Failed to prepare destination srm srm SFN dpm lhep unibe ch home atlas atlasdatadisk rucio ', 'Diag from worker Failed in data staging Failed to prepare destination srm srm SFN dpm lhep unibe ch home atlas atlasdatadisk rucio ', 'Diag from worker Failed in data staging Failed to prepare destination srm srm SFN dpm lhep unibe ch home atlas atlasdatadisk rucio ', 'Diag from worker Condor HoldReason Network error talking to schedd probably an authorization failure Worker canceled by harvester due to held too long or not found', 'Diag from worker Failed in data staging Failed to prepare destination srm srm SFN dpm lhep unibe ch home atlas atlasdatadisk rucio ', 'Diag from worker Condor HoldReason Network error talking to schedd probably an authorization failure Worker canceled by harvester due to held too long or not found', 'Diag from worker Failed in data staging Failed to prepare destination srm srm SFN dpm lhep unibe ch home atlas atlasscratchdisk rucio panda ac ', 'Diag from worker Condor HoldReason Network error talking to schedd probably an authorization failure Worker canceled by harvester due to held too long or not found', 'Diag from worker Condor HoldReason Network error talking to schedd probably an authorization failure Worker canceled by harvester due to held too long or not found', 'Diag from worker Condor HoldReason Network error talking to schedd probably an authorization failure Worker canceled by harvester due to held too long or not found', 'Diag from worker Condor HoldReason Network error talking to schedd probably an authorization failure Worker canceled by harvester due to held too long or not found', 'Diag from worker Condor HoldReason CREAM error Job has been terminated got SIGTERM Worker canceled by harvester due to held too long or not found', 'Diag from worker Condor HoldReason Network error talking to schedd probably an authorization failure Worker canceled by harvester due to held too long or not found', 'Diag from worker LRMS error Job timeout', 'Diag from worker LRMS error Job timeout', 'Diag from worker LRMS error Job timeout', 'Diag from worker LRMS error Job timeout', 'Diag from worker LRMS error Job timeout', 'Diag from worker LRMS error Job timeout', 'Diag from worker LRMS error Job timeout', 'Diag from worker LRMS error Job timeout', 'Diag from worker LRMS error Job timeout', 'Diag from worker LRMS error Job timeout', 'Diag from worker LRMS error Job timeout Failed in data staging Failed to prepare destination srm srm SFN dpm lhep unibe ch home atlas atlasscratchdisk rucio user mniemeye ', 'Diag from worker LRMS error Job timeout', 'Diag from worker LRMS error Job timeout', 'Diag from worker LRMS error Job timeout', 'Diag from worker LRMS error Job timeout', 'Diag from worker LRMS error Job timeout', 'Diag from worker LRMS error Job timeout', 'Diag from worker LRMS error Job timeout', 'Diag from worker LRMS error Job timeout', 'Diag from worker LRMS error Job timeout', 'Diag from worker LRMS error Job timeout', 'Diag from worker LRMS error Job timeout', 'Diag from worker Condor HoldReason Network error talking to schedd probably an authorization failure Worker canceled by harvester due to held too long or not found', 'Diag from worker LRMS error Job timeout', 'Diag from worker LRMS error Job timeout Failed in data staging Failed to prepare destination srm srm SFN dpm lhep unibe ch home atlas atlasscratchdisk rucio user mniemeye ', 'Diag from worker LRMS error Job timeout', 'Diag from worker LRMS error Job timeout', 'Diag from worker LRMS error Job timeout Failed in data staging Failed to prepare destination srm srm SFN dpm lhep unibe ch home atlas atlasscratchdisk rucio user mniemeye ', 'Diag from worker LRMS error Job timeout', 'Diag from worker LRMS error Job timeout', 'Diag from worker LRMS error Job timeout', 'Diag from worker LRMS error Job timeout', 'Diag from worker LRMS error Job timeout', 'Diag from worker LRMS error Job timeout', 'Diag from worker Condor HoldReason Network error talking to schedd probably an authorization failure Worker canceled by harvester due to held too long or not found', 'Diag from worker Condor HoldReason Network error talking to schedd probably an authorization failure Worker canceled by harvester due to held too long or not found', 'Diag from worker Condor HoldReason Network error talking to schedd probably an authorization failure Worker canceled by harvester due to held too long or not found', 'Diag from worker Condor HoldReason Network error talking to schedd probably an authorization failure Worker canceled by harvester due to held too long or not found', 'Diag from worker Condor HoldReason Network error talking to schedd probably an authorization failure Worker canceled by harvester due to held too long or not found', 'Diag from worker Condor HoldReason Network error talking to schedd probably an authorization failure Worker canceled by harvester due to held too long or not found', 'Diag from worker LRMS error job killed vmem', 'Diag from worker Failed in data staging Failed to prepare destination srm srm SFN dpm lhep unibe ch home atlas atlasscratchdisk rucio user nkang adler', 'Diag from worker Condor HoldReason Network error talking to schedd probably an authorization failure Worker canceled by harvester due to held too long or not found', 'Diag from worker Condor HoldReason Network error talking to schedd probably an authorization failure Worker canceled by harvester due to held too long or not found', 'Diag from worker Condor HoldReason Network error talking to schedd probably an authorization failure Worker canceled by harvester due to held too long or not found', 'Diag from worker Condor HoldReason CREAM error Job has been terminated got SIGXCPU reason ', 'Diag from worker Condor HoldReason Network error talking to schedd probably an authorization failure Worker canceled by harvester due to held too long or not found', 'Diag from worker Condor HoldReason CREAM error Job has been terminated got SIGTERM Worker canceled by harvester due to held too long or not found', 'Diag from worker LRMS error job killed vmem', 'Diag from worker LRMS error job killed vmem', 'Diag from worker LRMS error job killed vmem', 'Diag from worker LRMS error job killed vmem', 'Diag from worker Condor HoldReason Network error talking to schedd probably an authorization failure Worker canceled by harvester due to held too long or not found', 'Diag from worker LRMS error job killed vmem', 'Diag from worker LRMS error job killed vmem', 'Diag from worker LRMS error job killed vmem', 'Diag from worker LRMS error job killed vmem', 'Diag from worker LRMS error job killed vmem', 'Diag from worker LRMS error job killed vmem', 'Diag from worker LRMS error job killed vmem', 'Diag from worker LRMS error job killed vmem', 'Diag from worker LRMS error job killed vmem', 'Diag from worker Condor HoldReason Network error talking to schedd probably an authorization failure Worker canceled by harvester due to held too long or not found', 'Diag from worker Condor HoldReason CREAM error Job has been terminated got SIGXCPU Worker canceled by harvester due to held too long or not found', 'Diag from worker Condor HoldReason CREAM error Job has been terminated got SIGXCPU reason Worker canceled by harvester due to held too long or not found', 'Diag from worker Condor HoldReason Network error talking to schedd probably an authorization failure Worker canceled by harvester due to held too long or not found', 'Diag from worker Job submission to LRMS failed', 'Diag from worker Condor HoldReason Network error talking to schedd probably an authorization failure Worker canceled by harvester due to held too long or not found', 'Diag from worker Failed in data staging Failed to prepare destination srm srm SFN dpm lhep unibe ch home atlas atlasscratchdisk rucio user carquin ', 'Diag from worker Condor HoldReason Network error talking to schedd probably an authorization failure Worker canceled by harvester due to held too long or not found', 'Diag from worker Condor HoldReason Network error talking to schedd probably an authorization failure Worker canceled by harvester due to held too long or not found', 'Diag from worker Condor HoldReason Network error talking to schedd probably an authorization failure Worker canceled by harvester due to held too long or not found', 'Diag from worker Condor HoldReason Network error talking to schedd probably an authorization failure Worker canceled by harvester due to held too long or not found', 'Diag from worker Condor HoldReason Network error talking to schedd probably an authorization failure Worker canceled by harvester due to held too long or not found', 'Diag from worker Condor HoldReason Network error talking to schedd probably an authorization failure Worker canceled by harvester due to held too long or not found', 'Diag from worker Condor HoldReason Network error talking to schedd probably an authorization failure Worker canceled by harvester due to held too long or not found', 'Diag from worker Condor HoldReason Network error talking to schedd probably an authorization failure Worker canceled by harvester due to held too long or not found', 'Diag from worker Condor HoldReason Network error talking to schedd probably an authorization failure Worker canceled by harvester due to held too long or not found', 'Diag from worker Condor HoldReason Network error talking to schedd probably an authorization failure Worker canceled by harvester due to held too long or not found', 'Diag from worker Condor HoldReason Network error talking to schedd probably an authorization failure Worker canceled by harvester due to held too long or not found', 'Diag from worker Condor HoldReason Network error talking to schedd probably an authorization failure Worker canceled by harvester due to held too long or not found', 'Diag from worker Condor HoldReason Network error talking to schedd probably an authorization failure Worker canceled by harvester due to held too long or not found', 'Diag from worker Condor HoldReason Network error talking to schedd probably an authorization failure Worker canceled by harvester due to held too long or not found', 'Diag from worker Condor HoldReason Network error talking to schedd probably an authorization failure Worker canceled by harvester due to held too long or not found', 'Diag from worker Condor HoldReason Network error talking to schedd probably an authorization failure Worker canceled by harvester due to held too long or not found', 'Diag from worker Condor HoldReason Network error talking to schedd probably an authorization failure Worker canceled by harvester due to held too long or not found', 'Diag from worker Condor HoldReason Network error talking to schedd probably an authorization failure Worker canceled by harvester due to held too long or not found', 'Diag from worker Condor HoldReason Network error talking to schedd probably an authorization failure Worker canceled by harvester due to held too long or not found', 'Diag from worker Condor HoldReason Network error talking to schedd probably an authorization failure Worker canceled by harvester due to held too long or not found', 'Diag from worker Condor HoldReason Network error talking to schedd probably an authorization failure Worker canceled by harvester due to held too long or not found', 'Diag from worker Condor HoldReason Network error talking to schedd probably an authorization failure Worker canceled by harvester due to held too long or not found', 'Diag from worker Condor HoldReason Network error talking to schedd probably an authorization failure Worker canceled by harvester due to held too long or not found', 'Diag from worker Condor HoldReason Network error talking to schedd probably an authorization failure Worker canceled by harvester due to held too long or not found', 'Diag from worker Condor HoldReason Network error talking to schedd probably an authorization failure Worker canceled by harvester due to held too long or not found', 'Diag from worker LRMS error Job timeout', 'Diag from worker Condor HoldReason Network error talking to schedd probably an authorization failure Worker canceled by harvester due to held too long or not found', 'Diag from worker Condor HoldReason Network error talking to schedd probably an authorization failure Worker canceled by harvester due to held too long or not found', 'Diag from worker Condor HoldReason Network error talking to schedd probably an authorization failure Worker canceled by harvester due to held too long or not found', 'Diag from worker Condor HoldReason Network error talking to schedd probably an authorization failure Worker canceled by harvester due to held too long or not found', 'Diag from worker Condor HoldReason Network error talking to schedd probably an authorization failure Worker canceled by harvester due to held too long or not found', 'Diag from worker Condor HoldReason Network error talking to schedd probably an authorization failure Worker canceled by harvester due to held too long or not found', 'Diag from worker Condor HoldReason Network error talking to schedd probably an authorization failure Worker canceled by harvester due to held too long or not found', 'Diag from worker Condor HoldReason Network error talking to schedd probably an authorization failure Worker canceled by harvester due to held too long or not found', 'Diag from worker Condor HoldReason Network error talking to schedd probably an authorization failure Worker canceled by harvester due to held too long or not found', 'Diag from worker Condor HoldReason Network error talking to schedd probably an authorization failure Worker canceled by harvester due to held too long or not found', 'Diag from worker Condor HoldReason Unspecified gridmanager error Worker canceled by harvester due to held too long or not found', 'Diag from worker Condor HoldReason Network error talking to schedd probably an authorization failure Worker canceled by harvester due to held too long or not found', 'Diag from worker Condor HoldReason Network error talking to schedd probably an authorization failure Worker canceled by harvester due to held too long or not found', 'Diag from worker Condor HoldReason Network error talking to schedd probably an authorization failure Worker canceled by harvester due to held too long or not found', 'Diag from worker Condor HoldReason Network error talking to schedd probably an authorization failure Worker canceled by harvester due to held too long or not found', 'Diag from worker Condor HoldReason Network error talking to schedd probably an authorization failure Worker canceled by harvester due to held too long or not found', 'Diag from worker Condor HoldReason Network error talking to schedd probably an authorization failure Worker canceled by harvester due to held too long or not found', 'Diag from worker Condor HoldReason Network error talking to schedd probably an authorization failure Worker canceled by harvester due to held too long or not found', 'Diag from worker Condor HoldReason Network error talking to schedd probably an authorization failure Worker canceled by harvester due to held too long or not found', 'Diag from worker Condor HoldReason Network error talking to schedd probably an authorization failure Worker canceled by harvester due to held too long or not found', 'Diag from worker LRMS error job killed vmem', 'Diag from worker LRMS error job killed vmem', 'Diag from worker LRMS error job killed vmem', 'Diag from worker LRMS error job killed vmem', 'Diag from worker LRMS error job killed vmem', 'Diag from worker LRMS error job killed vmem', 'Diag from worker LRMS error job killed vmem', 'Diag from worker LRMS error job killed vmem', 'Diag from worker LRMS error job killed vmem', 'Diag from worker Error reading user generated output file list', 'Diag from worker Condor HoldReason CREAM error reason Worker canceled by harvester due to held too long or not found', 'Diag from worker Condor HoldReason CREAM error Job has been terminated got SIGTERM reason Worker canceled by harvester due to held too long or not found', 'Diag from worker Condor HoldReason CREAM error reason Worker canceled by harvester due to held too long or not found', 'Diag from worker Error reading user generated output file list', 'Diag from worker Condor HoldReason Network error talking to schedd probably an authorization failure Worker canceled by harvester due to held too long or not found', 'Diag from worker Condor HoldReason Network error talking to schedd probably an authorization failure Worker canceled by harvester due to held too long or not found', 'Diag from worker Condor HoldReason Network error talking to schedd probably an authorization failure Worker canceled by harvester due to held too long or not found', 'Diag from worker Condor HoldReason Network error talking to schedd probably an authorization failure Worker canceled by harvester due to held too long or not found', 'Diag from worker Condor HoldReason Network error talking to schedd probably an authorization failure Worker canceled by harvester due to held too long or not found', 'Diag from worker Condor HoldReason CREAM error Transfer failed globus_ftp_client the server responded with an error failed globus_l_gfs_file_open failed Unable to open file var cream_sandbox atlaspil CN_Rob', 'Diag from worker Condor HoldReason CREAM error reason Worker canceled by harvester due to held too long or not found', 'Diag from worker Condor HoldReason Network error talking to schedd probably an authorization failure Worker canceled by harvester due to held too long or not found', 'Diag from worker Condor HoldReason Network error talking to schedd probably an authorization failure Worker canceled by harvester due to held too long or not found', 'Diag from worker Condor HoldReason Network error talking to schedd probably an authorization failure Worker canceled by harvester due to held too long or not found', 'Diag from worker Condor HoldReason Network error talking to schedd probably an authorization failure Worker canceled by harvester due to held too long or not found', 'Diag from worker Condor HoldReason Network error talking to schedd probably an authorization failure Worker canceled by harvester due to held too long or not found', 'Diag from worker Condor HoldReason Network error talking to schedd probably an authorization failure Worker canceled by harvester due to held too long or not found', 'Diag from worker Condor HoldReason Network error talking to schedd probably an authorization failure Worker canceled by harvester due to held too long or not found', 'Diag from worker Condor HoldReason Network error talking to schedd probably an authorization failure Worker canceled by harvester due to held too long or not found', 'Diag from worker Condor HoldReason Network error talking to schedd probably an authorization failure Worker canceled by harvester due to held too long or not found', 'Diag from worker Condor HoldReason Network error talking to schedd probably an authorization failure Worker canceled by harvester due to held too long or not found', 'Diag from worker Condor HoldReason Network error talking to schedd probably an authorization failure Worker canceled by harvester due to held too long or not found', 'Diag from worker Condor HoldReason Network error talking to schedd probably an authorization failure Worker canceled by harvester due to held too long or not found', 'Diag from worker Condor HoldReason Network error talking to schedd probably an authorization failure Worker canceled by harvester due to held too long or not found', 'Diag from worker Condor HoldReason Network error talking to schedd probably an authorization failure Worker canceled by harvester due to held too long or not found', 'Diag from worker Condor HoldReason Network error talking to schedd probably an authorization failure Worker canceled by harvester due to held too long or not found', 'Diag from worker Condor HoldReason Network error talking to schedd probably an authorization failure Worker canceled by harvester due to held too long or not found', 'Diag from worker Condor HoldReason Unspecified gridmanager error Worker canceled by harvester due to held too long or not found', 'Diag from worker Condor HoldReason Network error talking to schedd probably an authorization failure Worker canceled by harvester due to held too long or not found', 'Diag from worker Condor HoldReason Network error talking to schedd probably an authorization failure Worker canceled by harvester due to held too long or not found', 'Diag from worker Condor HoldReason Network error talking to schedd probably an authorization failure Worker canceled by harvester due to held too long or not found', 'Diag from worker Condor HoldReason None Condor RemoveReason removed by SYSTEM_PERIODIC_REMOVE due to job restarted undesirably ', 'Diag from worker Condor HoldReason None Condor RemoveReason removed by SYSTEM_PERIODIC_REMOVE due to job restarted undesirably ', 'Diag from worker Condor HoldReason None Condor RemoveReason removed by SYSTEM_PERIODIC_REMOVE due to job restarted undesirably ', 'Diag from worker Condor HoldReason None Condor RemoveReason removed by SYSTEM_PERIODIC_REMOVE due to job restarted undesirably ', 'Diag from worker Condor HoldReason None Condor RemoveReason removed by SYSTEM_PERIODIC_REMOVE due to job restarted undesirably ', 'Diag from worker LRMS error job killed wall', 'Diag from worker LRMS error job killed wall', 'Diag from worker Job submission to LRMS failed', 'Diag from worker Condor HoldReason Network error talking to schedd probably an authorization failure Worker canceled by harvester due to held too long or not found', 'Diag from worker Condor HoldReason Network error talking to schedd probably an authorization failure Worker canceled by harvester due to held too long or not found', 'Diag from worker Condor HoldReason Network error talking to schedd probably an authorization failure Worker canceled by harvester due to held too long or not found', 'Diag from worker Condor HoldReason None Condor RemoveReason removed by SYSTEM_PERIODIC_REMOVE due to job restarted undesirably ', 'Diag from worker Condor HoldReason Network error talking to schedd probably an authorization failure Worker canceled by harvester due to held too long or not found', 'Diag from worker Condor HoldReason Network error talking to schedd probably an authorization failure Worker canceled by harvester due to held too long or not found', 'Diag from worker Condor HoldReason None Condor RemoveReason removed by SYSTEM_PERIODIC_REMOVE due to job restarted undesirably ', 'Diag from worker Condor HoldReason None Condor RemoveReason removed by SYSTEM_PERIODIC_REMOVE due to job restarted undesirably ', 'Diag from worker Condor HoldReason Network error talking to schedd probably an authorization failure Worker canceled by harvester due to held too long or not found', 'Diag from worker Condor HoldReason Network error talking to schedd probably an authorization failure Worker canceled by harvester due to held too long or not found', 'Diag from worker Condor HoldReason Network error talking to schedd probably an authorization failure Worker canceled by harvester due to held too long or not found', 'Diag from worker Condor HoldReason None Condor RemoveReason removed by SYSTEM_PERIODIC_REMOVE due to job restarted undesirably ', 'Diag from worker Condor HoldReason Network error talking to schedd probably an authorization failure Worker canceled by harvester due to held too long or not found', 'Diag from worker Condor HoldReason Network error talking to schedd probably an authorization failure Worker canceled by harvester due to held too long or not found', 'Diag from worker Condor HoldReason Network error talking to schedd probably an authorization failure Worker canceled by harvester due to held too long or not found', 'Diag from worker Condor HoldReason None Condor RemoveReason removed by SYSTEM_PERIODIC_REMOVE due to job restarted undesirably ', 'Diag from worker Condor HoldReason None Condor RemoveReason removed by SYSTEM_PERIODIC_REMOVE due to job restarted undesirably ', 'Diag from worker Condor HoldReason None Condor RemoveReason removed by SYSTEM_PERIODIC_REMOVE due to job restarted undesirably ', 'Diag from worker Condor HoldReason None Condor RemoveReason removed by SYSTEM_PERIODIC_REMOVE due to job restarted undesirably ', 'Diag from worker Condor HoldReason None Condor RemoveReason removed by SYSTEM_PERIODIC_REMOVE due to job restarted undesirably ', 'Diag from worker Condor HoldReason None Condor RemoveReason removed by SYSTEM_PERIODIC_REMOVE due to job restarted undesirably ', 'Diag from worker Condor HoldReason Network error talking to schedd probably an authorization failure Worker canceled by harvester due to held too long or not found', 'Diag from worker Condor HoldReason Network error talking to schedd probably an authorization failure Worker canceled by harvester due to held too long or not found', 'Diag from worker Condor HoldReason Network error talking to schedd probably an authorization failure Worker canceled by harvester due to held too long or not found', 'Diag from worker Condor HoldReason Network error talking to schedd probably an authorization failure Worker canceled by harvester due to held too long or not found', 'Diag from worker Condor HoldReason CREAM error Job has been terminated got SIGTERM Worker canceled by harvester due to held too long or not found', 'Diag from worker Condor HoldReason CREAM error Job has been terminated got SIGTERM Worker canceled by harvester due to held too long or not found', 'Diag from worker Condor HoldReason Network error talking to schedd probably an authorization failure Worker canceled by harvester due to held too long or not found', 'Diag from worker Condor HoldReason CREAM error Job has been terminated got SIGTERM Worker canceled by harvester due to held too long or not found', 'Diag from worker Condor HoldReason CREAM error Job has been terminated got SIGTERM Worker canceled by harvester due to held too long or not found', 'Diag from worker Condor HoldReason CREAM error Job has been terminated got SIGTERM Worker canceled by harvester due to held too long or not found', 'Diag from worker Condor HoldReason CREAM error Job has been terminated got SIGTERM Worker canceled by harvester due to held too long or not found', 'Diag from worker Condor HoldReason CREAM error Job has been terminated got SIGTERM Worker canceled by harvester due to held too long or not found', 'Diag from worker LRMS error job killed wall', 'Diag from worker Condor HoldReason CREAM error Job has been terminated got SIGTERM Worker canceled by harvester due to held too long or not found', 'Diag from worker Condor HoldReason CREAM error Job has been terminated got SIGTERM Worker canceled by harvester due to held too long or not found', 'Diag from worker Condor HoldReason CREAM error Job has been terminated got SIGTERM Worker canceled by harvester due to held too long or not found', 'Diag from worker Condor HoldReason None Condor RemoveReason removed by SYSTEM_PERIODIC_REMOVE due to job restarted undesirably ', 'Diag from worker Condor HoldReason Network error talking to schedd probably an authorization failure Worker canceled by harvester due to held too long or not found', 'Diag from worker Condor HoldReason Network error talking to schedd probably an authorization failure Worker canceled by harvester due to held too long or not found', 'Diag from worker Condor HoldReason Network error talking to schedd probably an authorization failure Worker canceled by harvester due to held too long or not found', 'Diag from worker Condor HoldReason None Condor RemoveReason removed by SYSTEM_PERIODIC_REMOVE due to job restarted undesirably ', 'Diag from worker Condor HoldReason Network error talking to schedd probably an authorization failure Worker canceled by harvester due to held too long or not found', 'Diag from worker Condor HoldReason Network error talking to schedd probably an authorization failure Worker canceled by harvester due to held too long or not found', 'Diag from worker Condor HoldReason Network error talking to schedd probably an authorization failure Worker canceled by harvester due to held too long or not found', 'Diag from worker Condor HoldReason CREAM error Job has been terminated got SIGTERM Worker canceled by harvester due to held too long or not found', 'Diag from worker Condor HoldReason CREAM error CREAM_Job_Cancel Error job does not exist Worker canceled by harvester due to held too long or not found', 'Diag from worker Condor HoldReason CREAM error Job has been terminated got SIGTERM Worker canceled by harvester due to held too long or not found', 'Diag from worker Condor HoldReason CREAM error Job has been terminated got SIGTERM Worker canceled by harvester due to held too long or not found', 'Diag from worker Condor HoldReason CREAM error Job has been terminated got SIGTERM Worker canceled by harvester due to held too long or not found', 'Diag from worker Condor HoldReason CREAM error Job has been terminated got SIGTERM Worker canceled by harvester due to held too long or not found', 'Diag from worker Condor HoldReason CREAM error Job has been terminated got SIGTERM Worker canceled by harvester due to held too long or not found', 'Diag from worker Condor HoldReason CREAM error Job has been terminated got SIGTERM Worker canceled by harvester due to held too long or not found', 'Diag from worker Condor HoldReason CREAM error Job has been terminated got SIGTERM Worker canceled by harvester due to held too long or not found', 'Diag from worker Condor HoldReason CREAM error Job has been terminated got SIGTERM Worker canceled by harvester due to held too long or not found', 'Diag from worker Condor HoldReason CREAM error Job has been terminated got SIGTERM Worker canceled by harvester due to held too long or not found', 'Diag from worker Condor HoldReason CREAM error Job has been terminated got SIGTERM Worker canceled by harvester due to held too long or not found', 'Diag from worker Condor HoldReason CREAM error Job has been terminated got SIGTERM Worker canceled by harvester due to held too long or not found', 'Diag from worker Condor HoldReason CREAM error Job has been terminated got SIGTERM Worker canceled by harvester due to held too long or not found', 'Diag from worker Condor HoldReason CREAM error Job has been terminated got SIGTERM Worker canceled by harvester due to held too long or not found', 'Diag from worker Condor HoldReason CREAM error Job has been terminated got SIGTERM Worker canceled by harvester due to held too long or not found', 'Diag from worker Condor HoldReason CREAM error Job has been terminated got SIGTERM Worker canceled by harvester due to held too long or not found', 'Diag from worker Condor HoldReason Unspecified gridmanager error Worker canceled by harvester due to held too long or not found', 'Diag from worker Condor HoldReason Network error talking to schedd probably an authorization failure Worker canceled by harvester due to held too long or not found', 'Diag from worker LRMS error job killed wall', 'Diag from worker LRMS error job killed wall', 'Diag from worker Condor HoldReason Network error talking to schedd probably an authorization failure Worker canceled by harvester due to held too long or not found', 'Diag from worker LRMS error job killed wall', 'Diag from worker Condor HoldReason Network error talking to schedd probably an authorization failure Worker canceled by harvester due to held too long or not found', 'Diag from worker Condor HoldReason Network error talking to schedd probably an authorization failure Worker canceled by harvester due to held too long or not found', 'Diag from worker Condor HoldReason Unspecified gridmanager error Worker canceled by harvester due to held too long or not found', 'Diag from worker Condor HoldReason Unspecified gridmanager error Worker canceled by harvester due to held too long or not found', 'Diag from worker Condor HoldReason Unspecified gridmanager error Worker canceled by harvester due to held too long or not found', 'Diag from worker Condor HoldReason Unspecified gridmanager error Worker canceled by harvester due to held too long or not found', 'Diag from worker Condor HoldReason Unspecified gridmanager error Worker canceled by harvester due to held too long or not found', 'Diag from worker Condor HoldReason Unspecified gridmanager error Worker canceled by harvester due to held too long or not found', 'Diag from worker Condor HoldReason Unspecified gridmanager error Worker canceled by harvester due to held too long or not found', 'Diag from worker Condor HoldReason Unspecified gridmanager error Worker canceled by harvester due to held too long or not found', 'Diag from worker Condor HoldReason Unspecified gridmanager error Worker canceled by harvester due to held too long or not found', 'Diag from worker Condor HoldReason Unspecified gridmanager error Worker canceled by harvester due to held too long or not found', 'Diag from worker Condor HoldReason Unspecified gridmanager error Worker canceled by harvester due to held too long or not found', 'Diag from worker Condor HoldReason Unspecified gridmanager error Worker canceled by harvester due to held too long or not found', 'Diag from worker Condor HoldReason Unspecified gridmanager error Worker canceled by harvester due to held too long or not found', 'Diag from worker Condor HoldReason Unspecified gridmanager error Worker canceled by harvester due to held too long or not found', 'Diag from worker Condor HoldReason Unspecified gridmanager error Worker canceled by harvester due to held too long or not found', 'Diag from worker Condor HoldReason None Condor RemoveReason removed by SYSTEM_PERIODIC_REMOVE due to job restarted undesirably ', 'Diag from worker LRMS error Job was cancelled', 'Diag from worker LRMS error Job was cancelled', 'Diag from worker Condor HoldReason None Condor RemoveReason removed by SYSTEM_PERIODIC_REMOVE due to job restarted undesirably ', 'Diag from worker Condor HoldReason None Condor RemoveReason removed by SYSTEM_PERIODIC_REMOVE due to job restarted undesirably ', 'Diag from worker Condor HoldReason None Condor RemoveReason removed by SYSTEM_PERIODIC_REMOVE due to job restarted undesirably ', 'Diag from worker Condor HoldReason None Condor RemoveReason removed by SYSTEM_PERIODIC_REMOVE due to job restarted undesirably ', 'Diag from worker Condor HoldReason None Condor RemoveReason removed by SYSTEM_PERIODIC_REMOVE due to job restarted undesirably ', 'Diag from worker Condor HoldReason None Condor RemoveReason removed by SYSTEM_PERIODIC_REMOVE due to job restarted undesirably ', 'Diag from worker Condor HoldReason None Condor RemoveReason removed by SYSTEM_PERIODIC_REMOVE due to job restarted undesirably ', 'Diag from worker Condor HoldReason None Condor RemoveReason removed by SYSTEM_PERIODIC_REMOVE due to job restarted undesirably ', 'Diag from worker Condor HoldReason None Condor RemoveReason removed by SYSTEM_PERIODIC_REMOVE due to job restarted undesirably ', 'Diag from worker Condor HoldReason Network error talking to schedd probably an authorization failure Worker canceled by harvester due to held too long or not found', 'Diag from worker Condor HoldReason None Condor RemoveReason removed by SYSTEM_PERIODIC_REMOVE due to job restarted undesirably ', 'Diag from worker Condor HoldReason None Condor RemoveReason removed by SYSTEM_PERIODIC_REMOVE due to job restarted undesirably ', 'Diag from worker Condor HoldReason None Condor RemoveReason removed by SYSTEM_PERIODIC_REMOVE due to job restarted undesirably ', 'Diag from worker Condor HoldReason Network error talking to schedd probably an authorization failure Worker canceled by harvester due to held too long or not found', 'Diag from worker Condor HoldReason None Condor RemoveReason removed by SYSTEM_PERIODIC_REMOVE due to job restarted undesirably ', 'Diag from worker Condor HoldReason None Condor RemoveReason removed by SYSTEM_PERIODIC_REMOVE due to job restarted undesirably ', 'Diag from worker Condor HoldReason None Condor RemoveReason removed by SYSTEM_PERIODIC_REMOVE due to job restarted undesirably ', 'Diag from worker Condor HoldReason None Condor RemoveReason removed by SYSTEM_PERIODIC_REMOVE due to job restarted undesirably ', 'Diag from worker Condor HoldReason HTCondor CE held job due to no matching routes route job limit or route failure threshold see HTCondor CE Troubleshooting Guide Worker canceled by harvester due to held too long or not found', 'Diag from worker Condor HoldReason None Condor RemoveReason removed by SYSTEM_PERIODIC_REMOVE due to job restarted undesirably ', 'Diag from worker Condor HoldReason None Condor RemoveReason removed by SYSTEM_PERIODIC_REMOVE due to job restarted undesirably ', 'Diag from worker Condor HoldReason None Condor RemoveReason removed by SYSTEM_PERIODIC_REMOVE due to job restarted undesirably ', 'Diag from worker LRMS error job killed wall', 'Diag from worker LRMS error job killed wall', 'Diag from worker LRMS error job killed vmem', 'Diag from worker LRMS error job killed wall', 'Diag from worker Condor HoldReason Unspecified gridmanager error Worker canceled by harvester due to held too long or not found', 'Diag from worker Condor HoldReason None Condor RemoveReason removed by SYSTEM_PERIODIC_REMOVE due to job restarted undesirably ', 'Diag from worker LRMS error job killed wall', 'Diag from worker LRMS error job killed vmem', 'Diag from worker LRMS error job killed vmem', 'Diag from worker LRMS error job killed vmem', 'Diag from worker LRMS error job killed vmem', 'Diag from worker LRMS error job killed vmem', 'Diag from worker LRMS error job killed vmem', 'Diag from worker LRMS error job killed vmem', 'Diag from worker LRMS error job killed vmem', 'Diag from worker LRMS error job killed vmem', 'Diag from worker LRMS error job killed vmem', 'Diag from worker LRMS error job killed vmem', 'Diag from worker LRMS error job killed vmem', 'Diag from worker LRMS error job killed vmem', 'Diag from worker LRMS error job killed vmem', 'Diag from worker LRMS error job killed vmem', 'Diag from worker LRMS error job killed vmem', 'Diag from worker LRMS error job killed vmem', 'Diag from worker LRMS error job killed vmem', 'Diag from worker LRMS error job killed vmem', 'Diag from worker LRMS error job killed vmem', 'Diag from worker LRMS error job killed vmem', 'Diag from worker Condor HoldReason Job not found Worker canceled by harvester due to held too long or not found', 'Diag from worker LRMS error job killed vmem', 'Diag from worker LRMS error job killed vmem', 'Diag from worker Job submission to LRMS failed', 'Diag from worker Condor HoldReason Network error talking to schedd probably an authorization failure Worker canceled by harvester due to held too long or not found', 'Diag from worker Condor HoldReason Network error talking to schedd probably an authorization failure Worker canceled by harvester due to held too long or not found', 'Diag from worker Condor HoldReason Network error talking to schedd probably an authorization failure Worker canceled by harvester due to held too long or not found', 'Diag from worker Condor HoldReason Network error talking to schedd probably an authorization failure Worker canceled by harvester due to held too long or not found', 'Diag from worker LRMS error job killed vmem', 'Diag from worker LRMS error job killed vmem', 'Diag from worker Condor HoldReason None Condor RemoveReason removed by SYSTEM_PERIODIC_REMOVE due to job restarted undesirably ', 'Diag from worker Condor HoldReason Network error talking to schedd probably an authorization failure Worker canceled by harvester due to held too long or not found', 'Diag from worker Condor HoldReason Network error talking to schedd probably an authorization failure Worker canceled by harvester due to held too long or not found', 'Diag from worker Condor HoldReason Network error talking to schedd probably an authorization failure Worker canceled by harvester due to held too long or not found', 'Diag from worker Condor HoldReason Network error talking to schedd probably an authorization failure Worker canceled by harvester due to held too long or not found', 'Diag from worker Condor HoldReason Network error talking to schedd probably an authorization failure Worker canceled by harvester due to held too long or not found', 'Diag from worker Condor HoldReason Network error talking to schedd probably an authorization failure Worker canceled by harvester due to held too long or not found', 'Diag from worker Condor HoldReason Network error talking to schedd probably an authorization failure Worker canceled by harvester due to held too long or not found', 'Diag from worker Condor HoldReason Network error talking to schedd probably an authorization failure Worker canceled by harvester due to held too long or not found', 'Diag from worker Condor HoldReason Network error talking to schedd probably an authorization failure Worker canceled by harvester due to held too long or not found', 'Diag from worker Condor HoldReason None Condor RemoveReason removed by SYSTEM_PERIODIC_REMOVE due to job restarted undesirably ', 'Diag from worker Condor HoldReason None Condor RemoveReason removed by SYSTEM_PERIODIC_REMOVE due to job restarted undesirably ', 'Diag from worker Condor HoldReason None Condor RemoveReason removed by SYSTEM_PERIODIC_REMOVE due to job restarted undesirably ', 'Diag from worker Condor HoldReason None Condor RemoveReason removed by SYSTEM_PERIODIC_REMOVE due to job restarted undesirably ', 'Diag from worker Condor HoldReason CREAM error Job has been terminated got SIGXCPU reason ', 'Diag from worker LRMS error Job timeout', 'Diag from worker LRMS error job killed vmem', 'Diag from worker LRMS error job killed vmem', 'Diag from worker LRMS error job killed vmem', 'Diag from worker LRMS error PeriodicRemove evaluated to TRUE', 'Diag from worker Condor HoldReason Network error talking to schedd probably an authorization failure Worker canceled by harvester due to held too long or not found', 'Diag from worker Condor HoldReason Network error talking to schedd probably an authorization failure Worker canceled by harvester due to held too long or not found', 'Diag from worker Condor HoldReason Network error talking to schedd probably an authorization failure Worker canceled by harvester due to held too long or not found', 'Diag from worker Condor HoldReason Network error talking to schedd probably an authorization failure Worker canceled by harvester due to held too long or not found', 'Diag from worker Condor HoldReason Network error talking to schedd probably an authorization failure Worker canceled by harvester due to held too long or not found', 'Diag from worker LRMS error Job timeout', 'Diag from worker LRMS error Job timeout', 'Diag from worker LRMS error Job timeout', 'Diag from worker LRMS error Job timeout', 'Diag from worker LRMS error Job timeout', 'Diag from worker LRMS error Job timeout', 'Diag from worker LRMS error Job timeout', 'Diag from worker LRMS error job killed cput', 'Diag from worker LRMS error job killed cput', 'Diag from worker Condor HoldReason CREAM error Job has been terminated got SIGTERM Worker canceled by harvester due to held too long or not found', 'Diag from worker Condor HoldReason CREAM error CREAM_Job_Cancel Error EOF detected during communication Probably service closed connection or SOCKET TIMEOUT occurred Worker canceled by harvester due to held too long or not found', 'Diag from worker Condor HoldReason CREAM error CREAM_Job_Purge Error job status does not match Worker canceled by harvester due to held too long or not found', 'Diag from worker Condor HoldReason CREAM error Job has been terminated got SIGTERM Worker canceled by harvester due to held too long or not found', 'Diag from worker Condor HoldReason Network error talking to schedd probably an authorization failure Worker canceled by harvester due to held too long or not found', 'Diag from worker LRMS error Job timeout', 'Diag from worker PODs container termiated by for reason OOMKilled', 'Diag from worker Condor HoldReason Network error talking to schedd probably an authorization failure Worker canceled by harvester due to held too long or not found', 'Diag from worker Condor HoldReason Network error talking to schedd probably an authorization failure Worker canceled by harvester due to held too long or not found', 'Diag from worker Condor HoldReason Network error talking to schedd probably an authorization failure Worker canceled by harvester due to held too long or not found', 'Diag from worker Condor HoldReason Network error talking to schedd probably an authorization failure Worker canceled by harvester due to held too long or not found', 'Diag from worker Condor HoldReason None Condor RemoveReason removed by SYSTEM_PERIODIC_REMOVE due to job restarted undesirably ', 'Diag from worker Condor HoldReason Network error talking to schedd probably an authorization failure Worker canceled by harvester due to held too long or not found', 'Diag from worker Condor HoldReason Network error talking to schedd probably an authorization failure Worker canceled by harvester due to held too long or not found', 'Diag from worker Condor HoldReason Network error talking to schedd probably an authorization failure Worker canceled by harvester due to held too long or not found', 'Diag from worker Condor HoldReason Network error talking to schedd probably an authorization failure Worker canceled by harvester due to held too long or not found', 'Diag from worker Condor HoldReason Network error talking to schedd probably an authorization failure Worker canceled by harvester due to held too long or not found', 'Diag from worker Condor HoldReason Network error talking to schedd probably an authorization failure Worker canceled by harvester due to held too long or not found', 'Diag from worker Condor HoldReason Network error talking to schedd probably an authorization failure Worker canceled by harvester due to held too long or not found', 'Diag from worker Condor HoldReason Network error talking to schedd probably an authorization failure Worker canceled by harvester due to held too long or not found', 'Diag from worker Condor HoldReason Network error talking to schedd probably an authorization failure Worker canceled by harvester due to held too long or not found', 'Diag from worker Condor HoldReason Network error talking to schedd probably an authorization failure Worker canceled by harvester due to held too long or not found', 'Diag from worker Condor HoldReason None Condor RemoveReason removed by SYSTEM_PERIODIC_REMOVE due to job restarted undesirably ', 'Diag from worker LRMS error job killed wall', 'Diag from worker Condor HoldReason Network error talking to schedd probably an authorization failure Worker canceled by harvester due to held too long or not found', 'Diag from worker Condor HoldReason Network error talking to schedd probably an authorization failure Worker canceled by harvester due to held too long or not found', 'Diag from worker Condor HoldReason Network error talking to schedd probably an authorization failure Worker canceled by harvester due to held too long or not found', 'Diag from worker Condor HoldReason Network error talking to schedd probably an authorization failure Worker canceled by harvester due to held too long or not found', 'Diag from worker Condor HoldReason HTCondor CE held job due to no matching routes route job limit or route failure threshold see HTCondor CE Troubleshooting Guide Worker canceled by harvester due to held too long or not found', 'Diag from worker Condor HoldReason Network error talking to schedd probably an authorization failure Worker canceled by harvester due to held too long or not found', 'Diag from worker LRMS error Job missing from SLURM', 'Diag from worker Condor HoldReason Network error talking to schedd probably an authorization failure Worker canceled by harvester due to held too long or not found', 'Diag from worker LRMS error Job missing from SLURM', 'Diag from worker LRMS error Job missing from SLURM', 'Diag from worker Condor HoldReason Network error talking to schedd probably an authorization failure Worker canceled by harvester due to held too long or not found', 'Diag from worker Condor HoldReason Network error talking to schedd probably an authorization failure Worker canceled by harvester due to held too long or not found', 'Diag from worker Condor HoldReason Network error talking to schedd probably an authorization failure Worker canceled by harvester due to held too long or not found', 'Diag from worker LRMS error job killed wall', 'Diag from worker Job submission to LRMS failed', 'Diag from worker LRMS error Job missing from SLURM', 'Diag from worker LRMS error Job missing from SLURM', 'Diag from worker Condor HoldReason Error parsing classad or job not found Worker canceled by harvester due to held too long or not found', 'Diag from worker Condor HoldReason Error parsing classad or job not found Worker canceled by harvester due to held too long or not found', 'Diag from worker Condor HoldReason None Condor RemoveReason removed by SYSTEM_PERIODIC_REMOVE due to job restarted undesirably ', 'Diag from worker Condor HoldReason None Condor RemoveReason removed by SYSTEM_PERIODIC_REMOVE due to job restarted undesirably ', 'Diag from worker Condor HoldReason None Condor RemoveReason removed by SYSTEM_PERIODIC_REMOVE due to job restarted undesirably ', 'Diag from worker Condor HoldReason None Condor RemoveReason removed by SYSTEM_PERIODIC_REMOVE due to job restarted undesirably ', 'Diag from worker Condor HoldReason Network error talking to schedd probably an authorization failure Worker canceled by harvester due to held too long or not found', 'Diag from worker Condor HoldReason Network error talking to schedd probably an authorization failure Worker canceled by harvester due to held too long or not found', 'Diag from worker Error reading user generated output file list', 'Diag from worker Condor HoldReason CREAM error Job has been terminated got SIGXCPU reason Worker canceled by harvester due to held too long or not found', 'Diag from worker Condor HoldReason CREAM error Job has been terminated got SIGXCPU Worker canceled by harvester due to held too long or not found', 'Diag from worker LRMS error Job missing from SLURM', 'Diag from worker LRMS error Job missing from SLURM', 'Diag from worker LRMS error Job missing from SLURM', 'Diag from worker LRMS error Job missing from SLURM', 'Diag from worker LRMS error Job missing from SLURM', 'Diag from worker LRMS error Job missing from SLURM', 'Diag from worker LRMS error job killed wall', 'Diag from worker LRMS error Job missing from SLURM', 'Diag from worker LRMS error Job missing from SLURM', 'Diag from worker LRMS error Job timeout', 'Diag from worker LRMS error Job missing from SLURM', 'Diag from worker LRMS error job killed wall', 'Diag from worker Condor HoldReason CREAM error Job has been terminated got SIGTERM Worker canceled by harvester due to held too long or not found', 'Diag from worker Condor HoldReason CREAM error Job has been terminated got SIGTERM Worker canceled by harvester due to held too long or not found', 'Diag from worker Condor HoldReason CREAM error Job has been terminated got SIGTERM Worker canceled by harvester due to held too long or not found', 'Diag from worker Condor HoldReason CREAM error Job has been terminated got SIGTERM Worker canceled by harvester due to held too long or not found', 'Diag from worker Condor HoldReason CREAM error Job has been terminated got SIGTERM Worker canceled by harvester due to held too long or not found', 'Diag from worker LRMS error Job missing from SLURM', 'Diag from worker LRMS error Job missing from SLURM', 'Diag from worker LRMS error Job missing from SLURM Failed in data staging Failed to prepare destination srm srm SFN lustre ific uv es grid atlas atlasdatadisk rucio ed ', 'Diag from worker LRMS error job killed wall', 'Diag from worker LRMS error job killed wall', 'Diag from worker Condor HoldReason CREAM error Job has been terminated got SIGTERM Worker canceled by harvester due to held too long or not found', 'Diag from worker Condor HoldReason None Condor RemoveReason Python initiated action by user atlpan ', 'Diag from worker LRMS error Job missing from SLURM', 'Diag from worker LRMS error job killed wall', 'Diag from worker LRMS error job killed wall', 'Diag from worker LRMS error job killed wall', 'Diag from worker LRMS error Job missing from SLURM', 'Diag from worker LRMS error job killed wall', 'Diag from worker LRMS error Job missing from SLURM', 'Diag from worker Condor HoldReason None Condor RemoveReason removed by SYSTEM_PERIODIC_REMOVE due to job restarted undesirably ', 'Diag from worker Condor HoldReason CREAM error reason Worker canceled by harvester due to held too long or not found', 'Diag from worker Condor HoldReason CREAM error reason Worker canceled by harvester due to held too long or not found', 'Diag from worker Condor HoldReason CREAM error reason Worker canceled by harvester due to held too long or not found', 'Diag from worker Condor HoldReason CREAM error reason Worker canceled by harvester due to held too long or not found', 'Diag from worker Condor HoldReason Network error talking to schedd probably an authorization failure Worker canceled by harvester due to held too long or not found', 'Diag from worker Condor HoldReason Network error talking to schedd probably an authorization failure Worker canceled by harvester due to held too long or not found', 'Diag from worker Condor HoldReason Network error talking to schedd probably an authorization failure Worker canceled by harvester due to held too long or not found', 'Diag from worker Condor HoldReason Network error talking to schedd probably an authorization failure Worker canceled by harvester due to held too long or not found', 'Diag from worker Condor HoldReason Network error talking to schedd probably an authorization failure Worker canceled by harvester due to held too long or not found', 'Diag from worker Condor HoldReason Network error talking to schedd probably an authorization failure Worker canceled by harvester due to held too long or not found', 'Diag from worker Condor HoldReason Network error talking to schedd probably an authorization failure Worker canceled by harvester due to held too long or not found', 'Diag from worker Condor HoldReason Network error talking to schedd probably an authorization failure Worker canceled by harvester due to held too long or not found', 'Diag from worker Condor HoldReason Network error talking to schedd probably an authorization failure Worker canceled by harvester due to held too long or not found', 'Diag from worker Condor HoldReason Network error talking to schedd probably an authorization failure Worker canceled by harvester due to held too long or not found', 'Diag from worker Condor HoldReason Network error talking to schedd probably an authorization failure Worker canceled by harvester due to held too long or not found', 'Diag from worker Condor HoldReason Network error talking to schedd probably an authorization failure Worker canceled by harvester due to held too long or not found', 'Diag from worker Condor HoldReason Network error talking to schedd probably an authorization failure Worker canceled by harvester due to held too long or not found', 'Diag from worker Condor HoldReason Network error talking to schedd probably an authorization failure Worker canceled by harvester due to held too long or not found', 'Diag from worker Condor HoldReason Network error talking to schedd probably an authorization failure Worker canceled by harvester due to held too long or not found', 'Diag from worker Job submission to LRMS failed', 'Diag from worker LRMS error job killed vmem', 'Diag from worker Condor HoldReason CREAM error Job has been terminated got SIGXCPU reason Worker canceled by harvester due to held too long or not found', 'Diag from worker Condor HoldReason CREAM error Job has been terminated got SIGXCPU reason Worker canceled by harvester due to held too long or not found', 'Diag from worker Condor HoldReason CREAM error Job has been terminated got SIGXCPU reason Worker canceled by harvester due to held too long or not found', 'Diag from worker Condor HoldReason CREAM error Job has been terminated got SIGXCPU reason Worker canceled by harvester due to held too long or not found', 'Diag from worker Condor HoldReason CREAM error Job has been terminated got SIGXCPU reason Worker canceled by harvester due to held too long or not found', 'Diag from worker Condor HoldReason CREAM error Job has been terminated got SIGXCPU reason Worker canceled by harvester due to held too long or not found', 'Diag from worker Condor HoldReason CREAM error Job has been terminated got SIGXCPU reason Worker canceled by harvester due to held too long or not found', 'Diag from worker Condor HoldReason CREAM error Job has been terminated got SIGXCPU reason Worker canceled by harvester due to held too long or not found', 'Diag from worker Condor HoldReason CREAM error Job has been terminated got SIGXCPU reason Worker canceled by harvester due to held too long or not found', 'Diag from worker Condor HoldReason CREAM error Job has been terminated got SIGXCPU reason Worker canceled by harvester due to held too long or not found', 'Diag from worker Condor HoldReason CREAM error Job has been terminated got SIGXCPU reason Worker canceled by harvester due to held too long or not found', 'Diag from worker LRMS error job killed vmem', 'Diag from worker LRMS error job killed vmem', 'Diag from worker LRMS error job killed vmem', 'Diag from worker LRMS error job killed vmem', 'Diag from worker LRMS error job killed vmem', 'Diag from worker LRMS error job killed vmem', 'Diag from worker LRMS error job killed vmem', 'Diag from worker LRMS error job killed vmem', 'Diag from worker LRMS error job killed vmem', 'Diag from worker Condor HoldReason None Condor RemoveReason removed by SYSTEM_PERIODIC_REMOVE due to job restarted undesirably ', 'Diag from worker Condor HoldReason None Condor RemoveReason removed by SYSTEM_PERIODIC_REMOVE due to job restarted undesirably ', 'Diag from worker Condor HoldReason CREAM error reason Worker canceled by harvester due to held too long or not found', 'Diag from worker Condor HoldReason Network error talking to schedd probably an authorization failure Worker canceled by harvester due to held too long or not found', 'Diag from worker LRMS error job killed vmem', 'Diag from worker LRMS error job killed vmem', 'Diag from worker LRMS error job killed vmem', 'Diag from worker LRMS error job killed vmem', 'Diag from worker LRMS error job killed wall', 'Diag from worker LRMS error job killed wall', 'Diag from worker LRMS error job killed wall', 'Diag from worker LRMS error job killed wall', 'Diag from worker Condor HoldReason Network error talking to schedd probably an authorization failure Worker canceled by harvester due to held too long or not found', 'Diag from worker Condor HoldReason Network error talking to schedd probably an authorization failure Worker canceled by harvester due to held too long or not found', 'Diag from worker Condor HoldReason Network error talking to schedd probably an authorization failure Worker canceled by harvester due to held too long or not found', 'Diag from worker Condor HoldReason Job not found Worker canceled by harvester due to held too long or not found', 'Diag from worker LRMS error Job missing from SLURM', 'Diag from worker LRMS error job killed vmem', 'Diag from worker Condor HoldReason None Condor RemoveReason removed by SYSTEM_PERIODIC_REMOVE due to job restarted undesirably ', 'Diag from worker Error reading user generated output file list', 'Diag from worker LRMS error job killed wall', 'Diag from worker LRMS error RemoveReason Job removed by SYSTEM_PERIODIC_REMOVE due to job running more than once ', 'Diag from worker LRMS error RemoveReason Job removed by SYSTEM_PERIODIC_REMOVE due to job running more than once ', 'Diag from worker LRMS error job killed wall', 'Diag from worker Condor HoldReason None Condor RemoveReason removed by SYSTEM_PERIODIC_REMOVE due to job restarted undesirably ', 'Diag from worker LRMS error job killed vmem', 'Diag from worker LRMS error Job failed', 'Diag from worker LRMS error Node fail', 'Diag from worker LRMS error Job failed', 'Diag from worker Condor HoldReason Unspecified gridmanager error Worker canceled by harvester due to held too long or not found', 'Diag from worker Condor HoldReason Unspecified gridmanager error Worker canceled by harvester due to held too long or not found', 'Diag from worker LRMS error Job timeout', 'Diag from worker Condor HoldReason Network error talking to schedd probably an authorization failure Worker canceled by harvester due to held too long or not found', 'Diag from worker Condor HoldReason Network error talking to schedd probably an authorization failure Worker canceled by harvester due to held too long or not found', 'Diag from worker Condor HoldReason Failed to get expiration time of proxy unable to read proxy file Worker canceled by harvester due to held too long or not found']\n",
      "Found 68 equal groups\n",
      "['Diag', '▁', 'from', '▁', 'worker', '▁', ':', '▁', 'Failed', '▁', 'in', '▁', 'data', '▁', 'staging', ':', '▁', 'Failed', '▁', 'to', '▁', 'prepare', '▁', 'destination', '▁', 'srm', ':', '/', '/', 'dpm.lhep.unibe.ch', ':', '8446', '/', 'srm', '/', 'managerv2', '?', 'SFN', '=', '/', 'dpm', '/', 'lhep.unibe.ch', '/', 'home', '/', 'atlas', '/', '/', 'rucio', '/', '/', '/']\n",
      "[('data staging failed', 8.508474576271187),\n",
      " ('worker failed', 4.508474576271187),\n",
      " ('diag', 1.0)]\n",
      "['Diag', '▁', 'from', '▁', 'worker', '▁', ':', '▁', 'Condor', '▁', 'HoldReason', ':', '▁', 'CREAM', '▁', 'error', ':', '▁', '▁', 'Error', ':', '▁', 'job', '▁', 'does', '▁', 'not', '▁', '▁', ';', '▁', 'Worker', '▁', 'canceled', '▁', 'by', '▁', 'harvester', '▁', 'due', '▁', 'to', '▁', 'held', '▁', 'too', '▁', 'long', '▁', 'or', '▁', 'not', '▁', 'found']\n",
      "[('match worker canceled', 9.0),\n",
      " ('exist worker canceled', 9.0),\n",
      " ('harvester due', 4.0),\n",
      " ('diag', 1.0),\n",
      " ('held', 1.0),\n",
      " ('long', 1.0),\n",
      " ('found', 1.0)]\n",
      "['Diag', '▁', 'from', '▁', 'worker', '▁', ':', '▁', 'Condor', '▁', 'HoldReason', ':', '▁', 'CREAM', '▁', 'error', ':', '▁', 'CREAM_Job_Cancel', '▁', 'Error', ':', '▁', 'EOF', '▁', 'detected', '▁', 'during', '▁', 'communication', '.', '▁', 'Probably', '▁', 'service', '▁', 'closed', '▁', 'connection', '▁', 'or', '▁', 'SOCKET', '▁', 'TIMEOUT', '▁', 'occurred', '.', '▁', ';', '▁', 'Worker', '▁', 'canceled', '▁', 'by', '▁', 'harvester', '▁', 'due', '▁', 'to', '▁', 'held', '▁', 'too', '▁', 'long', '▁', 'or', '▁', 'not', '▁', 'found']\n",
      "[('socket timeout occurred worker canceled', 25.0),\n",
      " ('service closed connection', 9.0),\n",
      " ('harvester due', 4.0),\n",
      " ('diag', 1.0),\n",
      " ('communication', 1.0),\n",
      " ('held', 1.0),\n",
      " ('long', 1.0),\n",
      " ('found', 1.0)]\n",
      "['Diag', '▁', 'from', '▁', 'worker', '▁', ':', '▁', 'Condor', '▁', 'HoldReason', ':', '▁', 'CREAM', '▁', 'error', ':', '▁', 'Job', '▁', 'has', '▁', 'been', '▁', 'terminated', '▁', '(', 'got', '▁', 'SIGXCPU', ')', ';', '▁', 'reason', '=', '255']\n",
      "[('sigxcpu reason', 4.0), ('diag', 1.0), ('terminated', 1.0)]\n"
     ]
    },
    {
     "name": "stdout",
     "output_type": "stream",
     "text": [
      "['Diag', '▁', 'from', '▁', 'worker', '▁', ':', '▁', 'Condor', '▁', 'HoldReason', ':', '▁', 'Network', '▁', 'error', '▁', 'talking', '▁', 'to', '▁', 'schedd', ',', '▁', 'probably', '▁', 'an', '▁', 'authorization', '▁', 'failure']\n",
      "[('authorization failure', 4.0), ('diag', 1.0), ('schedd', 1.0)]\n",
      "['Diag', '▁', 'from', '▁', 'worker', '▁', ':', '▁', 'LRMS', '▁', 'error', ':', '▁', '(', '271', ')', '▁', 'job', '▁', 'killed', ':', '▁']\n",
      "[('diag', 1.0)]\n",
      "['Diag', '▁', 'from', '▁', 'worker', '▁', ':', '▁', 'Condor', '▁', 'HoldReason', ':', '▁', 'CREAM', '▁', 'error', ':', '▁', 'Job', '▁', 'has', '▁', 'been', '▁', 'terminated', '▁', '(', 'got', '▁', ')', '▁', ';', '▁', 'Worker', '▁', 'canceled', '▁', 'by', '▁', 'harvester', '▁', 'due', '▁', 'to', '▁', 'held', '▁', 'too', '▁', 'long', '▁', 'or', '▁', 'not', '▁', 'found']\n",
      "[('sigxcpu reason worker canceled', 14.5),\n",
      " ('sigterm reason worker canceled', 14.5),\n",
      " ('sigxcpu worker canceled', 10.5),\n",
      " ('sigterm worker canceled', 10.5),\n",
      " ('harvester due', 4.0),\n",
      " ('diag', 1.0),\n",
      " ('terminated', 1.0),\n",
      " ('held', 1.0),\n",
      " ('long', 1.0),\n",
      " ('found', 1.0)]\n",
      "['Diag', '▁', 'from', '▁', 'worker', '▁', ':', '▁', 'LRMS', '▁', 'error', ':', '▁', '(', '-', '1', ')', '▁', 'RemoveReason', ':', '▁', 'Job', '▁', 'removed', '▁', 'by', '▁', 'SYSTEM_PERIODIC_REMOVE', '▁', 'due', '▁', 'to', '▁', 'exceeding', '▁', 'the', '▁', 'requested', '▁', 'memory', '.']\n",
      "[('system_periodic_remove due', 4.0),\n",
      " ('requested memory', 4.0),\n",
      " ('diag', 1.0),\n",
      " ('exceeding', 1.0)]\n",
      "['Diag', '▁', 'from', '▁', 'worker', '▁', ':', '▁', 'Condor', '▁', 'HoldReason', ':', '▁', '▁', ';', '▁', 'Condor', '▁', 'RemoveReason', ':', '▁', 'Python-initiated', '▁', 'action', '.', '▁', '(', 'by', '▁', 'user', '▁', 'atlpan', ')']\n",
      "[('condor removereason python initiated action', 24.0),\n",
      " ('worker condor holdreason', 10.0),\n",
      " ('user atlpan', 4.0),\n",
      " ('diag', 1.0)]\n",
      "['Diag', '▁', 'from', '▁', 'worker', '▁', ':', '▁', 'LRMS', '▁', 'error', ':', '▁', '(', '-', '1', ')', '▁', 'PeriodicRemove', '▁', 'evaluated', '▁', 'to', '▁', 'TRUE']\n",
      "[('worker lrms error periodicremove evaluated', 25.0),\n",
      " ('diag', 1.0),\n",
      " ('true', 1.0)]\n",
      "['Diag', '▁', 'from', '▁', 'worker', '▁', ':', '▁', 'Condor', '▁', 'HoldReason', ':', '▁', 'None', '▁', ';', '▁', 'Condor', '▁', 'RemoveReason', ':', '▁', 'removed', '▁', 'by', '▁', 'SYSTEM_PERIODIC_REMOVE', '▁', 'due', '▁', 'to', '▁', 'job', '▁', 'restarted', '▁', 'undesirably', '.']\n",
      "[('worker condor holdreason', 9.0),\n",
      " ('condor removereason removed', 9.0),\n",
      " ('job restarted undesirably', 9.0),\n",
      " ('system_periodic_remove due', 4.0),\n",
      " ('diag', 1.0)]\n",
      "['Diag', '▁', 'from', '▁', 'worker', '▁', ':', '▁', 'Condor', '▁', 'HoldReason', ':', '▁', '▁', '▁', ';', '▁', 'Worker', '▁', 'canceled', '▁', 'by', '▁', 'harvester', '▁', 'due', '▁', 'to', '▁', 'held', '▁', 'too', '▁', 'long', '▁', 'or', '▁', 'not', '▁', 'found']\n",
      "[('worker condor holdreason job', 15.5),\n",
      " ('found worker canceled', 8.0),\n",
      " ('harvester due', 4.0),\n",
      " ('found', 1.5),\n",
      " ('diag', 1.0),\n",
      " ('held', 1.0),\n",
      " ('long', 1.0)]\n",
      "['Diag', '▁', 'from', '▁', 'worker', '▁', ':', '▁', 'LRMS', '▁', 'error', ':', '▁', '(', '381', ')', '▁', 'Job', '▁', 'was', '▁', 'cancelled']\n",
      "[('worker lrms error job', 16.0), ('diag', 1.0), ('cancelled', 1.0)]\n",
      "['Diag', '▁', 'from', '▁', 'worker', '▁', ':', '▁', 'PODs', '=', 'grid-job-86096-csnv7', '▁', ';', '▁', 'container', '▁', 'termiated', '▁', 'by', '▁', 'k8s', '▁', 'for', '▁', 'reason', '▁', 'OOMKilled']\n",
      "[('worker pods container termiated', 16.0),\n",
      " ('reason oomkilled', 4.0),\n",
      " ('diag', 1.0)]\n",
      "['Diag', '▁', 'from', '▁', 'worker', '▁', ':', '▁', 'LRMS', '▁', 'error', ':', '▁', '(', '-', '1', ')', '▁', 'RemoveReason', ':', '▁', 'Job', '▁', 'removed', '▁', 'by', '▁', 'SYSTEM_PERIODIC_REMOVE', '▁', 'due', '▁', 'to', '▁', 'job', '▁', 'running', '▁', 'more', '▁', 'than', '▁', 'once', '.']\n",
      "[('system_periodic_remove due', 4.0), ('job running', 4.0), ('diag', 1.0)]\n",
      "['Diag', '▁', 'from', '▁', 'worker', '▁', ':', '▁', 'Condor', '▁', 'HoldReason', ':', '▁', 'Failed', '▁', 'to', '▁', 'get', '▁', 'expiration', '▁', 'time', '▁', 'of', '▁', 'proxy', ':', '▁', 'unable', '▁', 'to', '▁', 'read', '▁', 'proxy', '▁', 'file', '▁', ';', '▁', 'Worker', '▁', 'canceled', '▁', 'by', '▁', 'harvester', '▁', 'due', '▁', 'to', '▁', 'held', '▁', 'too', '▁', 'long', '▁', 'or', '▁', 'not', '▁', 'found']\n",
      "[('read proxy file worker canceled', 23.0),\n",
      " ('worker condor holdreason failed', 16.5),\n",
      " ('proxy unable', 5.5),\n",
      " ('expiration time', 4.0),\n",
      " ('harvester due', 4.0),\n",
      " ('diag', 1.0),\n",
      " ('held', 1.0),\n",
      " ('long', 1.0),\n",
      " ('found', 1.0)]\n",
      "['Diag', '▁', 'from', '▁', 'worker', '▁', ':', '▁', 'LRMS', '▁', 'error', ':', '▁', '(', '271', ')', '▁', 'Node', '▁', 'fail']\n",
      "[('worker lrms error node fail', 25.0), ('diag', 1.0)]\n",
      "['Diag', '▁', 'from', '▁', 'worker', '▁', ':', '▁', 'Condor', '▁', 'HoldReason', ':', '▁', 'HTCondor-CE', '▁', 'held', '▁', 'job', '▁', 'due', '▁', 'to', '▁', 'no', '▁', 'matching', '▁', 'routes', ',', '▁', 'route', '▁', 'job', '▁', 'limit', ',', '▁', 'or', '▁', 'route', '▁', 'failure', '▁', 'threshold', ';', '▁', 'see', '▁', \"'\", 'HTCondor-CE', '▁', 'Troubleshooting', '▁', 'Guide', \"'\", '▁', ';', '▁', 'Worker', '▁', 'canceled', '▁', 'by', '▁', 'harvester', '▁', 'due', '▁', 'to', '▁', 'held', '▁', 'too', '▁', 'long', '▁', 'or', '▁', 'not', '▁', 'found']\n",
      "[('matching routes route job limit', 24.0),\n",
      " ('route failure threshold', 10.0),\n",
      " ('harvester due', 4.0),\n",
      " ('diag', 1.0),\n",
      " ('held', 1.0),\n",
      " ('long', 1.0),\n",
      " ('found', 1.0)]\n",
      "['Diag', '▁', 'from', '▁', 'worker', '▁', ':', '▁', 'Condor', '▁', 'HoldReason', ':', '▁', 'CREAM', '▁', 'error', ':', '▁', 'Cannot', '▁', 'upload', '▁', 'file', ':', '/', '/', '/', 'home', '/', 'prdatlas018', '/', '/', '/', '▁', 'into', '▁', 'gsiftp', ':', '/', '/', 'recas-ce-02.cs.infn.it', '/', 'var', '/', 'cream_sandbox', '/', 'prdatlas', '/', 'CN_Robot__ATLAS_Pilot1_CN_614260_CN_atlpi']\n",
      "[('worker condor holdreason cream error', 25.0),\n",
      " ('gsiftp var cream_sandbox prdatlas', 16.0),\n",
      " ('upload file home', 9.0),\n",
      " ('diag', 1.0)]\n",
      "['Diag', '▁', 'from', '▁', 'worker', '▁', ':', '▁', 'LRMS', '▁', 'error', ':', '▁', '(', '271', ')', '▁', 'Job', '▁', 'timeout', ';', '▁', 'Failed', '▁', 'in', '▁', 'data', '▁', 'staging', ':', '▁', 'Failed', '▁', 'to', '▁', 'prepare', '▁', 'destination', '▁', 'srm', ':', '/', '/', 'dpm.lhep.unibe.ch', ':', '8446', '/', 'srm', '/', 'managerv2', '?', 'SFN', '=', '/', 'dpm', '/', 'lhep.unibe.ch', '/', 'home', '/', 'atlas', '/', 'atlasdatadisk', '/', 'rucio', '/', 'mc16_13TeV', '/', '/', '/', '.']\n",
      "[('data staging failed', 9.0), ('diag', 1.0)]\n",
      "['Diag', '▁', 'from', '▁', 'worker', '▁', ':', '▁', 'Job', '▁', 'submission', '▁', 'to', '▁', 'LRMS', '▁', 'failed']\n",
      "[('worker job submission', 9.0), ('lrms failed', 4.0), ('diag', 1.0)]\n",
      "['Diag', '▁', 'from', '▁', 'worker', '▁', ':', '▁', 'Condor', '▁', 'HoldReason', ':', '▁', 'Network', '▁', 'error', '▁', 'talking', '▁', 'to', '▁', 'schedd', ',', '▁', 'probably', '▁', 'an', '▁', 'authorization', '▁', 'failure', '▁', ';', '▁', 'Worker', '▁', 'canceled', '▁', 'by', '▁', 'harvester', '▁', 'due', '▁', 'to', '▁', 'held', '▁', 'too', '▁', 'long', '▁', 'or', '▁', 'not', '▁', 'found']\n",
      "[('authorization failure worker canceled', 16.0),\n",
      " ('harvester due', 4.0),\n",
      " ('diag', 1.0),\n",
      " ('schedd', 1.0),\n",
      " ('held', 1.0),\n",
      " ('long', 1.0),\n",
      " ('found', 1.0)]\n",
      "['Diag', '▁', 'from', '▁', 'worker', '▁', ':', '▁', 'LRMS', '▁', 'error', ':', '▁', '(', '-', '1', ')', '▁', 'Job', '▁', 'missing', '▁', 'from', '▁', 'SLURM', '|', 'Failed', '▁', 'in', '▁', 'data', '▁', 'staging', ':', '▁', 'Failed', '▁', 'to', '▁', 'prepare', '▁', 'destination', '▁', 'srm', ':', '/', '/', 'srmv2.ific.uv.es', ':', '8443', '/', 'srm', '/', 'managerv2', '?', 'SFN', '=', '/', 'lustre', '/', 'ific.uv.es', '/', 'grid', '/', 'atlas', '/', 'atlasdatadisk', '/', 'rucio', '/', 'mc16_13TeV', '/', '65', '/', 'ed', '/', 'log.20651976', '.', '_006604.job']\n",
      "[('worker lrms error job missing', 25.0),\n",
      " ('data staging failed', 8.5),\n",
      " ('slurm failed', 4.5),\n",
      " ('diag', 1.0)]\n",
      "['Diag', '▁', 'from', '▁', 'worker', '▁', ':', '▁', 'Condor', '▁', 'HoldReason', ':', '▁', 'Error', '▁', 'parsing', '▁', 'classad', '▁', 'or', '▁', 'job', '▁', 'not', '▁', 'found', '▁', ';', '▁', 'Worker', '▁', 'canceled', '▁', 'by', '▁', 'harvester', '▁', 'due', '▁', 'to', '▁', 'held', '▁', 'too', '▁', 'long', '▁', 'or', '▁', 'not', '▁', 'found']\n",
      "[('found worker canceled', 8.0),\n",
      " ('harvester due', 4.0),\n",
      " ('found', 2.0),\n",
      " ('diag', 1.0),\n",
      " ('job', 1.0),\n",
      " ('held', 1.0),\n",
      " ('long', 1.0)]\n",
      "['Diag', '▁', 'from', '▁', 'worker', '▁', ':', '▁', 'LRMS', '▁', 'error', ':', '▁', '(', ')', '▁', 'Job', '▁']\n",
      "[('worker lrms error job failed', 25.0),\n",
      " ('worker lrms error job timeout', 25.0),\n",
      " ('diag', 1.0)]\n",
      "['Diag', '▁', 'from', '▁', 'worker', '▁', ':', '▁', 'Condor', '▁', 'HoldReason', ':', '▁', 'CREAM', '▁', 'error', ':', '▁', 'Transfer', '▁', 'failed', ':', '▁', 'globus_ftp_client', ':', '▁', 'the', '▁', 'server', '▁', 'responded', '▁', 'with', '▁', 'an', '▁', 'error', '▁', '500', '▁', '500-Command', '▁', 'failed', '.', '▁', ':', '▁', 'globus_l_gfs_file_open', '▁', 'failed', '.', '▁', '500-globus_xio', ':', '▁', 'Unable', '▁', 'to', '▁', 'open', '▁', 'file', '▁', '/', 'var', '/', 'cream_sandbox', '/', 'atlaspil', '/', 'CN_Rob']\n",
      "[('error failed globus_l_gfs_file_open failed unable', 25.0),\n",
      " ('server responded', 4.0),\n",
      " ('diag', 1.0)]\n",
      "['Diag', '▁', 'from', '▁', 'worker', '▁', ':', '▁', 'Error', '▁', 'reading', '▁', 'user', '▁', 'generated', '▁', 'output', '▁', 'file', '▁', 'list']\n",
      "[('diag', 1.0)]\n",
      "['Diag', '▁', 'from', '▁', 'worker', '▁', ':', '▁', 'LRMS', '▁', 'error', ':', '▁', '(', '-', '1', ')', '▁', 'Job', '▁', 'missing', '▁', 'from', '▁', 'SLURM']\n",
      "[('worker lrms error job missing', 25.0), ('diag', 1.0), ('slurm', 1.0)]\n",
      "Finished with 28 clusters\n"
     ]
    }
   ],
   "source": [
    "cluster.process()"
   ]
  },
  {
   "cell_type": "code",
   "execution_count": null,
   "metadata": {},
   "outputs": [],
   "source": [
    "df['sequence'].values"
   ]
  },
  {
   "cell_type": "code",
   "execution_count": null,
   "metadata": {},
   "outputs": [],
   "source": [
    "cluster.groups.shape"
   ]
  },
  {
   "cell_type": "markdown",
   "metadata": {},
   "source": [
    "## 3. Result: all clusters (big clusters and outliers) - sorted by cluster size "
   ]
  },
  {
   "cell_type": "code",
   "execution_count": 16,
   "metadata": {},
   "outputs": [
    {
     "data": {
      "text/html": [
       "<div>\n",
       "<style scoped>\n",
       "    .dataframe tbody tr th:only-of-type {\n",
       "        vertical-align: middle;\n",
       "    }\n",
       "\n",
       "    .dataframe tbody tr th {\n",
       "        vertical-align: top;\n",
       "    }\n",
       "\n",
       "    .dataframe thead th {\n",
       "        text-align: right;\n",
       "    }\n",
       "</style>\n",
       "<table border=\"1\" class=\"dataframe\">\n",
       "  <thead>\n",
       "    <tr style=\"text-align: right;\">\n",
       "      <th></th>\n",
       "      <th>pattern</th>\n",
       "      <th>tokenized_pattern</th>\n",
       "      <th>indices</th>\n",
       "      <th>cluster_size</th>\n",
       "      <th>sequence</th>\n",
       "      <th>common_phrases</th>\n",
       "    </tr>\n",
       "  </thead>\n",
       "  <tbody>\n",
       "    <tr>\n",
       "      <th>21</th>\n",
       "      <td>Diag from worker : Condor HoldReason: Network ...</td>\n",
       "      <td>[Diag, ▁, from, ▁, worker, ▁, :, ▁, Condor, ▁,...</td>\n",
       "      <td>[0, 2, 3, 4, 5, 6, 7, 9, 10, 11, 12, 14, 15, 1...</td>\n",
       "      <td>283</td>\n",
       "      <td>[Diag, from, worker, Condor, HoldReason, Netwo...</td>\n",
       "      <td>[(authorization failure worker canceled, 16.0)...</td>\n",
       "    </tr>\n",
       "    <tr>\n",
       "      <th>0</th>\n",
       "      <td>Diag from worker : Failed in data staging: Fai...</td>\n",
       "      <td>[Diag, ▁, from, ▁, worker, ▁, :, ▁, Failed, ▁,...</td>\n",
       "      <td>[227, 245, 318, 332, 335, 148, 128, 130, 134, ...</td>\n",
       "      <td>115</td>\n",
       "      <td>[Diag, from, worker, Failed, in, data, staging...</td>\n",
       "      <td>[(data staging failed, 8.508474576271187), (wo...</td>\n",
       "    </tr>\n",
       "    <tr>\n",
       "      <th>5</th>\n",
       "      <td>Diag from worker : LRMS error: (271) job killed:</td>\n",
       "      <td>[Diag, ▁, from, ▁, worker, ▁, :, ▁, LRMS, ▁, e...</td>\n",
       "      <td>[34, 348, 356, 357, 358, 359, 361, 362, 363, 3...</td>\n",
       "      <td>104</td>\n",
       "      <td>[Diag, from, worker, LRMS, error, job, killed]</td>\n",
       "      <td>[(diag, 1.0)]</td>\n",
       "    </tr>\n",
       "    <tr>\n",
       "      <th>24</th>\n",
       "      <td>Diag from worker : LRMS error: () Job</td>\n",
       "      <td>[Diag, ▁, from, ▁, worker, ▁, :, ▁, LRMS, ▁, e...</td>\n",
       "      <td>[84, 805, 807, 1, 83, 87, 95, 144, 175, 214, 2...</td>\n",
       "      <td>73</td>\n",
       "      <td>[Diag, from, worker, LRMS, error, Job]</td>\n",
       "      <td>[(worker lrms error job failed, 25.0), (worker...</td>\n",
       "    </tr>\n",
       "    <tr>\n",
       "      <th>10</th>\n",
       "      <td>Diag from worker : Condor HoldReason: None ; C...</td>\n",
       "      <td>[Diag, ▁, from, ▁, worker, ▁, :, ▁, Condor, ▁,...</td>\n",
       "      <td>[8, 86, 111, 211, 464, 465, 466, 467, 468, 475...</td>\n",
       "      <td>58</td>\n",
       "      <td>[Diag, from, worker, Condor, HoldReason, None,...</td>\n",
       "      <td>[(worker condor holdreason, 9.0), (condor remo...</td>\n",
       "    </tr>\n",
       "    <tr>\n",
       "      <th>6</th>\n",
       "      <td>Diag from worker : Condor HoldReason: CREAM er...</td>\n",
       "      <td>[Diag, ▁, from, ▁, worker, ▁, :, ▁, Condor, ▁,...</td>\n",
       "      <td>[372, 704, 759, 760, 761, 762, 763, 764, 765, ...</td>\n",
       "      <td>54</td>\n",
       "      <td>[Diag, from, worker, Condor, HoldReason, CREAM...</td>\n",
       "      <td>[(sigxcpu reason worker canceled, 14.5), (sigt...</td>\n",
       "    </tr>\n",
       "    <tr>\n",
       "      <th>11</th>\n",
       "      <td>Diag from worker : Condor HoldReason:   ; Work...</td>\n",
       "      <td>[Diag, ▁, from, ▁, worker, ▁, :, ▁, Condor, ▁,...</td>\n",
       "      <td>[129, 413, 460, 534, 542, 543, 544, 545, 546, ...</td>\n",
       "      <td>36</td>\n",
       "      <td>[Diag, from, worker, Condor, HoldReason, Worke...</td>\n",
       "      <td>[(worker condor holdreason job, 15.5), (found ...</td>\n",
       "    </tr>\n",
       "    <tr>\n",
       "      <th>27</th>\n",
       "      <td>Diag from worker : LRMS error: (-1) Job missin...</td>\n",
       "      <td>[Diag, ▁, from, ▁, worker, ▁, :, ▁, LRMS, ▁, e...</td>\n",
       "      <td>[39, 40, 41, 43, 45, 46, 50, 52, 85, 114, 684,...</td>\n",
       "      <td>30</td>\n",
       "      <td>[Diag, from, worker, LRMS, error, Job, missing...</td>\n",
       "      <td>[(worker lrms error job missing, 25.0), (diag,...</td>\n",
       "    </tr>\n",
       "    <tr>\n",
       "      <th>4</th>\n",
       "      <td>Diag from worker : Condor HoldReason: Network ...</td>\n",
       "      <td>[Diag, ▁, from, ▁, worker, ▁, :, ▁, Condor, ▁,...</td>\n",
       "      <td>[135, 163, 165, 174, 197, 200, 201, 206, 215, ...</td>\n",
       "      <td>12</td>\n",
       "      <td>[Diag, from, worker, Condor, HoldReason, Netwo...</td>\n",
       "      <td>[(authorization failure, 4.0), (diag, 1.0), (s...</td>\n",
       "    </tr>\n",
       "    <tr>\n",
       "      <th>12</th>\n",
       "      <td>Diag from worker : LRMS error: (381) Job was c...</td>\n",
       "      <td>[Diag, ▁, from, ▁, worker, ▁, :, ▁, LRMS, ▁, e...</td>\n",
       "      <td>[38, 42, 44, 47, 48, 49, 558, 559]</td>\n",
       "      <td>8</td>\n",
       "      <td>[Diag, from, worker, LRMS, error, Job, was, ca...</td>\n",
       "      <td>[(worker lrms error job, 16.0), (diag, 1.0), (...</td>\n",
       "    </tr>\n",
       "    <tr>\n",
       "      <th>20</th>\n",
       "      <td>Diag from worker : Job submission to LRMS failed</td>\n",
       "      <td>[Diag, ▁, from, ▁, worker, ▁, :, ▁, Job, ▁, su...</td>\n",
       "      <td>[81, 131, 146, 374, 471, 613, 692, 757]</td>\n",
       "      <td>8</td>\n",
       "      <td>[Diag, from, worker, Job, submission, to, LRMS...</td>\n",
       "      <td>[(worker job submission, 9.0), (lrms failed, 4...</td>\n",
       "    </tr>\n",
       "    <tr>\n",
       "      <th>18</th>\n",
       "      <td>Diag from worker : Condor HoldReason: CREAM er...</td>\n",
       "      <td>[Diag, ▁, from, ▁, worker, ▁, :, ▁, Condor, ▁,...</td>\n",
       "      <td>[90, 97, 98, 99, 100, 109, 110]</td>\n",
       "      <td>7</td>\n",
       "      <td>[Diag, from, worker, Condor, HoldReason, CREAM...</td>\n",
       "      <td>[(worker condor holdreason cream error, 25.0),...</td>\n",
       "    </tr>\n",
       "    <tr>\n",
       "      <th>26</th>\n",
       "      <td>Diag from worker : Error reading user generate...</td>\n",
       "      <td>[Diag, ▁, from, ▁, worker, ▁, :, ▁, Error, ▁, ...</td>\n",
       "      <td>[432, 436, 703, 798]</td>\n",
       "      <td>4</td>\n",
       "      <td>[Diag, from, worker, Error, reading, user, gen...</td>\n",
       "      <td>[(diag, 1.0)]</td>\n",
       "    </tr>\n",
       "    <tr>\n",
       "      <th>17</th>\n",
       "      <td>Diag from worker : Condor HoldReason: HTCondor...</td>\n",
       "      <td>[Diag, ▁, from, ▁, worker, ▁, :, ▁, Condor, ▁,...</td>\n",
       "      <td>[578, 682]</td>\n",
       "      <td>2</td>\n",
       "      <td>[Diag, from, worker, Condor, HoldReason, HTCon...</td>\n",
       "      <td>[(matching routes route job limit, 24.0), (rou...</td>\n",
       "    </tr>\n",
       "    <tr>\n",
       "      <th>23</th>\n",
       "      <td>Diag from worker : Condor HoldReason: Error pa...</td>\n",
       "      <td>[Diag, ▁, from, ▁, worker, ▁, :, ▁, Condor, ▁,...</td>\n",
       "      <td>[695, 696]</td>\n",
       "      <td>2</td>\n",
       "      <td>[Diag, from, worker, Condor, HoldReason, Error...</td>\n",
       "      <td>[(found worker canceled, 8.0), (harvester due,...</td>\n",
       "    </tr>\n",
       "    <tr>\n",
       "      <th>3</th>\n",
       "      <td>Diag from worker : Condor HoldReason: CREAM er...</td>\n",
       "      <td>[Diag, ▁, from, ▁, worker, ▁, :, ▁, Condor, ▁,...</td>\n",
       "      <td>[353, 634]</td>\n",
       "      <td>2</td>\n",
       "      <td>[Diag, from, worker, Condor, HoldReason, CREAM...</td>\n",
       "      <td>[(sigxcpu reason, 4.0), (diag, 1.0), (terminat...</td>\n",
       "    </tr>\n",
       "    <tr>\n",
       "      <th>19</th>\n",
       "      <td>Diag from worker : LRMS error: (271) Job timeo...</td>\n",
       "      <td>[Diag, ▁, from, ▁, worker, ▁, :, ▁, LRMS, ▁, e...</td>\n",
       "      <td>[158, 284]</td>\n",
       "      <td>2</td>\n",
       "      <td>[Diag, from, worker, LRMS, error, Job, timeout...</td>\n",
       "      <td>[(data staging failed, 9.0), (diag, 1.0)]</td>\n",
       "    </tr>\n",
       "    <tr>\n",
       "      <th>8</th>\n",
       "      <td>Diag from worker : Condor HoldReason:  ; Condo...</td>\n",
       "      <td>[Diag, ▁, from, ▁, worker, ▁, :, ▁, Condor, ▁,...</td>\n",
       "      <td>[277, 729]</td>\n",
       "      <td>2</td>\n",
       "      <td>[Diag, from, worker, Condor, HoldReason, Condo...</td>\n",
       "      <td>[(condor removereason python initiated action,...</td>\n",
       "    </tr>\n",
       "    <tr>\n",
       "      <th>1</th>\n",
       "      <td>Diag from worker : Condor HoldReason: CREAM er...</td>\n",
       "      <td>[Diag, ▁, from, ▁, worker, ▁, :, ▁, Condor, ▁,...</td>\n",
       "      <td>[656, 518]</td>\n",
       "      <td>2</td>\n",
       "      <td>[Diag, from, worker, Condor, HoldReason, CREAM...</td>\n",
       "      <td>[(match worker canceled, 9.0), (exist worker c...</td>\n",
       "    </tr>\n",
       "    <tr>\n",
       "      <th>14</th>\n",
       "      <td>Diag from worker : LRMS error: (-1) RemoveReas...</td>\n",
       "      <td>[Diag, ▁, from, ▁, worker, ▁, :, ▁, LRMS, ▁, e...</td>\n",
       "      <td>[800, 801]</td>\n",
       "      <td>2</td>\n",
       "      <td>[Diag, from, worker, LRMS, error, RemoveReason...</td>\n",
       "      <td>[(system_periodic_remove due, 4.0), (job runni...</td>\n",
       "    </tr>\n",
       "    <tr>\n",
       "      <th>9</th>\n",
       "      <td>Diag from worker : LRMS error: (-1) PeriodicRe...</td>\n",
       "      <td>[Diag, ▁, from, ▁, worker, ▁, :, ▁, LRMS, ▁, e...</td>\n",
       "      <td>[639]</td>\n",
       "      <td>1</td>\n",
       "      <td>[Diag, from, worker, LRMS, error, PeriodicRemo...</td>\n",
       "      <td>[(worker lrms error periodicremove evaluated, ...</td>\n",
       "    </tr>\n",
       "    <tr>\n",
       "      <th>16</th>\n",
       "      <td>Diag from worker : LRMS error: (271) Node fail</td>\n",
       "      <td>[Diag, ▁, from, ▁, worker, ▁, :, ▁, LRMS, ▁, e...</td>\n",
       "      <td>[806]</td>\n",
       "      <td>1</td>\n",
       "      <td>[Diag, from, worker, LRMS, error, Node, fail]</td>\n",
       "      <td>[(worker lrms error node fail, 25.0), (diag, 1...</td>\n",
       "    </tr>\n",
       "    <tr>\n",
       "      <th>15</th>\n",
       "      <td>Diag from worker : Condor HoldReason: Failed t...</td>\n",
       "      <td>[Diag, ▁, from, ▁, worker, ▁, :, ▁, Condor, ▁,...</td>\n",
       "      <td>[813]</td>\n",
       "      <td>1</td>\n",
       "      <td>[Diag, from, worker, Condor, HoldReason, Faile...</td>\n",
       "      <td>[(read proxy file worker canceled, 23.0), (wor...</td>\n",
       "    </tr>\n",
       "    <tr>\n",
       "      <th>22</th>\n",
       "      <td>Diag from worker : LRMS error: (-1) Job missin...</td>\n",
       "      <td>[Diag, ▁, from, ▁, worker, ▁, :, ▁, LRMS, ▁, e...</td>\n",
       "      <td>[725]</td>\n",
       "      <td>1</td>\n",
       "      <td>[Diag, from, worker, LRMS, error, Job, missing...</td>\n",
       "      <td>[(worker lrms error job missing, 25.0), (data ...</td>\n",
       "    </tr>\n",
       "    <tr>\n",
       "      <th>13</th>\n",
       "      <td>Diag from worker : PODs=grid-job-86096-csnv7 ;...</td>\n",
       "      <td>[Diag, ▁, from, ▁, worker, ▁, :, ▁, PODs, =, g...</td>\n",
       "      <td>[660]</td>\n",
       "      <td>1</td>\n",
       "      <td>[Diag, from, worker, PODs, container, termiate...</td>\n",
       "      <td>[(worker pods container termiated, 16.0), (rea...</td>\n",
       "    </tr>\n",
       "    <tr>\n",
       "      <th>2</th>\n",
       "      <td>Diag from worker : Condor HoldReason: CREAM er...</td>\n",
       "      <td>[Diag, ▁, from, ▁, worker, ▁, :, ▁, Condor, ▁,...</td>\n",
       "      <td>[655]</td>\n",
       "      <td>1</td>\n",
       "      <td>[Diag, from, worker, Condor, HoldReason, CREAM...</td>\n",
       "      <td>[(socket timeout occurred worker canceled, 25....</td>\n",
       "    </tr>\n",
       "    <tr>\n",
       "      <th>25</th>\n",
       "      <td>Diag from worker : Condor HoldReason: CREAM er...</td>\n",
       "      <td>[Diag, ▁, from, ▁, worker, ▁, :, ▁, Condor, ▁,...</td>\n",
       "      <td>[442]</td>\n",
       "      <td>1</td>\n",
       "      <td>[Diag, from, worker, Condor, HoldReason, CREAM...</td>\n",
       "      <td>[(error failed globus_l_gfs_file_open failed u...</td>\n",
       "    </tr>\n",
       "    <tr>\n",
       "      <th>7</th>\n",
       "      <td>Diag from worker : LRMS error: (-1) RemoveReas...</td>\n",
       "      <td>[Diag, ▁, from, ▁, worker, ▁, :, ▁, LRMS, ▁, e...</td>\n",
       "      <td>[132]</td>\n",
       "      <td>1</td>\n",
       "      <td>[Diag, from, worker, LRMS, error, RemoveReason...</td>\n",
       "      <td>[(system_periodic_remove due, 4.0), (requested...</td>\n",
       "    </tr>\n",
       "  </tbody>\n",
       "</table>\n",
       "</div>"
      ],
      "text/plain": [
       "                                              pattern  \\\n",
       "21  Diag from worker : Condor HoldReason: Network ...   \n",
       "0   Diag from worker : Failed in data staging: Fai...   \n",
       "5   Diag from worker : LRMS error: (271) job killed:    \n",
       "24             Diag from worker : LRMS error: () Job    \n",
       "10  Diag from worker : Condor HoldReason: None ; C...   \n",
       "6   Diag from worker : Condor HoldReason: CREAM er...   \n",
       "11  Diag from worker : Condor HoldReason:   ; Work...   \n",
       "27  Diag from worker : LRMS error: (-1) Job missin...   \n",
       "4   Diag from worker : Condor HoldReason: Network ...   \n",
       "12  Diag from worker : LRMS error: (381) Job was c...   \n",
       "20   Diag from worker : Job submission to LRMS failed   \n",
       "18  Diag from worker : Condor HoldReason: CREAM er...   \n",
       "26  Diag from worker : Error reading user generate...   \n",
       "17  Diag from worker : Condor HoldReason: HTCondor...   \n",
       "23  Diag from worker : Condor HoldReason: Error pa...   \n",
       "3   Diag from worker : Condor HoldReason: CREAM er...   \n",
       "19  Diag from worker : LRMS error: (271) Job timeo...   \n",
       "8   Diag from worker : Condor HoldReason:  ; Condo...   \n",
       "1   Diag from worker : Condor HoldReason: CREAM er...   \n",
       "14  Diag from worker : LRMS error: (-1) RemoveReas...   \n",
       "9   Diag from worker : LRMS error: (-1) PeriodicRe...   \n",
       "16     Diag from worker : LRMS error: (271) Node fail   \n",
       "15  Diag from worker : Condor HoldReason: Failed t...   \n",
       "22  Diag from worker : LRMS error: (-1) Job missin...   \n",
       "13  Diag from worker : PODs=grid-job-86096-csnv7 ;...   \n",
       "2   Diag from worker : Condor HoldReason: CREAM er...   \n",
       "25  Diag from worker : Condor HoldReason: CREAM er...   \n",
       "7   Diag from worker : LRMS error: (-1) RemoveReas...   \n",
       "\n",
       "                                    tokenized_pattern  \\\n",
       "21  [Diag, ▁, from, ▁, worker, ▁, :, ▁, Condor, ▁,...   \n",
       "0   [Diag, ▁, from, ▁, worker, ▁, :, ▁, Failed, ▁,...   \n",
       "5   [Diag, ▁, from, ▁, worker, ▁, :, ▁, LRMS, ▁, e...   \n",
       "24  [Diag, ▁, from, ▁, worker, ▁, :, ▁, LRMS, ▁, e...   \n",
       "10  [Diag, ▁, from, ▁, worker, ▁, :, ▁, Condor, ▁,...   \n",
       "6   [Diag, ▁, from, ▁, worker, ▁, :, ▁, Condor, ▁,...   \n",
       "11  [Diag, ▁, from, ▁, worker, ▁, :, ▁, Condor, ▁,...   \n",
       "27  [Diag, ▁, from, ▁, worker, ▁, :, ▁, LRMS, ▁, e...   \n",
       "4   [Diag, ▁, from, ▁, worker, ▁, :, ▁, Condor, ▁,...   \n",
       "12  [Diag, ▁, from, ▁, worker, ▁, :, ▁, LRMS, ▁, e...   \n",
       "20  [Diag, ▁, from, ▁, worker, ▁, :, ▁, Job, ▁, su...   \n",
       "18  [Diag, ▁, from, ▁, worker, ▁, :, ▁, Condor, ▁,...   \n",
       "26  [Diag, ▁, from, ▁, worker, ▁, :, ▁, Error, ▁, ...   \n",
       "17  [Diag, ▁, from, ▁, worker, ▁, :, ▁, Condor, ▁,...   \n",
       "23  [Diag, ▁, from, ▁, worker, ▁, :, ▁, Condor, ▁,...   \n",
       "3   [Diag, ▁, from, ▁, worker, ▁, :, ▁, Condor, ▁,...   \n",
       "19  [Diag, ▁, from, ▁, worker, ▁, :, ▁, LRMS, ▁, e...   \n",
       "8   [Diag, ▁, from, ▁, worker, ▁, :, ▁, Condor, ▁,...   \n",
       "1   [Diag, ▁, from, ▁, worker, ▁, :, ▁, Condor, ▁,...   \n",
       "14  [Diag, ▁, from, ▁, worker, ▁, :, ▁, LRMS, ▁, e...   \n",
       "9   [Diag, ▁, from, ▁, worker, ▁, :, ▁, LRMS, ▁, e...   \n",
       "16  [Diag, ▁, from, ▁, worker, ▁, :, ▁, LRMS, ▁, e...   \n",
       "15  [Diag, ▁, from, ▁, worker, ▁, :, ▁, Condor, ▁,...   \n",
       "22  [Diag, ▁, from, ▁, worker, ▁, :, ▁, LRMS, ▁, e...   \n",
       "13  [Diag, ▁, from, ▁, worker, ▁, :, ▁, PODs, =, g...   \n",
       "2   [Diag, ▁, from, ▁, worker, ▁, :, ▁, Condor, ▁,...   \n",
       "25  [Diag, ▁, from, ▁, worker, ▁, :, ▁, Condor, ▁,...   \n",
       "7   [Diag, ▁, from, ▁, worker, ▁, :, ▁, LRMS, ▁, e...   \n",
       "\n",
       "                                              indices  cluster_size  \\\n",
       "21  [0, 2, 3, 4, 5, 6, 7, 9, 10, 11, 12, 14, 15, 1...           283   \n",
       "0   [227, 245, 318, 332, 335, 148, 128, 130, 134, ...           115   \n",
       "5   [34, 348, 356, 357, 358, 359, 361, 362, 363, 3...           104   \n",
       "24  [84, 805, 807, 1, 83, 87, 95, 144, 175, 214, 2...            73   \n",
       "10  [8, 86, 111, 211, 464, 465, 466, 467, 468, 475...            58   \n",
       "6   [372, 704, 759, 760, 761, 762, 763, 764, 765, ...            54   \n",
       "11  [129, 413, 460, 534, 542, 543, 544, 545, 546, ...            36   \n",
       "27  [39, 40, 41, 43, 45, 46, 50, 52, 85, 114, 684,...            30   \n",
       "4   [135, 163, 165, 174, 197, 200, 201, 206, 215, ...            12   \n",
       "12                 [38, 42, 44, 47, 48, 49, 558, 559]             8   \n",
       "20            [81, 131, 146, 374, 471, 613, 692, 757]             8   \n",
       "18                    [90, 97, 98, 99, 100, 109, 110]             7   \n",
       "26                               [432, 436, 703, 798]             4   \n",
       "17                                         [578, 682]             2   \n",
       "23                                         [695, 696]             2   \n",
       "3                                          [353, 634]             2   \n",
       "19                                         [158, 284]             2   \n",
       "8                                          [277, 729]             2   \n",
       "1                                          [656, 518]             2   \n",
       "14                                         [800, 801]             2   \n",
       "9                                               [639]             1   \n",
       "16                                              [806]             1   \n",
       "15                                              [813]             1   \n",
       "22                                              [725]             1   \n",
       "13                                              [660]             1   \n",
       "2                                               [655]             1   \n",
       "25                                              [442]             1   \n",
       "7                                               [132]             1   \n",
       "\n",
       "                                             sequence  \\\n",
       "21  [Diag, from, worker, Condor, HoldReason, Netwo...   \n",
       "0   [Diag, from, worker, Failed, in, data, staging...   \n",
       "5      [Diag, from, worker, LRMS, error, job, killed]   \n",
       "24             [Diag, from, worker, LRMS, error, Job]   \n",
       "10  [Diag, from, worker, Condor, HoldReason, None,...   \n",
       "6   [Diag, from, worker, Condor, HoldReason, CREAM...   \n",
       "11  [Diag, from, worker, Condor, HoldReason, Worke...   \n",
       "27  [Diag, from, worker, LRMS, error, Job, missing...   \n",
       "4   [Diag, from, worker, Condor, HoldReason, Netwo...   \n",
       "12  [Diag, from, worker, LRMS, error, Job, was, ca...   \n",
       "20  [Diag, from, worker, Job, submission, to, LRMS...   \n",
       "18  [Diag, from, worker, Condor, HoldReason, CREAM...   \n",
       "26  [Diag, from, worker, Error, reading, user, gen...   \n",
       "17  [Diag, from, worker, Condor, HoldReason, HTCon...   \n",
       "23  [Diag, from, worker, Condor, HoldReason, Error...   \n",
       "3   [Diag, from, worker, Condor, HoldReason, CREAM...   \n",
       "19  [Diag, from, worker, LRMS, error, Job, timeout...   \n",
       "8   [Diag, from, worker, Condor, HoldReason, Condo...   \n",
       "1   [Diag, from, worker, Condor, HoldReason, CREAM...   \n",
       "14  [Diag, from, worker, LRMS, error, RemoveReason...   \n",
       "9   [Diag, from, worker, LRMS, error, PeriodicRemo...   \n",
       "16      [Diag, from, worker, LRMS, error, Node, fail]   \n",
       "15  [Diag, from, worker, Condor, HoldReason, Faile...   \n",
       "22  [Diag, from, worker, LRMS, error, Job, missing...   \n",
       "13  [Diag, from, worker, PODs, container, termiate...   \n",
       "2   [Diag, from, worker, Condor, HoldReason, CREAM...   \n",
       "25  [Diag, from, worker, Condor, HoldReason, CREAM...   \n",
       "7   [Diag, from, worker, LRMS, error, RemoveReason...   \n",
       "\n",
       "                                       common_phrases  \n",
       "21  [(authorization failure worker canceled, 16.0)...  \n",
       "0   [(data staging failed, 8.508474576271187), (wo...  \n",
       "5                                       [(diag, 1.0)]  \n",
       "24  [(worker lrms error job failed, 25.0), (worker...  \n",
       "10  [(worker condor holdreason, 9.0), (condor remo...  \n",
       "6   [(sigxcpu reason worker canceled, 14.5), (sigt...  \n",
       "11  [(worker condor holdreason job, 15.5), (found ...  \n",
       "27  [(worker lrms error job missing, 25.0), (diag,...  \n",
       "4   [(authorization failure, 4.0), (diag, 1.0), (s...  \n",
       "12  [(worker lrms error job, 16.0), (diag, 1.0), (...  \n",
       "20  [(worker job submission, 9.0), (lrms failed, 4...  \n",
       "18  [(worker condor holdreason cream error, 25.0),...  \n",
       "26                                      [(diag, 1.0)]  \n",
       "17  [(matching routes route job limit, 24.0), (rou...  \n",
       "23  [(found worker canceled, 8.0), (harvester due,...  \n",
       "3   [(sigxcpu reason, 4.0), (diag, 1.0), (terminat...  \n",
       "19          [(data staging failed, 9.0), (diag, 1.0)]  \n",
       "8   [(condor removereason python initiated action,...  \n",
       "1   [(match worker canceled, 9.0), (exist worker c...  \n",
       "14  [(system_periodic_remove due, 4.0), (job runni...  \n",
       "9   [(worker lrms error periodicremove evaluated, ...  \n",
       "16  [(worker lrms error node fail, 25.0), (diag, 1...  \n",
       "15  [(read proxy file worker canceled, 23.0), (wor...  \n",
       "22  [(worker lrms error job missing, 25.0), (data ...  \n",
       "13  [(worker pods container termiated, 16.0), (rea...  \n",
       "2   [(socket timeout occurred worker canceled, 25....  \n",
       "25  [(error failed globus_l_gfs_file_open failed u...  \n",
       "7   [(system_periodic_remove due, 4.0), (requested...  "
      ]
     },
     "execution_count": 16,
     "metadata": {},
     "output_type": "execute_result"
    }
   ],
   "source": [
    "cluster.result"
   ]
  },
  {
   "cell_type": "code",
   "execution_count": null,
   "metadata": {},
   "outputs": [],
   "source": [
    "cluster.in_cluster(cluster.result, 2)"
   ]
  },
  {
   "cell_type": "markdown",
   "metadata": {},
   "source": [
    "### Print only patterns"
   ]
  },
  {
   "cell_type": "code",
   "execution_count": 18,
   "metadata": {
    "scrolled": false
   },
   "outputs": [
    {
     "data": {
      "text/plain": [
       "array(['Diag from worker : Condor HoldReason: Network error talking to schedd, probably an authorization failure ; Worker canceled by harvester due to held too long or not found',\n",
       "       'Diag from worker : Failed in data staging: Failed to prepare destination srm://dpm.lhep.unibe.ch:8446/srm/managerv2?SFN=/dpm/lhep.unibe.ch/home/atlas//rucio///',\n",
       "       'Diag from worker : LRMS error: (271) job killed: ',\n",
       "       'Diag from worker : LRMS error: () Job ',\n",
       "       'Diag from worker : Condor HoldReason: None ; Condor RemoveReason: removed by SYSTEM_PERIODIC_REMOVE due to job restarted undesirably.',\n",
       "       'Diag from worker : Condor HoldReason: CREAM error: Job has been terminated (got ) ; Worker canceled by harvester due to held too long or not found',\n",
       "       'Diag from worker : Condor HoldReason:   ; Worker canceled by harvester due to held too long or not found',\n",
       "       'Diag from worker : LRMS error: (-1) Job missing from SLURM',\n",
       "       'Diag from worker : Condor HoldReason: Network error talking to schedd, probably an authorization failure',\n",
       "       'Diag from worker : LRMS error: (381) Job was cancelled',\n",
       "       'Diag from worker : Job submission to LRMS failed',\n",
       "       'Diag from worker : Condor HoldReason: CREAM error: Cannot upload file:///home/prdatlas018/// into gsiftp://recas-ce-02.cs.infn.it/var/cream_sandbox/prdatlas/CN_Robot__ATLAS_Pilot1_CN_614260_CN_atlpi',\n",
       "       'Diag from worker : Error reading user generated output file list',\n",
       "       \"Diag from worker : Condor HoldReason: HTCondor-CE held job due to no matching routes, route job limit, or route failure threshold; see 'HTCondor-CE Troubleshooting Guide' ; Worker canceled by harvester due to held too long or not found\",\n",
       "       'Diag from worker : Condor HoldReason: Error parsing classad or job not found ; Worker canceled by harvester due to held too long or not found',\n",
       "       'Diag from worker : Condor HoldReason: CREAM error: Job has been terminated (got SIGXCPU); reason=255',\n",
       "       'Diag from worker : LRMS error: (271) Job timeout; Failed in data staging: Failed to prepare destination srm://dpm.lhep.unibe.ch:8446/srm/managerv2?SFN=/dpm/lhep.unibe.ch/home/atlas/atlasdatadisk/rucio/mc16_13TeV///.',\n",
       "       'Diag from worker : Condor HoldReason:  ; Condor RemoveReason: Python-initiated action. (by user atlpan)',\n",
       "       'Diag from worker : Condor HoldReason: CREAM error:  Error: job does not  ; Worker canceled by harvester due to held too long or not found',\n",
       "       'Diag from worker : LRMS error: (-1) RemoveReason: Job removed by SYSTEM_PERIODIC_REMOVE due to job running more than once.',\n",
       "       'Diag from worker : LRMS error: (-1) PeriodicRemove evaluated to TRUE',\n",
       "       'Diag from worker : LRMS error: (271) Node fail',\n",
       "       'Diag from worker : Condor HoldReason: Failed to get expiration time of proxy: unable to read proxy file ; Worker canceled by harvester due to held too long or not found',\n",
       "       'Diag from worker : LRMS error: (-1) Job missing from SLURM|Failed in data staging: Failed to prepare destination srm://srmv2.ific.uv.es:8443/srm/managerv2?SFN=/lustre/ific.uv.es/grid/atlas/atlasdatadisk/rucio/mc16_13TeV/65/ed/log.20651976._006604.job',\n",
       "       'Diag from worker : PODs=grid-job-86096-csnv7 ; container termiated by k8s for reason OOMKilled',\n",
       "       'Diag from worker : Condor HoldReason: CREAM error: CREAM_Job_Cancel Error: EOF detected during communication. Probably service closed connection or SOCKET TIMEOUT occurred. ; Worker canceled by harvester due to held too long or not found',\n",
       "       'Diag from worker : Condor HoldReason: CREAM error: Transfer failed: globus_ftp_client: the server responded with an error 500 500-Command failed. : globus_l_gfs_file_open failed. 500-globus_xio: Unable to open file /var/cream_sandbox/atlaspil/CN_Rob',\n",
       "       'Diag from worker : LRMS error: (-1) RemoveReason: Job removed by SYSTEM_PERIODIC_REMOVE due to exceeding the requested memory.'],\n",
       "      dtype=object)"
      ]
     },
     "execution_count": 18,
     "metadata": {},
     "output_type": "execute_result"
    }
   ],
   "source": [
    "cluster.result['pattern'].values"
   ]
  },
  {
   "cell_type": "code",
   "execution_count": null,
   "metadata": {},
   "outputs": [],
   "source": [
    "cluster.in_cluster(cluster.result, 43)"
   ]
  },
  {
   "cell_type": "markdown",
   "metadata": {},
   "source": [
    "### Split clusters to big (cluster_size >= 1000) and small (cluster_size < 1000)"
   ]
  },
  {
   "cell_type": "code",
   "execution_count": null,
   "metadata": {},
   "outputs": [],
   "source": []
  },
  {
   "cell_type": "code",
   "execution_count": null,
   "metadata": {},
   "outputs": [],
   "source": [
    "big, small = cluster.split_clusters(cluster.result, 'cluster_size', 1000)"
   ]
  },
  {
   "cell_type": "code",
   "execution_count": null,
   "metadata": {},
   "outputs": [],
   "source": [
    "big['pattern'].values"
   ]
  },
  {
   "cell_type": "code",
   "execution_count": null,
   "metadata": {},
   "outputs": [],
   "source": [
    "small"
   ]
  },
  {
   "cell_type": "markdown",
   "metadata": {},
   "source": [
    "### Print all messages from cluster #40"
   ]
  },
  {
   "cell_type": "code",
   "execution_count": null,
   "metadata": {},
   "outputs": [],
   "source": [
    "cluster.in_cluster(clusters, 40)"
   ]
  },
  {
   "cell_type": "markdown",
   "metadata": {},
   "source": [
    "### Display the performance of all stages"
   ]
  },
  {
   "cell_type": "code",
   "execution_count": null,
   "metadata": {},
   "outputs": [],
   "source": [
    "cluster.timings"
   ]
  },
  {
   "cell_type": "code",
   "execution_count": null,
   "metadata": {},
   "outputs": [],
   "source": [
    "from gensim.summarization import keywords\n",
    "text = '''Challenges in natural language processing frequently involve\n",
    "speech recognition, natural language understanding, natural language\n",
    "generation (frequently from formal, machine-readable logical forms),\n",
    "connecting language and machine perception, dialog systems, or some\n",
    "combination thereof.'''"
   ]
  },
  {
   "cell_type": "code",
   "execution_count": null,
   "metadata": {},
   "outputs": [],
   "source": [
    "import spacy\n",
    "import pytextrank"
   ]
  },
  {
   "cell_type": "code",
   "execution_count": null,
   "metadata": {},
   "outputs": [],
   "source": [
    "nlp = spacy.load(\"en_core_web_sm\")\n",
    "tr = pytextrank.TextRank()"
   ]
  },
  {
   "cell_type": "code",
   "execution_count": null,
   "metadata": {},
   "outputs": [],
   "source": [
    "phrases = Phrases(text, min_count=1, threshold=1, scoring='npmi', delimiter=b' ')\n"
   ]
  },
  {
   "cell_type": "code",
   "execution_count": null,
   "metadata": {},
   "outputs": [],
   "source": [
    "nlp = spacy.load(\"en_core_web_sm\")\n",
    "tr = pytextrank.TextRank()\n",
    "nlp.add_pipe(tr.PipelineComponent, name=\"textrank\", last=True)\n",
    "doc = nlp(text)\n",
    "for p in doc._.phrases:\n",
    "    print(\"{:.4f} {:5d}  {}\".format(p.rank, p.count, p.text))\n",
    "    print(p.chunks)"
   ]
  },
  {
   "cell_type": "code",
   "execution_count": null,
   "metadata": {},
   "outputs": [],
   "source": [
    "spacy.load('en_core_web_sm')"
   ]
  },
  {
   "cell_type": "code",
   "execution_count": null,
   "metadata": {},
   "outputs": [],
   "source": [
    "text = \"\"\"Automatic summarization is the process of reducing a text document with a \\\n",
    "computer program in order to create a summary that retains the most important points \\\n",
    "of the original document. As the problem of information overload has grown, and as \\\n",
    "the quantity of data has increased, so has interest in automatic summarization. \\\n",
    "Technologies that can make a coherent summary take into account variables such as \\\n",
    "length, writing style and syntax. An example of the use of summarization technology \\\n",
    "is search engines such as Google. Document summarization is another.\"\"\"\n",
    "text1 = \"\"\"\n",
    "Error on the surl while putdone. This SURL does not exist in the original request. \n",
    "\"\"\"\n",
    "\n",
    "from summa import summarizer\n",
    "print(summarizer.summarize(text1))"
   ]
  },
  {
   "cell_type": "code",
   "execution_count": null,
   "metadata": {},
   "outputs": [],
   "source": [
    "from summa import keywords"
   ]
  },
  {
   "cell_type": "code",
   "execution_count": null,
   "metadata": {},
   "outputs": [],
   "source": [
    "print(keywords.keywords(text1))"
   ]
  },
  {
   "cell_type": "code",
   "execution_count": null,
   "metadata": {},
   "outputs": [],
   "source": [
    "import regroup"
   ]
  },
  {
   "cell_type": "code",
   "execution_count": null,
   "metadata": {},
   "outputs": [],
   "source": [
    "def calc_cache_pos(strings, indexes):\n",
    "    factor = 1\n",
    "    pos = 0\n",
    "    for s, i in zip(strings, indexes):\n",
    "        pos += i * factor\n",
    "        factor *= len(s)\n",
    "    return pos\n",
    "\n",
    "def lcs_back(strings, indexes, cache):\n",
    "    if -1 in indexes:\n",
    "        return \"\"\n",
    "    match = all(strings[0][indexes[0]] == s[i]\n",
    "                for s, i in zip(strings, indexes))\n",
    "    if match:\n",
    "        new_indexes = [i - 1 for i in indexes]\n",
    "        result = lcs_back(strings, new_indexes, cache) + strings[0][indexes[0]]\n",
    "    else:\n",
    "        substrings = [\"\"] * len(strings)\n",
    "        for n in range(len(strings)):\n",
    "            if indexes[n] > 0:\n",
    "                new_indexes = indexes[:]\n",
    "                new_indexes[n] -= 1\n",
    "                cache_pos = calc_cache_pos(strings, new_indexes)\n",
    "                if cache[cache_pos] is None:\n",
    "                    substrings[n] = lcs_back(strings, new_indexes, cache)\n",
    "                else:\n",
    "                    substrings[n] = cache[cache_pos]\n",
    "        result = max(substrings, key=len)\n",
    "    cache[calc_cache_pos(strings, indexes)] = result\n",
    "    return result\n",
    "\n",
    "def lcs(strings):\n",
    "    \"\"\"\n",
    "    >>> lcs(['666222054263314443712', '5432127413542377777', '6664664565464057425'])\n",
    "    '54442'\n",
    "    >>> lcs(['abacbdab', 'bdcaba', 'cbacaa'])\n",
    "    'baa'\n",
    "    \"\"\"\n",
    "    if len(strings) == 0:\n",
    "        return \"\"\n",
    "    elif len(strings) == 1:\n",
    "        return strings[0]\n",
    "    else:\n",
    "        cache_size = 1\n",
    "        for s in strings:\n",
    "            cache_size *= len(s)\n",
    "        cache = [None] * cache_size\n",
    "        indexes = [len(s) - 1 for s in strings]\n",
    "        return lcs_back(strings, indexes, cache)"
   ]
  },
  {
   "cell_type": "code",
   "execution_count": null,
   "metadata": {},
   "outputs": [],
   "source": [
    "lcs(['abacbdab', 'bdcaba', 'cbacaa', 'abacbdabaa'])"
   ]
  },
  {
   "cell_type": "code",
   "execution_count": null,
   "metadata": {},
   "outputs": [],
   "source": [
    "import nltk \n",
    "pdp = nltk.ProjectiveDependencyParser(groucho_dep_grammar)"
   ]
  },
  {
   "cell_type": "code",
   "execution_count": null,
   "metadata": {},
   "outputs": [],
   "source": []
  }
 ],
 "metadata": {
  "kernelspec": {
   "display_name": "Python 3",
   "language": "python",
   "name": "python3"
  },
  "language_info": {
   "codemirror_mode": {
    "name": "ipython",
    "version": 3
   },
   "file_extension": ".py",
   "mimetype": "text/x-python",
   "name": "python",
   "nbconvert_exporter": "python",
   "pygments_lexer": "ipython3",
   "version": "3.7.4"
  }
 },
 "nbformat": 4,
 "nbformat_minor": 1
}
