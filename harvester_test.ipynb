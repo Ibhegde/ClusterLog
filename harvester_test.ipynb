{
 "cells": [
  {
   "cell_type": "markdown",
   "metadata": {},
   "source": [
    "# Clusterlogs Notebook"
   ]
  },
  {
   "cell_type": "code",
   "execution_count": 1,
   "metadata": {},
   "outputs": [],
   "source": [
    "import pandas as pd\n",
    "from clusterlogs import pipeline"
   ]
  },
  {
   "cell_type": "markdown",
   "metadata": {},
   "source": [
    "## 1. Download data from file and create pandas DataFrame with index "
   ]
  },
  {
   "cell_type": "code",
   "execution_count": 2,
   "metadata": {},
   "outputs": [],
   "source": [
    "df = pd.read_csv('samples/harvester_errors24.csv', sep=';')"
   ]
  },
  {
   "cell_type": "code",
   "execution_count": 3,
   "metadata": {},
   "outputs": [],
   "source": [
    "df.dropna(inplace=True)"
   ]
  },
  {
   "cell_type": "code",
   "execution_count": 4,
   "metadata": {},
   "outputs": [
    {
     "data": {
      "text/plain": [
       "(75058, 2)"
      ]
     },
     "execution_count": 4,
     "metadata": {},
     "output_type": "execute_result"
    }
   ],
   "source": [
    "df.shape"
   ]
  },
  {
   "cell_type": "code",
   "execution_count": 5,
   "metadata": {},
   "outputs": [
    {
     "data": {
      "text/html": [
       "<div>\n",
       "<style scoped>\n",
       "    .dataframe tbody tr th:only-of-type {\n",
       "        vertical-align: middle;\n",
       "    }\n",
       "\n",
       "    .dataframe tbody tr th {\n",
       "        vertical-align: top;\n",
       "    }\n",
       "\n",
       "    .dataframe thead th {\n",
       "        text-align: right;\n",
       "    }\n",
       "</style>\n",
       "<table border=\"1\" class=\"dataframe\">\n",
       "  <thead>\n",
       "    <tr style=\"text-align: right;\">\n",
       "      <th></th>\n",
       "      <th>id</th>\n",
       "      <th>message</th>\n",
       "    </tr>\n",
       "  </thead>\n",
       "  <tbody>\n",
       "    <tr>\n",
       "      <td>0</td>\n",
       "      <td>CERN_central_B|111388583</td>\n",
       "      <td>Payload execution error: returned non-zero</td>\n",
       "    </tr>\n",
       "    <tr>\n",
       "      <td>1</td>\n",
       "      <td>CERN_central_B|111388549</td>\n",
       "      <td>Payload execution error: returned non-zero</td>\n",
       "    </tr>\n",
       "    <tr>\n",
       "      <td>2</td>\n",
       "      <td>CERN_central_B|111388581</td>\n",
       "      <td>Payload execution error: returned non-zero</td>\n",
       "    </tr>\n",
       "    <tr>\n",
       "      <td>3</td>\n",
       "      <td>CERN_central_B|111388573</td>\n",
       "      <td>Payload execution error: returned non-zero</td>\n",
       "    </tr>\n",
       "    <tr>\n",
       "      <td>4</td>\n",
       "      <td>CERN_central_B|111389035</td>\n",
       "      <td>Payload execution error: returned non-zero</td>\n",
       "    </tr>\n",
       "  </tbody>\n",
       "</table>\n",
       "</div>"
      ],
      "text/plain": [
       "                         id                                     message\n",
       "0  CERN_central_B|111388583  Payload execution error: returned non-zero\n",
       "1  CERN_central_B|111388549  Payload execution error: returned non-zero\n",
       "2  CERN_central_B|111388581  Payload execution error: returned non-zero\n",
       "3  CERN_central_B|111388573  Payload execution error: returned non-zero\n",
       "4  CERN_central_B|111389035  Payload execution error: returned non-zero"
      ]
     },
     "execution_count": 5,
     "metadata": {},
     "output_type": "execute_result"
    }
   ],
   "source": [
    "df.head()"
   ]
  },
  {
   "cell_type": "code",
   "execution_count": 6,
   "metadata": {},
   "outputs": [],
   "source": [
    "target = 'message'"
   ]
  },
  {
   "cell_type": "markdown",
   "metadata": {},
   "source": [
    "## 2. Execute clusterization pipeline"
   ]
  },
  {
   "cell_type": "code",
   "execution_count": 7,
   "metadata": {},
   "outputs": [],
   "source": [
    "cluster = pipeline.Chain(df, target, mode='create', model_name='harvester_test.model', matching_accuracy=0.7)"
   ]
  },
  {
   "cell_type": "code",
   "execution_count": 8,
   "metadata": {},
   "outputs": [
    {
     "name": "stdout",
     "output_type": "stream",
     "text": [
      "Tokenization finished\n",
      "Found 1343 equal groups\n",
      "Postprocessed with 88 clusters\n"
     ]
    }
   ],
   "source": [
    "cluster.process()"
   ]
  },
  {
   "cell_type": "markdown",
   "metadata": {},
   "source": [
    "## 3. Result: all clusters (big clusters and outliers) - sorted by cluster size "
   ]
  },
  {
   "cell_type": "code",
   "execution_count": 18,
   "metadata": {},
   "outputs": [
    {
     "data": {
      "text/html": [
       "<div>\n",
       "<style scoped>\n",
       "    .dataframe tbody tr th:only-of-type {\n",
       "        vertical-align: middle;\n",
       "    }\n",
       "\n",
       "    .dataframe tbody tr th {\n",
       "        vertical-align: top;\n",
       "    }\n",
       "\n",
       "    .dataframe thead th {\n",
       "        text-align: right;\n",
       "    }\n",
       "</style>\n",
       "<table border=\"1\" class=\"dataframe\">\n",
       "  <thead>\n",
       "    <tr style=\"text-align: right;\">\n",
       "      <th></th>\n",
       "      <th>pattern</th>\n",
       "      <th>indices</th>\n",
       "      <th>cluster_size</th>\n",
       "    </tr>\n",
       "  </thead>\n",
       "  <tbody>\n",
       "    <tr>\n",
       "      <td>79</td>\n",
       "      <td>Payload execution error: returned non-zero</td>\n",
       "      <td>[0, 1, 2, 3, 4, 5, 8, 9, 10, 12, 13, 14, 15, 1...</td>\n",
       "      <td>21436</td>\n",
       "    </tr>\n",
       "    <tr>\n",
       "      <td>67</td>\n",
       "      <td>JOB id=｟*｠ not found</td>\n",
       "      <td>[44, 45, 46, 47, 56, 57, 58, 83, 84, 94, 95, 9...</td>\n",
       "      <td>10838</td>\n",
       "    </tr>\n",
       "    <tr>\n",
       "      <td>3</td>\n",
       "      <td>Condor HoldReason: CREAM error: BLAH error: su...</td>\n",
       "      <td>[31, 33, 59, 60, 61, 88, 90, 198, 209, 232, 23...</td>\n",
       "      <td>9202</td>\n",
       "    </tr>\n",
       "    <tr>\n",
       "      <td>81</td>\n",
       "      <td>submission failed: Exception OSError: [Errno 2...</td>\n",
       "      <td>[55, 62, 63, 64, 65, 66, 67, 108, 109, 116, 11...</td>\n",
       "      <td>7771</td>\n",
       "    </tr>\n",
       "    <tr>\n",
       "      <td>69</td>\n",
       "      <td>LRMS error: ()｟*｠</td>\n",
       "      <td>[133, 381, 1030, 1065, 1100, 1101, 1105, 1110,...</td>\n",
       "      <td>4289</td>\n",
       "    </tr>\n",
       "    <tr>\n",
       "      <td>...</td>\n",
       "      <td>...</td>\n",
       "      <td>...</td>\n",
       "      <td>...</td>\n",
       "    </tr>\n",
       "    <tr>\n",
       "      <td>62</td>\n",
       "      <td>Failed in data staging: Transfer｟*｠</td>\n",
       "      <td>[37992]</td>\n",
       "      <td>1</td>\n",
       "    </tr>\n",
       "    <tr>\n",
       "      <td>78</td>\n",
       "      <td>LRMS error: (｟*｠) Job was cancelled</td>\n",
       "      <td>[6219]</td>\n",
       "      <td>1</td>\n",
       "    </tr>\n",
       "    <tr>\n",
       "      <td>55</td>\n",
       "      <td>Failed in data staging: Failed reading from so...</td>\n",
       "      <td>[53099]</td>\n",
       "      <td>1</td>\n",
       "    </tr>\n",
       "    <tr>\n",
       "      <td>56</td>\n",
       "      <td>Failed in data staging: Failed to prepare dest...</td>\n",
       "      <td>[41731]</td>\n",
       "      <td>1</td>\n",
       "    </tr>\n",
       "    <tr>\n",
       "      <td>44</td>\n",
       "      <td>Condor HoldReason:｟*｠: System error in recv: C...</td>\n",
       "      <td>[20223]</td>\n",
       "      <td>1</td>\n",
       "    </tr>\n",
       "  </tbody>\n",
       "</table>\n",
       "<p>88 rows × 3 columns</p>\n",
       "</div>"
      ],
      "text/plain": [
       "                                              pattern  \\\n",
       "79         Payload execution error: returned non-zero   \n",
       "67                               JOB id=｟*｠ not found   \n",
       "3   Condor HoldReason: CREAM error: BLAH error: su...   \n",
       "81  submission failed: Exception OSError: [Errno 2...   \n",
       "69                                  LRMS error: ()｟*｠   \n",
       "..                                                ...   \n",
       "62                Failed in data staging: Transfer｟*｠   \n",
       "78                LRMS error: (｟*｠) Job was cancelled   \n",
       "55  Failed in data staging: Failed reading from so...   \n",
       "56  Failed in data staging: Failed to prepare dest...   \n",
       "44  Condor HoldReason:｟*｠: System error in recv: C...   \n",
       "\n",
       "                                              indices  cluster_size  \n",
       "79  [0, 1, 2, 3, 4, 5, 8, 9, 10, 12, 13, 14, 15, 1...         21436  \n",
       "67  [44, 45, 46, 47, 56, 57, 58, 83, 84, 94, 95, 9...         10838  \n",
       "3   [31, 33, 59, 60, 61, 88, 90, 198, 209, 232, 23...          9202  \n",
       "81  [55, 62, 63, 64, 65, 66, 67, 108, 109, 116, 11...          7771  \n",
       "69  [133, 381, 1030, 1065, 1100, 1101, 1105, 1110,...          4289  \n",
       "..                                                ...           ...  \n",
       "62                                            [37992]             1  \n",
       "78                                             [6219]             1  \n",
       "55                                            [53099]             1  \n",
       "56                                            [41731]             1  \n",
       "44                                            [20223]             1  \n",
       "\n",
       "[88 rows x 3 columns]"
      ]
     },
     "execution_count": 18,
     "metadata": {},
     "output_type": "execute_result"
    }
   ],
   "source": [
    "cluster.result"
   ]
  },
  {
   "cell_type": "markdown",
   "metadata": {},
   "source": [
    "### Print only patterns"
   ]
  },
  {
   "cell_type": "code",
   "execution_count": 19,
   "metadata": {},
   "outputs": [
    {
     "data": {
      "text/plain": [
       "array(['Payload execution error: returned non-zero',\n",
       "       'JOB id=｟*｠ not found',\n",
       "       'Condor HoldReason: CREAM error: BLAH error: submission command failedexit code = 1)stdout:)stderr:qsub: number of jobs already in｟*｠ MSG=total number of jobs in｟*｠ exceeds the｟*｠ limit: user@｟*｠',\n",
       "       'submission failed: Exception OSError: [Errno 28] No space left on device',\n",
       "       'LRMS error: ()｟*｠',\n",
       "       'Condor HoldReason:｟*｠ ; Worker canceled by harvester due to held too long or not',\n",
       "       'LRMS error: ()｟*｠',\n",
       "       \"Condor HoldReason: HTCondor-CE｟*｠ due to no matching routes,｟*｠ limit,｟*｠ failure threshold; see 'HTCondor-CE Troubleshooting Guide' ; Worker canceled by harvester due to｟*｠ too long｟*｠ not found\",\n",
       "       'Condor HoldReason: CREAM error: Transfer failed: globus_ftp_client: the server responded with an error 500 500-Command failed : failed 500-globus_xio: Unable to｟*｠',\n",
       "       '｟*｠ not submitted due to incomplete data of the worker',\n",
       "       'Failed in data staging: Failed to prepare source srm:｟*｠srm.ndgf.org:8443｟*｠srm｟*｠managerv2?SFN=｟*｠atlas｟*｠disk｟*｠atlasdatadisk｟*｠rucio｟*｠.: Failed to prepare source: Resource',\n",
       "       \"Condor HoldReason: The system macro SYSTEM_PERIODIC_HOLD expression '｟*｠x509userproxysubject =?= undefined)｟*｠ (x509UserProxyExpiration =?= undefined)｟*｠ (｟*｠time｟*｠) > x509UserProxyExpiration)｟*｠ JobStatus =!= 3｟*｠ JobStatus =!= 4)｟*｠ (RoutedBy =?= null｟*｠ JobU\",\n",
       "       'Condor HoldReason: CREAM error:｟*｠ ; Worker canceled by harvester due to held too long or not found',\n",
       "       'Condor HoldReason: CREAM error: Cannot move ISB (retry_copy ${globus_transfer_cmd} gsiftp:｟*｠var｟*｠cream_sandbox｟*｠',\n",
       "       \"Condor HoldReason: The system macro SYSTEM_PERIODIC_HOLD expression '(｟*｠ >= 1 && JobStatus == 1｟*｠'｟*｠ to｟*｠ ; Worker canceled by harvester due to held too long or not found\",\n",
       "       'Condor HoldReason: Error: Received NULL fault; the error is due to another cause: FaultString=｟*｠connection error]｟*｠ FaultCode=｟*｠SOAP-ENV:Client]｟*｠ FaultSubCode=｟*｠SOAP-ENV:Client]｟*｠ FaultDetail=｟*｠]',\n",
       "       'Condor HoldReason: CREAM error: CREAM_Job_Register Error: MethodName=｟*｠jobRegister] ErrorCode=｟*｠0] Description=｟*｠The CREAM service cannot accept jobs at the moment] FaultCause=｟*｠Submissions are disabled!] Timestamp=｟*｠ Dec 2019:] ; Worker canceled',\n",
       "       'Condor HoldReason: Error: Connection to service [https:/creamce3.goegrid.gwdg.de:8443/ce-cream/services/] failed: FaultString=｟*｠SSL error]｟*｠ FaultCode=｟*｠SOAP-ENV:Client]｟*｠ FaultSubCode=｟*｠SOAP-ENV:Client]｟*｠ FaultDetail=｟*｠',\n",
       "       'Failed in data staging: Failed to prepare source srm:｟*｠srm-atlas.cern.ch:8443｟*｠srm｟*｠managerv2?SFN=｟*｠castor｟*｠cern.ch｟*｠grid｟*｠atlas｟*｠rucio｟*｠derived｟*｠',\n",
       "       'LRMS error: (｟*｠)',\n",
       "       'Condor HoldReason: CREAM_Delegate Error: Received NULL fault; the error is due to another cause: FaultString=｟*｠The service cannot be found for the endpoint reference (EPR) https:｟*｠clrccece01.in2p3.fr:8443｟*｠ce-cream｟*｠services｟*｠gridsite-delegation] - FaultCode=｟*｠',\n",
       "       'LRMS error: (-1): Job by due to｟*｠.',\n",
       "       'LRMS error: (｟*｠) Job failed with code',\n",
       "       'Condor HoldReason: Error receiving files｟*｠ schedd osgserv06.slac.stanford.edu: DCSchedd:receiveJobSandbox:7003:File transfer failed for target job｟*｠: SCHEDD at 134.79.198.164 failed to send file(s) to <｟*｠:｟*｠>: error reading｟*｠ /',\n",
       "       'Condor HoldReason: CREAM error: Transfer failed:｟*｠: Unable to｟*｠ to:2811｟*｠: System error in｟*｠:｟*｠: A system call failed:｟*｠ ; Worker canceled by',\n",
       "       'Condor HoldReason: CREAM error: BLAH error: submission command failed (exit code = 1) (stdout:) (stderr:qsub:｟*｠ for job execution MSG=｟*｠ not｟*｠ user atlasp from｟*｠)｟*｠/｟*｠ (｟*｠ =｟*｠) ; Worker canceled by｟*｠',\n",
       "       'Failed in data staging: Failed to prepare srm:｟*｠:8443｟*｠srm｟*｠managerv2?SFN=｟*｠atlas｟*｠',\n",
       "       'Failed to create｟*｠ JOB; HTTPSConnectionPool(host=｟*｠127.0.0.1｟*｠, port=6443): Max retries exceeded with url: /apis｟*｠batch｟*｠v1｟*｠namespaces｟*｠default｟*｠jobs (Caused by NewConnectionError(｟*｠<urllib3.connection.VerifiedHTTPSConnection object at｟*｠>: Failed to establish｟*｠ new connection: [Errno 111] Connection refused｟*｠,)',\n",
       "       'LRMS error: (-1)｟*｠:｟*｠ on｟*｠ 1 (｟*｠)',\n",
       "       'Condor HoldReason: CREAM error: CREAM_Job_Register Error: MethodName=｟*｠jobRegister] ErrorCode=｟*｠0] Description=｟*｠The CREAM service cannot accept jobs at the moment] FaultCause=｟*｠Threshold for｟*｠ Connection: => Detected value for｟*｠ Connection:｟*｠] Tim',\n",
       "       'Condor HoldReason: CREAM error: BLAH error: submission command failedexit code = 1stdout:stderr:qsub:｟*｠ =｟*｠ ; Worker canceled by harvester due to held too long or not found',\n",
       "       \"Condor HoldReason: HTCondor-CE held｟*｠ due to no matching routes,｟*｠ limit, or｟*｠ failure threshold; see 'HTCondor-CE Troubleshooting Guide'\",\n",
       "       'LRMS error: () Job missing｟*｠ SLURM,｟*｠ directory',\n",
       "       'Failed in data staging: Failed checking source replica root:｟*｠:1094｟*｠atlasdatadisk｟*｠rucio｟*｠.: Failed to obtain information about file:',\n",
       "       'Error reading user generated output file list',\n",
       "       'Condor HoldReason:｟*｠ error', '｟*｠+ long usatlas 512:0',\n",
       "       'Failed in data staging: Could not resolve any source replicas｟*｠ rucio:｟*｠rucio-lb-prod.cern.ch｟*｠replicas｟*｠.: Resolving of index service｟*｠ source failed:',\n",
       "       'Condor HoldReason: CREAM error: reason=; /｟*｠: No file or directory ; Worker canceled by harvester due to held too long or not found',\n",
       "       '｟*｠+ regular m2616 6800 PENDING 0:0',\n",
       "       'Condor HoldReason: Error｟*｠ schedd｟*｠',\n",
       "       'Condor HoldReason: CREAM error:｟*｠',\n",
       "       'Condor HoldReason: CREAM error: Transfer failed: globus_ftp_client: the server responded with an error 530 530-Login incorrect. : globus_gss_assist: Error invoking｟*｠ 530-globus_callout_module: The｟*｠ returned an error 530-an unknown error occu',\n",
       "       'Condor HoldReason: CREAM error:｟*｠=-｟*｠',\n",
       "       'LRMS error: (-1) Job missing from SLURM|Failed in data staging: Failed to prepare destination srm:｟*｠:8443｟*｠srm｟*｠managerv2?SFN=｟*｠atlas｟*｠atlasdatadisk｟*｠rucio｟*｠.:checksumtype=',\n",
       "       '｟*｠ failed:',\n",
       "       'Condor HoldReason: CREAM error: CREAM_Job_Register Error: MethodName=｟*｠jobRegister] Timestamp=｟*｠ Dec 2019:] ErrorCode=｟*｠0] Description=｟*｠system error] FaultCause=｟*｠database error occurred] ; Worker canceled by harvester due to held too long or no',\n",
       "       'Failed in data staging: Failed checking source replica root:｟*｠xrootd-at1-door.pic.es:1094｟*｠pnfs｟*｠pic.es｟*｠data｟*｠atlas｟*｠tape｟*｠',\n",
       "       'Condor HoldReason:｟*｠: System error in:｟*｠ by｟*｠: A system call failed:｟*｠ by｟*｠ ; Worker canceled by harvester due to held too long or not found',\n",
       "       'Condor HoldReason: CREAM error: Error: MethodName=｟*｠] ErrorCode=｟*｠0] Description=｟*｠ failure: No PEP Server [https:/:8154/authz] was able to process the request] FaultCause=｟*｠ error]',\n",
       "       \"Condor HoldReason: The system macro SYSTEM_PERIODIC_HOLD expression '(｟*｠ >= 1 && JobStatus == 1｟*｠'｟*｠ to｟*｠\",\n",
       "       '｟*｠ submission to｟*｠ failed',\n",
       "       'condor job submissionHost=LOCAL batchID=｟*｠ not found. Skipped',\n",
       "       \"LRMS error: (-1) RemoveReason: The system macro SYSTEM_PERIODIC_REMOVE expression '( > 168｟*｠ || ( + RemoteUserCpu > 336｟*｠ || ( == 5 && ( - EnteredCurrentStatus > 30｟*｠ ||\",\n",
       "       'Condor HoldReason: Error｟*｠ or job not found ; Worker canceled by harvester due to held too long or not found',\n",
       "       'Condor HoldReason: CREAM error: Transfer failed: globus_ftp_client: the server responded with an error｟*｠ with｟*｠. ; Worker canceled by harvester due to held too long or not found',\n",
       "       'Failed in data staging: Could not resolve any source replicas for rucio:｟*｠rucio-lb-prod.cern.ch｟*｠replicas｟*｠.｟*｠',\n",
       "       'Condor HoldReason:｟*｠: Unable to｟*｠ to｟*｠:2811｟*｠: System error in｟*｠: Connection｟*｠: A system call failed: Connection｟*｠ ; Worker canceled by harvester due to held too long or',\n",
       "       'Failed in data staging:｟*｠ not resolve any source replicas｟*｠ rucio:｟*｠rucio-lb-prod.cern.ch｟*｠replicas｟*｠mc16_13TeV｟*｠.｟*｠: Resolving of index service｟*｠ source failed: No such file or directory in data staging:｟*｠',\n",
       "       \"Failed to create a JOB; (｟*｠.｟*｠,｟*｠(｟*｠, '｟*｠ reset by peer｟*｠)\",\n",
       "       'Condor HoldReason: CREAM_Delegate Error: Connection to service [http(s):/clrccece01.in2p3.fr/ce-cream/services/gridsite-delegation] failed: FaultString=｟*｠ Error]｟*｠ FaultCode=｟*｠SOAP-ENV:｟*｠]｟*｠ FaultSubCode=｟*｠SOAP-ENV:｟*｠]｟*｠ FaultDetail=｟*｠/1.1 400',\n",
       "       'Condor HoldReason: Error｟*｠ to schedd htc01.ppgrid1.rhul.ac.uk:｟*｠:｟*｠:Failed to｟*｠|｟*｠:｟*｠:Failed to｟*｠ ; Worker canceled by harvester due to held too long or not found',\n",
       "       'Condor HoldReason: Job removed from｟*｠ queue｟*｠',\n",
       "       'Condor HoldReason: Error｟*｠ files to schedd｟*｠: DCSchedd:｟*｠:｟*｠:File transfer failed for target job｟*｠: Failed to｟*｠ from｟*｠. ; Worker canceled by harvester due to held too long',\n",
       "       '｟*｠ error', 'LRMS error: (｟*｠) Job｟*｠',\n",
       "       'Condor HoldReason: CREAM error:｟*｠ to｟*｠ the｟*｠ of the｟*｠; Job has been terminated (got) ; Worker canceled by harvester due to held too long or not found',\n",
       "       'Failed in data staging: Failed checking source replica davs:｟*｠gridftp-b1-1.mi.infn.it:8443｟*｠webdav｟*｠atlas｟*｠atlaslocalgroupdisk｟*｠rucio｟*｠mc16_13TeV｟*｠AOD.12976014.: Failed to obtain information about file: SSL error, \"sslv3 alert handshake',\n",
       "       'Condor HoldReason: CREAM error: Cannot move /home/｟*｠/｟*｠/./runpilot2-wrapper.sh to /home/｟*｠/｟*｠; mv: cannot stat /home/｟*｠/｟*｠/./ru',\n",
       "       'Condor HoldReason: Unspecified gridmanager error ;｟*｠ RemoveReason:｟*｠. (｟*｠ user｟*｠)',\n",
       "       ':｟*｠',\n",
       "       'Failed in data staging: Could not resolve any source replicas for rucio:｟*｠rucio-lb-prod.cern.ch｟*｠replicas｟*｠mc16_13TeV｟*｠AOD.19562484.; Failed in data staging: Could not resolve any source replicas for rucio:｟*｠rucio-lb-prod.cern.ch｟*｠replicas｟*｠m',\n",
       "       \"Failed in data staging: Failed writing to destination: file:｟*｠data｟*｠ : Can't write to destination: File exists: Failed to create file /｟*｠data｟*｠\",\n",
       "       'Failed in data staging: Failed to prepare srm:｟*｠srm.ndgf.org:8443｟*｠srm｟*｠managerv2?SFN=｟*｠atlas｟*｠disk｟*｠atlasdatadisk｟*｠rucio｟*｠e9｟*｠.: Failed to prepare:',\n",
       "       \"Condor HoldReason: CREAM error: BLAH error: submission command failed (exit code = 1) (stdout:) (stderr:mkdir: cannot create directory｟*｠var｟*｠': File exists-cp: accessing｟*｠var｟*｠submit.req': Permission\",\n",
       "       'Failed in data staging: Failed checking source replica https:｟*｠atlas.bluegrass.nsc.liu.se:443｟*｠arex｟*｠cache｟*｠rucio:｟*｠rucio-lb-prod.cern.ch｟*｠replicas｟*｠mc16_13TeV｟*｠DAOD_SUSY1.18927539._000606.pool.root.1: Failed to obtain information about file: No such file or dir',\n",
       "       'Condor HoldReason:｟*｠: Unable to｟*｠:2811｟*｠:｟*｠:｟*｠ ; Worker canceled by harvester due to held too long or not found',\n",
       "       'Condor HoldReason: an｟*｠ was｟*｠ globus_xio:｟*｠ of file｟*｠ ; Worker canceled by harvester due to held too long or not found',\n",
       "       'Condor HoldReason: CREAM error: CREAM_Job_Register Error: MethodName=[JobRegister] ErrorCode=[0] Description=[CN=Robot: ATLAS Pilot1,CN=614260,CN=atlpilo1,OU=Users,OU=Organic Units,DC=cern,DC=ch not authorized for {http:｟*｠glite.org｟*｠2007｟*｠11｟*｠ce｟*｠cream｟*｠types}J',\n",
       "       'Condor HoldReason: CREAM error: Job｟*｠ (｟*｠); reason=255; Job｟*｠ (｟*｠)',\n",
       "       'Condor HoldReason: CREAM error: Transfer failed: globus_ftp_client: the server responded with an error 500 500-Command failed. :｟*｠:｟*｠:｟*｠:｟*｠ failed.｟*｠',\n",
       "       'Failed｟*｠ failure; Serious troubles (problems｟*｠ problems)',\n",
       "       'Condor HoldReason: CREAM error: BLAH error: submission command failed (exit code = 1) (stdout:) (stderr:/｟*｠/｟*｠/｟*｠: line｟*｠: [: -｟*｠:｟*｠:｟*｠ from｟*｠ Permission.-qsub:｟*｠ connect to',\n",
       "       'Failed in data staging: Transfer｟*｠',\n",
       "       'LRMS error: (｟*｠) Job was cancelled',\n",
       "       \"Failed in data staging: Failed reading from source: gsiftp:｟*｠:2811｟*｠:｟*｠mnt｟*｠storage1｟*｠atlas｟*｠2019-08-31｟*｠DAOD_HIGG2D1.18987152._000015.pool.root.1.47636729.0 : Can't read from source: globus_ftp_client: the server re\",\n",
       "       'Failed in data staging: Failed to prepare destination srm:｟*｠dpm.lhep.unibe.ch:8446｟*｠srm｟*｠managerv2?SFN=｟*｠dpm｟*｠lhep.unibe.ch｟*｠home｟*｠atlas｟*｠atlasscratchdisk｟*｠rucio｟*｠panda｟*｠ca｟*｠16｟*｠panda.um.user.pgadow.data15_13TeV.periodG.data.SWWnomTARfix04.EXOT27.grp15_v01_p3841.log.2',\n",
       "       'Condor HoldReason:｟*｠: System error in recv: Connection｟*｠ by｟*｠: A system call failed: Connection｟*｠ by｟*｠ ; Condor RemoveReason: Python-initiated action. (by user atlpan)'],\n",
       "      dtype=object)"
      ]
     },
     "execution_count": 19,
     "metadata": {},
     "output_type": "execute_result"
    }
   ],
   "source": [
    "cluster.result['pattern'].values"
   ]
  },
  {
   "cell_type": "markdown",
   "metadata": {},
   "source": [
    "### Split clusters to big (cluster_size >= 1000) and small (cluster_size < 1000)"
   ]
  },
  {
   "cell_type": "code",
   "execution_count": 21,
   "metadata": {},
   "outputs": [],
   "source": [
    "big, small = cluster.split_clusters(cluster.result, 'cluster_size', 1000)"
   ]
  },
  {
   "cell_type": "code",
   "execution_count": 22,
   "metadata": {},
   "outputs": [
    {
     "data": {
      "text/html": [
       "<div>\n",
       "<style scoped>\n",
       "    .dataframe tbody tr th:only-of-type {\n",
       "        vertical-align: middle;\n",
       "    }\n",
       "\n",
       "    .dataframe tbody tr th {\n",
       "        vertical-align: top;\n",
       "    }\n",
       "\n",
       "    .dataframe thead th {\n",
       "        text-align: right;\n",
       "    }\n",
       "</style>\n",
       "<table border=\"1\" class=\"dataframe\">\n",
       "  <thead>\n",
       "    <tr style=\"text-align: right;\">\n",
       "      <th></th>\n",
       "      <th>pattern</th>\n",
       "      <th>indices</th>\n",
       "      <th>cluster_size</th>\n",
       "    </tr>\n",
       "  </thead>\n",
       "  <tbody>\n",
       "    <tr>\n",
       "      <td>79</td>\n",
       "      <td>Payload execution error: returned non-zero</td>\n",
       "      <td>[0, 1, 2, 3, 4, 5, 8, 9, 10, 12, 13, 14, 15, 1...</td>\n",
       "      <td>21436</td>\n",
       "    </tr>\n",
       "    <tr>\n",
       "      <td>67</td>\n",
       "      <td>JOB id=｟*｠ not found</td>\n",
       "      <td>[44, 45, 46, 47, 56, 57, 58, 83, 84, 94, 95, 9...</td>\n",
       "      <td>10838</td>\n",
       "    </tr>\n",
       "    <tr>\n",
       "      <td>3</td>\n",
       "      <td>Condor HoldReason: CREAM error: BLAH error: su...</td>\n",
       "      <td>[31, 33, 59, 60, 61, 88, 90, 198, 209, 232, 23...</td>\n",
       "      <td>9202</td>\n",
       "    </tr>\n",
       "    <tr>\n",
       "      <td>81</td>\n",
       "      <td>submission failed: Exception OSError: [Errno 2...</td>\n",
       "      <td>[55, 62, 63, 64, 65, 66, 67, 108, 109, 116, 11...</td>\n",
       "      <td>7771</td>\n",
       "    </tr>\n",
       "    <tr>\n",
       "      <td>69</td>\n",
       "      <td>LRMS error: ()｟*｠</td>\n",
       "      <td>[133, 381, 1030, 1065, 1100, 1101, 1105, 1110,...</td>\n",
       "      <td>4289</td>\n",
       "    </tr>\n",
       "    <tr>\n",
       "      <td>17</td>\n",
       "      <td>Condor HoldReason:｟*｠ ; Worker canceled by har...</td>\n",
       "      <td>[966, 2367, 2899, 3339, 3615, 3663, 3667, 3669...</td>\n",
       "      <td>3245</td>\n",
       "    </tr>\n",
       "    <tr>\n",
       "      <td>74</td>\n",
       "      <td>LRMS error: ()｟*｠</td>\n",
       "      <td>[241, 841, 870, 871, 872, 873, 1016, 1047, 104...</td>\n",
       "      <td>2985</td>\n",
       "    </tr>\n",
       "    <tr>\n",
       "      <td>36</td>\n",
       "      <td>Condor HoldReason: HTCondor-CE｟*｠ due to no ma...</td>\n",
       "      <td>[35, 36, 37, 38, 39, 40, 41, 52, 53, 54, 110, ...</td>\n",
       "      <td>2964</td>\n",
       "    </tr>\n",
       "    <tr>\n",
       "      <td>19</td>\n",
       "      <td>Condor HoldReason: CREAM error: Transfer faile...</td>\n",
       "      <td>[70663, 65803, 67254, 71232, 71293, 71911, 723...</td>\n",
       "      <td>2192</td>\n",
       "    </tr>\n",
       "    <tr>\n",
       "      <td>84</td>\n",
       "      <td>｟*｠ not submitted due to incomplete data of th...</td>\n",
       "      <td>[6, 7, 120, 121, 122, 143, 329, 330, 382, 383,...</td>\n",
       "      <td>1981</td>\n",
       "    </tr>\n",
       "    <tr>\n",
       "      <td>60</td>\n",
       "      <td>Failed in data staging: Failed to prepare sour...</td>\n",
       "      <td>[6893, 7023, 56316, 34498, 27969, 56224, 9007,...</td>\n",
       "      <td>1621</td>\n",
       "    </tr>\n",
       "    <tr>\n",
       "      <td>40</td>\n",
       "      <td>Condor HoldReason: The system macro SYSTEM_PER...</td>\n",
       "      <td>[48, 49, 50, 148, 182, 338, 719, 814, 1019, 11...</td>\n",
       "      <td>1124</td>\n",
       "    </tr>\n",
       "  </tbody>\n",
       "</table>\n",
       "</div>"
      ],
      "text/plain": [
       "                                              pattern  \\\n",
       "79         Payload execution error: returned non-zero   \n",
       "67                               JOB id=｟*｠ not found   \n",
       "3   Condor HoldReason: CREAM error: BLAH error: su...   \n",
       "81  submission failed: Exception OSError: [Errno 2...   \n",
       "69                                  LRMS error: ()｟*｠   \n",
       "17  Condor HoldReason:｟*｠ ; Worker canceled by har...   \n",
       "74                                  LRMS error: ()｟*｠   \n",
       "36  Condor HoldReason: HTCondor-CE｟*｠ due to no ma...   \n",
       "19  Condor HoldReason: CREAM error: Transfer faile...   \n",
       "84  ｟*｠ not submitted due to incomplete data of th...   \n",
       "60  Failed in data staging: Failed to prepare sour...   \n",
       "40  Condor HoldReason: The system macro SYSTEM_PER...   \n",
       "\n",
       "                                              indices  cluster_size  \n",
       "79  [0, 1, 2, 3, 4, 5, 8, 9, 10, 12, 13, 14, 15, 1...         21436  \n",
       "67  [44, 45, 46, 47, 56, 57, 58, 83, 84, 94, 95, 9...         10838  \n",
       "3   [31, 33, 59, 60, 61, 88, 90, 198, 209, 232, 23...          9202  \n",
       "81  [55, 62, 63, 64, 65, 66, 67, 108, 109, 116, 11...          7771  \n",
       "69  [133, 381, 1030, 1065, 1100, 1101, 1105, 1110,...          4289  \n",
       "17  [966, 2367, 2899, 3339, 3615, 3663, 3667, 3669...          3245  \n",
       "74  [241, 841, 870, 871, 872, 873, 1016, 1047, 104...          2985  \n",
       "36  [35, 36, 37, 38, 39, 40, 41, 52, 53, 54, 110, ...          2964  \n",
       "19  [70663, 65803, 67254, 71232, 71293, 71911, 723...          2192  \n",
       "84  [6, 7, 120, 121, 122, 143, 329, 330, 382, 383,...          1981  \n",
       "60  [6893, 7023, 56316, 34498, 27969, 56224, 9007,...          1621  \n",
       "40  [48, 49, 50, 148, 182, 338, 719, 814, 1019, 11...          1124  "
      ]
     },
     "execution_count": 22,
     "metadata": {},
     "output_type": "execute_result"
    }
   ],
   "source": [
    "big"
   ]
  },
  {
   "cell_type": "code",
   "execution_count": 23,
   "metadata": {},
   "outputs": [
    {
     "data": {
      "text/html": [
       "<div>\n",
       "<style scoped>\n",
       "    .dataframe tbody tr th:only-of-type {\n",
       "        vertical-align: middle;\n",
       "    }\n",
       "\n",
       "    .dataframe tbody tr th {\n",
       "        vertical-align: top;\n",
       "    }\n",
       "\n",
       "    .dataframe thead th {\n",
       "        text-align: right;\n",
       "    }\n",
       "</style>\n",
       "<table border=\"1\" class=\"dataframe\">\n",
       "  <thead>\n",
       "    <tr style=\"text-align: right;\">\n",
       "      <th></th>\n",
       "      <th>pattern</th>\n",
       "      <th>indices</th>\n",
       "      <th>cluster_size</th>\n",
       "    </tr>\n",
       "  </thead>\n",
       "  <tbody>\n",
       "    <tr>\n",
       "      <td>14</td>\n",
       "      <td>Condor HoldReason: CREAM error:｟*｠ ; Worker ca...</td>\n",
       "      <td>[32923, 1844, 2223, 2363, 2365, 2368, 2369, 23...</td>\n",
       "      <td>599</td>\n",
       "    </tr>\n",
       "    <tr>\n",
       "      <td>15</td>\n",
       "      <td>Condor HoldReason: CREAM error: Cannot move IS...</td>\n",
       "      <td>[466, 716, 1277, 2286, 2302, 2322, 2545, 2612,...</td>\n",
       "      <td>476</td>\n",
       "    </tr>\n",
       "    <tr>\n",
       "      <td>39</td>\n",
       "      <td>Condor HoldReason: The system macro SYSTEM_PER...</td>\n",
       "      <td>[51, 82, 206, 560, 561, 1331, 1508, 1715, 1755...</td>\n",
       "      <td>447</td>\n",
       "    </tr>\n",
       "    <tr>\n",
       "      <td>12</td>\n",
       "      <td>Condor HoldReason: Error: Received NULL fault;...</td>\n",
       "      <td>[1743, 2013, 2014, 2015, 5277, 5278, 9316, 121...</td>\n",
       "      <td>346</td>\n",
       "    </tr>\n",
       "    <tr>\n",
       "      <td>9</td>\n",
       "      <td>Condor HoldReason: CREAM error: CREAM_Job_Regi...</td>\n",
       "      <td>[6612, 10117, 27209, 30719, 5393, 8640, 27189,...</td>\n",
       "      <td>336</td>\n",
       "    </tr>\n",
       "    <tr>\n",
       "      <td>...</td>\n",
       "      <td>...</td>\n",
       "      <td>...</td>\n",
       "      <td>...</td>\n",
       "    </tr>\n",
       "    <tr>\n",
       "      <td>62</td>\n",
       "      <td>Failed in data staging: Transfer｟*｠</td>\n",
       "      <td>[37992]</td>\n",
       "      <td>1</td>\n",
       "    </tr>\n",
       "    <tr>\n",
       "      <td>78</td>\n",
       "      <td>LRMS error: (｟*｠) Job was cancelled</td>\n",
       "      <td>[6219]</td>\n",
       "      <td>1</td>\n",
       "    </tr>\n",
       "    <tr>\n",
       "      <td>55</td>\n",
       "      <td>Failed in data staging: Failed reading from so...</td>\n",
       "      <td>[53099]</td>\n",
       "      <td>1</td>\n",
       "    </tr>\n",
       "    <tr>\n",
       "      <td>56</td>\n",
       "      <td>Failed in data staging: Failed to prepare dest...</td>\n",
       "      <td>[41731]</td>\n",
       "      <td>1</td>\n",
       "    </tr>\n",
       "    <tr>\n",
       "      <td>44</td>\n",
       "      <td>Condor HoldReason:｟*｠: System error in recv: C...</td>\n",
       "      <td>[20223]</td>\n",
       "      <td>1</td>\n",
       "    </tr>\n",
       "  </tbody>\n",
       "</table>\n",
       "<p>76 rows × 3 columns</p>\n",
       "</div>"
      ],
      "text/plain": [
       "                                              pattern  \\\n",
       "14  Condor HoldReason: CREAM error:｟*｠ ; Worker ca...   \n",
       "15  Condor HoldReason: CREAM error: Cannot move IS...   \n",
       "39  Condor HoldReason: The system macro SYSTEM_PER...   \n",
       "12  Condor HoldReason: Error: Received NULL fault;...   \n",
       "9   Condor HoldReason: CREAM error: CREAM_Job_Regi...   \n",
       "..                                                ...   \n",
       "62                Failed in data staging: Transfer｟*｠   \n",
       "78                LRMS error: (｟*｠) Job was cancelled   \n",
       "55  Failed in data staging: Failed reading from so...   \n",
       "56  Failed in data staging: Failed to prepare dest...   \n",
       "44  Condor HoldReason:｟*｠: System error in recv: C...   \n",
       "\n",
       "                                              indices  cluster_size  \n",
       "14  [32923, 1844, 2223, 2363, 2365, 2368, 2369, 23...           599  \n",
       "15  [466, 716, 1277, 2286, 2302, 2322, 2545, 2612,...           476  \n",
       "39  [51, 82, 206, 560, 561, 1331, 1508, 1715, 1755...           447  \n",
       "12  [1743, 2013, 2014, 2015, 5277, 5278, 9316, 121...           346  \n",
       "9   [6612, 10117, 27209, 30719, 5393, 8640, 27189,...           336  \n",
       "..                                                ...           ...  \n",
       "62                                            [37992]             1  \n",
       "78                                             [6219]             1  \n",
       "55                                            [53099]             1  \n",
       "56                                            [41731]             1  \n",
       "44                                            [20223]             1  \n",
       "\n",
       "[76 rows x 3 columns]"
      ]
     },
     "execution_count": 23,
     "metadata": {},
     "output_type": "execute_result"
    }
   ],
   "source": [
    "small"
   ]
  },
  {
   "cell_type": "markdown",
   "metadata": {},
   "source": [
    "### Print all messages from cluster #40"
   ]
  },
  {
   "cell_type": "code",
   "execution_count": 16,
   "metadata": {},
   "outputs": [
    {
     "data": {
      "text/plain": [
       "array([\"Condor HoldReason: The system macro SYSTEM_PERIODIC_HOLD expression '(x509userproxysubject =?= undefined) || (x509UserProxyExpiration =?= undefined) || ((time() > x509UserProxyExpiration) && JobStatus =!= 3 && JobStatus =!= 4) || (RoutedBy =?= null && JobU\",\n",
       "       \"Condor HoldReason: The system macro SYSTEM_PERIODIC_HOLD expression '(x509userproxysubject =?= undefined) || (x509UserProxyExpiration =?= undefined) || ((time() > x509UserProxyExpiration) && JobStatus =!= 3 && JobStatus =!= 4) || (RoutedBy =?= null && JobU\",\n",
       "       \"Condor HoldReason: The system macro SYSTEM_PERIODIC_HOLD expression '(x509userproxysubject =?= undefined) || (x509UserProxyExpiration =?= undefined) || ((time() > x509UserProxyExpiration) && JobStatus =!= 3 && JobStatus =!= 4) || (RoutedBy =?= null && JobU\",\n",
       "       ...,\n",
       "       \"Condor HoldReason: The system macro SYSTEM_PERIODIC_HOLD expression '(x509userproxysubject =?= undefined) || (x509UserProxyExpiration =?= undefined) || ((time() > x509UserProxyExpiration) && JobStatus =!= 3 && JobStatus =!= 4) || (RoutedBy =?= null && JobU\",\n",
       "       \"Condor HoldReason: The system macro SYSTEM_PERIODIC_HOLD expression '(x509userproxysubject =?= undefined) || (x509UserProxyExpiration =?= undefined) || ((time() > x509UserProxyExpiration) && JobStatus =!= 3 && JobStatus =!= 4) || (RoutedBy =?= null && JobU\",\n",
       "       \"Condor HoldReason: The system macro SYSTEM_PERIODIC_HOLD expression '(x509userproxysubject =?= undefined) || (x509UserProxyExpiration =?= undefined) || ((time() > x509UserProxyExpiration) && JobStatus =!= 3 && JobStatus =!= 4) || (RoutedBy =?= null && JobU\"],\n",
       "      dtype=object)"
      ]
     },
     "execution_count": 16,
     "metadata": {},
     "output_type": "execute_result"
    }
   ],
   "source": [
    "cluster.in_cluster(clusters, 40)"
   ]
  },
  {
   "cell_type": "markdown",
   "metadata": {},
   "source": [
    "### Display the performance of all stages"
   ]
  },
  {
   "cell_type": "code",
   "execution_count": 17,
   "metadata": {},
   "outputs": [
    {
     "data": {
      "text/plain": [
       "{'tokenization': 11.5561, 'group_equals': 1.1382, 'process': 13.6269}"
      ]
     },
     "execution_count": 17,
     "metadata": {},
     "output_type": "execute_result"
    }
   ],
   "source": [
    "cluster.timings"
   ]
  },
  {
   "cell_type": "code",
   "execution_count": null,
   "metadata": {},
   "outputs": [],
   "source": []
  }
 ],
 "metadata": {
  "kernelspec": {
   "display_name": "Python 3",
   "language": "python",
   "name": "python3"
  },
  "language_info": {
   "codemirror_mode": {
    "name": "ipython",
    "version": 3
   },
   "file_extension": ".py",
   "mimetype": "text/x-python",
   "name": "python",
   "nbconvert_exporter": "python",
   "pygments_lexer": "ipython3",
   "version": "3.7.0"
  }
 },
 "nbformat": 4,
 "nbformat_minor": 1
}
