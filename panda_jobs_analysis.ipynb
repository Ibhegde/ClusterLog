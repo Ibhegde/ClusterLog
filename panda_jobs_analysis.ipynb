{
 "cells": [
  {
   "cell_type": "code",
   "execution_count": 1,
   "metadata": {},
   "outputs": [],
   "source": [
    "import pandas as pd"
   ]
  },
  {
   "cell_type": "code",
   "execution_count": 3,
   "metadata": {},
   "outputs": [],
   "source": [
    "df = pd.read_csv('samples/all-jobstatus-failed.csv', index_col=None)"
   ]
  },
  {
   "cell_type": "code",
   "execution_count": 6,
   "metadata": {},
   "outputs": [],
   "source": [
    "df.set_index('pandaid', inplace=True)"
   ]
  },
  {
   "cell_type": "code",
   "execution_count": 19,
   "metadata": {},
   "outputs": [
    {
     "data": {
      "text/plain": [
       "(300330, 8)"
      ]
     },
     "execution_count": 19,
     "metadata": {},
     "output_type": "execute_result"
    }
   ],
   "source": [
    "df.shape"
   ]
  },
  {
   "cell_type": "code",
   "execution_count": 7,
   "metadata": {},
   "outputs": [
    {
     "data": {
      "text/html": [
       "<div>\n",
       "<style scoped>\n",
       "    .dataframe tbody tr th:only-of-type {\n",
       "        vertical-align: middle;\n",
       "    }\n",
       "\n",
       "    .dataframe tbody tr th {\n",
       "        vertical-align: top;\n",
       "    }\n",
       "\n",
       "    .dataframe thead th {\n",
       "        text-align: right;\n",
       "    }\n",
       "</style>\n",
       "<table border=\"1\" class=\"dataframe\">\n",
       "  <thead>\n",
       "    <tr style=\"text-align: right;\">\n",
       "      <th></th>\n",
       "      <th>creationtime</th>\n",
       "      <th>jobstatus</th>\n",
       "      <th>exeerrordiag</th>\n",
       "      <th>piloterrordiag</th>\n",
       "      <th>taskbuffererrordiag</th>\n",
       "      <th>superrordiag</th>\n",
       "      <th>ddmerrordiag</th>\n",
       "      <th>brokerageerrordiag</th>\n",
       "    </tr>\n",
       "    <tr>\n",
       "      <th>pandaid</th>\n",
       "      <th></th>\n",
       "      <th></th>\n",
       "      <th></th>\n",
       "      <th></th>\n",
       "      <th></th>\n",
       "      <th></th>\n",
       "      <th></th>\n",
       "      <th></th>\n",
       "    </tr>\n",
       "  </thead>\n",
       "  <tbody>\n",
       "    <tr>\n",
       "      <td>4615362378</td>\n",
       "      <td>Jan 21, 2020 @ 23:48:55.000</td>\n",
       "      <td>failed</td>\n",
       "      <td>NaN</td>\n",
       "      <td>Local output file is missing: Error: output pf...</td>\n",
       "      <td>NaN</td>\n",
       "      <td>NaN</td>\n",
       "      <td>NaN</td>\n",
       "      <td>NaN</td>\n",
       "    </tr>\n",
       "    <tr>\n",
       "      <td>4615362045</td>\n",
       "      <td>Jan 21, 2020 @ 23:48:29.000</td>\n",
       "      <td>failed</td>\n",
       "      <td>NaN</td>\n",
       "      <td>Failed to stage-in file: u\" data18_13TeV:data1...</td>\n",
       "      <td>NaN</td>\n",
       "      <td>NaN</td>\n",
       "      <td>NaN</td>\n",
       "      <td>NaN</td>\n",
       "    </tr>\n",
       "    <tr>\n",
       "      <td>4615361850</td>\n",
       "      <td>Jan 21, 2020 @ 23:48:09.000</td>\n",
       "      <td>failed</td>\n",
       "      <td>NaN</td>\n",
       "      <td>NaN</td>\n",
       "      <td>NaN</td>\n",
       "      <td>NaN</td>\n",
       "      <td>NaN</td>\n",
       "      <td>NaN</td>\n",
       "    </tr>\n",
       "    <tr>\n",
       "      <td>4615361188</td>\n",
       "      <td>Jan 21, 2020 @ 23:47:31.000</td>\n",
       "      <td>failed</td>\n",
       "      <td>NaN</td>\n",
       "      <td>NaN</td>\n",
       "      <td>NaN</td>\n",
       "      <td>NaN</td>\n",
       "      <td>NaN</td>\n",
       "      <td>NaN</td>\n",
       "    </tr>\n",
       "    <tr>\n",
       "      <td>4615361191</td>\n",
       "      <td>Jan 21, 2020 @ 23:47:31.000</td>\n",
       "      <td>failed</td>\n",
       "      <td>NaN</td>\n",
       "      <td>NaN</td>\n",
       "      <td>NaN</td>\n",
       "      <td>NaN</td>\n",
       "      <td>NaN</td>\n",
       "      <td>NaN</td>\n",
       "    </tr>\n",
       "  </tbody>\n",
       "</table>\n",
       "</div>"
      ],
      "text/plain": [
       "                           creationtime jobstatus exeerrordiag  \\\n",
       "pandaid                                                          \n",
       "4615362378  Jan 21, 2020 @ 23:48:55.000    failed          NaN   \n",
       "4615362045  Jan 21, 2020 @ 23:48:29.000    failed          NaN   \n",
       "4615361850  Jan 21, 2020 @ 23:48:09.000    failed          NaN   \n",
       "4615361188  Jan 21, 2020 @ 23:47:31.000    failed          NaN   \n",
       "4615361191  Jan 21, 2020 @ 23:47:31.000    failed          NaN   \n",
       "\n",
       "                                               piloterrordiag  \\\n",
       "pandaid                                                         \n",
       "4615362378  Local output file is missing: Error: output pf...   \n",
       "4615362045  Failed to stage-in file: u\" data18_13TeV:data1...   \n",
       "4615361850                                                NaN   \n",
       "4615361188                                                NaN   \n",
       "4615361191                                                NaN   \n",
       "\n",
       "           taskbuffererrordiag superrordiag ddmerrordiag  brokerageerrordiag  \n",
       "pandaid                                                                       \n",
       "4615362378                 NaN          NaN          NaN                 NaN  \n",
       "4615362045                 NaN          NaN          NaN                 NaN  \n",
       "4615361850                 NaN          NaN          NaN                 NaN  \n",
       "4615361188                 NaN          NaN          NaN                 NaN  \n",
       "4615361191                 NaN          NaN          NaN                 NaN  "
      ]
     },
     "execution_count": 7,
     "metadata": {},
     "output_type": "execute_result"
    }
   ],
   "source": [
    "df.head()"
   ]
  },
  {
   "cell_type": "code",
   "execution_count": 25,
   "metadata": {},
   "outputs": [
    {
     "name": "stderr",
     "output_type": "stream",
     "text": [
      "/Users/maria/anaconda3/lib/python3.7/site-packages/ipykernel_launcher.py:1: FutureWarning: The signature of `Series.to_csv` was aligned to that of `DataFrame.to_csv`, and argument 'header' will change its default value from False to True: please pass an explicit value to suppress this warning.\n",
      "  \"\"\"Entry point for launching an IPython kernel.\n"
     ]
    }
   ],
   "source": [
    "df['taskbuffererrordiag'].dropna().to_csv('taskbuffererrordiag.csv')"
   ]
  },
  {
   "cell_type": "code",
   "execution_count": 9,
   "metadata": {},
   "outputs": [],
   "source": [
    "lists = []"
   ]
  },
  {
   "cell_type": "code",
   "execution_count": 10,
   "metadata": {},
   "outputs": [],
   "source": [
    "lists.append(df['exeerrordiag'].dropna().values)"
   ]
  },
  {
   "cell_type": "code",
   "execution_count": 12,
   "metadata": {},
   "outputs": [],
   "source": [
    "lists.append(df['piloterrordiag'].dropna().values)"
   ]
  },
  {
   "cell_type": "code",
   "execution_count": 13,
   "metadata": {},
   "outputs": [],
   "source": [
    "lists.append(df['taskbuffererrordiag'].dropna().values)"
   ]
  },
  {
   "cell_type": "code",
   "execution_count": 14,
   "metadata": {},
   "outputs": [],
   "source": [
    "lists.append(df['superrordiag'].dropna().values)"
   ]
  },
  {
   "cell_type": "code",
   "execution_count": 15,
   "metadata": {},
   "outputs": [],
   "source": [
    "lists.append(df['ddmerrordiag'].dropna().values)"
   ]
  },
  {
   "cell_type": "code",
   "execution_count": 16,
   "metadata": {},
   "outputs": [],
   "source": [
    "lists.append(df['brokerageerrordiag'].dropna().values)"
   ]
  },
  {
   "cell_type": "code",
   "execution_count": 17,
   "metadata": {},
   "outputs": [],
   "source": [
    "messages = [item for sublist in lists for item in sublist]"
   ]
  },
  {
   "cell_type": "code",
   "execution_count": 18,
   "metadata": {},
   "outputs": [
    {
     "data": {
      "text/plain": [
       "306361"
      ]
     },
     "execution_count": 18,
     "metadata": {},
     "output_type": "execute_result"
    }
   ],
   "source": [
    "len(messages)"
   ]
  },
  {
   "cell_type": "code",
   "execution_count": 20,
   "metadata": {},
   "outputs": [],
   "source": [
    "f = open('panda_errors.log', 'w')\n",
    "for i in messages:\n",
    "    f.write(i + '\\n')\n",
    "f.close()"
   ]
  },
  {
   "cell_type": "code",
   "execution_count": null,
   "metadata": {},
   "outputs": [],
   "source": [
    ""
   ]
  }
 ],
 "metadata": {
  "kernelspec": {
   "display_name": "Python 3",
   "language": "python",
   "name": "python3"
  },
  "language_info": {
   "codemirror_mode": {
    "name": "ipython",
    "version": 3.0
   },
   "file_extension": ".py",
   "mimetype": "text/x-python",
   "name": "python",
   "nbconvert_exporter": "python",
   "pygments_lexer": "ipython3",
   "version": "3.7.0"
  }
 },
 "nbformat": 4,
 "nbformat_minor": 0
}