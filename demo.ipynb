{
 "cells": [
  {
   "cell_type": "code",
   "execution_count": 2,
   "metadata": {},
   "outputs": [],
   "source": [
    "import pandas as pd\n",
    "from clusterlogs.pipeline import Chain\n",
    "\n",
    "LOGS_DIR = r\"C:\\Users\\bhegde\\codes\\SemanticSigma\\data\\tfidf_thresh_orlim20_train_keywords_extract\"\n",
    "# TEST_LOGS_DIR = \"C:/Users/bhegde/codes/SemanticSigma/data/Sigma_project/test\""
   ]
  },
  {
   "cell_type": "code",
   "execution_count": 7,
   "metadata": {},
   "outputs": [],
   "source": [
    "from semantic_sigma.preprocess_logs import load_data, tokenise_doc\n",
    "\n",
    "full_docs_df = load_data(logs_dir=LOGS_DIR)\n",
    "\n",
    "full_docs_df['content'] = full_docs_df['content'].apply(lambda cont: \" \".join(tokenise_doc(cont.lower())).encode('utf-8').decode('ascii', 'ignore'))"
   ]
  },
  {
   "cell_type": "code",
   "execution_count": 8,
   "metadata": {},
   "outputs": [
    {
     "name": "stdout",
     "output_type": "stream",
     "text": [
      "(37680, 3)\n",
      "(22591, 3)\n"
     ]
    }
   ],
   "source": [
    "docs_df = full_docs_df\n",
    "docs_df['content'] = docs_df['content'].apply(lambda x:x.splitlines()[-100:])\n",
    "docs_df = docs_df.explode('content')\n",
    "docs_df['content'] = docs_df['content'].astype(str)\n",
    "print(docs_df.shape)\n",
    "# docs_df['content'] = docs_df['content'].apply(tokenise_doc).apply(\" \".join)\n",
    "# docs_df.drop(docs_df[docs_df['content'].map(len)<3].index, inplace=True)\n",
    "docs_df = docs_df[docs_df['content'].map(len)>=32]\n",
    "print(docs_df.shape)\n",
    "cl_logs = Chain(df=docs_df, \n",
    "                target=\"content\", \n",
    "                output_type=\"html\", \n",
    "                output_fname='reports/tfidf_thresh_orlim20', \n",
    "                categorization=True, \n",
    "                model_name='models/tfidf_thresh_orlim20.model')\n"
   ]
  },
  {
   "cell_type": "code",
   "execution_count": 1,
   "metadata": {},
   "outputs": [
    {
     "ename": "NameError",
     "evalue": "name 'cl_logs' is not defined",
     "output_type": "error",
     "traceback": [
      "\u001b[1;31m---------------------------------------------------------------------------\u001b[0m",
      "\u001b[1;31mNameError\u001b[0m                                 Traceback (most recent call last)",
      "Cell \u001b[1;32mIn[1], line 1\u001b[0m\n\u001b[1;32m----> 1\u001b[0m cl_logs\u001b[39m.\u001b[39mprocess()\n",
      "\u001b[1;31mNameError\u001b[0m: name 'cl_logs' is not defined"
     ]
    }
   ],
   "source": [
    "cl_logs.process()"
   ]
  },
  {
   "cell_type": "code",
   "execution_count": null,
   "metadata": {},
   "outputs": [],
   "source": [
    "# [full_docs_df.iloc[5].values.flatten().tolist()]\n",
    "\n",
    "tdf = pd.DataFrame([full_docs_df.iloc[5].values.flatten().tolist()], columns=full_docs_df.columns)\n",
    "# pd.concat(tdf, full_docs_df.iloc[5])\n",
    "# \" \".join(tokenise_doc(tdf['content'].lower())).encode('utf-8').decode('ascii', 'ignore')"
   ]
  },
  {
   "cell_type": "code",
   "execution_count": null,
   "metadata": {},
   "outputs": [],
   "source": [
    "tdf = pd.DataFrame([full_docs_df.iloc[5].values.flatten().tolist()], \n",
    "                   columns=full_docs_df.columns)\n",
    "\n",
    "\n",
    "tdf['content'] = tdf['content'].apply(\n",
    "        lambda cont: \" \".join(tokenise_doc(cont.lower()))\n",
    "        .encode('utf-8')\n",
    "        .decode('ascii', 'ignore')\n",
    "    )\n",
    "print(tdf.shape)\n",
    "tdf['content'] = tdf['content'].apply(lambda x:x.splitlines()[-500:])\n",
    "tdf = tdf.explode('content')\n",
    "docs_df = docs_df[docs_df['content'].map(len)>=32]\n",
    "print(tdf.shape)\n",
    "cl_logs_test = Chain(df=tdf, \n",
    "                target=\"content\", \n",
    "                output_type=\"html\", \n",
    "                output_fname='reports/CI1920-8545', \n",
    "                categorization=True, \n",
    "                model_name='models/CI1920-8545.model')\n",
    "cl_logs_test.process()"
   ]
  },
  {
   "cell_type": "code",
   "execution_count": null,
   "metadata": {},
   "outputs": [],
   "source": [
    "import pandas as pd\n",
    "\n",
    "df = pd.DataFrame({'var1': ['a,b,c', 'd,e,f'], 'var2': [1, 2]})\n",
    "\n",
    "df = df.assign(var1=df['var1'].str.split(',')).explode('var1')\n",
    "\n",
    "df.head()"
   ]
  }
 ],
 "metadata": {
  "kernelspec": {
   "display_name": "clusterlog_venv",
   "language": "python",
   "name": "python3"
  },
  "language_info": {
   "codemirror_mode": {
    "name": "ipython",
    "version": 3
   },
   "file_extension": ".py",
   "mimetype": "text/x-python",
   "name": "python",
   "nbconvert_exporter": "python",
   "pygments_lexer": "ipython3",
   "version": "3.10.9"
  },
  "vscode": {
   "interpreter": {
    "hash": "ea9484b24c6876e2ed6068f83b8b861c2fbdf461370d8d3a651539d060d1e90f"
   }
  }
 },
 "nbformat": 4,
 "nbformat_minor": 2
}
