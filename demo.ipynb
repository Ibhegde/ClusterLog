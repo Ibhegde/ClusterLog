{
 "cells": [
  {
   "cell_type": "code",
   "execution_count": 1,
   "metadata": {},
   "outputs": [],
   "source": [
    "import pandas as pd\n",
    "from clusterlogs.pipeline import Chain\n",
    "\n",
    "# LOGS_DIR = r\"C:\\Users\\bhegde\\codes\\SemanticSigma\\data\\train_error_only_extract\"\n",
    "LOGS_DIR = r\"C:\\Users\\bhegde\\codes\\SemanticSigma\\data\\line_hash_train_keywords_extract\"\n",
    "# TEST_LOGS_DIR = \"C:/Users/bhegde/codes/SemanticSigma/data/Sigma_project/test\""
   ]
  },
  {
   "cell_type": "code",
   "execution_count": 7,
   "metadata": {},
   "outputs": [],
   "source": [
    "from semantic_sigma.preprocess_logs import load_data, tokenise_doc\n",
    "\n",
    "full_docs_df = load_data(logs_dir=LOGS_DIR)\n",
    "full_docs_df = full_docs_df.fillna('\\n')\n",
    "# Sepereate newline token with to split lines later.\n",
    "# full_docs_df['content'] = full_docs_df['content'].apply(lambda cont:\" n__n \". join(cont.splitlines()))\n",
    "# full_docs_df['content'] = full_docs_df['content'].apply(lambda cont: \" \".join(tokenise_doc(cont.lower())).encode('utf-8').decode('ascii', 'ignore'))\n",
    "\n"
   ]
  },
  {
   "cell_type": "code",
   "execution_count": 4,
   "metadata": {},
   "outputs": [
    {
     "name": "stdout",
     "output_type": "stream",
     "text": [
      "(36657, 2)\n"
     ]
    },
    {
     "data": {
      "text/html": [
       "<div>\n",
       "<style scoped>\n",
       "    .dataframe tbody tr th:only-of-type {\n",
       "        vertical-align: middle;\n",
       "    }\n",
       "\n",
       "    .dataframe tbody tr th {\n",
       "        vertical-align: top;\n",
       "    }\n",
       "\n",
       "    .dataframe thead th {\n",
       "        text-align: right;\n",
       "    }\n",
       "</style>\n",
       "<table border=\"1\" class=\"dataframe\">\n",
       "  <thead>\n",
       "    <tr style=\"text-align: right;\">\n",
       "      <th></th>\n",
       "      <th>content</th>\n",
       "      <th>ci_number</th>\n",
       "    </tr>\n",
       "  </thead>\n",
       "  <tbody>\n",
       "    <tr>\n",
       "      <th>0</th>\n",
       "      <td>intel-ipu4-isys entity type entity ipu4 csi-2 ...</td>\n",
       "      <td>CI1920-8545</td>\n",
       "    </tr>\n",
       "    <tr>\n",
       "      <th>1</th>\n",
       "      <td>intel-ipu4-isys entity type entity ipu4 csi-2 ...</td>\n",
       "      <td>CI1920-8545</td>\n",
       "    </tr>\n",
       "    <tr>\n",
       "      <th>2</th>\n",
       "      <td>intel-ipu4-isys entity type entity ipu4 csi-2 ...</td>\n",
       "      <td>CI1920-8545</td>\n",
       "    </tr>\n",
       "    <tr>\n",
       "      <th>3</th>\n",
       "      <td>intel-ipu4-isys entity type entity ipu4 csi-2 ...</td>\n",
       "      <td>CI1920-8545</td>\n",
       "    </tr>\n",
       "    <tr>\n",
       "      <th>4</th>\n",
       "      <td>intel-ipu4-isys entity type entity ipu4 csi-2 ...</td>\n",
       "      <td>CI1920-8545</td>\n",
       "    </tr>\n",
       "    <tr>\n",
       "      <th>5</th>\n",
       "      <td>intel-ipu4-isys entity type entity ipu4 csi-2 ...</td>\n",
       "      <td>CI1920-8545</td>\n",
       "    </tr>\n",
       "    <tr>\n",
       "      <th>6</th>\n",
       "      <td>intel-ipu4-isys entity type entity ipu4 csi-2 ...</td>\n",
       "      <td>CI1920-8545</td>\n",
       "    </tr>\n",
       "    <tr>\n",
       "      <th>7</th>\n",
       "      <td>intel-ipu4-isys entity type entity ipu4 csi-2 ...</td>\n",
       "      <td>CI1920-8545</td>\n",
       "    </tr>\n",
       "    <tr>\n",
       "      <th>8</th>\n",
       "      <td>intel-ipu4-isys entity type entity ipu4 csi-2 ...</td>\n",
       "      <td>CI1920-8545</td>\n",
       "    </tr>\n",
       "    <tr>\n",
       "      <th>9</th>\n",
       "      <td>intel-ipu4-isys entity type entity ipu4 csi-2 ...</td>\n",
       "      <td>CI1920-8545</td>\n",
       "    </tr>\n",
       "  </tbody>\n",
       "</table>\n",
       "</div>"
      ],
      "text/plain": [
       "                                             content    ci_number\n",
       "0  intel-ipu4-isys entity type entity ipu4 csi-2 ...  CI1920-8545\n",
       "1  intel-ipu4-isys entity type entity ipu4 csi-2 ...  CI1920-8545\n",
       "2  intel-ipu4-isys entity type entity ipu4 csi-2 ...  CI1920-8545\n",
       "3  intel-ipu4-isys entity type entity ipu4 csi-2 ...  CI1920-8545\n",
       "4  intel-ipu4-isys entity type entity ipu4 csi-2 ...  CI1920-8545\n",
       "5  intel-ipu4-isys entity type entity ipu4 csi-2 ...  CI1920-8545\n",
       "6  intel-ipu4-isys entity type entity ipu4 csi-2 ...  CI1920-8545\n",
       "7  intel-ipu4-isys entity type entity ipu4 csi-2 ...  CI1920-8545\n",
       "8  intel-ipu4-isys entity type entity ipu4 csi-2 ...  CI1920-8545\n",
       "9  intel-ipu4-isys entity type entity ipu4 csi-2 ...  CI1920-8545"
      ]
     },
     "execution_count": 4,
     "metadata": {},
     "output_type": "execute_result"
    }
   ],
   "source": [
    "docs_df = pd.DataFrame()\n",
    "docs_df['content'] = full_docs_df['content'].apply(\n",
    "    lambda el:[x.strip() for x in el.split(\"n__n\") if 2<=len(x.split())<=64]\n",
    ")\n",
    "docs_df['ci_number'] = full_docs_df['ci_number']\n",
    "docs_df = docs_df.explode('content')\n",
    "docs_df = docs_df.fillna(\" \")\n",
    "docs_df['content'] = docs_df['content'].astype(str)\n",
    "docs_df = docs_df.loc[docs_df['content'].map(lambda x: len(x.strip())>0)] # This check is for removed empty lines\n",
    "\n",
    "docs_df.reset_index(drop=True, inplace=True)\n",
    "# docs_df.drop(docs_df[docs_df['content'].map(len)>256].index, inplace=True)\n",
    "# docs_df['content'] = docs_df[docs_df['content'].map(len) < 256]\n",
    "print(docs_df.shape)\n",
    "docs_df.reset_index(drop=True, inplace=True)\n",
    "# docs_df.to_csv(\"analysis/error_extract.csv\")\n",
    "docs_df.head(10)\n",
    "# docs_df.to_csv(\"analysis/line_hash_extracts.csv\")"
   ]
  },
  {
   "cell_type": "code",
   "execution_count": 9,
   "metadata": {},
   "outputs": [],
   "source": [
    "%%capture\n",
    "cl_logs = Chain(df=docs_df, \n",
    "                target=\"content\", \n",
    "                output_type=\"html\", \n",
    "                output_fname='reports/line_hash_extracts', \n",
    "                categorization=True, \n",
    "                model_name='models/line_hash_extracts.model')\n",
    "cl_logs.process()\n"
   ]
  },
  {
   "cell_type": "code",
   "execution_count": 1,
   "metadata": {},
   "outputs": [],
   "source": [
    "%%capture\n",
    "print('Hello')"
   ]
  },
  {
   "cell_type": "code",
   "execution_count": null,
   "metadata": {},
   "outputs": [],
   "source": [
    "# [full_docs_df.iloc[5].values.flatten().tolist()]\n",
    "\n",
    "tdf = pd.DataFrame([full_docs_df.iloc[5].values.flatten().tolist()], columns=full_docs_df.columns)\n",
    "# pd.concat(tdf, full_docs_df.iloc[5])\n",
    "# \" \".join(tokenise_doc(tdf['content'].lower())).encode('utf-8').decode('ascii', 'ignore')"
   ]
  },
  {
   "cell_type": "code",
   "execution_count": null,
   "metadata": {},
   "outputs": [],
   "source": [
    "tdf = pd.DataFrame([full_docs_df.iloc[5].values.flatten().tolist()], \n",
    "                   columns=full_docs_df.columns)\n",
    "\n",
    "\n",
    "tdf['content'] = tdf['content'].apply(\n",
    "        lambda cont: \" \".join(tokenise_doc(cont.lower()))\n",
    "        .encode('utf-8')\n",
    "        .decode('ascii', 'ignore')\n",
    "    )\n",
    "print(tdf.shape)\n",
    "tdf['content'] = tdf['content'].apply(lambda x:x.splitlines()[-500:])\n",
    "tdf = tdf.explode('content')\n",
    "docs_df = docs_df[docs_df['content'].map(len)>=32]\n",
    "print(tdf.shape)\n",
    "cl_logs_test = Chain(df=tdf, \n",
    "                target=\"content\", \n",
    "                output_type=\"html\", \n",
    "                output_fname='reports/CI1920-8545', \n",
    "                categorization=True, \n",
    "                model_name='models/CI1920-8545.model')\n",
    "cl_logs_test.process()"
   ]
  }
 ],
 "metadata": {
  "kernelspec": {
   "display_name": "clusterlog_venv",
   "language": "python",
   "name": "python3"
  },
  "language_info": {
   "codemirror_mode": {
    "name": "ipython",
    "version": 3
   },
   "file_extension": ".py",
   "mimetype": "text/x-python",
   "name": "python",
   "nbconvert_exporter": "python",
   "pygments_lexer": "ipython3",
   "version": "3.10.9"
  },
  "vscode": {
   "interpreter": {
    "hash": "ea9484b24c6876e2ed6068f83b8b861c2fbdf461370d8d3a651539d060d1e90f"
   }
  }
 },
 "nbformat": 4,
 "nbformat_minor": 2
}
