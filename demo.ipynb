{
 "cells": [
  {
   "cell_type": "code",
   "execution_count": 1,
   "metadata": {},
   "outputs": [],
   "source": [
    "import pandas as pd\n",
    "from clusterlogs.pipeline import Chain\n",
    "\n",
    "LOGS_DIR = \"C:/Users/bhegde/codes/SemanticSigma/data/Sigma_project/train\"\n",
    "TEST_LOGS_DIR = \"C:/Users/bhegde/codes/SemanticSigma/data/Sigma_project/test\""
   ]
  },
  {
   "cell_type": "code",
   "execution_count": 2,
   "metadata": {},
   "outputs": [
    {
     "name": "stderr",
     "output_type": "stream",
     "text": [
      "C:\\Users\\bhegde\\AppData\\Local\\Temp\\ipykernel_25748\\1119095146.py:5: SettingWithCopyWarning: \n",
      "A value is trying to be set on a copy of a slice from a DataFrame.\n",
      "Try using .loc[row_indexer,col_indexer] = value instead\n",
      "\n",
      "See the caveats in the documentation: https://pandas.pydata.org/pandas-docs/stable/user_guide/indexing.html#returning-a-view-versus-a-copy\n",
      "  docs_df['content'] = docs_df['content'].apply(lambda cont: \" \".join(tokenise_doc(cont.lower())).encode('utf-8').decode('ascii', 'ignore'))\n"
     ]
    }
   ],
   "source": [
    "from semantic_sigma.preprocess_logs import load_data, tokenise_doc\n",
    "\n",
    "full_docs_df = load_data(logs_dir=LOGS_DIR)\n",
    "docs_df = full_docs_df.head(300)\n",
    "docs_df['content'] = docs_df['content'].apply(lambda cont: \" \".join(tokenise_doc(cont.lower())).encode('utf-8').decode('ascii', 'ignore'))"
   ]
  },
  {
   "cell_type": "code",
   "execution_count": 3,
   "metadata": {},
   "outputs": [
    {
     "name": "stdout",
     "output_type": "stream",
     "text": [
      "(300, 3)\n",
      "(262, 3)\n"
     ]
    },
    {
     "name": "stderr",
     "output_type": "stream",
     "text": [
      "C:\\Users\\bhegde\\AppData\\Local\\Temp\\ipykernel_12232\\1342124498.py:3: SettingWithCopyWarning: \n",
      "A value is trying to be set on a copy of a slice from a DataFrame.\n",
      "Try using .loc[row_indexer,col_indexer] = value instead\n",
      "\n",
      "See the caveats in the documentation: https://pandas.pydata.org/pandas-docs/stable/user_guide/indexing.html#returning-a-view-versus-a-copy\n",
      "  docs_df['content'] = docs_df['content'].astype(str)\n"
     ]
    }
   ],
   "source": [
    "# docs_df['content'] = docs_df['content'].apply(lambda x:x.splitlines()[-200:])\n",
    "# docs_df = docs_df.explode('content')\n",
    "docs_df['content'] = docs_df['content'].astype(str)\n",
    "print(docs_df.shape)\n",
    "# docs_df['content'] = docs_df['content'].apply(tokenise_doc).apply(\" \".join)\n",
    "# docs_df.drop(docs_df[docs_df['content'].map(len)<3].index, inplace=True)\n",
    "docs_df = docs_df[docs_df['content'].map(len)>=100]\n",
    "print(docs_df.shape)\n",
    "cl_logs = Chain(df=docs_df, \n",
    "                target=\"content\", \n",
    "                output_type=\"html\", \n",
    "                output_fname='reports/intel_train_full', \n",
    "                categorization=True, \n",
    "                model_name='models/intel_train_full.model')\n"
   ]
  },
  {
   "cell_type": "code",
   "execution_count": 4,
   "metadata": {},
   "outputs": [
    {
     "name": "stdout",
     "output_type": "stream",
     "text": [
      "Found 257 equal groups of cleaned messages\n",
      "Vectorization of tokens finished\n",
      "Vectorization of messages is finished\n",
      "K-neighbours = 16\n",
      "DBSCAN finished with 20 clusters\n"
     ]
    }
   ],
   "source": [
    "cl_logs.process()"
   ]
  },
  {
   "cell_type": "code",
   "execution_count": 21,
   "metadata": {},
   "outputs": [],
   "source": [
    "# [full_docs_df.iloc[5].values.flatten().tolist()]\n",
    "\n",
    "tdf = pd.DataFrame([full_docs_df.iloc[5].values.flatten().tolist()], columns=full_docs_df.columns)\n",
    "# pd.concat(tdf, full_docs_df.iloc[5])\n",
    "# \" \".join(tokenise_doc(tdf['content'].lower())).encode('utf-8').decode('ascii', 'ignore')"
   ]
  },
  {
   "cell_type": "code",
   "execution_count": 5,
   "metadata": {},
   "outputs": [
    {
     "name": "stdout",
     "output_type": "stream",
     "text": [
      "(1, 3)\n",
      "(500, 3)\n",
      "Found 277 equal groups of cleaned messages\n",
      "Vectorization of tokens finished\n",
      "Vectorization of messages is finished\n",
      "K-neighbours = 17\n",
      "DBSCAN finished with 29 clusters\n"
     ]
    },
    {
     "name": "stderr",
     "output_type": "stream",
     "text": [
      "c:\\Users\\bhegde\\codes\\ClusterLog\\clusterlog_venv\\lib\\site-packages\\numpy\\lib\\function_base.py:518: RuntimeWarning: Mean of empty slice.\n",
      "  avg = a.mean(axis, **keepdims_kw)\n",
      "c:\\Users\\bhegde\\codes\\ClusterLog\\clusterlog_venv\\lib\\site-packages\\numpy\\core\\_methods.py:192: RuntimeWarning: invalid value encountered in scalar divide\n",
      "  ret = ret.dtype.type(ret / rcount)\n"
     ]
    },
    {
     "name": "stdout",
     "output_type": "stream",
     "text": [
      "Timings:\n",
      "{'tokenization': 0.024, 'cleaning': 0.025, 'regroup': 0.1382000000000001, 'group_equals': 0.0376999999999999, 'tokens_vectorization': 0.5063, 'sentence_vectorization': 0.025, 'ml_clustering': 0.0517, 'search_common_patterns': 0.15869999999999998, 'search_keyphrases': 0.029200000000000007}\n",
      "[0, 1, 22, 19, 4, 15, 2, 26, 25, 24, 5, 13, 11, 10]\n",
      "[0, 1, 22, 19, 4, 15, 2, 26, 25, 24, 5, 13, 11, 10, 0, 1, 22, 19, 4, 15, 2, 26, 25, 24, 5, 13, 11, 10]\n",
      "[0, 1, 22, 19, 4, 15, 2, 26, 25, 24, 5, 13, 11, 10, 0, 1, 22, 19, 4, 15, 2, 26, 25, 24, 5, 13, 11, 10, 0, 1, 22, 19, 4, 15, 2, 26, 25, 24, 5, 13, 11, 10]\n",
      "[0, 1, 22, 19, 4, 15, 2, 26, 25, 24, 5, 13, 11, 10, 0, 1, 22, 19, 4, 15, 2, 26, 25, 24, 5, 13, 11, 10, 0, 1, 22, 19, 4, 15, 2, 26, 25, 24, 5, 13, 11, 10, 0, 1, 22, 19, 4, 15, 2, 26, 25, 24, 5, 13, 11, 10]\n",
      "[0, 1, 22, 19, 4, 15, 2, 26, 25, 24, 5, 13, 11, 10, 0, 1, 22, 19, 4, 15, 2, 26, 25, 24, 5, 13, 11, 10, 0, 1, 22, 19, 4, 15, 2, 26, 25, 24, 5, 13, 11, 10, 0, 1, 22, 19, 4, 15, 2, 26, 25, 24, 5, 13, 11, 10, 0, 1, 22, 19, 4, 15, 2, 26, 25, 24, 5, 13, 11, 10]\n",
      "[0, 1, 22, 19, 4, 15, 2, 26, 25, 24, 5, 13, 11, 10, 0, 1, 22, 19, 4, 15, 2, 26, 25, 24, 5, 13, 11, 10, 0, 1, 22, 19, 4, 15, 2, 26, 25, 24, 5, 13, 11, 10, 0, 1, 22, 19, 4, 15, 2, 26, 25, 24, 5, 13, 11, 10, 0, 1, 22, 19, 4, 15, 2, 26, 25, 24, 5, 13, 11, 10, 0, 1, 22, 19, 4, 15, 2, 26, 25, 24, 5, 13, 11, 10]\n",
      "[0, 1, 22, 19, 4, 15, 2, 26, 25, 24, 5, 13, 11, 10, 0, 1, 22, 19, 4, 15, 2, 26, 25, 24, 5, 13, 11, 10, 0, 1, 22, 19, 4, 15, 2, 26, 25, 24, 5, 13, 11, 10, 0, 1, 22, 19, 4, 15, 2, 26, 25, 24, 5, 13, 11, 10, 0, 1, 22, 19, 4, 15, 2, 26, 25, 24, 5, 13, 11, 10, 0, 1, 22, 19, 4, 15, 2, 26, 25, 24, 5, 13, 11, 10, 0, 1, 22, 19, 4, 15, 2, 26, 25, 24, 5, 13, 11, 10]\n",
      "[0, 1, 22, 19, 4, 15, 2, 26, 25, 24, 5, 13, 11, 10, 0, 1, 22, 19, 4, 15, 2, 26, 25, 24, 5, 13, 11, 10, 0, 1, 22, 19, 4, 15, 2, 26, 25, 24, 5, 13, 11, 10, 0, 1, 22, 19, 4, 15, 2, 26, 25, 24, 5, 13, 11, 10, 0, 1, 22, 19, 4, 15, 2, 26, 25, 24, 5, 13, 11, 10, 0, 1, 22, 19, 4, 15, 2, 26, 25, 24, 5, 13, 11, 10, 0, 1, 22, 19, 4, 15, 2, 26, 25, 24, 5, 13, 11, 10, 0, 1, 22, 19, 4, 15, 2, 26, 25, 24, 5, 13, 11, 10]\n",
      "[0, 1, 22, 19, 4, 15, 2, 26, 25, 24, 5, 13, 11, 10, 0, 1, 22, 19, 4, 15, 2, 26, 25, 24, 5, 13, 11, 10, 0, 1, 22, 19, 4, 15, 2, 26, 25, 24, 5, 13, 11, 10, 0, 1, 22, 19, 4, 15, 2, 26, 25, 24, 5, 13, 11, 10, 0, 1, 22, 19, 4, 15, 2, 26, 25, 24, 5, 13, 11, 10, 0, 1, 22, 19, 4, 15, 2, 26, 25, 24, 5, 13, 11, 10, 0, 1, 22, 19, 4, 15, 2, 26, 25, 24, 5, 13, 11, 10, 0, 1, 22, 19, 4, 15, 2, 26, 25, 24, 5, 13, 11, 10, 0, 1, 22, 19, 4, 15, 2, 26, 25, 24, 5, 13, 11, 10]\n",
      "[0, 1, 22, 19, 4, 15, 2, 26, 25, 24, 5, 13, 11, 10, 0, 1, 22, 19, 4, 15, 2, 26, 25, 24, 5, 13, 11, 10, 0, 1, 22, 19, 4, 15, 2, 26, 25, 24, 5, 13, 11, 10, 0, 1, 22, 19, 4, 15, 2, 26, 25, 24, 5, 13, 11, 10, 0, 1, 22, 19, 4, 15, 2, 26, 25, 24, 5, 13, 11, 10, 0, 1, 22, 19, 4, 15, 2, 26, 25, 24, 5, 13, 11, 10, 0, 1, 22, 19, 4, 15, 2, 26, 25, 24, 5, 13, 11, 10, 0, 1, 22, 19, 4, 15, 2, 26, 25, 24, 5, 13, 11, 10, 0, 1, 22, 19, 4, 15, 2, 26, 25, 24, 5, 13, 11, 10, 0, 1, 22, 19, 4, 15, 2, 26, 25, 24, 5, 13, 11, 10]\n",
      "[array([ 0,  1,  2,  4,  5, 10, 11, 13, 15, 19, 22, 24, 25, 26]), array([ 0,  1,  2,  4,  5, 10, 11, 13, 15, 19, 22, 24, 25, 26]), array([ 0,  1,  2,  4,  5, 10, 11, 13, 15, 19, 22, 24, 25, 26]), array([ 0,  1,  2,  4,  5, 10, 11, 13, 15, 19, 22, 24, 25, 26]), array([ 0,  1,  2,  4,  5, 10, 11, 13, 15, 19, 22, 24, 25, 26]), array([ 0,  1,  2,  4,  5, 10, 11, 13, 15, 19, 22, 24, 25, 26]), array([ 0,  1,  2,  4,  5, 10, 11, 13, 15, 19, 22, 24, 25, 26]), array([ 0,  1,  2,  4,  5, 10, 11, 13, 15, 19, 22, 24, 25, 26]), array([ 0,  1,  2,  4,  5, 10, 11, 13, 15, 19, 22, 24, 25, 26])]\n",
      "[]\n",
      "[1, 7, 22, 19, 4, 15, 2, 26, 25, 24, 5, 13, 11, 10]\n",
      "[1, 7, 22, 19, 4, 15, 2, 26, 25, 24, 5, 13, 11, 10, 1, 7, 22, 19, 4, 15, 2, 26, 25, 24, 5, 13, 11, 10]\n",
      "[array([ 1,  2,  4,  5,  7, 10, 11, 13, 15, 19, 22, 24, 25, 26]), array([ 1,  2,  4,  5,  7, 10, 11, 13, 15, 19, 22, 24, 25, 26])]\n",
      "[]\n",
      "[]\n",
      "[1, 22, 19, 14, 4, 15, 2, 26, 25, 24, 5, 13, 11, 10]\n",
      "[array([ 1,  2,  4,  5, 10, 11, 13, 14, 15, 19, 22, 24, 25, 26])]\n",
      "[]\n",
      "[1, 22, 19, 4, 6, 15, 2, 26, 25, 24, 5, 13, 11, 10]\n",
      "[1, 22, 19, 4, 6, 15, 2, 26, 25, 24, 5, 13, 11, 10, 1, 22, 19, 4, 6, 15, 2, 26, 25, 24, 5, 13, 11, 10]\n",
      "[1, 22, 19, 4, 6, 15, 2, 26, 25, 24, 5, 13, 11, 10, 1, 22, 19, 4, 6, 15, 2, 26, 25, 24, 5, 13, 11, 10, 1, 22, 19, 4, 6, 15, 2, 26, 25, 24, 5, 13, 11, 10]\n",
      "[array([ 1,  2,  4,  5,  6, 10, 11, 13, 15, 19, 22, 24, 25, 26]), array([ 1,  2,  4,  5,  6, 10, 11, 13, 15, 19, 22, 24, 25, 26])]\n",
      "[1, 22, 19, 4, 9, 15, 2, 26, 25, 24, 5, 13, 11, 10]\n",
      "[array([ 1,  2,  4,  5,  9, 10, 11, 13, 15, 19, 22, 24, 25, 26])]\n",
      "[1, 22, 19, 4, 27, 15, 2, 26, 25, 24, 5, 13, 11, 10]\n",
      "[array([ 1,  2,  4,  5, 10, 11, 13, 15, 19, 22, 24, 25, 26, 27])]\n",
      "[]\n",
      "[]\n",
      "[1, 22, 19, 4, 15, 2, 12, 26, 25, 24, 5, 13, 11, 10]\n",
      "[array([ 1,  2,  4,  5, 10, 11, 12, 13, 15, 19, 22, 24, 25, 26])]\n",
      "[1, 22, 19, 4, 15, 2, 16, 26, 25, 24, 5, 13, 11, 10]\n",
      "[array([ 1,  2,  4,  5, 10, 11, 13, 15, 16, 19, 22, 24, 25, 26])]\n",
      "[1, 22, 19, 4, 15, 2, 3, 26, 25, 24, 5, 13, 11, 10]\n",
      "[1, 22, 19, 4, 15, 2, 3, 26, 25, 24, 5, 13, 11, 10, 1, 22, 19, 4, 15, 2, 3, 26, 25, 24, 5, 13, 11, 10]\n",
      "[1, 22, 19, 4, 15, 2, 3, 26, 25, 24, 5, 13, 11, 10, 1, 22, 19, 4, 15, 2, 3, 26, 25, 24, 5, 13, 11, 10, 1, 22, 19, 4, 15, 2, 3, 26, 25, 24, 5, 13, 11, 10]\n",
      "[array([ 1,  2,  3,  4,  5, 10, 11, 13, 15, 19, 22, 24, 25, 26]), array([ 1,  2,  3,  4,  5, 10, 11, 13, 15, 19, 22, 24, 25, 26]), array([ 1,  2,  3,  4,  5, 10, 11, 13, 15, 19, 22, 24, 25, 26])]\n",
      "[1, 22, 19, 4, 15, 2, 21, 26, 25, 24, 5, 13, 11, 10]\n",
      "[array([ 1,  2,  4,  5, 10, 11, 13, 15, 19, 21, 22, 24, 25, 26])]\n",
      "[]\n",
      "[]\n",
      "[]\n",
      "[1, 22, 19, 4, 15, 2, 26, 25, 24, 23, 5, 13, 11, 10]\n",
      "[array([ 1,  2,  4,  5, 10, 11, 13, 15, 19, 22, 23, 24, 25, 26])]\n",
      "[1, 22, 19, 4, 15, 2, 26, 25, 24, 17, 5, 13, 11, 10]\n",
      "[1, 22, 19, 4, 15, 2, 26, 25, 24, 17, 5, 13, 11, 10, 1, 22, 19, 4, 15, 2, 26, 25, 24, 17, 5, 13, 11, 10]\n",
      "[1, 22, 19, 4, 15, 2, 26, 25, 24, 17, 5, 13, 11, 10, 1, 22, 19, 4, 15, 2, 26, 25, 24, 17, 5, 13, 11, 10, 1, 22, 19, 4, 15, 2, 26, 25, 24, 17, 5, 13, 11, 10]\n",
      "[1, 22, 19, 4, 15, 2, 26, 25, 24, 17, 5, 13, 11, 10, 1, 22, 19, 4, 15, 2, 26, 25, 24, 17, 5, 13, 11, 10, 1, 22, 19, 4, 15, 2, 26, 25, 24, 17, 5, 13, 11, 10, 1, 22, 19, 4, 15, 2, 26, 25, 24, 17, 5, 13, 11, 10]\n",
      "[1, 22, 19, 4, 15, 2, 26, 25, 24, 17, 5, 13, 11, 10, 1, 22, 19, 4, 15, 2, 26, 25, 24, 17, 5, 13, 11, 10, 1, 22, 19, 4, 15, 2, 26, 25, 24, 17, 5, 13, 11, 10, 1, 22, 19, 4, 15, 2, 26, 25, 24, 17, 5, 13, 11, 10, 1, 22, 19, 4, 15, 2, 26, 25, 24, 17, 5, 13, 11, 10]\n",
      "[1, 22, 19, 4, 15, 2, 26, 25, 24, 17, 5, 13, 11, 10, 1, 22, 19, 4, 15, 2, 26, 25, 24, 17, 5, 13, 11, 10, 1, 22, 19, 4, 15, 2, 26, 25, 24, 17, 5, 13, 11, 10, 1, 22, 19, 4, 15, 2, 26, 25, 24, 17, 5, 13, 11, 10, 1, 22, 19, 4, 15, 2, 26, 25, 24, 17, 5, 13, 11, 10, 1, 22, 19, 4, 15, 2, 26, 25, 24, 17, 5, 13, 11, 10]\n",
      "[1, 22, 19, 4, 15, 2, 26, 25, 24, 17, 5, 13, 11, 10, 1, 22, 19, 4, 15, 2, 26, 25, 24, 17, 5, 13, 11, 10, 1, 22, 19, 4, 15, 2, 26, 25, 24, 17, 5, 13, 11, 10, 1, 22, 19, 4, 15, 2, 26, 25, 24, 17, 5, 13, 11, 10, 1, 22, 19, 4, 15, 2, 26, 25, 24, 17, 5, 13, 11, 10, 1, 22, 19, 4, 15, 2, 26, 25, 24, 17, 5, 13, 11, 10, 1, 22, 19, 4, 15, 2, 26, 25, 24, 17, 5, 13, 11, 10]\n",
      "[1, 22, 19, 4, 15, 2, 26, 25, 24, 17, 5, 13, 11, 10, 1, 22, 19, 4, 15, 2, 26, 25, 24, 17, 5, 13, 11, 10, 1, 22, 19, 4, 15, 2, 26, 25, 24, 17, 5, 13, 11, 10, 1, 22, 19, 4, 15, 2, 26, 25, 24, 17, 5, 13, 11, 10, 1, 22, 19, 4, 15, 2, 26, 25, 24, 17, 5, 13, 11, 10, 1, 22, 19, 4, 15, 2, 26, 25, 24, 17, 5, 13, 11, 10, 1, 22, 19, 4, 15, 2, 26, 25, 24, 17, 5, 13, 11, 10, 1, 22, 19, 4, 15, 2, 26, 25, 24, 17, 5, 13, 11, 10]\n",
      "[1, 22, 19, 4, 15, 2, 26, 25, 24, 17, 5, 13, 11, 10, 1, 22, 19, 4, 15, 2, 26, 25, 24, 17, 5, 13, 11, 10, 1, 22, 19, 4, 15, 2, 26, 25, 24, 17, 5, 13, 11, 10, 1, 22, 19, 4, 15, 2, 26, 25, 24, 17, 5, 13, 11, 10, 1, 22, 19, 4, 15, 2, 26, 25, 24, 17, 5, 13, 11, 10, 1, 22, 19, 4, 15, 2, 26, 25, 24, 17, 5, 13, 11, 10, 1, 22, 19, 4, 15, 2, 26, 25, 24, 17, 5, 13, 11, 10, 1, 22, 19, 4, 15, 2, 26, 25, 24, 17, 5, 13, 11, 10, 1, 22, 19, 4, 15, 2, 26, 25, 24, 17, 5, 13, 11, 10]\n",
      "[array([ 1,  2,  4,  5, 10, 11, 13, 15, 17, 19, 22, 24, 25, 26]), array([ 1,  2,  4,  5, 10, 11, 13, 15, 17, 19, 22, 24, 25, 26]), array([ 1,  2,  4,  5, 10, 11, 13, 15, 17, 19, 22, 24, 25, 26]), array([ 1,  2,  4,  5, 10, 11, 13, 15, 17, 19, 22, 24, 25, 26])]\n",
      "[1, 22, 19, 4, 15, 2, 26, 25, 24, 20, 5, 13, 11, 10]\n",
      "[array([ 1,  2,  4,  5, 10, 11, 13, 15, 19, 20, 22, 24, 25, 26])]\n",
      "[1, 22, 19, 4, 15, 2, 26, 25, 24, 18, 5, 13, 11, 10]\n",
      "[array([ 1,  2,  4,  5, 10, 11, 13, 15, 18, 19, 22, 24, 25, 26])]\n",
      "[]\n",
      "[]\n",
      "[]\n",
      "[]\n",
      "[1, 22, 19, 4, 15, 2, 26, 25, 24, 5, 13, 11, 10, 8]\n",
      "[array([ 1,  2,  4,  5,  8, 10, 11, 13, 15, 19, 22, 24, 25, 26])]\n",
      "[1, 22, 19, 4, 15, 2, 26, 25, 24, 5, 13, 11, 10, 28]\n",
      "[array([ 1,  2,  4,  5, 10, 11, 13, 15, 19, 22, 24, 25, 26, 28])]\n",
      "Sequences:\n",
      "(29, 2)\n",
      "Sequences:\n",
      "(27, 2)\n",
      "Sequences:\n",
      "(21, 2)\n",
      "Sequences:\n",
      "(19, 2)\n",
      "Sequences:\n",
      "(15, 2)\n",
      "Sequences:\n",
      "(14, 2)\n",
      "Sequences:\n",
      "(11, 2)\n",
      "Sequences:\n",
      "(10, 2)\n",
      "Sequences:\n",
      "(5, 2)\n",
      "[[0], [1], [7, 6, 9, 8], [22], [19], [14], [4], [27, 28], [15], [2], [12], [16, 17, 18], [3], [21, 20], [26], [25], [24], [23], [5], [13], [11], [10]]\n",
      "{'groups': [[{'pattern': ['ir rc5 sz protocol handler initialized(.*?)', 'loading out-of-tree module taints idma64 integrated dma 64-bit(.*?)', 'driver ports irq sharing disabled(.*?)', 'allowing cpus hotplug cpus(.*?)', 'early memory node ranges(.*?)', 'ext4-fs mmcblk0p4 recovery complete(.*?)', '(.*?) (.*?)', '(.*?) (.*?) (.*?) (.*?) (.*?) (.*?)', '(.*?) (.*?) (.*?)', '(.*?) (.*?)', '(.*?) (.*?)', '(.*?) (.*?) (.*?) (.*?) (.*?) (.*?) (.*?)', '(.*?) (.*?) (.*?)', '(.*?) (.*?) (.*?)', 'socket layer initialized(.*?)', '(.*?)', '(.*?) (.*?)', '(.*?) (.*?)', '(.*?) (.*?) (.*?) (.*?) (.*?)', '(.*?) (.*?) (.*?) (.*?)', '(.*?) (.*?)', '(.*?) (.*?) (.*?) (.*?) (.*?) (.*?) (.*?)', '(.*?) (.*?) (.*?) (.*?)', '(.*?)', 'usb (.*?)', '(.*?) (.*?)', '(.*?) (.*?) (.*?) (.*?) (.*?) (.*?) (.*?)', '(.*?) (.*?) (.*?) (.*?) (.*?) (.*?) (.*?) (.*?)', 'fast done(.*?)', '(.*?) (.*?) (.*?) (.*?) (.*?) (.*?) (.*?) (.*?) (.*?) (.*?) (.*?) (.*?)', '(.*?)', '(.*?) (.*?)', '(.*?) (.*?) (.*?) (.*?) (.*?) (.*?) (.*?) (.*?) (.*?) (.*?)', '(.*?) (.*?)', '(.*?) (.*?) (.*?) (.*?)', '(.*?)', '(.*?) (.*?) (.*?) (.*?) (.*?) (.*?) (.*?) (.*?) (.*?) (.*?) (.*?) (.*?) (.*?) (.*?) (.*?) (.*?) (.*?) (.*?) (.*?)', '(.*?) (.*?) (.*?) (.*?) (.*?) (.*?) (.*?) (.*?) (.*?)', '(.*?) (.*?) (.*?) (.*?)', '(.*?)', '(.*?) interface (.*?) (.*?)', '(.*?) (.*?) (.*?) (.*?)', '(.*?) (.*?) (.*?) (.*?) (.*?) (.*?) (.*?) (.*?) (.*?) (.*?)', 'usb new(.*?) usb device (.*?) (.*?) (.*?)', '(.*?) (.*?) (.*?)', '(.*?) (.*?) (.*?) (.*?)', '(.*?) (.*?) (.*?) (.*?) (.*?) (.*?) (.*?) (.*?) (.*?) (.*?)', 'loaded(.*?)', '(.*?) (.*?) (.*?) (.*?)', '(.*?)', '(.*?) (.*?)', '(.*?) (.*?) (.*?) (.*?) (.*?)', '(.*?) (.*?) (.*?) (.*?) (.*?) (.*?) (.*?) (.*?)', '(.*?) (.*?) (.*?) (.*?)', '(.*?) (.*?)', '(.*?) (.*?) (.*?) (.*?)', '(.*?) (.*?) (.*?) (.*?) (.*?) (.*?) (.*?)', 'device (.*?) (.*?) (.*?)', '(.*?) (.*?)', '(.*?) (.*?) (.*?) (.*?) (.*?) (.*?) (.*?)', '(.*?) (.*?)', '(.*?) (.*?) (.*?)', '(.*?) initialized(.*?)', '(.*?) (.*?) (.*?) (.*?)', 'idma64 integrated dma 64-bit(.*?)', 'crlmodule crlmodule_registered powerup registers(.*?)', 'gigabit ethernet network driver version copyright gpmrb_machine codec dai tdf8532-hifi registered(.*?)', 'rapl hw unit of domain dram joules(.*?)', 'adding vlan hw filter device enp3s0(.*?)', 'checking secure keystore_fill_seeds manifest missing cmdline(.*?)', 'usb running at top speed connect high speed hub(.*?)', 'usb cannot maybe the usb cable is bad usb cannot maybe the usb cable is bad usb attempt power cycle(.*?)', 'registered protocol family vlan support type dns_resolver registered(.*?)', 'usb usb new superspeed usb device number using xhci_hcd(.*?)', 'crlmodule msrlists associated sensor(.*?)', 'freeing smp alternatives 16k(.*?)', 'usb usb new full-speed usb device number using xhci_hcd(.*?)', 'built zonelists mobility grouping total command console tty0 dev mmcblk0p3 ro rootfstype ext4 rootwait clocksource hpet quiet loglevel console ttys2 video video video video video dwc3 i915 i915 i915 iasimage a007 0x0(.*?)', 'edac firmware registration using acpi irq routing(.*?)', 'cse: dev spi(.*?)', 'usb hub usb hub found(.*?)', 'int 0x00000000(.*?)', 'starting udev coldplug all starting create list of required st ce nodes the current mounting debug mounted huge pages started load started journal started create list of required sta vice nodes the current mounted debug drm rc6 on(.*?)', 'early_video systemctl i915 using fast-load firmware i915 reached target early_video starting journal mounting huge pages starting load drm guc submission enabled firmware i915 version dev entries driver(.*?)', 'pid hash table bytes dentry cache hash table bytes inode-cache hash table bytes available code rwdata rodata bss reserved cma-reserved hwalign order minobjects cpus nodes preemptible hierarchical rcu tasks rcu preallocated colour dummy device 80x25(.*?)', 'modules linked kworker events tsd_delayed_init(.*?)', 'dev if class mass storage driver usb-storage(.*?)', 'scanning low memory corruption every seconds(.*?)', 'dev mmcblk1 sector buffer dev logical block async page (.*?)', 'new mmc card at address cgnd3r gib cgnd3r partition mib(.*?)', 'mounting mounted starting flush journal persistent mounting var reached target starting load save random mounted var started load save random reached target local starting rebuild journal systemd-journald received request flush runtime journal pid started flush journal persistent started rebuild journal starting update is starting create volatile files started update is create volatile files usb new full-speed usb device number using xhci_hcd(.*?)', 'hub ports detected(.*?)', 'ir sharp protocol handler initialized(.*?)', 'root apl-d0 premium reset(.*?)', 'igb_avb using msi-x rx queue tx queue gpmrb_machine codec dai tdf8532-hifi registered(.*?)', 'intel-ipu4 device intel-ipu4 physical base address 0xb3000000(.*?)', 'cse: 34mb(.*?)', 'hugetlb registered mib page size pre-allocated pages(.*?)', 'ir nec protocol handler initialized(.*?)', 'software copyright rodolfo giometti giometti ptp clock support registered(.*?)', 'max logical vector apic1 pin1 apic2 pin2 tm processor a3960 performance pebs fmt3 goldmont events lbr full-width counters pmu bit generic value 0000ffffffffffff(.*?)', 'ns(.*?)', 'doing runtime resume(.*?)', 'registering acpi nvs region mem bytes ns(.*?)', 'gr-mrb-64 root(.*?)', 'sd sdc attached scsi removable disk(.*?)', 'initializing(.*?)', 'thermal zone tz01 secure digital host controller interface driver(.*?)', 'new ultra high speed sdr104 sdhc card at address sd16g gib p1(.*?)', 'igb_avb lro is disabled(.*?)', 'revision acpi aml tables successfully acquired loaded(.*?)', 'dmi present or using pit calibration value(.*?)', 'scsi usb-storage gpmrb_machine codec dai tdf8532-hifi registered(.*?)', 'ir sony protocol handler initialized(.*?)', 'scsi direct-access jetflash transcend gpmrb_machine codec dai tdf8532-hifi registered(.*?)', 'ir sanyo protocol handler initialized(.*?)', 'scsi usb-storage(.*?)', 'total of processors activated bogomips initialized(.*?)', 'igb_avb tx_ring_size vmdq option is gpmrb_machine codec dai tdf8532-hifi registered(.*?)', 'early table checksum verification disabled(.*?)', 'rapl hw unit of domain package joules(.*?)', 'ahci ahci slots ports gbps impl sata mode(.*?)', 'dev mmcblk1 sector 30547840(.*?)', 'usb new usb device idvendor idproduct usb new usb device mfr product serialnumber usb datatraveler usb kingston(.*?)', 'le intel_xhci_usb_sw-role-switch role(.*?)', 'intel-ipu4-mmu mmu is ready intel-ipu4-mmu iova trash buffer is adding device intel-ipu4-isys0 group intel-ipu4-isys isys probe ffff8801f7dc1000(.*?)', 'gpmrb_machine codec dai tdf8532-hifi registered(.*?)', 'sd sda logical gb gib sd sda write protect is off(.*?)', 'usb linux xhci-hcd(.*?)', 'tsd_delayed_init 0x75(.*?)', 'sd sdb attached scsi removable disk(.*?)', 'registered new interface driver usb-storage(.*?)', 'registered new interface driver usbfs(.*?)', 'l2cap socket layer initialized(.*?)', 'igb_avb added phc eth0(.*?)', 'intel-ipu4 ipu secure mode(.*?)', 'spectre v2 enabling restricted speculation firmware calls(.*?)', 'p-state driver initializing(.*?)', 'started update utmp about runlevel started hostname scsi direct-access kingston datatraveler gpmrb_machine codec dai tdf8532-hifi registered(.*?)', 'scsi usb-storage registered new interface driver usb-storage(.*?)', 'resp resp 0x00000000(.*?)', 'bus dev class root_hub driver xhci_hcd(.*?)', 'xhci_hcd new usb bus registered assigned bus number xhci_hcd hcc params hci version quirks 0x81109810(.*?)', 'rtc_cmos alarms up one month y3k bytes nvram hpet irqs(.*?)', 'write protecting the read-only 14336k(.*?)', 'registered protocol family using governor menu(.*?)', 'pps new pps source ptp0(.*?)', 'pnp devices(.*?)', 'dnf makecache systemctl started dnf-automatic-notifyonly listening reached target reached target basic started d-bus message starting connection usb new superspeed usb device number using xhci_hcd(.*?)', 'starting oem master starting jhi started genivi dlt applicat stem information logs usb new usb device idvendor idproduct usb new usb device mfr product serialnumber usb datatraveler usb kingston(.*?)', 'drm forcing hdmi-a-2 connector on(.*?)', 'sd sda write disabled read enabled doesn support dpo or fua(.*?)', 'ahci ncq sntf pm clo only pmp pio slum part deso sadm sds apst scsi ahci(.*?)', 'asymmetric parser x509 registered(.*?)', 'systemd lib systemd configures an ip firewall ipaddressdeny any but the local does support bpf cgroup based systemd proceeding without firewalling effect this warning is only shown the first loaded unit using ip uninitialized urandom read bytes read systemd created slice uninitialized urandom read bytes read systemd listening dev initctl compatibility named systemd listening udev ext4-fs mmcblk0p3 null ttys1 request dma(.*?)', 'ext4-fs mmcblk0p4 mounted filesystem ordered null gpmrb_machine codec dai tdf8532-hifi registered(.*?)', 'int sig 0x02ff008b(.*?)', 'scsi usb-storage usb new full-speed usb device number using xhci_hcd(.*?)', 'started jhi usb new usb device idvendor idproduct usb new usb device mfr product serialnumber usb datatraveler usb kingston(.*?)', 'usb cannot maybe the usb cable is bad usb new full-speed usb device number using xhci_hcd(.*?)', 'microcode update sse version of gcm_enc dec marking stable ttys2 request dma(.*?)', 'pnp acpi init(.*?)', 'embedded pages s129112 r8192 d30632 u524288(.*?)', 'starting ufipc daemon started genivi dlt logging starting ufipc daemon channel starting nodestatemanager provid session shutdown starting telephony starting login oem master systemctl dependency oem keystore ver registered protocol family usb new superspeed usb device number using xhci_hcd(.*?)', 'usb new usb device mfr product serialnumber usb new superspeed usb device number using xhci_hcd(.*?)', 'unknown clk crlmodule crlmodule_populate_ds adv7481_cvbs selected(.*?)', 'spectre v2 spectre v2 enabling indirect branch prediction barrier(.*?)', 'smp mp-table at mem mapped at scanning areas low memory corruption(.*?)', 'tried card got dev mmcblk1 sector 30547840(.*?)', 'at mmio irq base_baud is '], 'indices': [0, 0, 0, 0, 0, 0, 0, 0, 0, 0, 0, 0, 0, 0, 0, 0, 0, 0, 0, 0, 0, 0, 0, 0, 0, 0, 0, 0, 0, 0, 0, 0, 0, 0, 0, 0, 0, 0, 0, 0, 0, 0, 0, 0, 0, 0, 0, 0, 0, 0, 0, 0, 0, 0, 0, 0, 0, 0, 0, 0, 0, 0, 0, 0, 0, 0, 0, 0, 0, 0, 0, 0, 0, 0, 0, 0, 0, 0, 0, 0, 0, 0, 0, 0, 0, 0, 0, 0, 0, 0, 0, 0, 0, 0, 0, 0, 0, 0, 0, 0, 0, 0, 0, 0, 0, 0, 0, 0, 0, 0, 0, 0, 0, 0, 0, 0, 0, 0, 0, 0, 0, 0, 0, 0, 0, 0, 0, 0, 0, 0, 0, 0, 0, 0, 0, 0, 0, 0, 0, 0, 0, 0, 0, 0, 0, 0, 0, 0, 0, 0, 0, 0, 0, 0, 0, 0, 0, 0, 0, 0, 0, 0, 0, 0, 0, 0, 0, 0, 0, 0, 0, 0, 0, 0, 0, 0, 0, 0, 0, 0, 0, 0, 0, 0, 0, 0, 0, 0, 0, 0, 0, 0, 0, 0, 0, 0, 0, 0, 0, 0, 0, 0, 0, 0, 0, 0, 0, 0, 0, 0, 0, 0, 0, 0, 0, 0, 0, 0, 0, 0, 0, 0, 0, 0, 0, 0, 0, 0, 0, 0, 0, 0, 0, 0, 0, 0, 0, 0, 0, 0, 0, 0, 0, 0, 0, 0, 0, 0, 0, 0, 0, 0, 0, 0, 0, 0, 0, 0, 0, 0, 0, 0, 0, 0, 0, 0, 0, 0, 0, 0, 0, 0, 0, 0, 0, 0, 0, 0, 0, 0, 0, 0, 0, 0, 0, 0, 0, 0, 0, 0, 0, 0, 0, 0, 0, 0, 0, 0, 0, 0, 0, 0, 0, 0, 0, 0, 0, 0, 0, 0, 0, 0, 0, 0, 0, 0, 0, 0, 0, 0, 0, 0, 0, 0, 0, 0, 0, 0, 0, 0, 0, 0, 0, 0, 0, 0, 0, 0, 0, 0, 0, 0, 0, 0, 0, 0, 0, 0, 0, 0, 0, 0, 0, 0, 0, 0, 0, 0, 0, 0, 0, 0, 0, 0, 0, 0, 0, 0, 0, 0, 0, 0, 0, 0, 0, 0], 'cluster_size': 376, 'common_phrases': ['usb hub usb hub', 'usb usb device', 'ir sz protocol handler', 'ir sony protocol handler', 'ir sharp protocol handler', 'ir sanyo protocol handler', 'ir nec protocol handler', 'bad usb cannot maybe', 'registered new interface driver', 'registered new interface driver'], 'category': 0}], [{'pattern': ['rescuer_thread 0x258(.*?)', 'ci(.*?)', 'kthread 0xec(.*?)', 'ret_from_fork 0x40(.*?)', 'ac12 slot 0x00000000(.*?)', 'intel_ddi_init 0x418(.*?)', 'worker_thread 0x236(.*?)', 'process_one_work 0x1cc(.*?)', 'trn 0x0000003b(.*?)', '00000000003406e0(.*?)', '', 'call fwtable_read32 0x8d'], 'indices': [0, 0, 0, 0, 0, 0, 0, 0, 0, 0, 0, 0, 0, 0, 0, 0, 0, 0, 0, 0, 0, 0, 0, 0, 0, 0, 0, 0, 0, 0, 0, 0, 0, 0, 0, 0, 0, 0, 0, 0, 0, 0], 'cluster_size': 42, 'common_phrases': [], 'category': 1}], [{'pattern': ['using host bridge windows acpi if necessary use pci nocrs report bug(.*?)', 'mem has been reserved(.*?)', 'io has been reserved'], 'indices': [0, 0, 0, 0, 0, 0, 0, 0, 0, 0, 0, 0, 0, 0, 0], 'cluster_size': 15, 'common_phrases': ['using host bridge windows acpi', 'necessary use pci nocrs report'], 'category': 2}, {'pattern': ['mem acpi data(.*?)', 'mem acpi nvs(.*?)', 'node mem node mem node mem node mem node mem initmem node mem reserving graphics memory at pm-timer io 0x408(.*?)', 'pci vga device decodes io mem owns io mem locks none'], 'indices': [0, 0, 0, 0], 'cluster_size': 4, 'common_phrases': ['pm timer io', 'mem acpi', 'mem acpi'], 'category': 2}, {'pattern': ['mem usable'], 'indices': [0, 0, 0, 0], 'cluster_size': 4, 'common_phrases': ['mem usable'], 'category': 2}, {'pattern': ['pci bar assigned mem pref pci bar assigned mem pci bar assigned mem pref pci bar assigned mem pref pci bar assigned io pci bar assigned io pci bar assigned io pci bar assigned mem pci bar assigned mem pref pci pci bridge bus pci bridge window mem pci bridge window mem pref pci pci bridge bus pci bridge window io pci bridge window mem pci bridge window mem pref pci pci bridge bus pci bridge window io pci bridge window mem pci bridge window mem pref pci pci bridge bus pci bridge window io pci bridge window mem pci bridge window mem pref pci pci bridge bus pci bridge window io pci bridge window mem pci bridge window mem pref registered protocol family tcp established hash table bytes tcp bind hash table bytes hash tables configured established bind udp hash table bytes udp-lite hash table bytes registered protocol family pci video device shadowed rom at mem pci enabling device pci ti quirk detected secondary bus fast back-to-back transfers disabled'], 'indices': [0], 'cluster_size': 1, 'common_phrases': ['back transfers disabled'], 'category': 2}], [{'pattern': ['usb 60a44c425490f231e70b51c0'], 'indices': [0, 0, 0, 0, 0, 0, 0, 0, 0, 0], 'cluster_size': 10, 'common_phrases': [], 'category': 3}], [{'pattern': ['host 0x00000000'], 'indices': [0, 0, 0, 0, 0, 0, 0, 0], 'cluster_size': 8, 'common_phrases': [], 'category': 4}], [{'pattern': ['mem reserved'], 'indices': [0, 0, 0, 0, 0, 0, 0], 'cluster_size': 7, 'common_phrases': ['mem reserved'], 'category': 5}], [{'pattern': ['console ttys2 enabled(.*?)', 'starting create static device nodes starting apply started create static device nodes started apply starting udev device reached target local systems pre started udev coldplug all started udev device starting network started network rtc_cmos rtc registered rtc_cmos as rtc0(.*?)', 'hpet 0xfed00000(.*?)', 'sbi_apl starting bus device gpmrb_machine codec dai tdf8532-hifi registered(.*?)', 'see systemctl starting network starting update utmp about started update started network reached target reached target started dnf-automatic-download started dnf-automatic listening d-bus message bus started daily cleanup of temporary usb new usb device idvendor idproduct 0a2a'], 'indices': [0, 0, 0, 0, 0], 'cluster_size': 5, 'common_phrases': [], 'category': 6}], [{'pattern': ['registered new device driver usb'], 'indices': [0, 0, 0], 'cluster_size': 3, 'common_phrases': ['registered new device driver usb'], 'category': 7}, {'pattern': ['xhci_hcd xhci host controller'], 'indices': [0], 'cluster_size': 1, 'common_phrases': ['xhci_hcd xhci host controller'], 'category': 7}], [{'pattern': ['sdhci-pci sdhci controller rev sdhci controller pci using adma 64-bit'], 'indices': [0, 0, 0], 'cluster_size': 3, 'common_phrases': [], 'category': 8}], [{'pattern': ['local_softirq_pending 2c2'], 'indices': [0, 0, 0], 'cluster_size': 3, 'common_phrases': [], 'category': 9}], [{'pattern': ['pci bridge control possible'], 'indices': [0, 0], 'cluster_size': 2, 'common_phrases': ['pci bridge control possible'], 'category': 10}], [{'pattern': ['intel-ipu4-isys entity type entity crlmodule was initialized crlmodule wrote offset crlmodule writing reg val 0xff'], 'indices': [0, 0], 'cluster_size': 2, 'common_phrases': ['entity type entity crlmodule'], 'category': 11}, {'pattern': ['intel-ipu4-isys entity type entity ipu4 csi-2 was initialized intel-ipu4-isys entity type entity ipu4 csi-2 was initialized intel-ipu4-isys entity type entity ipu4 csi-2 was initialized intel-ipu4-isys entity type entity ipu4 csi-2 was initialized intel-ipu4-isys entity type entity ipu4 csi-2 was initialized intel-ipu4-isys entity type entity ipu4 csi-2 was initialized local_softirq_pending intel-ipu4-isys entity type entity ipu4 csi2 be soc was initialized intel-ipu4-isys entity type entity ipu4 csi2 be was initialized intel-ipu4-isys entity type entity ipu4 isa was initialized intel-ipu4-isys creating new subdev crlmodule address bus intel-ipu4-isys sensor device csi intel-ipu4-isys creating new subdev crlmodule address bus intel-ipu4-isys sensor device csi intel-ipu4-isys creating new subdev crlmodule address bus intel-ipu4-isys sensor device csi intel-ipu4-isys creating new subdev crlmodule address bus intel-ipu4-isys sensor device csi unknown clk crlmodule crlmodule_populate_ds adv7481_hdmi selected'], 'indices': [0], 'cluster_size': 1, 'common_phrases': ['initialized local_softirq_pending entity type entity', 'initialized entity type entity isa', 'initialized entity type entity', 'initialized entity type entity', 'initialized entity type entity', 'initialized entity type entity', 'initialized entity type entity', 'initialized entity type entity', 'entity type entity'], 'category': 11}, {'pattern': ['bus type pci registered'], 'indices': [0], 'cluster_size': 1, 'common_phrases': ['bus type pci registered'], 'category': 11}], [{'pattern': ['pwm-lpss pci int gsi(.*?)', 'pwm-lpss can derive routing pci int a'], 'indices': [0, 0], 'cluster_size': 2, 'common_phrases': ['pwm lpss pci int', 'derive routing pci int', 'pwm lpss'], 'category': 12}], [{'pattern': ['mem unusable'], 'indices': [0], 'cluster_size': 1, 'common_phrases': ['mem unusable'], 'category': 13}, {'pattern': ['mem available pci devices'], 'indices': [0], 'cluster_size': 1, 'common_phrases': ['mem available pci devices'], 'category': 13}], [{'pattern': ['xhci_hcd new usb bus registered assigned bus number xhci_hcd host supports usb superspeed'], 'indices': [0], 'cluster_size': 1, 'common_phrases': [], 'category': 14}], [{'pattern': ['device dev xhci_hcd xhci host controller'], 'indices': [0], 'cluster_size': 1, 'common_phrases': [], 'category': 15}], [{'pattern': ['00:00.0 host corporation n3350 n4200 e3900 series host bridge rev signal processing corporation device rev vga compatible corporation n3350 n4200 e3900 series integrated graphics controller rev multimedia corporation n3350 n4200 e3900 series imaging unit rev audio corporation n3350 n4200 e3900 series audio cluster rev communication corporation n3350 n4200 e3900 series trusted execution engine rev communication corporation device rev communication corporation device rev unclassified device corporation n3350 n4200 e3900 series integrated sensor hub rev sata corporation n3350 n4200 e3900 series sata ahci controller rev pci corporation n3350 n4200 e3900 series pci express rev fb pci corporation n3350 n4200 e3900 series pci express rev fb pci corporation n3350 n4200 e3900 series pci express rev fb pci corporation n3350 n4200 e3900 series pci express rev fb usb corporation n3350 n4200 e3900 series usb xhci rev usb corporation device rev signal processing corporation n3350 n4200 e3900 series controller rev signal processing corporation n3350 n4200 e3900 series controller rev signal processing corporation n3350 n4200 e3900 series controller rev signal processing corporation n3350 n4200 e3900 series controller rev signal processing corporation n3350 n4200 e3900 series controller rev signal processing corporation n3350 n4200 e3900 series controller rev signal processing corporation n3350 n4200 e3900 series controller rev signal processing corporation n3350 n4200 e3900 series controller rev signal processing corporation n3350 n4200 e3900 series hsuart controller rev signal processing corporation n3350 n4200 e3900 series hsuart controller rev signal processing corporation n3350 n4200 e3900 series hsuart controller rev signal processing corporation n3350 n4200 e3900 series hsuart controller rev signal processing corporation n3350 n4200 e3900 series spi controller rev signal processing corporation n3350 n4200 e3900 series spi controller rev signal processing corporation n3350 n4200 e3900 series spi controller rev serial bus controller corporation n3350 n4200 e3900 series pwm pin controller rev sd host corporation n3350 n4200 e3900 series sdxc mmc host controller rev sd host corporation n3350 n4200 e3900 series emmc controller rev sd host corporation n3350 n4200 e3900 series sdio controller rev isa corporation n3350 n4200 e3900 series low pin count interface rev corporation n3350 n4200 e3900 series smbus controller rev pci texas instruments xio2200a pci express-to-pci bridge rev vga compatible matrox electronics systems millennium g550 rev ethernet corporation i210 gigabit network connection rev network corporation wireless rev echo host sys bus platform devices intel_xhci_usb_sw usb_rol'], 'indices': [0], 'cluster_size': 1, 'common_phrases': [], 'category': 16}], [{'pattern': ['power resource fn00 pci bridge pci0 domain bus acpi os supports aspm clockpm segments msi acpi requesting os control os requires extendedconfig aspm clockpm msi pci host bridge bus pci_bus bus resource io pci_bus bus resource io window pci_bus bus resource io window pci_bus bus resource io window pci_bus bus resource mem window pci_bus bus resource mem window pci_bus bus resource mem window pci_bus bus resource mem window pci_bus bus resource bus pci disabling aspm pcie you can enable it pcie_aspm force pci pci bridge bus pci pci bridge bus pci pci bridge bus pci pci bridge bus pci pci bridge bus pci interrupt link lnka irqs pci interrupt link lnkb irqs pci interrupt link lnkc irqs pci interrupt link lnkd irqs pci interrupt link lnke irqs pci interrupt link lnkf irqs pci interrupt link lnkg irqs pci interrupt link lnkh irqs pci setting as vga device'], 'indices': [0], 'cluster_size': 1, 'common_phrases': ['vga device'], 'category': 17}], [{'pattern': ['pci can claim bar mem compatible bridge window'], 'indices': [0], 'cluster_size': 1, 'common_phrases': [], 'category': 18}], [{'pattern': ['pci vga device decodes io mem owns none locks none'], 'indices': [0], 'cluster_size': 1, 'common_phrases': [], 'category': 19}], [{'pattern': ['00 series hsuart gpmrb_machine codec dai tdf8532-hifi registered'], 'indices': [0], 'cluster_size': 1, 'common_phrases': [], 'category': 20}], [{'pattern': ['device n3350 om e39 bus type usb registered'], 'indices': [0], 'cluster_size': 1, 'common_phrases': [], 'category': 21}]]}\n"
     ]
    },
    {
     "name": "stderr",
     "output_type": "stream",
     "text": [
      "c:\\Users\\bhegde\\codes\\ClusterLog\\clusterlogs\\reporting\\report.py:27: FutureWarning: In a future version of pandas, a length 1 tuple will be returned when iterating over a groupby with a grouper equal to a list of length 1. Don't supply a list with a single grouper to avoid this warning.\n",
      "  groups = [v.to_dict(\"records\") for k, v in grouped]\n"
     ]
    }
   ],
   "source": [
    "tdf = pd.DataFrame([full_docs_df.iloc[5].values.flatten().tolist()], \n",
    "                   columns=full_docs_df.columns)\n",
    "\n",
    "\n",
    "tdf['content'] = tdf['content'].apply(\n",
    "        lambda cont: \" \".join(tokenise_doc(cont.lower()))\n",
    "        .encode('utf-8')\n",
    "        .decode('ascii', 'ignore')\n",
    "    )\n",
    "print(tdf.shape)\n",
    "tdf['content'] = tdf['content'].apply(lambda x:x.splitlines()[-500:])\n",
    "tdf = tdf.explode('content')\n",
    "docs_df = docs_df[docs_df['content'].map(len)>=32]\n",
    "print(tdf.shape)\n",
    "cl_logs_test = Chain(df=tdf, \n",
    "                target=\"content\", \n",
    "                output_type=\"html\", \n",
    "                output_fname='reports/CI1920-8545', \n",
    "                categorization=True, \n",
    "                model_name='models/CI1920-8545.model')\n",
    "cl_logs_test.process()"
   ]
  },
  {
   "cell_type": "code",
   "execution_count": null,
   "metadata": {},
   "outputs": [],
   "source": [
    "import pandas as pd\n",
    "\n",
    "df = pd.DataFrame({'var1': ['a,b,c', 'd,e,f'], 'var2': [1, 2]})\n",
    "\n",
    "df = df.assign(var1=df['var1'].str.split(',')).explode('var1')\n",
    "\n",
    "df.head()"
   ]
  }
 ],
 "metadata": {
  "kernelspec": {
   "display_name": "clusterlog_venv",
   "language": "python",
   "name": "python3"
  },
  "language_info": {
   "codemirror_mode": {
    "name": "ipython",
    "version": 3
   },
   "file_extension": ".py",
   "mimetype": "text/x-python",
   "name": "python",
   "nbconvert_exporter": "python",
   "pygments_lexer": "ipython3",
   "version": "3.10.9"
  },
  "vscode": {
   "interpreter": {
    "hash": "ea9484b24c6876e2ed6068f83b8b861c2fbdf461370d8d3a651539d060d1e90f"
   }
  }
 },
 "nbformat": 4,
 "nbformat_minor": 2
}
