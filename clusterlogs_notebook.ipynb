{
 "cells": [
  {
   "cell_type": "markdown",
   "metadata": {},
   "source": [
    "# Clusterlogs Notebook"
   ]
  },
  {
   "cell_type": "code",
   "execution_count": 1,
   "metadata": {},
   "outputs": [],
   "source": [
    "import pandas as pd\n",
    "from clusterlogs import pipeline"
   ]
  },
  {
   "cell_type": "code",
   "execution_count": 2,
   "metadata": {},
   "outputs": [],
   "source": [
    "df = pd.read_csv('taskbuffererrordiag.csv', index_col=0, header=None)"
   ]
  },
  {
   "cell_type": "code",
   "execution_count": 3,
   "metadata": {},
   "outputs": [
    {
     "data": {
      "text/plain": [
       "array(['The worker was cancelled while the job was running : Condor HoldReason: None ; Condor RemoveReason: removed by SYSTEM_PERIODIC_REMOVE due to job restarted undesirably.  ',\n",
       "       'The worker was failed while the job was starting : Job submission to LRMS failed',\n",
       "       'The worker was failed while the job was starting : Payload execution error: returned non-zero',\n",
       "       ...,\n",
       "       'The worker was cancelled while the job was running : Condor HoldReason: CREAM error: reason=0  ; Worker canceled by harvester due to held too long or not found',\n",
       "       'The worker was cancelled while the job was running : Condor HoldReason: CREAM error: reason=0  ; Worker canceled by harvester due to held too long or not found',\n",
       "       'The worker was cancelled while the job was running : Condor HoldReason: CREAM error: reason=0  ; Worker canceled by harvester due to held too long or not found'],\n",
       "      dtype=object)"
      ]
     },
     "execution_count": 3,
     "metadata": {},
     "output_type": "execute_result"
    }
   ],
   "source": [
    "df[1].values"
   ]
  },
  {
   "cell_type": "code",
   "execution_count": 4,
   "metadata": {},
   "outputs": [],
   "source": [
    "target = 1"
   ]
  },
  {
   "cell_type": "code",
   "execution_count": 13,
   "metadata": {},
   "outputs": [
    {
     "name": "stdout",
     "output_type": "stream",
     "text": [
      "Data Preparation finished\n",
      "group_equals finished\n",
      "Tokenization finished\n",
      "Vectorization of tokens finished\n",
      "Vectorization of sentences is finished\n"
     ]
    },
    {
     "name": "stderr",
     "output_type": "stream",
     "text": [
      "/Users/maria/anaconda3/lib/python3.7/site-packages/smart_open/smart_open_lib.py:398: UserWarning: This function is deprecated, use smart_open.open instead. See the migration notes for details: https://github.com/RaRe-Technologies/smart_open/blob/master/README.rst#migrating-to-the-new-open-function\n",
      "  'See the migration notes for details: %s' % _MIGRATION_NOTES_URL\n"
     ]
    },
    {
     "name": "stdout",
     "output_type": "stream",
     "text": [
      "DBSCAN finished with 10 clusters\n"
     ]
    }
   ],
   "source": [
    "cluster = pipeline.ml_clustering(df, target, mode='process', model_name='panda_errors.model').process()"
   ]
  },
  {
   "cell_type": "code",
   "execution_count": 14,
   "metadata": {},
   "outputs": [
    {
     "data": {
      "text/html": [
       "<div>\n",
       "<style scoped>\n",
       "    .dataframe tbody tr th:only-of-type {\n",
       "        vertical-align: middle;\n",
       "    }\n",
       "\n",
       "    .dataframe tbody tr th {\n",
       "        vertical-align: top;\n",
       "    }\n",
       "\n",
       "    .dataframe thead th {\n",
       "        text-align: right;\n",
       "    }\n",
       "</style>\n",
       "<table border=\"1\" class=\"dataframe\">\n",
       "  <thead>\n",
       "    <tr style=\"text-align: right;\">\n",
       "      <th></th>\n",
       "      <th>pattern</th>\n",
       "      <th>sequence</th>\n",
       "      <th>indices</th>\n",
       "      <th>cluster_size</th>\n",
       "    </tr>\n",
       "  </thead>\n",
       "  <tbody>\n",
       "    <tr>\n",
       "      <td>0</td>\n",
       "      <td>The worker was{*} while the job was{*} :{*}:{*...</td>\n",
       "      <td>[The, ▁worker, ▁was, {, *, }, ▁while, ▁the, ▁j...</td>\n",
       "      <td>[4613660683, 4613660681, 4613660682, 461366068...</td>\n",
       "      <td>54081</td>\n",
       "    </tr>\n",
       "    <tr>\n",
       "      <td>1</td>\n",
       "      <td>The worker was cancelled while the job was run...</td>\n",
       "      <td>[The, ▁worker, ▁was, ▁cancelled, ▁while, ▁the,...</td>\n",
       "      <td>[4613972277, 4612219910, 4612202968, 461220296...</td>\n",
       "      <td>204</td>\n",
       "    </tr>\n",
       "    <tr>\n",
       "      <td>2</td>\n",
       "      <td>The worker was{*} while the job was{*} :{*}: T...</td>\n",
       "      <td>[The, ▁worker, ▁was, {, *, }, ▁while, ▁the, ▁j...</td>\n",
       "      <td>[4613252756, 4613252752, 4613101748, 461305413...</td>\n",
       "      <td>1352</td>\n",
       "    </tr>\n",
       "    <tr>\n",
       "      <td>3</td>\n",
       "      <td>didn't process any events on WN and{*} last{*}</td>\n",
       "      <td>[didn, ', t, ▁process, ▁any, ▁events, ▁on, ▁WN...</td>\n",
       "      <td>[4615080159, 4615080109, 4615080143, 461508013...</td>\n",
       "      <td>2229</td>\n",
       "    </tr>\n",
       "    <tr>\n",
       "      <td>4</td>\n",
       "      <td>killed by /DC=ch/DC=cern/OU=Organic Units/OU=U...</td>\n",
       "      <td>[killed, ▁by, ▁/, DC, =, ch, /, DC, =, cern, /...</td>\n",
       "      <td>[4607017038, 4607017019, 4607017006, 460701701...</td>\n",
       "      <td>26</td>\n",
       "    </tr>\n",
       "    <tr>\n",
       "      <td>5</td>\n",
       "      <td>killed by{*} by{*}</td>\n",
       "      <td>[killed, ▁by, {, *, }, ▁by, {, *, }]</td>\n",
       "      <td>[4611606824, 4611606825, 4611606828, 461160682...</td>\n",
       "      <td>1277</td>\n",
       "    </tr>\n",
       "    <tr>\n",
       "      <td>6</td>\n",
       "      <td>killed by killed since pre-merge job * gone</td>\n",
       "      <td>[killed, ▁by, ▁killed, ▁since, ▁pre-merge, ▁jo...</td>\n",
       "      <td>[4608065932, 4608065937, 4608047803, 460800858...</td>\n",
       "      <td>12</td>\n",
       "    </tr>\n",
       "    <tr>\n",
       "      <td>7</td>\n",
       "      <td>merge job failed</td>\n",
       "      <td>[merge, ▁job, ▁failed]</td>\n",
       "      <td>[4615228268, 4615228278, 4615228257, 461522828...</td>\n",
       "      <td>13477</td>\n",
       "    </tr>\n",
       "    <tr>\n",
       "      <td>8</td>\n",
       "      <td>set failed since no successfull events</td>\n",
       "      <td>[set, ▁failed, ▁since, ▁no, ▁successfull, ▁eve...</td>\n",
       "      <td>[4614086534, 4611739754, 4611696895]</td>\n",
       "      <td>3</td>\n",
       "    </tr>\n",
       "    <tr>\n",
       "      <td>9</td>\n",
       "      <td>transfer timeout for *</td>\n",
       "      <td>[transfer, ▁timeout, ▁for, ▁*]</td>\n",
       "      <td>[4612795587, 4612775908, 4612697625, 461264737...</td>\n",
       "      <td>2839</td>\n",
       "    </tr>\n",
       "  </tbody>\n",
       "</table>\n",
       "</div>"
      ],
      "text/plain": [
       "                                             pattern  \\\n",
       "0  The worker was{*} while the job was{*} :{*}:{*...   \n",
       "1  The worker was cancelled while the job was run...   \n",
       "2  The worker was{*} while the job was{*} :{*}: T...   \n",
       "3     didn't process any events on WN and{*} last{*}   \n",
       "4  killed by /DC=ch/DC=cern/OU=Organic Units/OU=U...   \n",
       "5                                 killed by{*} by{*}   \n",
       "6        killed by killed since pre-merge job * gone   \n",
       "7                                   merge job failed   \n",
       "8             set failed since no successfull events   \n",
       "9                             transfer timeout for *   \n",
       "\n",
       "                                            sequence  \\\n",
       "0  [The, ▁worker, ▁was, {, *, }, ▁while, ▁the, ▁j...   \n",
       "1  [The, ▁worker, ▁was, ▁cancelled, ▁while, ▁the,...   \n",
       "2  [The, ▁worker, ▁was, {, *, }, ▁while, ▁the, ▁j...   \n",
       "3  [didn, ', t, ▁process, ▁any, ▁events, ▁on, ▁WN...   \n",
       "4  [killed, ▁by, ▁/, DC, =, ch, /, DC, =, cern, /...   \n",
       "5               [killed, ▁by, {, *, }, ▁by, {, *, }]   \n",
       "6  [killed, ▁by, ▁killed, ▁since, ▁pre-merge, ▁jo...   \n",
       "7                             [merge, ▁job, ▁failed]   \n",
       "8  [set, ▁failed, ▁since, ▁no, ▁successfull, ▁eve...   \n",
       "9                     [transfer, ▁timeout, ▁for, ▁*]   \n",
       "\n",
       "                                             indices  cluster_size  \n",
       "0  [4613660683, 4613660681, 4613660682, 461366068...         54081  \n",
       "1  [4613972277, 4612219910, 4612202968, 461220296...           204  \n",
       "2  [4613252756, 4613252752, 4613101748, 461305413...          1352  \n",
       "3  [4615080159, 4615080109, 4615080143, 461508013...          2229  \n",
       "4  [4607017038, 4607017019, 4607017006, 460701701...            26  \n",
       "5  [4611606824, 4611606825, 4611606828, 461160682...          1277  \n",
       "6  [4608065932, 4608065937, 4608047803, 460800858...            12  \n",
       "7  [4615228268, 4615228278, 4615228257, 461522828...         13477  \n",
       "8               [4614086534, 4611739754, 4611696895]             3  \n",
       "9  [4612795587, 4612775908, 4612697625, 461264737...          2839  "
      ]
     },
     "execution_count": 14,
     "metadata": {},
     "output_type": "execute_result"
    }
   ],
   "source": [
    "cluster.result"
   ]
  },
  {
   "cell_type": "code",
   "execution_count": 15,
   "metadata": {},
   "outputs": [],
   "source": [
    "stat = cluster.validation(cluster.result)"
   ]
  },
  {
   "cell_type": "code",
   "execution_count": 16,
   "metadata": {},
   "outputs": [
    {
     "data": {
      "text/html": [
       "<div>\n",
       "<style scoped>\n",
       "    .dataframe tbody tr th:only-of-type {\n",
       "        vertical-align: middle;\n",
       "    }\n",
       "\n",
       "    .dataframe tbody tr th {\n",
       "        vertical-align: top;\n",
       "    }\n",
       "\n",
       "    .dataframe thead th {\n",
       "        text-align: right;\n",
       "    }\n",
       "</style>\n",
       "<table border=\"1\" class=\"dataframe\">\n",
       "  <thead>\n",
       "    <tr style=\"text-align: right;\">\n",
       "      <th></th>\n",
       "      <th>cluster_name</th>\n",
       "      <th>cluster_size</th>\n",
       "      <th>pattern</th>\n",
       "      <th>mean_similarity</th>\n",
       "      <th>std_similarity</th>\n",
       "    </tr>\n",
       "  </thead>\n",
       "  <tbody>\n",
       "    <tr>\n",
       "      <td>0</td>\n",
       "      <td>0</td>\n",
       "      <td>54081</td>\n",
       "      <td>The worker was{*} while the job was{*} :{*}:{*...</td>\n",
       "      <td>0.26</td>\n",
       "      <td>0.08</td>\n",
       "    </tr>\n",
       "    <tr>\n",
       "      <td>7</td>\n",
       "      <td>7</td>\n",
       "      <td>13477</td>\n",
       "      <td>merge job failed</td>\n",
       "      <td>1.00</td>\n",
       "      <td>0.00</td>\n",
       "    </tr>\n",
       "    <tr>\n",
       "      <td>9</td>\n",
       "      <td>9</td>\n",
       "      <td>2839</td>\n",
       "      <td>transfer timeout for *</td>\n",
       "      <td>0.75</td>\n",
       "      <td>0.08</td>\n",
       "    </tr>\n",
       "    <tr>\n",
       "      <td>3</td>\n",
       "      <td>3</td>\n",
       "      <td>2229</td>\n",
       "      <td>didn't process any events on WN and{*} last{*}</td>\n",
       "      <td>0.97</td>\n",
       "      <td>0.13</td>\n",
       "    </tr>\n",
       "    <tr>\n",
       "      <td>2</td>\n",
       "      <td>2</td>\n",
       "      <td>1352</td>\n",
       "      <td>The worker was{*} while the job was{*} :{*}: T...</td>\n",
       "      <td>0.90</td>\n",
       "      <td>0.23</td>\n",
       "    </tr>\n",
       "    <tr>\n",
       "      <td>5</td>\n",
       "      <td>5</td>\n",
       "      <td>1277</td>\n",
       "      <td>killed by{*} by{*}</td>\n",
       "      <td>0.44</td>\n",
       "      <td>0.07</td>\n",
       "    </tr>\n",
       "    <tr>\n",
       "      <td>1</td>\n",
       "      <td>1</td>\n",
       "      <td>204</td>\n",
       "      <td>The worker was cancelled while the job was run...</td>\n",
       "      <td>0.74</td>\n",
       "      <td>0.08</td>\n",
       "    </tr>\n",
       "    <tr>\n",
       "      <td>4</td>\n",
       "      <td>4</td>\n",
       "      <td>26</td>\n",
       "      <td>killed by /DC=ch/DC=cern/OU=Organic Units/OU=U...</td>\n",
       "      <td>0.78</td>\n",
       "      <td>0.17</td>\n",
       "    </tr>\n",
       "    <tr>\n",
       "      <td>6</td>\n",
       "      <td>6</td>\n",
       "      <td>12</td>\n",
       "      <td>killed by killed since pre-merge job * gone</td>\n",
       "      <td>0.90</td>\n",
       "      <td>0.04</td>\n",
       "    </tr>\n",
       "    <tr>\n",
       "      <td>8</td>\n",
       "      <td>8</td>\n",
       "      <td>3</td>\n",
       "      <td>set failed since no successfull events</td>\n",
       "      <td>1.00</td>\n",
       "      <td>0.00</td>\n",
       "    </tr>\n",
       "  </tbody>\n",
       "</table>\n",
       "</div>"
      ],
      "text/plain": [
       "   cluster_name  cluster_size  \\\n",
       "0             0         54081   \n",
       "7             7         13477   \n",
       "9             9          2839   \n",
       "3             3          2229   \n",
       "2             2          1352   \n",
       "5             5          1277   \n",
       "1             1           204   \n",
       "4             4            26   \n",
       "6             6            12   \n",
       "8             8             3   \n",
       "\n",
       "                                             pattern  mean_similarity  \\\n",
       "0  The worker was{*} while the job was{*} :{*}:{*...             0.26   \n",
       "7                                   merge job failed             1.00   \n",
       "9                             transfer timeout for *             0.75   \n",
       "3     didn't process any events on WN and{*} last{*}             0.97   \n",
       "2  The worker was{*} while the job was{*} :{*}: T...             0.90   \n",
       "5                                 killed by{*} by{*}             0.44   \n",
       "1  The worker was cancelled while the job was run...             0.74   \n",
       "4  killed by /DC=ch/DC=cern/OU=Organic Units/OU=U...             0.78   \n",
       "6        killed by killed since pre-merge job * gone             0.90   \n",
       "8             set failed since no successfull events             1.00   \n",
       "\n",
       "   std_similarity  \n",
       "0            0.08  \n",
       "7            0.00  \n",
       "9            0.08  \n",
       "3            0.13  \n",
       "2            0.23  \n",
       "5            0.07  \n",
       "1            0.08  \n",
       "4            0.17  \n",
       "6            0.04  \n",
       "8            0.00  "
      ]
     },
     "execution_count": 16,
     "metadata": {},
     "output_type": "execute_result"
    }
   ],
   "source": [
    "stat"
   ]
  },
  {
   "cell_type": "code",
   "execution_count": 9,
   "metadata": {},
   "outputs": [
    {
     "data": {
      "text/html": [
       "<div>\n",
       "<style scoped>\n",
       "    .dataframe tbody tr th:only-of-type {\n",
       "        vertical-align: middle;\n",
       "    }\n",
       "\n",
       "    .dataframe tbody tr th {\n",
       "        vertical-align: top;\n",
       "    }\n",
       "\n",
       "    .dataframe thead th {\n",
       "        text-align: right;\n",
       "    }\n",
       "</style>\n",
       "<table border=\"1\" class=\"dataframe\">\n",
       "  <thead>\n",
       "    <tr style=\"text-align: right;\">\n",
       "      <th></th>\n",
       "      <th>1</th>\n",
       "      <th>cleaned</th>\n",
       "    </tr>\n",
       "    <tr>\n",
       "      <th>0</th>\n",
       "      <th></th>\n",
       "      <th></th>\n",
       "    </tr>\n",
       "  </thead>\n",
       "  <tbody>\n",
       "    <tr>\n",
       "      <td>4615345009</td>\n",
       "      <td>The worker was cancelled while the job was run...</td>\n",
       "      <td>The worker was cancelled while the job was run...</td>\n",
       "    </tr>\n",
       "    <tr>\n",
       "      <td>4615344962</td>\n",
       "      <td>The worker was failed while the job was starti...</td>\n",
       "      <td>The worker was failed while the job was starti...</td>\n",
       "    </tr>\n",
       "    <tr>\n",
       "      <td>4615344837</td>\n",
       "      <td>The worker was failed while the job was starti...</td>\n",
       "      <td>The worker was failed while the job was starti...</td>\n",
       "    </tr>\n",
       "    <tr>\n",
       "      <td>4615343705</td>\n",
       "      <td>The worker was failed while the job was starti...</td>\n",
       "      <td>The worker was failed while the job was starti...</td>\n",
       "    </tr>\n",
       "    <tr>\n",
       "      <td>4615343308</td>\n",
       "      <td>The worker was failed while the job was starti...</td>\n",
       "      <td>The worker was failed while the job was starti...</td>\n",
       "    </tr>\n",
       "  </tbody>\n",
       "</table>\n",
       "</div>"
      ],
      "text/plain": [
       "                                                            1  \\\n",
       "0                                                               \n",
       "4615345009  The worker was cancelled while the job was run...   \n",
       "4615344962  The worker was failed while the job was starti...   \n",
       "4615344837  The worker was failed while the job was starti...   \n",
       "4615343705  The worker was failed while the job was starti...   \n",
       "4615343308  The worker was failed while the job was starti...   \n",
       "\n",
       "                                                      cleaned  \n",
       "0                                                              \n",
       "4615345009  The worker was cancelled while the job was run...  \n",
       "4615344962  The worker was failed while the job was starti...  \n",
       "4615344837  The worker was failed while the job was starti...  \n",
       "4615343705  The worker was failed while the job was starti...  \n",
       "4615343308  The worker was failed while the job was starti...  "
      ]
     },
     "execution_count": 9,
     "metadata": {},
     "output_type": "execute_result"
    }
   ],
   "source": [
    "cluster.df.head()"
   ]
  },
  {
   "cell_type": "code",
   "execution_count": 24,
   "metadata": {},
   "outputs": [
    {
     "data": {
      "text/plain": [
       "array(['transfer timeout for  DAOD_FTAG4.20305832._000017.pool.root.1',\n",
       "       'transfer timeout for  DAOD_FTAG2.20304666._000004.pool.root.1',\n",
       "       'transfer timeout for  HITS.20087075._008541.pool.root.1', ...,\n",
       "       'transfer timeout for  DAOD_JETM1.20293456._001304.pool.root.1 DAOD_JETM3.20293456._001304.pool.root.1 DAOD_JETM4.20293456._001304.pool.root.1',\n",
       "       'transfer timeout for  DAOD_JETM4.20293456._000455.pool.root.1 DAOD_JETM1.20293456._000455.pool.root.1 DAOD_JETM3.20293456._000455.pool.root.1',\n",
       "       'transfer timeout for  DAOD_JETM4.20293569._000178.pool.root.1 DAOD_JETM1.20293569._000178.pool.root.1 DAOD_JETM3.20293569._000178.pool.root.1'],\n",
       "      dtype=object)"
      ]
     },
     "execution_count": 24,
     "metadata": {},
     "output_type": "execute_result"
    }
   ],
   "source": [
    "cluster.in_cluster(cluster.result, 9)"
   ]
  },
  {
   "cell_type": "code",
   "execution_count": null,
   "metadata": {},
   "outputs": [],
   "source": []
  }
 ],
 "metadata": {
  "kernelspec": {
   "display_name": "Python 3",
   "language": "python",
   "name": "python3"
  },
  "language_info": {
   "codemirror_mode": {
    "name": "ipython",
    "version": 3
   },
   "file_extension": ".py",
   "mimetype": "text/x-python",
   "name": "python",
   "nbconvert_exporter": "python",
   "pygments_lexer": "ipython3",
   "version": "3.7.0"
  }
 },
 "nbformat": 4,
 "nbformat_minor": 1
}
