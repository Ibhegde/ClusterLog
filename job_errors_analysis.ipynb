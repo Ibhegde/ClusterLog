{
 "cells": [
  {
   "cell_type": "code",
   "execution_count": 1,
   "metadata": {},
   "outputs": [],
   "source": [
    "from clusterlogs import multistage"
   ]
  },
  {
   "cell_type": "code",
   "execution_count": 2,
   "metadata": {},
   "outputs": [],
   "source": [
    "import pandas as pd"
   ]
  },
  {
   "cell_type": "code",
   "execution_count": 3,
   "metadata": {},
   "outputs": [
    {
     "name": "stderr",
     "output_type": "stream",
     "text": [
      "/Users/maria/anaconda3/lib/python3.7/site-packages/IPython/core/interactiveshell.py:3049: DtypeWarning: Columns (115) have mixed types. Specify dtype option on import or set low_memory=False.\n",
      "  interactivity=interactivity, compiler=compiler, result=result)\n"
     ]
    }
   ],
   "source": [
    "df = pd.read_csv('samples/jobs-january10-100.csv')"
   ]
  },
  {
   "cell_type": "code",
   "execution_count": 4,
   "metadata": {},
   "outputs": [
    {
     "data": {
      "text/plain": [
       "<bound method NDFrame.describe of 0        2020-01-10T08:57:35\n",
       "1        2020-01-10T13:01:31\n",
       "2        2020-01-10T13:01:32\n",
       "3        2020-01-10T13:01:32\n",
       "4        2020-01-10T13:01:32\n",
       "                ...         \n",
       "95158    2020-01-10T17:08:25\n",
       "95159    2020-01-10T17:14:31\n",
       "95160    2020-01-10T17:12:23\n",
       "95161    2020-01-10T08:39:51\n",
       "95162    2020-01-10T08:58:47\n",
       "Name: starttime, Length: 95163, dtype: object>"
      ]
     },
     "execution_count": 4,
     "metadata": {},
     "output_type": "execute_result"
    }
   ],
   "source": [
    "df['starttime'].describe"
   ]
  },
  {
   "cell_type": "code",
   "execution_count": 5,
   "metadata": {},
   "outputs": [],
   "source": [
    "df.set_index('pandaid', inplace=True)"
   ]
  },
  {
   "cell_type": "code",
   "execution_count": 6,
   "metadata": {},
   "outputs": [],
   "source": [
    "errors = df[['ddmerrordiag','brokerageerrordiag','exeerrordiag',\n",
    "             'piloterrordiag','superrordiag','taskbuffererrordiag']].dropna(axis=0, how='all')"
   ]
  },
  {
   "cell_type": "code",
   "execution_count": 7,
   "metadata": {},
   "outputs": [],
   "source": [
    "ddm = errors[['ddmerrordiag']].dropna(axis=0)"
   ]
  },
  {
   "cell_type": "code",
   "execution_count": 8,
   "metadata": {},
   "outputs": [],
   "source": [
    "broker = errors['brokerageerrordiag'].dropna(axis=0)"
   ]
  },
  {
   "cell_type": "code",
   "execution_count": 9,
   "metadata": {},
   "outputs": [],
   "source": [
    "exe = errors['exeerrordiag'].dropna()"
   ]
  },
  {
   "cell_type": "code",
   "execution_count": 10,
   "metadata": {},
   "outputs": [],
   "source": [
    "pilot = errors[['piloterrordiag']].dropna(axis=0)"
   ]
  },
  {
   "cell_type": "code",
   "execution_count": 11,
   "metadata": {},
   "outputs": [],
   "source": [
    "sup = errors[['superrordiag']].dropna(axis=0)"
   ]
  },
  {
   "cell_type": "code",
   "execution_count": 12,
   "metadata": {},
   "outputs": [],
   "source": [
    "taskbuf = errors[['taskbuffererrordiag']].dropna(axis=0)"
   ]
  },
  {
   "cell_type": "code",
   "execution_count": 13,
   "metadata": {},
   "outputs": [],
   "source": [
    "ddm.to_csv('ddm.csv')"
   ]
  },
  {
   "cell_type": "code",
   "execution_count": 14,
   "metadata": {},
   "outputs": [
    {
     "data": {
      "text/html": [
       "<div>\n",
       "<style scoped>\n",
       "    .dataframe tbody tr th:only-of-type {\n",
       "        vertical-align: middle;\n",
       "    }\n",
       "\n",
       "    .dataframe tbody tr th {\n",
       "        vertical-align: top;\n",
       "    }\n",
       "\n",
       "    .dataframe thead th {\n",
       "        text-align: right;\n",
       "    }\n",
       "</style>\n",
       "<table border=\"1\" class=\"dataframe\">\n",
       "  <thead>\n",
       "    <tr style=\"text-align: right;\">\n",
       "      <th></th>\n",
       "      <th>piloterrordiag</th>\n",
       "    </tr>\n",
       "    <tr>\n",
       "      <th>pandaid</th>\n",
       "      <th></th>\n",
       "    </tr>\n",
       "  </thead>\n",
       "  <tbody>\n",
       "    <tr>\n",
       "      <td>4599901443</td>\n",
       "      <td>Killed by Harvester due to worker queuing too ...</td>\n",
       "    </tr>\n",
       "    <tr>\n",
       "      <td>4599901454</td>\n",
       "      <td>Killed by Harvester due to worker queuing too ...</td>\n",
       "    </tr>\n",
       "    <tr>\n",
       "      <td>4599901466</td>\n",
       "      <td>Killed by Harvester due to worker queuing too ...</td>\n",
       "    </tr>\n",
       "    <tr>\n",
       "      <td>4599929289</td>\n",
       "      <td>Killed by Harvester due to worker queuing too ...</td>\n",
       "    </tr>\n",
       "    <tr>\n",
       "      <td>4599929301</td>\n",
       "      <td>Killed by Harvester due to worker queuing too ...</td>\n",
       "    </tr>\n",
       "    <tr>\n",
       "      <td>...</td>\n",
       "      <td>...</td>\n",
       "    </tr>\n",
       "    <tr>\n",
       "      <td>4602792972</td>\n",
       "      <td>Service not available at the moment: group.per...</td>\n",
       "    </tr>\n",
       "    <tr>\n",
       "      <td>4602571031</td>\n",
       "      <td>File transfer timed out during stage-out: user...</td>\n",
       "    </tr>\n",
       "    <tr>\n",
       "      <td>4602676390</td>\n",
       "      <td>Service not available at the moment: user.mvan...</td>\n",
       "    </tr>\n",
       "    <tr>\n",
       "      <td>4602759658</td>\n",
       "      <td>Service not available at the moment: user.mvan...</td>\n",
       "    </tr>\n",
       "    <tr>\n",
       "      <td>4602887980</td>\n",
       "      <td>Local output file is missing</td>\n",
       "    </tr>\n",
       "  </tbody>\n",
       "</table>\n",
       "<p>24636 rows × 1 columns</p>\n",
       "</div>"
      ],
      "text/plain": [
       "                                               piloterrordiag\n",
       "pandaid                                                      \n",
       "4599901443  Killed by Harvester due to worker queuing too ...\n",
       "4599901454  Killed by Harvester due to worker queuing too ...\n",
       "4599901466  Killed by Harvester due to worker queuing too ...\n",
       "4599929289  Killed by Harvester due to worker queuing too ...\n",
       "4599929301  Killed by Harvester due to worker queuing too ...\n",
       "...                                                       ...\n",
       "4602792972  Service not available at the moment: group.per...\n",
       "4602571031  File transfer timed out during stage-out: user...\n",
       "4602676390  Service not available at the moment: user.mvan...\n",
       "4602759658  Service not available at the moment: user.mvan...\n",
       "4602887980                       Local output file is missing\n",
       "\n",
       "[24636 rows x 1 columns]"
      ]
     },
     "execution_count": 14,
     "metadata": {},
     "output_type": "execute_result"
    }
   ],
   "source": [
    "pilot"
   ]
  },
  {
   "cell_type": "code",
   "execution_count": 15,
   "metadata": {},
   "outputs": [
    {
     "data": {
      "text/html": [
       "<div>\n",
       "<style scoped>\n",
       "    .dataframe tbody tr th:only-of-type {\n",
       "        vertical-align: middle;\n",
       "    }\n",
       "\n",
       "    .dataframe tbody tr th {\n",
       "        vertical-align: top;\n",
       "    }\n",
       "\n",
       "    .dataframe thead th {\n",
       "        text-align: right;\n",
       "    }\n",
       "</style>\n",
       "<table border=\"1\" class=\"dataframe\">\n",
       "  <thead>\n",
       "    <tr style=\"text-align: right;\">\n",
       "      <th></th>\n",
       "      <th>superrordiag</th>\n",
       "    </tr>\n",
       "    <tr>\n",
       "      <th>pandaid</th>\n",
       "      <th></th>\n",
       "    </tr>\n",
       "  </thead>\n",
       "  <tbody>\n",
       "    <tr>\n",
       "      <td>4599599744</td>\n",
       "      <td>Diag from worker : Error reading user generate...</td>\n",
       "    </tr>\n",
       "    <tr>\n",
       "      <td>4601313649</td>\n",
       "      <td>Diag from worker : Condor HoldReason: The syst...</td>\n",
       "    </tr>\n",
       "    <tr>\n",
       "      <td>4601315202</td>\n",
       "      <td>Diag from worker : Condor HoldReason: The syst...</td>\n",
       "    </tr>\n",
       "    <tr>\n",
       "      <td>4600883141</td>\n",
       "      <td>Diag from worker : cannot get JobStatus of job...</td>\n",
       "    </tr>\n",
       "    <tr>\n",
       "      <td>4601314262</td>\n",
       "      <td>Diag from worker : cannot get JobStatus of job...</td>\n",
       "    </tr>\n",
       "    <tr>\n",
       "      <td>...</td>\n",
       "      <td>...</td>\n",
       "    </tr>\n",
       "    <tr>\n",
       "      <td>4602695955</td>\n",
       "      <td>Diag from worker : Condor HoldReason: Job not ...</td>\n",
       "    </tr>\n",
       "    <tr>\n",
       "      <td>4602824916</td>\n",
       "      <td>Diag from worker : Condor HoldReason: None ; C...</td>\n",
       "    </tr>\n",
       "    <tr>\n",
       "      <td>4603435209</td>\n",
       "      <td>Diag from worker : Condor HoldReason: CREAM er...</td>\n",
       "    </tr>\n",
       "    <tr>\n",
       "      <td>4602793004</td>\n",
       "      <td>Diag from worker : Condor HoldReason: None ; C...</td>\n",
       "    </tr>\n",
       "    <tr>\n",
       "      <td>4602985117</td>\n",
       "      <td>Diag from worker : Condor HoldReason: None ; C...</td>\n",
       "    </tr>\n",
       "  </tbody>\n",
       "</table>\n",
       "<p>30819 rows × 1 columns</p>\n",
       "</div>"
      ],
      "text/plain": [
       "                                                 superrordiag\n",
       "pandaid                                                      \n",
       "4599599744  Diag from worker : Error reading user generate...\n",
       "4601313649  Diag from worker : Condor HoldReason: The syst...\n",
       "4601315202  Diag from worker : Condor HoldReason: The syst...\n",
       "4600883141  Diag from worker : cannot get JobStatus of job...\n",
       "4601314262  Diag from worker : cannot get JobStatus of job...\n",
       "...                                                       ...\n",
       "4602695955  Diag from worker : Condor HoldReason: Job not ...\n",
       "4602824916  Diag from worker : Condor HoldReason: None ; C...\n",
       "4603435209  Diag from worker : Condor HoldReason: CREAM er...\n",
       "4602793004  Diag from worker : Condor HoldReason: None ; C...\n",
       "4602985117  Diag from worker : Condor HoldReason: None ; C...\n",
       "\n",
       "[30819 rows x 1 columns]"
      ]
     },
     "execution_count": 15,
     "metadata": {},
     "output_type": "execute_result"
    }
   ],
   "source": [
    "sup"
   ]
  },
  {
   "cell_type": "code",
   "execution_count": 16,
   "metadata": {},
   "outputs": [
    {
     "data": {
      "text/html": [
       "<div>\n",
       "<style scoped>\n",
       "    .dataframe tbody tr th:only-of-type {\n",
       "        vertical-align: middle;\n",
       "    }\n",
       "\n",
       "    .dataframe tbody tr th {\n",
       "        vertical-align: top;\n",
       "    }\n",
       "\n",
       "    .dataframe thead th {\n",
       "        text-align: right;\n",
       "    }\n",
       "</style>\n",
       "<table border=\"1\" class=\"dataframe\">\n",
       "  <thead>\n",
       "    <tr style=\"text-align: right;\">\n",
       "      <th></th>\n",
       "      <th>taskbuffererrordiag</th>\n",
       "    </tr>\n",
       "    <tr>\n",
       "      <th>pandaid</th>\n",
       "      <th></th>\n",
       "    </tr>\n",
       "  </thead>\n",
       "  <tbody>\n",
       "    <tr>\n",
       "      <td>4598425005</td>\n",
       "      <td>killed by kill by Matous Vozak</td>\n",
       "    </tr>\n",
       "    <tr>\n",
       "      <td>4600015972</td>\n",
       "      <td>reassigned by JEDI</td>\n",
       "    </tr>\n",
       "    <tr>\n",
       "      <td>4600015976</td>\n",
       "      <td>reassigned by JEDI</td>\n",
       "    </tr>\n",
       "    <tr>\n",
       "      <td>4600016038</td>\n",
       "      <td>reassigned by JEDI</td>\n",
       "    </tr>\n",
       "    <tr>\n",
       "      <td>4600016040</td>\n",
       "      <td>reassigned by JEDI</td>\n",
       "    </tr>\n",
       "    <tr>\n",
       "      <td>...</td>\n",
       "      <td>...</td>\n",
       "    </tr>\n",
       "    <tr>\n",
       "      <td>4602824186</td>\n",
       "      <td>The worker was cancelled while the job was run...</td>\n",
       "    </tr>\n",
       "    <tr>\n",
       "      <td>4602917881</td>\n",
       "      <td>The worker was cancelled while the job was run...</td>\n",
       "    </tr>\n",
       "    <tr>\n",
       "      <td>4602824916</td>\n",
       "      <td>The worker was cancelled while the job was run...</td>\n",
       "    </tr>\n",
       "    <tr>\n",
       "      <td>4602793004</td>\n",
       "      <td>The worker was cancelled while the job was run...</td>\n",
       "    </tr>\n",
       "    <tr>\n",
       "      <td>4602985117</td>\n",
       "      <td>The worker was cancelled while the job was run...</td>\n",
       "    </tr>\n",
       "  </tbody>\n",
       "</table>\n",
       "<p>36302 rows × 1 columns</p>\n",
       "</div>"
      ],
      "text/plain": [
       "                                          taskbuffererrordiag\n",
       "pandaid                                                      \n",
       "4598425005                     killed by kill by Matous Vozak\n",
       "4600015972                                 reassigned by JEDI\n",
       "4600015976                                 reassigned by JEDI\n",
       "4600016038                                 reassigned by JEDI\n",
       "4600016040                                 reassigned by JEDI\n",
       "...                                                       ...\n",
       "4602824186  The worker was cancelled while the job was run...\n",
       "4602917881  The worker was cancelled while the job was run...\n",
       "4602824916  The worker was cancelled while the job was run...\n",
       "4602793004  The worker was cancelled while the job was run...\n",
       "4602985117  The worker was cancelled while the job was run...\n",
       "\n",
       "[36302 rows x 1 columns]"
      ]
     },
     "execution_count": 16,
     "metadata": {},
     "output_type": "execute_result"
    }
   ],
   "source": [
    "taskbuf"
   ]
  },
  {
   "cell_type": "code",
   "execution_count": 17,
   "metadata": {},
   "outputs": [
    {
     "name": "stderr",
     "output_type": "stream",
     "text": [
      "/Users/maria/anaconda3/lib/python3.7/site-packages/smart_open/smart_open_lib.py:398: UserWarning: This function is deprecated, use smart_open.open instead. See the migration notes for details: https://github.com/RaRe-Technologies/smart_open/blob/master/README.rst#migrating-to-the-new-open-function\n",
      "  'See the migration notes for details: %s' % _MIGRATION_NOTES_URL\n"
     ]
    }
   ],
   "source": [
    "ddm_errors = multistage.exec(ddm, 'ddmerrordiag', 'ddm.model')"
   ]
  },
  {
   "cell_type": "code",
   "execution_count": 18,
   "metadata": {},
   "outputs": [
    {
     "data": {
      "text/html": [
       "<div>\n",
       "<style scoped>\n",
       "    .dataframe tbody tr th:only-of-type {\n",
       "        vertical-align: middle;\n",
       "    }\n",
       "\n",
       "    .dataframe tbody tr th {\n",
       "        vertical-align: top;\n",
       "    }\n",
       "\n",
       "    .dataframe thead th {\n",
       "        text-align: right;\n",
       "    }\n",
       "</style>\n",
       "<table border=\"1\" class=\"dataframe\">\n",
       "  <thead>\n",
       "    <tr style=\"text-align: right;\">\n",
       "      <th></th>\n",
       "      <th>cluster_name</th>\n",
       "      <th>cluster_size</th>\n",
       "      <th>pattern</th>\n",
       "      <th>sequence</th>\n",
       "      <th>mean_similarity</th>\n",
       "      <th>std_similarity</th>\n",
       "      <th>indices</th>\n",
       "    </tr>\n",
       "  </thead>\n",
       "  <tbody>\n",
       "    <tr>\n",
       "      <td>0</td>\n",
       "      <td>0</td>\n",
       "      <td>5266</td>\n",
       "      <td>expected output * is missing in pilot XML</td>\n",
       "      <td>[expected, output, *, is, missing, in, pilot, ...</td>\n",
       "      <td>1.0</td>\n",
       "      <td>0.00</td>\n",
       "      <td>[4599901443, 4599901454, 4599901466, 459992928...</td>\n",
       "    </tr>\n",
       "    <tr>\n",
       "      <td>1</td>\n",
       "      <td>1</td>\n",
       "      <td>13</td>\n",
       "      <td>Could not get GUID/LFN/*/FSIZE/SURL from pilot...</td>\n",
       "      <td>[Could, not, get, GUID/LFN/*/FSIZE/SURL, from,...</td>\n",
       "      <td>0.8</td>\n",
       "      <td>0.37</td>\n",
       "      <td>[4601795449, 4602489068, 4602290970, 460261747...</td>\n",
       "    </tr>\n",
       "  </tbody>\n",
       "</table>\n",
       "</div>"
      ],
      "text/plain": [
       "  cluster_name  cluster_size  \\\n",
       "0            0          5266   \n",
       "1            1            13   \n",
       "\n",
       "                                             pattern  \\\n",
       "0          expected output * is missing in pilot XML   \n",
       "1  Could not get GUID/LFN/*/FSIZE/SURL from pilot...   \n",
       "\n",
       "                                            sequence  mean_similarity  \\\n",
       "0  [expected, output, *, is, missing, in, pilot, ...              1.0   \n",
       "1  [Could, not, get, GUID/LFN/*/FSIZE/SURL, from,...              0.8   \n",
       "\n",
       "   std_similarity                                            indices  \n",
       "0            0.00  [4599901443, 4599901454, 4599901466, 459992928...  \n",
       "1            0.37  [4601795449, 4602489068, 4602290970, 460261747...  "
      ]
     },
     "execution_count": 18,
     "metadata": {},
     "output_type": "execute_result"
    }
   ],
   "source": [
    "ddm_errors.results"
   ]
  },
  {
   "cell_type": "code",
   "execution_count": 19,
   "metadata": {},
   "outputs": [],
   "source": [
    "ddm_errors.results.to_csv('ddm_errors.csv')"
   ]
  },
  {
   "cell_type": "code",
   "execution_count": 20,
   "metadata": {},
   "outputs": [
    {
     "name": "stderr",
     "output_type": "stream",
     "text": [
      "/Users/maria/anaconda3/lib/python3.7/site-packages/smart_open/smart_open_lib.py:398: UserWarning: This function is deprecated, use smart_open.open instead. See the migration notes for details: https://github.com/RaRe-Technologies/smart_open/blob/master/README.rst#migrating-to-the-new-open-function\n",
      "  'See the migration notes for details: %s' % _MIGRATION_NOTES_URL\n",
      "/Users/maria/PyCharmProjects/ClusterLogs/clusterlogs/pipeline.py:115: SettingWithCopyWarning: \n",
      "A value is trying to be set on a copy of a slice from a DataFrame.\n",
      "Try using .loc[row_indexer,col_indexer] = value instead\n",
      "\n",
      "See the caveats in the documentation: http://pandas.pydata.org/pandas-docs/stable/user_guide/indexing.html#returning-a-view-versus-a-copy\n",
      "  self.df['cleaned'] = self.messages_cleaned\n",
      "/Users/maria/PyCharmProjects/ClusterLogs/clusterlogs/pipeline.py:127: SettingWithCopyWarning: \n",
      "A value is trying to be set on a copy of a slice from a DataFrame.\n",
      "Try using .loc[row_indexer,col_indexer] = value instead\n",
      "\n",
      "See the caveats in the documentation: http://pandas.pydata.org/pandas-docs/stable/user_guide/indexing.html#returning-a-view-versus-a-copy\n",
      "  self.df['tokenized_wordpunct'] = self.tokens.tokenized_wordpunct\n",
      "/Users/maria/PyCharmProjects/ClusterLogs/clusterlogs/pipeline.py:128: SettingWithCopyWarning: \n",
      "A value is trying to be set on a copy of a slice from a DataFrame.\n",
      "Try using .loc[row_indexer,col_indexer] = value instead\n",
      "\n",
      "See the caveats in the documentation: http://pandas.pydata.org/pandas-docs/stable/user_guide/indexing.html#returning-a-view-versus-a-copy\n",
      "  self.df['tokenized_pyonmttok'] = self.tokens.tokenized_pyonmttok\n",
      "/Users/maria/anaconda3/lib/python3.7/site-packages/smart_open/smart_open_lib.py:398: UserWarning: This function is deprecated, use smart_open.open instead. See the migration notes for details: https://github.com/RaRe-Technologies/smart_open/blob/master/README.rst#migrating-to-the-new-open-function\n",
      "  'See the migration notes for details: %s' % _MIGRATION_NOTES_URL\n",
      "/Users/maria/PyCharmProjects/ClusterLogs/clusterlogs/pipeline.py:227: SettingWithCopyWarning: \n",
      "A value is trying to be set on a copy of a slice from a DataFrame.\n",
      "Try using .loc[row_indexer,col_indexer] = value instead\n",
      "\n",
      "See the caveats in the documentation: http://pandas.pydata.org/pandas-docs/stable/user_guide/indexing.html#returning-a-view-versus-a-copy\n",
      "  self.df['cluster'] = self.cluster_labels\n",
      "/Users/maria/anaconda3/lib/python3.7/site-packages/smart_open/smart_open_lib.py:398: UserWarning: This function is deprecated, use smart_open.open instead. See the migration notes for details: https://github.com/RaRe-Technologies/smart_open/blob/master/README.rst#migrating-to-the-new-open-function\n",
      "  'See the migration notes for details: %s' % _MIGRATION_NOTES_URL\n"
     ]
    }
   ],
   "source": [
    "pilot_errors = multistage.exec(pilot, 'piloterrordiag', 'pilot.model')"
   ]
  },
  {
   "cell_type": "code",
   "execution_count": 21,
   "metadata": {},
   "outputs": [],
   "source": [
    "pilot_errors.results"
   ]
  },
  {
   "cell_type": "code",
   "execution_count": 22,
   "metadata": {},
   "outputs": [
    {
     "ename": "AttributeError",
     "evalue": "'NoneType' object has no attribute 'to_csv'",
     "output_type": "error",
     "traceback": [
      "\u001b[0;31m---------------------------------------------------------------------------\u001b[0m",
      "\u001b[0;31mAttributeError\u001b[0m                            Traceback (most recent call last)",
      "\u001b[0;32m<ipython-input-22-9afe00358b45>\u001b[0m in \u001b[0;36m<module>\u001b[0;34m\u001b[0m\n\u001b[0;32m----> 1\u001b[0;31m \u001b[0mpilot_errors\u001b[0m\u001b[0;34m.\u001b[0m\u001b[0mresults\u001b[0m\u001b[0;34m.\u001b[0m\u001b[0mto_csv\u001b[0m\u001b[0;34m(\u001b[0m\u001b[0;34m'pilot_errors.csv'\u001b[0m\u001b[0;34m)\u001b[0m\u001b[0;34m\u001b[0m\u001b[0m\n\u001b[0m",
      "\u001b[0;31mAttributeError\u001b[0m: 'NoneType' object has no attribute 'to_csv'"
     ]
    }
   ],
   "source": [
    "pilot_errors.results.to_csv('pilot_errors.csv')"
   ]
  },
  {
   "cell_type": "code",
   "execution_count": null,
   "metadata": {},
   "outputs": [],
   "source": [
    "sup_errors = multistage.exec(sup, 'superrordiag', 'sup.model')"
   ]
  },
  {
   "cell_type": "code",
   "execution_count": null,
   "metadata": {
    "scrolled": false
   },
   "outputs": [],
   "source": [
    "sup_errors.results"
   ]
  },
  {
   "cell_type": "code",
   "execution_count": null,
   "metadata": {},
   "outputs": [],
   "source": [
    "taskbuf_errors = multistage.exec(taskbuf, 'taskbuffererrordiag', 'taskbuf.model')"
   ]
  },
  {
   "cell_type": "code",
   "execution_count": null,
   "metadata": {
    "scrolled": false
   },
   "outputs": [],
   "source": [
    "taskbuf_errors.results"
   ]
  },
  {
   "cell_type": "code",
   "execution_count": null,
   "metadata": {},
   "outputs": [],
   "source": [
    "taskbuf_errors.results.to_csv('taskbuf_errors.csv')"
   ]
  },
  {
   "cell_type": "code",
   "execution_count": null,
   "metadata": {},
   "outputs": [],
   "source": [
    "print(taskbuf_errors.in_cluster(0))"
   ]
  },
  {
   "cell_type": "code",
   "execution_count": null,
   "metadata": {},
   "outputs": [],
   "source": [
    "taskbuf_errors.cluster.patterns_stats"
   ]
  },
  {
   "cell_type": "code",
   "execution_count": null,
   "metadata": {},
   "outputs": [],
   "source": [
    "print(taskbuf_errors.cluster.in_cluster(2).tolist())"
   ]
  },
  {
   "cell_type": "code",
   "execution_count": null,
   "metadata": {},
   "outputs": [],
   "source": []
  }
 ],
 "metadata": {
  "kernelspec": {
   "display_name": "Python 3",
   "language": "python",
   "name": "python3"
  },
  "language_info": {
   "codemirror_mode": {
    "name": "ipython",
    "version": 3
   },
   "file_extension": ".py",
   "mimetype": "text/x-python",
   "name": "python",
   "nbconvert_exporter": "python",
   "pygments_lexer": "ipython3",
   "version": "3.7.6"
  }
 },
 "nbformat": 4,
 "nbformat_minor": 2
}
