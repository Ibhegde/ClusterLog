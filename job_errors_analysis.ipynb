{
 "cells": [
  {
   "cell_type": "code",
   "execution_count": 1,
   "metadata": {},
   "outputs": [],
   "source": [
    "from clusterlogs import multistage"
   ]
  },
  {
   "cell_type": "code",
   "execution_count": 2,
   "metadata": {},
   "outputs": [],
   "source": [
    "import pandas as pd"
   ]
  },
  {
   "cell_type": "code",
   "execution_count": 3,
   "metadata": {},
   "outputs": [
    {
     "name": "stderr",
     "output_type": "stream",
     "text": [
      "/anaconda3/envs/anaconda37/lib/python3.7/site-packages/IPython/core/interactiveshell.py:3051: DtypeWarning: Columns (115) have mixed types. Specify dtype option on import or set low_memory=False.\n",
      "  interactivity=interactivity, compiler=compiler, result=result)\n"
     ]
    }
   ],
   "source": [
    "df = pd.read_csv('samples/jobs-january10-100.csv')"
   ]
  },
  {
   "cell_type": "code",
   "execution_count": 4,
   "metadata": {},
   "outputs": [
    {
     "data": {
      "text/plain": [
       "<bound method NDFrame.describe of 0        2020-01-10T08:57:35\n",
       "1        2020-01-10T13:01:31\n",
       "2        2020-01-10T13:01:32\n",
       "3        2020-01-10T13:01:32\n",
       "4        2020-01-10T13:01:32\n",
       "                ...         \n",
       "95158    2020-01-10T17:08:25\n",
       "95159    2020-01-10T17:14:31\n",
       "95160    2020-01-10T17:12:23\n",
       "95161    2020-01-10T08:39:51\n",
       "95162    2020-01-10T08:58:47\n",
       "Name: starttime, Length: 95163, dtype: object>"
      ]
     },
     "execution_count": 4,
     "metadata": {},
     "output_type": "execute_result"
    }
   ],
   "source": [
    "df['starttime'].describe"
   ]
  },
  {
   "cell_type": "code",
   "execution_count": 5,
   "metadata": {},
   "outputs": [],
   "source": [
    "df.set_index('pandaid', inplace=True)"
   ]
  },
  {
   "cell_type": "code",
   "execution_count": 6,
   "metadata": {},
   "outputs": [],
   "source": [
    "errors = df[['ddmerrordiag','brokerageerrordiag','exeerrordiag',\n",
    "             'piloterrordiag','superrordiag','taskbuffererrordiag']].dropna(axis=0, how='all')"
   ]
  },
  {
   "cell_type": "code",
   "execution_count": 7,
   "metadata": {},
   "outputs": [],
   "source": [
    "ddm = errors[['ddmerrordiag']].dropna(axis=0)"
   ]
  },
  {
   "cell_type": "code",
   "execution_count": 8,
   "metadata": {},
   "outputs": [],
   "source": [
    "broker = errors['brokerageerrordiag'].dropna(axis=0)"
   ]
  },
  {
   "cell_type": "code",
   "execution_count": 9,
   "metadata": {},
   "outputs": [],
   "source": [
    "exe = errors['exeerrordiag'].dropna()"
   ]
  },
  {
   "cell_type": "code",
   "execution_count": 10,
   "metadata": {},
   "outputs": [],
   "source": [
    "pilot = errors[['piloterrordiag']].dropna(axis=0)"
   ]
  },
  {
   "cell_type": "code",
   "execution_count": 11,
   "metadata": {},
   "outputs": [],
   "source": [
    "sup = errors[['superrordiag']].dropna(axis=0)"
   ]
  },
  {
   "cell_type": "code",
   "execution_count": 12,
   "metadata": {},
   "outputs": [],
   "source": [
    "taskbuf = errors[['taskbuffererrordiag']].dropna(axis=0)"
   ]
  },
  {
   "cell_type": "code",
   "execution_count": null,
   "metadata": {},
   "outputs": [],
   "source": [
    "ddm.to_csv('ddm.csv')"
   ]
  },
  {
   "cell_type": "code",
   "execution_count": null,
   "metadata": {},
   "outputs": [],
   "source": [
    "pilot.to_csv('pilot.csv')"
   ]
  },
  {
   "cell_type": "code",
   "execution_count": null,
   "metadata": {},
   "outputs": [],
   "source": [
    "sup"
   ]
  },
  {
   "cell_type": "code",
   "execution_count": null,
   "metadata": {},
   "outputs": [],
   "source": [
    "taskbuf"
   ]
  },
  {
   "cell_type": "code",
   "execution_count": null,
   "metadata": {},
   "outputs": [],
   "source": [
    "ddm_errors = multistage.exec(ddm, 'ddmerrordiag', 'ddm.model', 500)"
   ]
  },
  {
   "cell_type": "code",
   "execution_count": null,
   "metadata": {},
   "outputs": [],
   "source": [
    "ddm_errors.clusters"
   ]
  },
  {
   "cell_type": "code",
   "execution_count": null,
   "metadata": {},
   "outputs": [],
   "source": [
    "ddm_errors.results.to_csv('ddm_errors.csv')"
   ]
  },
  {
   "cell_type": "code",
   "execution_count": 11,
   "metadata": {},
   "outputs": [],
   "source": [
    "pilot_errors = multistage.exec(pilot, 'piloterrordiag', 'pilot.model', 100)"
   ]
  },
  {
   "cell_type": "code",
   "execution_count": 16,
   "metadata": {},
   "outputs": [
    {
     "data": {
      "text/plain": [
       "{'data_preparation': 0.6983,\n",
       " 'tokenization': 0.9204,\n",
       " 'tokens_vectorization': 1.9888,\n",
       " 'sentence_vectorization': 4.5508,\n",
       " 'dimensionality_reduction': 0.0054,\n",
       " 'kneighbors': 1.2893,\n",
       " 'epsilon_search': 0.4043,\n",
       " 'dbscan': 2.5299,\n",
       " 'extract_patterns': 0.8501,\n",
       " 'process': 11.5383,\n",
       " 'postprocessing': 2.00528621673584}"
      ]
     },
     "execution_count": 16,
     "metadata": {},
     "output_type": "execute_result"
    }
   ],
   "source": [
    "pilot_errors._1.timings"
   ]
  },
  {
   "cell_type": "code",
   "execution_count": 23,
   "metadata": {},
   "outputs": [
    {
     "data": {
      "text/plain": [
       "array([\"Failed {*} stage-in file: u' {*} from {*} None of the requested {*} have been downloaded.',)]:failed transfer using {*}\",\n",
       "       'Local output file is missing',\n",
       "       'Payload exceeded maximum allowed memory',\n",
       "       \"Failed {*} stage-in file: u' {*} from DESY-HH_DATADISK, None of the requested {*} have been downloaded.',)]:failed transfer using copytools=[u'rucio'] {*}\",\n",
       "       \"File {*} out during stage-out: {*} command out: TimeoutException: Timeout reached, {*} seconds',)]:failed files {*}\",\n",
       "       'Job killed by signal: SIGTERM',\n",
       "       \"No matching replicas were {*} in list_replicas() output: [ReplicasNotFound(('No replica for {*} (allow_lan=True, allow_wan=False)',), {})]:failed to transfer files using {*}\",\n",
       "       \"Failed {*} stage-in file: u' {*} from INFN-NAPOLI-ATLAS_DATADISK, None of the requested {*} have been downloaded.',)]:failed transfer using copytools=[u'rucio'] {*}\",\n",
       "       \"Service not available at the moment: {*} Failed stat file (Permission denied)',)]:failed transfer files using copytools=[u'rucio'] {*}\",\n",
       "       \"Failed {*} stage-in file: u' {*} from CERN-PROD_DATADISK, None of the requested {*} have been downloaded.',)]:failed transfer using copytools=[u'rucio'] {*}\",\n",
       "       'Failed {*} stage-out file: {*} no error information passed (http status code: 503 (\\'service_unavailable\\', \\'unavailable\\'))\",)]:failed transfer files {*}',\n",
       "       '{*} file: error code: 1099, message: file\\\\nstacktrace: Traceback (most recent call last):\\\\n {*} line 385, in copytool_in\\\\n job = queues.data_in.get(block=True, {*}',\n",
       "       'Looping job killed by pilot',\n",
       "       'This job was killed by panda server',\n",
       "       'Unrecognized fatal error in transform stderr:operand expected (error token is \"=\")',\n",
       "       \"No matching replicas were {*} in list_replicas() output: [ReplicasNotFound(('No {*} {}), ReplicasNotFound(('No {})]:failed to transfer {*}\",\n",
       "       'Failed {*} stage-in file: u\" {*} from RRC-KI-T1_DATADISK, download_pfns() got an unexpected keyword argument \\'traces_copy_out\\'\",)]:failed transfer files using copytools=[u\\'rucio\\'] {*}',\n",
       "       'Service {*} available at the moment: {*} INFN-COSENZA_SCRATCHDISK, srm-ifce {*} Communication error {*} send, [SE][Ls][] {*}',\n",
       "       'User code not available on PanDA server (resubmit task with --useNewCode)',\n",
       "       \"File {*} out during stage-out: {*} DESY-HH_DATADISK, copy command out: TimeoutException: Timeout reached, {*} seconds',)]:failed files using copytools=[u'rucio'] {*}\",\n",
       "       \"Failed {*} stage-out file: {*} None of the given {*} have been uploaded.',)]:failed transfer using copytools=[u'rucio'] {*}\",\n",
       "       'Payload metadata does not exist',\n",
       "       \"File {*} out during stage-out: {*} INFN-COSENZA_SCRATCHDISK, copy command out: TimeoutException: Timeout reached, {*} seconds',)]:failed files {*}\",\n",
       "       \"Failed {*} stage-out file: {*} GOEGRID_SCRATCHDISK, None of the given {*} have been uploaded.',)]:failed transfer using copytools=[u'rucio'] {*}\",\n",
       "       \"Failed {*} stage-in file: file does not exist: {*} (cannot verify catalog checksum)',)]:failed transfer files using copytools=[u'rucio'] {*}\",\n",
       "       'Payload ran out of memory',\n",
       "       \"File {*} out during stage-in: u' {*} from {*} copy command out: TimeoutException: Timeout reached, {*} seconds',)]:failed to files using {*}\",\n",
       "       \"adler32 mismatch on input file: {*} verification failed for {*}!= {*} to transfer files using copytools=[u'rucio'] {*}\",\n",
       "       'File {*} out during stage-out: {*} UKI-NORTHGRID-MAN-HEP_SCRATCHDISK, copy command out: TimeoutException: Timeout reached, {*}',\n",
       "       \"Failed {*} stage-out file: {*} INFN-COSENZA_SCRATCHDISK, None of the given {*} have been uploaded.',)]:failed transfer using {*}\",\n",
       "       \"{*} out during stage-in: u' {*} from DESY-HH_DATADISK, copy command out: TimeoutException: Timeout reached, {*} to {*}\",\n",
       "       'SIGSEGV: Invalid memory reference or a segmentation fault',\n",
       "       \"Failed {*} stage-out file: {*} Checksum not validated',)]:failed transfer files using copytools=[u'rucio'] {*}\",\n",
       "       'Job failed due to unknown reason (consult log file)',\n",
       "       'Failed {*} stage-out file: {*} INFN-MILANO-ATLASC_SCRATCHDISK, Replica {*} is {*}',\n",
       "       'Failed {*} get replicas from Rucio: HTTPSConnectionPool(host=\\'voatlasrucio-server-prod.cern.ch\\', port=443): Read timed out. (read timeout=600)\",)]:failed transfer files using {*}',\n",
       "       'No release candidates found',\n",
       "       'Failed {*} stage-out file: {*} JINR-LCG2_DATADISK, upload() got an unexpected keyword argument \\'traces_copy_out\\'\",)]:failed transfer files using copytools=[u\\'rucio\\'] {*}',\n",
       "       \"Failed {*} stage-out file: {*} INFN-MILANO-ATLASC_DATADISK, Replica {*} is corrupted.',)]:failed transfer files using {*}\",\n",
       "       \"Failed {*} stage-out file: {*} INFN-COSENZA_SCRATCHDISK, DESTINATION SRM_PUT_TURL error on the turl request: [SE][StatusOfPutRequest][SRM_INVALID_PATH] <none>',)]:failed {*}\",\n",
       "       \"File {*} out during stage-out: {*} UKI-NORTHGRID-LANCS-HEP_SCRATCHDISK, copy command out: TimeoutException: Timeout reached, {*} seconds',)]:failed {*}\"],\n",
       "      dtype=object)"
      ]
     },
     "execution_count": 23,
     "metadata": {},
     "output_type": "execute_result"
    }
   ],
   "source": [
    "pilot_errors.big_clusters_1['pattern'].values"
   ]
  },
  {
   "cell_type": "code",
   "execution_count": 14,
   "metadata": {},
   "outputs": [
    {
     "data": {
      "text/plain": [
       "array([list(['User', 'code', 'not', 'available', 'on', 'PanDA', 'server', '(resubmit', 'task', 'with', '--useNewCode)']),\n",
       "       list(['User', 'code', 'not', 'available', 'on', 'PanDA', 'server', '(resubmit', 'task', 'with', '--useNewCode)']),\n",
       "       list(['User', 'code', 'not', 'available', 'on', 'PanDA', 'server', '(resubmit', 'task', 'with', '--useNewCode)']),\n",
       "       list(['User', 'code', 'not', 'available', 'on', 'PanDA', 'server', '(resubmit', 'task', 'with', '--useNewCode)']),\n",
       "       list(['User', 'code', 'not', 'available', 'on', 'PanDA', 'server', '(resubmit', 'task', 'with', '--useNewCode)']),\n",
       "       list(['User', 'code', 'not', 'available', 'on', 'PanDA', 'server', '(resubmit', 'task', 'with', '--useNewCode)']),\n",
       "       list(['User', 'code', 'not', 'available', 'on', 'PanDA', 'server', '(resubmit', 'task', 'with', '--useNewCode)']),\n",
       "       list(['User', 'code', 'not', 'available', 'on', 'PanDA', 'server', '(resubmit', 'task', 'with', '--useNewCode)']),\n",
       "       list(['User', 'code', 'not', 'available', 'on', 'PanDA', 'server', '(resubmit', 'task', 'with', '--useNewCode)']),\n",
       "       list(['User', 'code', 'not', 'available', 'on', 'PanDA', 'server', '(resubmit', 'task', 'with', '--useNewCode)']),\n",
       "       list(['User', 'code', 'not', 'available', 'on', 'PanDA', 'server', '(resubmit', 'task', 'with', '--useNewCode)']),\n",
       "       list(['User', 'code', 'not', 'available', 'on', 'PanDA', 'server', '(resubmit', 'task', 'with', '--useNewCode)']),\n",
       "       list(['User', 'code', 'not', 'available', 'on', 'PanDA', 'server', '(resubmit', 'task', 'with', '--useNewCode)']),\n",
       "       list(['User', 'code', 'not', 'available', 'on', 'PanDA', 'server', '(resubmit', 'task', 'with', '--useNewCode)']),\n",
       "       list(['User', 'code', 'not', 'available', 'on', 'PanDA', 'server', '(resubmit', 'task', 'with', '--useNewCode)']),\n",
       "       list(['User', 'code', 'not', 'available', 'on', 'PanDA', 'server', '(resubmit', 'task', 'with', '--useNewCode)']),\n",
       "       list(['User', 'code', 'not', 'available', 'on', 'PanDA', 'server', '(resubmit', 'task', 'with', '--useNewCode)']),\n",
       "       list(['User', 'code', 'not', 'available', 'on', 'PanDA', 'server', '(resubmit', 'task', 'with', '--useNewCode)']),\n",
       "       list(['User', 'code', 'not', 'available', 'on', 'PanDA', 'server', '(resubmit', 'task', 'with', '--useNewCode)']),\n",
       "       list(['User', 'code', 'not', 'available', 'on', 'PanDA', 'server', '(resubmit', 'task', 'with', '--useNewCode)']),\n",
       "       list(['User', 'code', 'not', 'available', 'on', 'PanDA', 'server', '(resubmit', 'task', 'with', '--useNewCode)']),\n",
       "       list(['User', 'code', 'not', 'available', 'on', 'PanDA', 'server', '(resubmit', 'task', 'with', '--useNewCode)']),\n",
       "       list(['User', 'code', 'not', 'available', 'on', 'PanDA', 'server', '(resubmit', 'task', 'with', '--useNewCode)']),\n",
       "       list(['User', 'code', 'not', 'available', 'on', 'PanDA', 'server', '(resubmit', 'task', 'with', '--useNewCode)']),\n",
       "       list(['User', 'code', 'not', 'available', 'on', 'PanDA', 'server', '(resubmit', 'task', 'with', '--useNewCode)']),\n",
       "       list(['User', 'code', 'not', 'available', 'on', 'PanDA', 'server', '(resubmit', 'task', 'with', '--useNewCode)']),\n",
       "       list(['User', 'code', 'not', 'available', 'on', 'PanDA', 'server', '(resubmit', 'task', 'with', '--useNewCode)']),\n",
       "       list(['User', 'code', 'not', 'available', 'on', 'PanDA', 'server', '(resubmit', 'task', 'with', '--useNewCode)']),\n",
       "       list(['User', 'code', 'not', 'available', 'on', 'PanDA', 'server', '(resubmit', 'task', 'with', '--useNewCode)']),\n",
       "       list(['User', 'code', 'not', 'available', 'on', 'PanDA', 'server', '(resubmit', 'task', 'with', '--useNewCode)']),\n",
       "       list(['User', 'code', 'not', 'available', 'on', 'PanDA', 'server', '(resubmit', 'task', 'with', '--useNewCode)']),\n",
       "       list(['User', 'code', 'not', 'available', 'on', 'PanDA', 'server', '(resubmit', 'task', 'with', '--useNewCode)']),\n",
       "       list(['User', 'code', 'not', 'available', 'on', 'PanDA', 'server', '(resubmit', 'task', 'with', '--useNewCode)']),\n",
       "       list(['User', 'code', 'not', 'available', 'on', 'PanDA', 'server', '(resubmit', 'task', 'with', '--useNewCode)']),\n",
       "       list(['User', 'code', 'not', 'available', 'on', 'PanDA', 'server', '(resubmit', 'task', 'with', '--useNewCode)']),\n",
       "       list(['User', 'code', 'not', 'available', 'on', 'PanDA', 'server', '(resubmit', 'task', 'with', '--useNewCode)']),\n",
       "       list(['User', 'code', 'not', 'available', 'on', 'PanDA', 'server', '(resubmit', 'task', 'with', '--useNewCode)']),\n",
       "       list(['User', 'code', 'not', 'available', 'on', 'PanDA', 'server', '(resubmit', 'task', 'with', '--useNewCode)']),\n",
       "       list(['User', 'code', 'not', 'available', 'on', 'PanDA', 'server', '(resubmit', 'task', 'with', '--useNewCode)']),\n",
       "       list(['User', 'code', 'not', 'available', 'on', 'PanDA', 'server', '(resubmit', 'task', 'with', '--useNewCode)']),\n",
       "       list(['User', 'code', 'not', 'available', 'on', 'PanDA', 'server', '(resubmit', 'task', 'with', '--useNewCode)']),\n",
       "       list(['User', 'code', 'not', 'available', 'on', 'PanDA', 'server', '(resubmit', 'task', 'with', '--useNewCode)']),\n",
       "       list(['User', 'code', 'not', 'available', 'on', 'PanDA', 'server', '(resubmit', 'task', 'with', '--useNewCode)']),\n",
       "       list(['User', 'code', 'not', 'available', 'on', 'PanDA', 'server', '(resubmit', 'task', 'with', '--useNewCode)']),\n",
       "       list(['User', 'code', 'not', 'available', 'on', 'PanDA', 'server', '(resubmit', 'task', 'with', '--useNewCode)']),\n",
       "       list(['User', 'code', 'not', 'available', 'on', 'PanDA', 'server', '(resubmit', 'task', 'with', '--useNewCode)']),\n",
       "       list(['User', 'code', 'not', 'available', 'on', 'PanDA', 'server', '(resubmit', 'task', 'with', '--useNewCode)']),\n",
       "       list(['User', 'code', 'not', 'available', 'on', 'PanDA', 'server', '(resubmit', 'task', 'with', '--useNewCode)']),\n",
       "       list(['User', 'code', 'not', 'available', 'on', 'PanDA', 'server', '(resubmit', 'task', 'with', '--useNewCode)']),\n",
       "       list(['User', 'code', 'not', 'available', 'on', 'PanDA', 'server', '(resubmit', 'task', 'with', '--useNewCode)']),\n",
       "       list(['User', 'code', 'not', 'available', 'on', 'PanDA', 'server', '(resubmit', 'task', 'with', '--useNewCode)']),\n",
       "       list(['User', 'code', 'not', 'available', 'on', 'PanDA', 'server', '(resubmit', 'task', 'with', '--useNewCode)']),\n",
       "       list(['User', 'code', 'not', 'available', 'on', 'PanDA', 'server', '(resubmit', 'task', 'with', '--useNewCode)']),\n",
       "       list(['User', 'code', 'not', 'available', 'on', 'PanDA', 'server', '(resubmit', 'task', 'with', '--useNewCode)']),\n",
       "       list(['User', 'code', 'not', 'available', 'on', 'PanDA', 'server', '(resubmit', 'task', 'with', '--useNewCode)']),\n",
       "       list(['User', 'code', 'not', 'available', 'on', 'PanDA', 'server', '(resubmit', 'task', 'with', '--useNewCode)']),\n",
       "       list(['User', 'code', 'not', 'available', 'on', 'PanDA', 'server', '(resubmit', 'task', 'with', '--useNewCode)']),\n",
       "       list(['User', 'code', 'not', 'available', 'on', 'PanDA', 'server', '(resubmit', 'task', 'with', '--useNewCode)']),\n",
       "       list(['User', 'code', 'not', 'available', 'on', 'PanDA', 'server', '(resubmit', 'task', 'with', '--useNewCode)']),\n",
       "       list(['User', 'code', 'not', 'available', 'on', 'PanDA', 'server', '(resubmit', 'task', 'with', '--useNewCode)']),\n",
       "       list(['User', 'code', 'not', 'available', 'on', 'PanDA', 'server', '(resubmit', 'task', 'with', '--useNewCode)']),\n",
       "       list(['User', 'code', 'not', 'available', 'on', 'PanDA', 'server', '(resubmit', 'task', 'with', '--useNewCode)']),\n",
       "       list(['User', 'code', 'not', 'available', 'on', 'PanDA', 'server', '(resubmit', 'task', 'with', '--useNewCode)']),\n",
       "       list(['User', 'code', 'not', 'available', 'on', 'PanDA', 'server', '(resubmit', 'task', 'with', '--useNewCode)']),\n",
       "       list(['User', 'code', 'not', 'available', 'on', 'PanDA', 'server', '(resubmit', 'task', 'with', '--useNewCode)']),\n",
       "       list(['User', 'code', 'not', 'available', 'on', 'PanDA', 'server', '(resubmit', 'task', 'with', '--useNewCode)']),\n",
       "       list(['User', 'code', 'not', 'available', 'on', 'PanDA', 'server', '(resubmit', 'task', 'with', '--useNewCode)']),\n",
       "       list(['User', 'code', 'not', 'available', 'on', 'PanDA', 'server', '(resubmit', 'task', 'with', '--useNewCode)']),\n",
       "       list(['User', 'code', 'not', 'available', 'on', 'PanDA', 'server', '(resubmit', 'task', 'with', '--useNewCode)']),\n",
       "       list(['User', 'code', 'not', 'available', 'on', 'PanDA', 'server', '(resubmit', 'task', 'with', '--useNewCode)']),\n",
       "       list(['User', 'code', 'not', 'available', 'on', 'PanDA', 'server', '(resubmit', 'task', 'with', '--useNewCode)']),\n",
       "       list(['User', 'code', 'not', 'available', 'on', 'PanDA', 'server', '(resubmit', 'task', 'with', '--useNewCode)']),\n",
       "       list(['User', 'code', 'not', 'available', 'on', 'PanDA', 'server', '(resubmit', 'task', 'with', '--useNewCode)']),\n",
       "       list(['User', 'code', 'not', 'available', 'on', 'PanDA', 'server', '(resubmit', 'task', 'with', '--useNewCode)']),\n",
       "       list(['User', 'code', 'not', 'available', 'on', 'PanDA', 'server', '(resubmit', 'task', 'with', '--useNewCode)']),\n",
       "       list(['User', 'code', 'not', 'available', 'on', 'PanDA', 'server', '(resubmit', 'task', 'with', '--useNewCode)']),\n",
       "       list(['User', 'code', 'not', 'available', 'on', 'PanDA', 'server', '(resubmit', 'task', 'with', '--useNewCode)']),\n",
       "       list(['User', 'code', 'not', 'available', 'on', 'PanDA', 'server', '(resubmit', 'task', 'with', '--useNewCode)']),\n",
       "       list(['User', 'code', 'not', 'available', 'on', 'PanDA', 'server', '(resubmit', 'task', 'with', '--useNewCode)']),\n",
       "       list(['User', 'code', 'not', 'available', 'on', 'PanDA', 'server', '(resubmit', 'task', 'with', '--useNewCode)']),\n",
       "       list(['User', 'code', 'not', 'available', 'on', 'PanDA', 'server', '(resubmit', 'task', 'with', '--useNewCode)']),\n",
       "       list(['User', 'code', 'not', 'available', 'on', 'PanDA', 'server', '(resubmit', 'task', 'with', '--useNewCode)']),\n",
       "       list(['User', 'code', 'not', 'available', 'on', 'PanDA', 'server', '(resubmit', 'task', 'with', '--useNewCode)']),\n",
       "       list(['User', 'code', 'not', 'available', 'on', 'PanDA', 'server', '(resubmit', 'task', 'with', '--useNewCode)']),\n",
       "       list(['User', 'code', 'not', 'available', 'on', 'PanDA', 'server', '(resubmit', 'task', 'with', '--useNewCode)']),\n",
       "       list(['User', 'code', 'not', 'available', 'on', 'PanDA', 'server', '(resubmit', 'task', 'with', '--useNewCode)']),\n",
       "       list(['User', 'code', 'not', 'available', 'on', 'PanDA', 'server', '(resubmit', 'task', 'with', '--useNewCode)']),\n",
       "       list(['User', 'code', 'not', 'available', 'on', 'PanDA', 'server', '(resubmit', 'task', 'with', '--useNewCode)']),\n",
       "       list(['User', 'code', 'not', 'available', 'on', 'PanDA', 'server', '(resubmit', 'task', 'with', '--useNewCode)']),\n",
       "       list(['User', 'code', 'not', 'available', 'on', 'PanDA', 'server', '(resubmit', 'task', 'with', '--useNewCode)']),\n",
       "       list(['User', 'code', 'not', 'available', 'on', 'PanDA', 'server', '(resubmit', 'task', 'with', '--useNewCode)']),\n",
       "       list(['User', 'code', 'not', 'available', 'on', 'PanDA', 'server', '(resubmit', 'task', 'with', '--useNewCode)']),\n",
       "       list(['User', 'code', 'not', 'available', 'on', 'PanDA', 'server', '(resubmit', 'task', 'with', '--useNewCode)']),\n",
       "       list(['User', 'code', 'not', 'available', 'on', 'PanDA', 'server', '(resubmit', 'task', 'with', '--useNewCode)']),\n",
       "       list(['User', 'code', 'not', 'available', 'on', 'PanDA', 'server', '(resubmit', 'task', 'with', '--useNewCode)']),\n",
       "       list(['User', 'code', 'not', 'available', 'on', 'PanDA', 'server', '(resubmit', 'task', 'with', '--useNewCode)']),\n",
       "       list(['User', 'code', 'not', 'available', 'on', 'PanDA', 'server', '(resubmit', 'task', 'with', '--useNewCode)']),\n",
       "       list(['User', 'code', 'not', 'available', 'on', 'PanDA', 'server', '(resubmit', 'task', 'with', '--useNewCode)']),\n",
       "       list(['User', 'code', 'not', 'available', 'on', 'PanDA', 'server', '(resubmit', 'task', 'with', '--useNewCode)']),\n",
       "       list(['User', 'code', 'not', 'available', 'on', 'PanDA', 'server', '(resubmit', 'task', 'with', '--useNewCode)']),\n",
       "       list(['User', 'code', 'not', 'available', 'on', 'PanDA', 'server', '(resubmit', 'task', 'with', '--useNewCode)']),\n",
       "       list(['User', 'code', 'not', 'available', 'on', 'PanDA', 'server', '(resubmit', 'task', 'with', '--useNewCode)']),\n",
       "       list(['User', 'code', 'not', 'available', 'on', 'PanDA', 'server', '(resubmit', 'task', 'with', '--useNewCode)']),\n",
       "       list(['User', 'code', 'not', 'available', 'on', 'PanDA', 'server', '(resubmit', 'task', 'with', '--useNewCode)']),\n",
       "       list(['User', 'code', 'not', 'available', 'on', 'PanDA', 'server', '(resubmit', 'task', 'with', '--useNewCode)']),\n",
       "       list(['User', 'code', 'not', 'available', 'on', 'PanDA', 'server', '(resubmit', 'task', 'with', '--useNewCode)']),\n",
       "       list(['User', 'code', 'not', 'available', 'on', 'PanDA', 'server', '(resubmit', 'task', 'with', '--useNewCode)']),\n",
       "       list(['User', 'code', 'not', 'available', 'on', 'PanDA', 'server', '(resubmit', 'task', 'with', '--useNewCode)']),\n",
       "       list(['User', 'code', 'not', 'available', 'on', 'PanDA', 'server', '(resubmit', 'task', 'with', '--useNewCode)']),\n",
       "       list(['User', 'code', 'not', 'available', 'on', 'PanDA', 'server', '(resubmit', 'task', 'with', '--useNewCode)']),\n",
       "       list(['User', 'code', 'not', 'available', 'on', 'PanDA', 'server', '(resubmit', 'task', 'with', '--useNewCode)']),\n",
       "       list(['User', 'code', 'not', 'available', 'on', 'PanDA', 'server', '(resubmit', 'task', 'with', '--useNewCode)']),\n",
       "       list(['User', 'code', 'not', 'available', 'on', 'PanDA', 'server', '(resubmit', 'task', 'with', '--useNewCode)']),\n",
       "       list(['User', 'code', 'not', 'available', 'on', 'PanDA', 'server', '(resubmit', 'task', 'with', '--useNewCode)']),\n",
       "       list(['User', 'code', 'not', 'available', 'on', 'PanDA', 'server', '(resubmit', 'task', 'with', '--useNewCode)']),\n",
       "       list(['User', 'code', 'not', 'available', 'on', 'PanDA', 'server', '(resubmit', 'task', 'with', '--useNewCode)']),\n",
       "       list(['User', 'code', 'not', 'available', 'on', 'PanDA', 'server', '(resubmit', 'task', 'with', '--useNewCode)']),\n",
       "       list(['User', 'code', 'not', 'available', 'on', 'PanDA', 'server', '(resubmit', 'task', 'with', '--useNewCode)']),\n",
       "       list(['User', 'code', 'not', 'available', 'on', 'PanDA', 'server', '(resubmit', 'task', 'with', '--useNewCode)']),\n",
       "       list(['User', 'code', 'not', 'available', 'on', 'PanDA', 'server', '(resubmit', 'task', 'with', '--useNewCode)']),\n",
       "       list(['User', 'code', 'not', 'available', 'on', 'PanDA', 'server', '(resubmit', 'task', 'with', '--useNewCode)']),\n",
       "       list(['User', 'code', 'not', 'available', 'on', 'PanDA', 'server', '(resubmit', 'task', 'with', '--useNewCode)']),\n",
       "       list(['User', 'code', 'not', 'available', 'on', 'PanDA', 'server', '(resubmit', 'task', 'with', '--useNewCode)']),\n",
       "       list(['User', 'code', 'not', 'available', 'on', 'PanDA', 'server', '(resubmit', 'task', 'with', '--useNewCode)']),\n",
       "       list(['User', 'code', 'not', 'available', 'on', 'PanDA', 'server', '(resubmit', 'task', 'with', '--useNewCode)']),\n",
       "       list(['User', 'code', 'not', 'available', 'on', 'PanDA', 'server', '(resubmit', 'task', 'with', '--useNewCode)']),\n",
       "       list(['User', 'code', 'not', 'available', 'on', 'PanDA', 'server', '(resubmit', 'task', 'with', '--useNewCode)']),\n",
       "       list(['User', 'code', 'not', 'available', 'on', 'PanDA', 'server', '(resubmit', 'task', 'with', '--useNewCode)']),\n",
       "       list(['User', 'code', 'not', 'available', 'on', 'PanDA', 'server', '(resubmit', 'task', 'with', '--useNewCode)']),\n",
       "       list(['User', 'code', 'not', 'available', 'on', 'PanDA', 'server', '(resubmit', 'task', 'with', '--useNewCode)']),\n",
       "       list(['User', 'code', 'not', 'available', 'on', 'PanDA', 'server', '(resubmit', 'task', 'with', '--useNewCode)']),\n",
       "       list(['User', 'code', 'not', 'available', 'on', 'PanDA', 'server', '(resubmit', 'task', 'with', '--useNewCode)']),\n",
       "       list(['User', 'code', 'not', 'available', 'on', 'PanDA', 'server', '(resubmit', 'task', 'with', '--useNewCode)']),\n",
       "       list(['User', 'code', 'not', 'available', 'on', 'PanDA', 'server', '(resubmit', 'task', 'with', '--useNewCode)']),\n",
       "       list(['User', 'code', 'not', 'available', 'on', 'PanDA', 'server', '(resubmit', 'task', 'with', '--useNewCode)']),\n",
       "       list(['User', 'code', 'not', 'available', 'on', 'PanDA', 'server', '(resubmit', 'task', 'with', '--useNewCode)']),\n",
       "       list(['User', 'code', 'not', 'available', 'on', 'PanDA', 'server', '(resubmit', 'task', 'with', '--useNewCode)']),\n",
       "       list(['User', 'code', 'not', 'available', 'on', 'PanDA', 'server', '(resubmit', 'task', 'with', '--useNewCode)']),\n",
       "       list(['User', 'code', 'not', 'available', 'on', 'PanDA', 'server', '(resubmit', 'task', 'with', '--useNewCode)']),\n",
       "       list(['User', 'code', 'not', 'available', 'on', 'PanDA', 'server', '(resubmit', 'task', 'with', '--useNewCode)']),\n",
       "       list(['User', 'code', 'not', 'available', 'on', 'PanDA', 'server', '(resubmit', 'task', 'with', '--useNewCode)']),\n",
       "       list(['User', 'code', 'not', 'available', 'on', 'PanDA', 'server', '(resubmit', 'task', 'with', '--useNewCode)']),\n",
       "       list(['User', 'code', 'not', 'available', 'on', 'PanDA', 'server', '(resubmit', 'task', 'with', '--useNewCode)']),\n",
       "       list(['User', 'code', 'not', 'available', 'on', 'PanDA', 'server', '(resubmit', 'task', 'with', '--useNewCode)']),\n",
       "       list(['User', 'code', 'not', 'available', 'on', 'PanDA', 'server', '(resubmit', 'task', 'with', '--useNewCode)']),\n",
       "       list(['User', 'code', 'not', 'available', 'on', 'PanDA', 'server', '(resubmit', 'task', 'with', '--useNewCode)']),\n",
       "       list(['User', 'code', 'not', 'available', 'on', 'PanDA', 'server', '(resubmit', 'task', 'with', '--useNewCode)']),\n",
       "       list(['User', 'code', 'not', 'available', 'on', 'PanDA', 'server', '(resubmit', 'task', 'with', '--useNewCode)']),\n",
       "       list(['User', 'code', 'not', 'available', 'on', 'PanDA', 'server', '(resubmit', 'task', 'with', '--useNewCode)']),\n",
       "       list(['User', 'code', 'not', 'available', 'on', 'PanDA', 'server', '(resubmit', 'task', 'with', '--useNewCode)']),\n",
       "       list(['User', 'code', 'not', 'available', 'on', 'PanDA', 'server', '(resubmit', 'task', 'with', '--useNewCode)']),\n",
       "       list(['User', 'code', 'not', 'available', 'on', 'PanDA', 'server', '(resubmit', 'task', 'with', '--useNewCode)']),\n",
       "       list(['User', 'code', 'not', 'available', 'on', 'PanDA', 'server', '(resubmit', 'task', 'with', '--useNewCode)']),\n",
       "       list(['User', 'code', 'not', 'available', 'on', 'PanDA', 'server', '(resubmit', 'task', 'with', '--useNewCode)']),\n",
       "       list(['User', 'code', 'not', 'available', 'on', 'PanDA', 'server', '(resubmit', 'task', 'with', '--useNewCode)']),\n",
       "       list(['User', 'code', 'not', 'available', 'on', 'PanDA', 'server', '(resubmit', 'task', 'with', '--useNewCode)']),\n",
       "       list(['User', 'code', 'not', 'available', 'on', 'PanDA', 'server', '(resubmit', 'task', 'with', '--useNewCode)']),\n",
       "       list(['User', 'code', 'not', 'available', 'on', 'PanDA', 'server', '(resubmit', 'task', 'with', '--useNewCode)']),\n",
       "       list(['User', 'code', 'not', 'available', 'on', 'PanDA', 'server', '(resubmit', 'task', 'with', '--useNewCode)']),\n",
       "       list(['User', 'code', 'not', 'available', 'on', 'PanDA', 'server', '(resubmit', 'task', 'with', '--useNewCode)']),\n",
       "       list(['User', 'code', 'not', 'available', 'on', 'PanDA', 'server', '(resubmit', 'task', 'with', '--useNewCode)']),\n",
       "       list(['User', 'code', 'not', 'available', 'on', 'PanDA', 'server', '(resubmit', 'task', 'with', '--useNewCode)']),\n",
       "       list(['User', 'code', 'not', 'available', 'on', 'PanDA', 'server', '(resubmit', 'task', 'with', '--useNewCode)']),\n",
       "       list(['User', 'code', 'not', 'available', 'on', 'PanDA', 'server', '(resubmit', 'task', 'with', '--useNewCode)']),\n",
       "       list(['User', 'code', 'not', 'available', 'on', 'PanDA', 'server', '(resubmit', 'task', 'with', '--useNewCode)']),\n",
       "       list(['User', 'code', 'not', 'available', 'on', 'PanDA', 'server', '(resubmit', 'task', 'with', '--useNewCode)']),\n",
       "       list(['User', 'code', 'not', 'available', 'on', 'PanDA', 'server', '(resubmit', 'task', 'with', '--useNewCode)']),\n",
       "       list(['User', 'code', 'not', 'available', 'on', 'PanDA', 'server', '(resubmit', 'task', 'with', '--useNewCode)']),\n",
       "       list(['User', 'code', 'not', 'available', 'on', 'PanDA', 'server', '(resubmit', 'task', 'with', '--useNewCode)']),\n",
       "       list(['User', 'code', 'not', 'available', 'on', 'PanDA', 'server', '(resubmit', 'task', 'with', '--useNewCode)']),\n",
       "       list(['User', 'code', 'not', 'available', 'on', 'PanDA', 'server', '(resubmit', 'task', 'with', '--useNewCode)']),\n",
       "       list(['User', 'code', 'not', 'available', 'on', 'PanDA', 'server', '(resubmit', 'task', 'with', '--useNewCode)']),\n",
       "       list(['User', 'code', 'not', 'available', 'on', 'PanDA', 'server', '(resubmit', 'task', 'with', '--useNewCode)']),\n",
       "       list(['User', 'code', 'not', 'available', 'on', 'PanDA', 'server', '(resubmit', 'task', 'with', '--useNewCode)']),\n",
       "       list(['User', 'code', 'not', 'available', 'on', 'PanDA', 'server', '(resubmit', 'task', 'with', '--useNewCode)']),\n",
       "       list(['User', 'code', 'not', 'available', 'on', 'PanDA', 'server', '(resubmit', 'task', 'with', '--useNewCode)']),\n",
       "       list(['User', 'code', 'not', 'available', 'on', 'PanDA', 'server', '(resubmit', 'task', 'with', '--useNewCode)']),\n",
       "       list(['User', 'code', 'not', 'available', 'on', 'PanDA', 'server', '(resubmit', 'task', 'with', '--useNewCode)']),\n",
       "       list(['User', 'code', 'not', 'available', 'on', 'PanDA', 'server', '(resubmit', 'task', 'with', '--useNewCode)']),\n",
       "       list(['User', 'code', 'not', 'available', 'on', 'PanDA', 'server', '(resubmit', 'task', 'with', '--useNewCode)']),\n",
       "       list(['User', 'code', 'not', 'available', 'on', 'PanDA', 'server', '(resubmit', 'task', 'with', '--useNewCode)']),\n",
       "       list(['User', 'code', 'not', 'available', 'on', 'PanDA', 'server', '(resubmit', 'task', 'with', '--useNewCode)']),\n",
       "       list(['User', 'code', 'not', 'available', 'on', 'PanDA', 'server', '(resubmit', 'task', 'with', '--useNewCode)']),\n",
       "       list(['User', 'code', 'not', 'available', 'on', 'PanDA', 'server', '(resubmit', 'task', 'with', '--useNewCode)']),\n",
       "       list(['User', 'code', 'not', 'available', 'on', 'PanDA', 'server', '(resubmit', 'task', 'with', '--useNewCode)']),\n",
       "       list(['User', 'code', 'not', 'available', 'on', 'PanDA', 'server', '(resubmit', 'task', 'with', '--useNewCode)']),\n",
       "       list(['User', 'code', 'not', 'available', 'on', 'PanDA', 'server', '(resubmit', 'task', 'with', '--useNewCode)']),\n",
       "       list(['User', 'code', 'not', 'available', 'on', 'PanDA', 'server', '(resubmit', 'task', 'with', '--useNewCode)']),\n",
       "       list(['User', 'code', 'not', 'available', 'on', 'PanDA', 'server', '(resubmit', 'task', 'with', '--useNewCode)']),\n",
       "       list(['User', 'code', 'not', 'available', 'on', 'PanDA', 'server', '(resubmit', 'task', 'with', '--useNewCode)']),\n",
       "       list(['User', 'code', 'not', 'available', 'on', 'PanDA', 'server', '(resubmit', 'task', 'with', '--useNewCode)']),\n",
       "       list(['User', 'code', 'not', 'available', 'on', 'PanDA', 'server', '(resubmit', 'task', 'with', '--useNewCode)']),\n",
       "       list(['User', 'code', 'not', 'available', 'on', 'PanDA', 'server', '(resubmit', 'task', 'with', '--useNewCode)']),\n",
       "       list(['User', 'code', 'not', 'available', 'on', 'PanDA', 'server', '(resubmit', 'task', 'with', '--useNewCode)']),\n",
       "       list(['User', 'code', 'not', 'available', 'on', 'PanDA', 'server', '(resubmit', 'task', 'with', '--useNewCode)']),\n",
       "       list(['User', 'code', 'not', 'available', 'on', 'PanDA', 'server', '(resubmit', 'task', 'with', '--useNewCode)']),\n",
       "       list(['User', 'code', 'not', 'available', 'on', 'PanDA', 'server', '(resubmit', 'task', 'with', '--useNewCode)']),\n",
       "       list(['User', 'code', 'not', 'available', 'on', 'PanDA', 'server', '(resubmit', 'task', 'with', '--useNewCode)']),\n",
       "       list(['User', 'code', 'not', 'available', 'on', 'PanDA', 'server', '(resubmit', 'task', 'with', '--useNewCode)']),\n",
       "       list(['User', 'code', 'not', 'available', 'on', 'PanDA', 'server', '(resubmit', 'task', 'with', '--useNewCode)']),\n",
       "       list(['User', 'code', 'not', 'available', 'on', 'PanDA', 'server', '(resubmit', 'task', 'with', '--useNewCode)']),\n",
       "       list(['User', 'code', 'not', 'available', 'on', 'PanDA', 'server', '(resubmit', 'task', 'with', '--useNewCode)']),\n",
       "       list(['User', 'code', 'not', 'available', 'on', 'PanDA', 'server', '(resubmit', 'task', 'with', '--useNewCode)']),\n",
       "       list(['User', 'code', 'not', 'available', 'on', 'PanDA', 'server', '(resubmit', 'task', 'with', '--useNewCode)']),\n",
       "       list(['User', 'code', 'not', 'available', 'on', 'PanDA', 'server', '(resubmit', 'task', 'with', '--useNewCode)']),\n",
       "       list(['User', 'code', 'not', 'available', 'on', 'PanDA', 'server', '(resubmit', 'task', 'with', '--useNewCode)']),\n",
       "       list(['User', 'code', 'not', 'available', 'on', 'PanDA', 'server', '(resubmit', 'task', 'with', '--useNewCode)']),\n",
       "       list(['User', 'code', 'not', 'available', 'on', 'PanDA', 'server', '(resubmit', 'task', 'with', '--useNewCode)']),\n",
       "       list(['User', 'code', 'not', 'available', 'on', 'PanDA', 'server', '(resubmit', 'task', 'with', '--useNewCode)']),\n",
       "       list(['User', 'code', 'not', 'available', 'on', 'PanDA', 'server', '(resubmit', 'task', 'with', '--useNewCode)']),\n",
       "       list(['User', 'code', 'not', 'available', 'on', 'PanDA', 'server', '(resubmit', 'task', 'with', '--useNewCode)']),\n",
       "       list(['User', 'code', 'not', 'available', 'on', 'PanDA', 'server', '(resubmit', 'task', 'with', '--useNewCode)']),\n",
       "       list(['User', 'code', 'not', 'available', 'on', 'PanDA', 'server', '(resubmit', 'task', 'with', '--useNewCode)']),\n",
       "       list(['User', 'code', 'not', 'available', 'on', 'PanDA', 'server', '(resubmit', 'task', 'with', '--useNewCode)']),\n",
       "       list(['User', 'code', 'not', 'available', 'on', 'PanDA', 'server', '(resubmit', 'task', 'with', '--useNewCode)']),\n",
       "       list(['User', 'code', 'not', 'available', 'on', 'PanDA', 'server', '(resubmit', 'task', 'with', '--useNewCode)']),\n",
       "       list(['User', 'code', 'not', 'available', 'on', 'PanDA', 'server', '(resubmit', 'task', 'with', '--useNewCode)']),\n",
       "       list(['User', 'code', 'not', 'available', 'on', 'PanDA', 'server', '(resubmit', 'task', 'with', '--useNewCode)']),\n",
       "       list(['User', 'code', 'not', 'available', 'on', 'PanDA', 'server', '(resubmit', 'task', 'with', '--useNewCode)']),\n",
       "       list(['User', 'code', 'not', 'available', 'on', 'PanDA', 'server', '(resubmit', 'task', 'with', '--useNewCode)']),\n",
       "       list(['User', 'code', 'not', 'available', 'on', 'PanDA', 'server', '(resubmit', 'task', 'with', '--useNewCode)']),\n",
       "       list(['User', 'code', 'not', 'available', 'on', 'PanDA', 'server', '(resubmit', 'task', 'with', '--useNewCode)']),\n",
       "       list(['User', 'code', 'not', 'available', 'on', 'PanDA', 'server', '(resubmit', 'task', 'with', '--useNewCode)']),\n",
       "       list(['User', 'code', 'not', 'available', 'on', 'PanDA', 'server', '(resubmit', 'task', 'with', '--useNewCode)']),\n",
       "       list(['User', 'code', 'not', 'available', 'on', 'PanDA', 'server', '(resubmit', 'task', 'with', '--useNewCode)']),\n",
       "       list(['User', 'code', 'not', 'available', 'on', 'PanDA', 'server', '(resubmit', 'task', 'with', '--useNewCode)']),\n",
       "       list(['User', 'code', 'not', 'available', 'on', 'PanDA', 'server', '(resubmit', 'task', 'with', '--useNewCode)']),\n",
       "       list(['User', 'code', 'not', 'available', 'on', 'PanDA', 'server', '(resubmit', 'task', 'with', '--useNewCode)']),\n",
       "       list(['User', 'code', 'not', 'available', 'on', 'PanDA', 'server', '(resubmit', 'task', 'with', '--useNewCode)']),\n",
       "       list(['User', 'code', 'not', 'available', 'on', 'PanDA', 'server', '(resubmit', 'task', 'with', '--useNewCode)']),\n",
       "       list(['User', 'code', 'not', 'available', 'on', 'PanDA', 'server', '(resubmit', 'task', 'with', '--useNewCode)']),\n",
       "       list(['User', 'code', 'not', 'available', 'on', 'PanDA', 'server', '(resubmit', 'task', 'with', '--useNewCode)']),\n",
       "       list(['User', 'code', 'not', 'available', 'on', 'PanDA', 'server', '(resubmit', 'task', 'with', '--useNewCode)']),\n",
       "       list(['User', 'code', 'not', 'available', 'on', 'PanDA', 'server', '(resubmit', 'task', 'with', '--useNewCode)']),\n",
       "       list(['User', 'code', 'not', 'available', 'on', 'PanDA', 'server', '(resubmit', 'task', 'with', '--useNewCode)']),\n",
       "       list(['User', 'code', 'not', 'available', 'on', 'PanDA', 'server', '(resubmit', 'task', 'with', '--useNewCode)']),\n",
       "       list(['User', 'code', 'not', 'available', 'on', 'PanDA', 'server', '(resubmit', 'task', 'with', '--useNewCode)']),\n",
       "       list(['User', 'code', 'not', 'available', 'on', 'PanDA', 'server', '(resubmit', 'task', 'with', '--useNewCode)']),\n",
       "       list(['User', 'code', 'not', 'available', 'on', 'PanDA', 'server', '(resubmit', 'task', 'with', '--useNewCode)']),\n",
       "       list(['User', 'code', 'not', 'available', 'on', 'PanDA', 'server', '(resubmit', 'task', 'with', '--useNewCode)']),\n",
       "       list(['User', 'code', 'not', 'available', 'on', 'PanDA', 'server', '(resubmit', 'task', 'with', '--useNewCode)'])],\n",
       "      dtype=object)"
      ]
     },
     "execution_count": 14,
     "metadata": {},
     "output_type": "execute_result"
    }
   ],
   "source": [
    "pilot_errors.df[pilot_errors.df['cluster'] == 15]['tokenized_pyonmttok'].values"
   ]
  },
  {
   "cell_type": "code",
   "execution_count": 15,
   "metadata": {},
   "outputs": [
    {
     "data": {
      "text/plain": [
       "array([\"Failed {*} stage-in file: u' {*} from {*} None of the requested {*} have been {*} transfer {*}\",\n",
       "       'File {*} out during {*} command out: TimeoutException: Timeout reached, {*}',\n",
       "       'Local output file is missing',\n",
       "       'Payload exceeded maximum allowed memory',\n",
       "       'Job killed by signal: {*}',\n",
       "       'Failed {*} stage-out file: {*} no error information passed (http status code: 503 (\\'service_unavailable\\', \\'unavailable\\'))\",)]:failed {*}',\n",
       "       \"No matching replicas were {*} in list_replicas() output: [ReplicasNotFound(('No replica for {*} (allow_lan=True, {*} {})]:failed to transfer files using {*}\",\n",
       "       \"Failed {*} stage-out file: {*} None of the given {*} have been uploaded.',)]:failed transfer using {*}\",\n",
       "       \"Service not available at the moment: {*} Failed stat file (Permission denied)',)]:failed transfer files using {*}\",\n",
       "       \"{*} out during stage-in: u' {*} from {*} copy command out: TimeoutException: Timeout reached, {*} to {*}\",\n",
       "       '{*} error code: {*} message: {*} Traceback (most recent call last):\\\\n {*} line 385, {*} copytool_in\\\\n job = queues.data_in.get(block=True, {*}',\n",
       "       'Looping job killed by pilot',\n",
       "       'Service {*} available at the moment: {*} srm-ifce {*} Communication error {*} send, [SE][Ls][] {*}',\n",
       "       'This job was killed by panda server',\n",
       "       \"Failed {*} stage-out file: {*} Checksum not validated',)]:failed transfer files using copytools=[u'rucio'] {*}\",\n",
       "       'Failed {*} stage-out file: {*} Replica {*}',\n",
       "       'Unrecognized fatal error in transform stderr:operand expected (error token is \"=\")',\n",
       "       \"No matching replicas were {*} in list_replicas() output: [ReplicasNotFound(('No {*} {}), ReplicasNotFound(('No {})]:failed to transfer {*}\",\n",
       "       'Failed {*} stage-in file: u\" {*} from RRC-KI-T1_DATADISK, download_pfns() got an unexpected keyword argument \\'traces_copy_out\\'\",)]:failed transfer files using copytools=[u\\'rucio\\'] {*}',\n",
       "       \"Failed {*} stage-in file: file does not exist: {*} (cannot verify catalog checksum)',)]:failed transfer files using copytools=[u'rucio'] {*}\",\n",
       "       'User code not available on PanDA server (resubmit task with --useNewCode)',\n",
       "       'Payload metadata does not exist',\n",
       "       \"adler32 mismatch on input file: {*} verification failed for {*}!= {*} to transfer files using copytools=[u'rucio'] {*}\",\n",
       "       'Local {*} is missing: Error: pfn does not exist: {*}',\n",
       "       'Payload ran out of memory',\n",
       "       \"Failed {*} stage-out file: {*} Replica {*} is corrupted.',)]:failed transfer files {*}\",\n",
       "       'SIGSEGV: Invalid memory reference or a segmentation fault',\n",
       "       '{*} error during stage-out: error: Copying {*} bytes {*} => {*}',\n",
       "       'Job failed due to unknown reason (consult log file)',\n",
       "       'Failed {*} stage-out file: {*} upload() got an unexpected keyword argument \\'traces_copy_out\\'\",)]:failed transfer files using copytools=[u\\'rucio\\'] {*}',\n",
       "       'Failed {*} get replicas from Rucio: HTTPSConnectionPool(host=\\'voatlasrucio-server-prod.cern.ch\\', port=443): Read timed out. (read timeout=600)\",)]:failed transfer files using {*}',\n",
       "       'No release candidates found',\n",
       "       \"Failed {*} stage-out file: {*} INFN-COSENZA_SCRATCHDISK, DESTINATION SRM_PUT_TURL error on the turl request: [SE][StatusOfPutRequest][SRM_INVALID_PATH] <none>',)]:failed {*}\",\n",
       "       \"Failed {*} stage-out file: {*} is blacklisted for writing. No actions have been taken',)]:failed transfer files using {*}\",\n",
       "       'Unrecognized fatal error in transform stderr:while mounting {*} getting {*} flags for searching parent {*}'],\n",
       "      dtype=object)"
      ]
     },
     "execution_count": 15,
     "metadata": {},
     "output_type": "execute_result"
    }
   ],
   "source": [
    "pilot_errors.big_clusters['pattern'].values"
   ]
  },
  {
   "cell_type": "code",
   "execution_count": 15,
   "metadata": {},
   "outputs": [
    {
     "data": {
      "text/html": [
       "<div>\n",
       "<style scoped>\n",
       "    .dataframe tbody tr th:only-of-type {\n",
       "        vertical-align: middle;\n",
       "    }\n",
       "\n",
       "    .dataframe tbody tr th {\n",
       "        vertical-align: top;\n",
       "    }\n",
       "\n",
       "    .dataframe thead th {\n",
       "        text-align: right;\n",
       "    }\n",
       "</style>\n",
       "<table border=\"1\" class=\"dataframe\">\n",
       "  <thead>\n",
       "    <tr style=\"text-align: right;\">\n",
       "      <th></th>\n",
       "      <th>cluster_size</th>\n",
       "      <th>mean_similarity</th>\n",
       "      <th>std_similarity</th>\n",
       "    </tr>\n",
       "  </thead>\n",
       "  <tbody>\n",
       "    <tr>\n",
       "      <td>count</td>\n",
       "      <td>28.000000</td>\n",
       "      <td>28.000000</td>\n",
       "      <td>28.000000</td>\n",
       "    </tr>\n",
       "    <tr>\n",
       "      <td>mean</td>\n",
       "      <td>816.750000</td>\n",
       "      <td>92.526786</td>\n",
       "      <td>4.987857</td>\n",
       "    </tr>\n",
       "    <tr>\n",
       "      <td>std</td>\n",
       "      <td>1534.417989</td>\n",
       "      <td>12.754485</td>\n",
       "      <td>6.249170</td>\n",
       "    </tr>\n",
       "    <tr>\n",
       "      <td>min</td>\n",
       "      <td>110.000000</td>\n",
       "      <td>50.620000</td>\n",
       "      <td>0.000000</td>\n",
       "    </tr>\n",
       "    <tr>\n",
       "      <td>25%</td>\n",
       "      <td>145.500000</td>\n",
       "      <td>89.802500</td>\n",
       "      <td>0.000000</td>\n",
       "    </tr>\n",
       "    <tr>\n",
       "      <td>50%</td>\n",
       "      <td>227.500000</td>\n",
       "      <td>98.960000</td>\n",
       "      <td>2.320000</td>\n",
       "    </tr>\n",
       "    <tr>\n",
       "      <td>75%</td>\n",
       "      <td>603.750000</td>\n",
       "      <td>100.000000</td>\n",
       "      <td>9.840000</td>\n",
       "    </tr>\n",
       "    <tr>\n",
       "      <td>max</td>\n",
       "      <td>7583.000000</td>\n",
       "      <td>100.000000</td>\n",
       "      <td>22.170000</td>\n",
       "    </tr>\n",
       "  </tbody>\n",
       "</table>\n",
       "</div>"
      ],
      "text/plain": [
       "       cluster_size  mean_similarity  std_similarity\n",
       "count     28.000000        28.000000       28.000000\n",
       "mean     816.750000        92.526786        4.987857\n",
       "std     1534.417989        12.754485        6.249170\n",
       "min      110.000000        50.620000        0.000000\n",
       "25%      145.500000        89.802500        0.000000\n",
       "50%      227.500000        98.960000        2.320000\n",
       "75%      603.750000       100.000000        9.840000\n",
       "max     7583.000000       100.000000       22.170000"
      ]
     },
     "execution_count": 15,
     "metadata": {},
     "output_type": "execute_result"
    }
   ],
   "source": [
    "pilot_errors.big_clusters.describe()"
   ]
  },
  {
   "cell_type": "code",
   "execution_count": 18,
   "metadata": {},
   "outputs": [
    {
     "data": {
      "text/plain": [
       "898"
      ]
     },
     "execution_count": 18,
     "metadata": {},
     "output_type": "execute_result"
    }
   ],
   "source": [
    "sum(pilot_errors.outliers['cluster_size'])"
   ]
  },
  {
   "cell_type": "code",
   "execution_count": 21,
   "metadata": {
    "scrolled": false
   },
   "outputs": [
    {
     "data": {
      "text/html": [
       "<div>\n",
       "<style scoped>\n",
       "    .dataframe tbody tr th:only-of-type {\n",
       "        vertical-align: middle;\n",
       "    }\n",
       "\n",
       "    .dataframe tbody tr th {\n",
       "        vertical-align: top;\n",
       "    }\n",
       "\n",
       "    .dataframe thead th {\n",
       "        text-align: right;\n",
       "    }\n",
       "</style>\n",
       "<table border=\"1\" class=\"dataframe\">\n",
       "  <thead>\n",
       "    <tr style=\"text-align: right;\">\n",
       "      <th></th>\n",
       "      <th>cluster_size</th>\n",
       "      <th>mean_similarity</th>\n",
       "      <th>std_similarity</th>\n",
       "    </tr>\n",
       "  </thead>\n",
       "  <tbody>\n",
       "    <tr>\n",
       "      <td>count</td>\n",
       "      <td>56.000000</td>\n",
       "      <td>56.000000</td>\n",
       "      <td>56.0</td>\n",
       "    </tr>\n",
       "    <tr>\n",
       "      <td>mean</td>\n",
       "      <td>16.035714</td>\n",
       "      <td>0.983036</td>\n",
       "      <td>0.0</td>\n",
       "    </tr>\n",
       "    <tr>\n",
       "      <td>std</td>\n",
       "      <td>22.421552</td>\n",
       "      <td>0.043856</td>\n",
       "      <td>0.0</td>\n",
       "    </tr>\n",
       "    <tr>\n",
       "      <td>min</td>\n",
       "      <td>1.000000</td>\n",
       "      <td>0.730000</td>\n",
       "      <td>0.0</td>\n",
       "    </tr>\n",
       "    <tr>\n",
       "      <td>25%</td>\n",
       "      <td>2.000000</td>\n",
       "      <td>0.995000</td>\n",
       "      <td>0.0</td>\n",
       "    </tr>\n",
       "    <tr>\n",
       "      <td>50%</td>\n",
       "      <td>4.500000</td>\n",
       "      <td>1.000000</td>\n",
       "      <td>0.0</td>\n",
       "    </tr>\n",
       "    <tr>\n",
       "      <td>75%</td>\n",
       "      <td>18.250000</td>\n",
       "      <td>1.000000</td>\n",
       "      <td>0.0</td>\n",
       "    </tr>\n",
       "    <tr>\n",
       "      <td>max</td>\n",
       "      <td>92.000000</td>\n",
       "      <td>1.000000</td>\n",
       "      <td>0.0</td>\n",
       "    </tr>\n",
       "  </tbody>\n",
       "</table>\n",
       "</div>"
      ],
      "text/plain": [
       "       cluster_size  mean_similarity  std_similarity\n",
       "count     56.000000        56.000000            56.0\n",
       "mean      16.035714         0.983036             0.0\n",
       "std       22.421552         0.043856             0.0\n",
       "min        1.000000         0.730000             0.0\n",
       "25%        2.000000         0.995000             0.0\n",
       "50%        4.500000         1.000000             0.0\n",
       "75%       18.250000         1.000000             0.0\n",
       "max       92.000000         1.000000             0.0"
      ]
     },
     "execution_count": 21,
     "metadata": {},
     "output_type": "execute_result"
    }
   ],
   "source": [
    "pilot_errors.outliers.describe()"
   ]
  },
  {
   "cell_type": "code",
   "execution_count": null,
   "metadata": {},
   "outputs": [],
   "source": [
    "pilot_errors.outliers"
   ]
  },
  {
   "cell_type": "code",
   "execution_count": null,
   "metadata": {},
   "outputs": [],
   "source": [
    "pilot_errors.big_clusters"
   ]
  },
  {
   "cell_type": "code",
   "execution_count": null,
   "metadata": {},
   "outputs": [],
   "source": [
    "pilot_errors.outliers_clusters_df.sort_values(by=['mean_similarity'])"
   ]
  },
  {
   "cell_type": "code",
   "execution_count": null,
   "metadata": {},
   "outputs": [],
   "source": [
    "pilot_errors.outliers_df"
   ]
  },
  {
   "cell_type": "code",
   "execution_count": null,
   "metadata": {},
   "outputs": [],
   "source": [
    "pilot_errors.results.to_csv('pilot_errors.csv')"
   ]
  },
  {
   "cell_type": "code",
   "execution_count": null,
   "metadata": {},
   "outputs": [],
   "source": [
    "sup_errors = multistage.exec(sup, 'superrordiag', 'sup.model')"
   ]
  },
  {
   "cell_type": "code",
   "execution_count": null,
   "metadata": {},
   "outputs": [],
   "source": [
    "sup_errors.big_clusters_1"
   ]
  },
  {
   "cell_type": "code",
   "execution_count": null,
   "metadata": {},
   "outputs": [],
   "source": [
    "sup_errors.small_clusters_1"
   ]
  },
  {
   "cell_type": "code",
   "execution_count": null,
   "metadata": {},
   "outputs": [],
   "source": [
    "sup_errors._1.timings"
   ]
  },
  {
   "cell_type": "code",
   "execution_count": null,
   "metadata": {},
   "outputs": [],
   "source": [
    "sup_errors._2.output.patterns"
   ]
  },
  {
   "cell_type": "code",
   "execution_count": null,
   "metadata": {},
   "outputs": [],
   "source": [
    "sup_errors.small_clusters_2"
   ]
  },
  {
   "cell_type": "code",
   "execution_count": null,
   "metadata": {},
   "outputs": [],
   "source": [
    "sup_errors._2.timings"
   ]
  },
  {
   "cell_type": "code",
   "execution_count": null,
   "metadata": {
    "scrolled": false
   },
   "outputs": [],
   "source": [
    "sup_errors.big_clusters"
   ]
  },
  {
   "cell_type": "code",
   "execution_count": null,
   "metadata": {},
   "outputs": [],
   "source": [
    "sup_errors.outliers"
   ]
  },
  {
   "cell_type": "code",
   "execution_count": null,
   "metadata": {},
   "outputs": [],
   "source": [
    "taskbuf_errors = multistage.exec(taskbuf, 'taskbuffererrordiag', 'taskbuf.model')"
   ]
  },
  {
   "cell_type": "code",
   "execution_count": null,
   "metadata": {
    "scrolled": false
   },
   "outputs": [],
   "source": [
    "taskbuf_errors.big_clusters"
   ]
  },
  {
   "cell_type": "code",
   "execution_count": null,
   "metadata": {},
   "outputs": [],
   "source": [
    "taskbuf_errors.results.to_csv('taskbuf_errors.csv')"
   ]
  },
  {
   "cell_type": "code",
   "execution_count": null,
   "metadata": {},
   "outputs": [],
   "source": [
    "print(taskbuf_errors.in_cluster(0))"
   ]
  },
  {
   "cell_type": "code",
   "execution_count": null,
   "metadata": {},
   "outputs": [],
   "source": [
    "taskbuf_errors.cluster.patterns_stats"
   ]
  },
  {
   "cell_type": "code",
   "execution_count": null,
   "metadata": {},
   "outputs": [],
   "source": [
    "print(taskbuf_errors.cluster.in_cluster(2).tolist())"
   ]
  },
  {
   "cell_type": "code",
   "execution_count": null,
   "metadata": {},
   "outputs": [],
   "source": [
    ""
   ]
  }
 ],
 "metadata": {
  "kernelspec": {
   "display_name": "Python 3",
   "language": "python",
   "name": "python3"
  },
  "language_info": {
   "codemirror_mode": {
    "name": "ipython",
    "version": 3.0
   },
   "file_extension": ".py",
   "mimetype": "text/x-python",
   "name": "python",
   "nbconvert_exporter": "python",
   "pygments_lexer": "ipython3",
   "version": "3.7.6"
  }
 },
 "nbformat": 4,
 "nbformat_minor": 0
}