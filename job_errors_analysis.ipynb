{
 "cells": [
  {
   "cell_type": "code",
   "execution_count": 1,
   "metadata": {},
   "outputs": [],
   "source": [
    "from clusterlogs import multistage"
   ]
  },
  {
   "cell_type": "code",
   "execution_count": 2,
   "metadata": {},
   "outputs": [],
   "source": [
    "import pandas as pd"
   ]
  },
  {
   "cell_type": "code",
   "execution_count": 3,
   "metadata": {},
   "outputs": [
    {
     "name": "stderr",
     "output_type": "stream",
     "text": [
      "/anaconda3/envs/anaconda37/lib/python3.7/site-packages/IPython/core/interactiveshell.py:3051: DtypeWarning: Columns (115) have mixed types. Specify dtype option on import or set low_memory=False.\n",
      "  interactivity=interactivity, compiler=compiler, result=result)\n"
     ]
    }
   ],
   "source": [
    "df = pd.read_csv('samples/jobs-january10-100.csv')"
   ]
  },
  {
   "cell_type": "code",
   "execution_count": 4,
   "metadata": {},
   "outputs": [
    {
     "data": {
      "text/plain": [
       "<bound method NDFrame.describe of 0        2020-01-10T08:57:35\n",
       "1        2020-01-10T13:01:31\n",
       "2        2020-01-10T13:01:32\n",
       "3        2020-01-10T13:01:32\n",
       "4        2020-01-10T13:01:32\n",
       "                ...         \n",
       "95158    2020-01-10T17:08:25\n",
       "95159    2020-01-10T17:14:31\n",
       "95160    2020-01-10T17:12:23\n",
       "95161    2020-01-10T08:39:51\n",
       "95162    2020-01-10T08:58:47\n",
       "Name: starttime, Length: 95163, dtype: object>"
      ]
     },
     "execution_count": 4,
     "metadata": {},
     "output_type": "execute_result"
    }
   ],
   "source": [
    "df['starttime'].describe"
   ]
  },
  {
   "cell_type": "code",
   "execution_count": 5,
   "metadata": {},
   "outputs": [],
   "source": [
    "df.set_index('pandaid', inplace=True)"
   ]
  },
  {
   "cell_type": "code",
   "execution_count": 6,
   "metadata": {},
   "outputs": [],
   "source": [
    "errors = df[['ddmerrordiag','brokerageerrordiag','exeerrordiag',\n",
    "             'piloterrordiag','superrordiag','taskbuffererrordiag']].dropna(axis=0, how='all')"
   ]
  },
  {
   "cell_type": "code",
   "execution_count": 7,
   "metadata": {},
   "outputs": [],
   "source": [
    "ddm = errors[['ddmerrordiag']].dropna(axis=0)"
   ]
  },
  {
   "cell_type": "code",
   "execution_count": 8,
   "metadata": {},
   "outputs": [],
   "source": [
    "broker = errors['brokerageerrordiag'].dropna(axis=0)"
   ]
  },
  {
   "cell_type": "code",
   "execution_count": 9,
   "metadata": {},
   "outputs": [],
   "source": [
    "exe = errors['exeerrordiag'].dropna()"
   ]
  },
  {
   "cell_type": "code",
   "execution_count": 10,
   "metadata": {},
   "outputs": [],
   "source": [
    "pilot = errors[['piloterrordiag']].dropna(axis=0)"
   ]
  },
  {
   "cell_type": "code",
   "execution_count": null,
   "metadata": {},
   "outputs": [],
   "source": [
    "sup = errors[['superrordiag']].dropna(axis=0)"
   ]
  },
  {
   "cell_type": "code",
   "execution_count": null,
   "metadata": {},
   "outputs": [],
   "source": [
    "taskbuf = errors[['taskbuffererrordiag']].dropna(axis=0)"
   ]
  },
  {
   "cell_type": "code",
   "execution_count": null,
   "metadata": {},
   "outputs": [],
   "source": [
    "ddm.to_csv('ddm.csv')"
   ]
  },
  {
   "cell_type": "code",
   "execution_count": null,
   "metadata": {},
   "outputs": [],
   "source": [
    "pilot.to_csv('pilot.csv')"
   ]
  },
  {
   "cell_type": "code",
   "execution_count": null,
   "metadata": {},
   "outputs": [],
   "source": [
    "sup"
   ]
  },
  {
   "cell_type": "code",
   "execution_count": null,
   "metadata": {},
   "outputs": [],
   "source": [
    "taskbuf"
   ]
  },
  {
   "cell_type": "code",
   "execution_count": null,
   "metadata": {},
   "outputs": [],
   "source": [
    "ddm_errors = multistage.exec(ddm, 'ddmerrordiag', 'ddm.model', 500)"
   ]
  },
  {
   "cell_type": "code",
   "execution_count": null,
   "metadata": {},
   "outputs": [],
   "source": [
    "ddm_errors.clusters"
   ]
  },
  {
   "cell_type": "code",
   "execution_count": null,
   "metadata": {},
   "outputs": [],
   "source": [
    "ddm_errors.results.to_csv('ddm_errors.csv')"
   ]
  },
  {
   "cell_type": "code",
   "execution_count": 11,
   "metadata": {},
   "outputs": [],
   "source": [
    "pilot_errors = multistage.exec(pilot, 'piloterrordiag', 'pilot.model', 100)"
   ]
  },
  {
   "cell_type": "code",
   "execution_count": 12,
   "metadata": {},
   "outputs": [
    {
     "data": {
      "text/plain": [
       "{'data_preparation': 0.6652,\n",
       " 'tokenization': 0.8803,\n",
       " 'tokens_vectorization': 1.8186,\n",
       " 'sentence_vectorization': 5.0675,\n",
       " 'dimensionality_reduction': 0.0998,\n",
       " 'kneighbors': 1.3034,\n",
       " 'epsilon_search': 0.3594,\n",
       " 'dbscan': 1.461,\n",
       " 'extract_patterns': 5.5735,\n",
       " 'process': 17.1289}"
      ]
     },
     "execution_count": 12,
     "metadata": {},
     "output_type": "execute_result"
    }
   ],
   "source": [
    "pilot_errors._1.timings"
   ]
  },
  {
   "cell_type": "code",
   "execution_count": 13,
   "metadata": {},
   "outputs": [
    {
     "data": {
      "text/html": [
       "<div>\n",
       "<style scoped>\n",
       "    .dataframe tbody tr th:only-of-type {\n",
       "        vertical-align: middle;\n",
       "    }\n",
       "\n",
       "    .dataframe tbody tr th {\n",
       "        vertical-align: top;\n",
       "    }\n",
       "\n",
       "    .dataframe thead th {\n",
       "        text-align: right;\n",
       "    }\n",
       "</style>\n",
       "<table border=\"1\" class=\"dataframe\">\n",
       "  <thead>\n",
       "    <tr style=\"text-align: right;\">\n",
       "      <th></th>\n",
       "      <th>cluster_size</th>\n",
       "      <th>mean_similarity</th>\n",
       "      <th>pattern</th>\n",
       "    </tr>\n",
       "  </thead>\n",
       "  <tbody>\n",
       "    <tr>\n",
       "      <td>16</td>\n",
       "      <td>2862</td>\n",
       "      <td>0.95</td>\n",
       "      <td>Failed to stage-in file: u' from None of the r...</td>\n",
       "    </tr>\n",
       "    <tr>\n",
       "      <td>11</td>\n",
       "      <td>1778</td>\n",
       "      <td>1.00</td>\n",
       "      <td>Local output file is missing</td>\n",
       "    </tr>\n",
       "    <tr>\n",
       "      <td>36</td>\n",
       "      <td>1735</td>\n",
       "      <td>1.00</td>\n",
       "      <td>Payload exceeded maximum allowed memory</td>\n",
       "    </tr>\n",
       "    <tr>\n",
       "      <td>20</td>\n",
       "      <td>1379</td>\n",
       "      <td>0.98</td>\n",
       "      <td>Failed to stage-in file: u' from DESY-HH_DATAD...</td>\n",
       "    </tr>\n",
       "    <tr>\n",
       "      <td>1</td>\n",
       "      <td>1270</td>\n",
       "      <td>0.93</td>\n",
       "      <td>File transfer timed out during stage-out: to c...</td>\n",
       "    </tr>\n",
       "    <tr>\n",
       "      <td>12</td>\n",
       "      <td>1168</td>\n",
       "      <td>1.00</td>\n",
       "      <td>Job killed by signal: SIGTERM</td>\n",
       "    </tr>\n",
       "    <tr>\n",
       "      <td>25</td>\n",
       "      <td>831</td>\n",
       "      <td>0.98</td>\n",
       "      <td>No matching replicas were found in list_replic...</td>\n",
       "    </tr>\n",
       "    <tr>\n",
       "      <td>278</td>\n",
       "      <td>797</td>\n",
       "      <td>0.98</td>\n",
       "      <td>Failed to stage-in file: u' from INFN-NAPOLI-A...</td>\n",
       "    </tr>\n",
       "    <tr>\n",
       "      <td>42</td>\n",
       "      <td>544</td>\n",
       "      <td>0.95</td>\n",
       "      <td>Service not available at the moment: to Failed...</td>\n",
       "    </tr>\n",
       "    <tr>\n",
       "      <td>4</td>\n",
       "      <td>538</td>\n",
       "      <td>0.98</td>\n",
       "      <td>Failed to stage-in file: u' from CERN-PROD_DAT...</td>\n",
       "    </tr>\n",
       "    <tr>\n",
       "      <td>14</td>\n",
       "      <td>447</td>\n",
       "      <td>0.95</td>\n",
       "      <td>Failed to stage-out file: to no error informat...</td>\n",
       "    </tr>\n",
       "    <tr>\n",
       "      <td>9</td>\n",
       "      <td>380</td>\n",
       "      <td>1.00</td>\n",
       "      <td>Looping job killed by pilot</td>\n",
       "    </tr>\n",
       "    <tr>\n",
       "      <td>68</td>\n",
       "      <td>352</td>\n",
       "      <td>1.00</td>\n",
       "      <td>This job was killed by panda server</td>\n",
       "    </tr>\n",
       "    <tr>\n",
       "      <td>174</td>\n",
       "      <td>302</td>\n",
       "      <td>1.00</td>\n",
       "      <td>Unrecognized fatal error in transform stderr:o...</td>\n",
       "    </tr>\n",
       "    <tr>\n",
       "      <td>57</td>\n",
       "      <td>283</td>\n",
       "      <td>0.97</td>\n",
       "      <td>Failed to stage-in file: u\" from RRC-KI-T1_DAT...</td>\n",
       "    </tr>\n",
       "    <tr>\n",
       "      <td>182</td>\n",
       "      <td>241</td>\n",
       "      <td>1.00</td>\n",
       "      <td>User code not available on PanDA server (resub...</td>\n",
       "    </tr>\n",
       "    <tr>\n",
       "      <td>32</td>\n",
       "      <td>233</td>\n",
       "      <td>0.95</td>\n",
       "      <td>File transfer timed out during stage-out: to D...</td>\n",
       "    </tr>\n",
       "    <tr>\n",
       "      <td>5</td>\n",
       "      <td>215</td>\n",
       "      <td>0.95</td>\n",
       "      <td>Failed to stage-out file: to None of the given...</td>\n",
       "    </tr>\n",
       "    <tr>\n",
       "      <td>183</td>\n",
       "      <td>214</td>\n",
       "      <td>0.98</td>\n",
       "      <td>Failed to stage-in file: error code: 1099, mes...</td>\n",
       "    </tr>\n",
       "    <tr>\n",
       "      <td>102</td>\n",
       "      <td>214</td>\n",
       "      <td>1.00</td>\n",
       "      <td>Payload metadata does not exist</td>\n",
       "    </tr>\n",
       "    <tr>\n",
       "      <td>164</td>\n",
       "      <td>207</td>\n",
       "      <td>0.97</td>\n",
       "      <td>Failed to stage-out file: to GOEGRID_SCRATCHDI...</td>\n",
       "    </tr>\n",
       "    <tr>\n",
       "      <td>72</td>\n",
       "      <td>196</td>\n",
       "      <td>0.97</td>\n",
       "      <td>Failed to stage-in file: file does not exist: ...</td>\n",
       "    </tr>\n",
       "    <tr>\n",
       "      <td>50</td>\n",
       "      <td>193</td>\n",
       "      <td>0.95</td>\n",
       "      <td>File transfer timed out during stage-out: to I...</td>\n",
       "    </tr>\n",
       "    <tr>\n",
       "      <td>35</td>\n",
       "      <td>192</td>\n",
       "      <td>1.00</td>\n",
       "      <td>Payload ran out of memory</td>\n",
       "    </tr>\n",
       "    <tr>\n",
       "      <td>92</td>\n",
       "      <td>172</td>\n",
       "      <td>0.93</td>\n",
       "      <td>File transfer timed out during stage-in: u' fr...</td>\n",
       "    </tr>\n",
       "    <tr>\n",
       "      <td>62</td>\n",
       "      <td>167</td>\n",
       "      <td>0.92</td>\n",
       "      <td>adler32 mismatch on input file: checksum verif...</td>\n",
       "    </tr>\n",
       "    <tr>\n",
       "      <td>104</td>\n",
       "      <td>162</td>\n",
       "      <td>0.97</td>\n",
       "      <td>Failed to stage-out file: to INFN-COSENZA_SCRA...</td>\n",
       "    </tr>\n",
       "    <tr>\n",
       "      <td>71</td>\n",
       "      <td>154</td>\n",
       "      <td>1.00</td>\n",
       "      <td>SIGSEGV: Invalid memory reference or a segment...</td>\n",
       "    </tr>\n",
       "    <tr>\n",
       "      <td>2</td>\n",
       "      <td>150</td>\n",
       "      <td>0.93</td>\n",
       "      <td>Failed to stage-out file: to Checksum not vali...</td>\n",
       "    </tr>\n",
       "    <tr>\n",
       "      <td>60</td>\n",
       "      <td>141</td>\n",
       "      <td>0.95</td>\n",
       "      <td>File transfer timed out during stage-out: to U...</td>\n",
       "    </tr>\n",
       "    <tr>\n",
       "      <td>175</td>\n",
       "      <td>134</td>\n",
       "      <td>1.00</td>\n",
       "      <td>Job failed due to unknown reason (consult log ...</td>\n",
       "    </tr>\n",
       "    <tr>\n",
       "      <td>27</td>\n",
       "      <td>126</td>\n",
       "      <td>0.96</td>\n",
       "      <td>No matching replicas were found in list_replic...</td>\n",
       "    </tr>\n",
       "    <tr>\n",
       "      <td>177</td>\n",
       "      <td>118</td>\n",
       "      <td>1.00</td>\n",
       "      <td>No release candidates found</td>\n",
       "    </tr>\n",
       "    <tr>\n",
       "      <td>41</td>\n",
       "      <td>117</td>\n",
       "      <td>1.00</td>\n",
       "      <td>Failed to get replicas from Rucio: HTTPSConnec...</td>\n",
       "    </tr>\n",
       "    <tr>\n",
       "      <td>186</td>\n",
       "      <td>116</td>\n",
       "      <td>0.97</td>\n",
       "      <td>Failed to stage-out file: to JINR-LCG2_DATADIS...</td>\n",
       "    </tr>\n",
       "    <tr>\n",
       "      <td>107</td>\n",
       "      <td>112</td>\n",
       "      <td>0.93</td>\n",
       "      <td>Failed to stage-out file: to INFN-MILANO-ATLAS...</td>\n",
       "    </tr>\n",
       "    <tr>\n",
       "      <td>79</td>\n",
       "      <td>111</td>\n",
       "      <td>0.96</td>\n",
       "      <td>File transfer timed out during stage-in: u' fr...</td>\n",
       "    </tr>\n",
       "    <tr>\n",
       "      <td>342</td>\n",
       "      <td>106</td>\n",
       "      <td>0.97</td>\n",
       "      <td>No matching replicas were found in list_replic...</td>\n",
       "    </tr>\n",
       "  </tbody>\n",
       "</table>\n",
       "</div>"
      ],
      "text/plain": [
       "     cluster_size  mean_similarity  \\\n",
       "16           2862             0.95   \n",
       "11           1778             1.00   \n",
       "36           1735             1.00   \n",
       "20           1379             0.98   \n",
       "1            1270             0.93   \n",
       "12           1168             1.00   \n",
       "25            831             0.98   \n",
       "278           797             0.98   \n",
       "42            544             0.95   \n",
       "4             538             0.98   \n",
       "14            447             0.95   \n",
       "9             380             1.00   \n",
       "68            352             1.00   \n",
       "174           302             1.00   \n",
       "57            283             0.97   \n",
       "182           241             1.00   \n",
       "32            233             0.95   \n",
       "5             215             0.95   \n",
       "183           214             0.98   \n",
       "102           214             1.00   \n",
       "164           207             0.97   \n",
       "72            196             0.97   \n",
       "50            193             0.95   \n",
       "35            192             1.00   \n",
       "92            172             0.93   \n",
       "62            167             0.92   \n",
       "104           162             0.97   \n",
       "71            154             1.00   \n",
       "2             150             0.93   \n",
       "60            141             0.95   \n",
       "175           134             1.00   \n",
       "27            126             0.96   \n",
       "177           118             1.00   \n",
       "41            117             1.00   \n",
       "186           116             0.97   \n",
       "107           112             0.93   \n",
       "79            111             0.96   \n",
       "342           106             0.97   \n",
       "\n",
       "                                               pattern  \n",
       "16   Failed to stage-in file: u' from None of the r...  \n",
       "11                        Local output file is missing  \n",
       "36             Payload exceeded maximum allowed memory  \n",
       "20   Failed to stage-in file: u' from DESY-HH_DATAD...  \n",
       "1    File transfer timed out during stage-out: to c...  \n",
       "12                       Job killed by signal: SIGTERM  \n",
       "25   No matching replicas were found in list_replic...  \n",
       "278  Failed to stage-in file: u' from INFN-NAPOLI-A...  \n",
       "42   Service not available at the moment: to Failed...  \n",
       "4    Failed to stage-in file: u' from CERN-PROD_DAT...  \n",
       "14   Failed to stage-out file: to no error informat...  \n",
       "9                          Looping job killed by pilot  \n",
       "68                 This job was killed by panda server  \n",
       "174  Unrecognized fatal error in transform stderr:o...  \n",
       "57   Failed to stage-in file: u\" from RRC-KI-T1_DAT...  \n",
       "182  User code not available on PanDA server (resub...  \n",
       "32   File transfer timed out during stage-out: to D...  \n",
       "5    Failed to stage-out file: to None of the given...  \n",
       "183  Failed to stage-in file: error code: 1099, mes...  \n",
       "102                    Payload metadata does not exist  \n",
       "164  Failed to stage-out file: to GOEGRID_SCRATCHDI...  \n",
       "72   Failed to stage-in file: file does not exist: ...  \n",
       "50   File transfer timed out during stage-out: to I...  \n",
       "35                           Payload ran out of memory  \n",
       "92   File transfer timed out during stage-in: u' fr...  \n",
       "62   adler32 mismatch on input file: checksum verif...  \n",
       "104  Failed to stage-out file: to INFN-COSENZA_SCRA...  \n",
       "71   SIGSEGV: Invalid memory reference or a segment...  \n",
       "2    Failed to stage-out file: to Checksum not vali...  \n",
       "60   File transfer timed out during stage-out: to U...  \n",
       "175  Job failed due to unknown reason (consult log ...  \n",
       "27   No matching replicas were found in list_replic...  \n",
       "177                        No release candidates found  \n",
       "41   Failed to get replicas from Rucio: HTTPSConnec...  \n",
       "186  Failed to stage-out file: to JINR-LCG2_DATADIS...  \n",
       "107  Failed to stage-out file: to INFN-MILANO-ATLAS...  \n",
       "79   File transfer timed out during stage-in: u' fr...  \n",
       "342  No matching replicas were found in list_replic...  "
      ]
     },
     "execution_count": 13,
     "metadata": {},
     "output_type": "execute_result"
    }
   ],
   "source": [
    "pilot_errors.big_clusters_1[['cluster_size','mean_similarity','pattern']]"
   ]
  },
  {
   "cell_type": "code",
   "execution_count": 14,
   "metadata": {},
   "outputs": [
    {
     "data": {
      "text/html": [
       "<div>\n",
       "<style scoped>\n",
       "    .dataframe tbody tr th:only-of-type {\n",
       "        vertical-align: middle;\n",
       "    }\n",
       "\n",
       "    .dataframe tbody tr th {\n",
       "        vertical-align: top;\n",
       "    }\n",
       "\n",
       "    .dataframe thead th {\n",
       "        text-align: right;\n",
       "    }\n",
       "</style>\n",
       "<table border=\"1\" class=\"dataframe\">\n",
       "  <thead>\n",
       "    <tr style=\"text-align: right;\">\n",
       "      <th></th>\n",
       "      <th>cluster_size</th>\n",
       "      <th>mean_similarity</th>\n",
       "      <th>std_similarity</th>\n",
       "    </tr>\n",
       "  </thead>\n",
       "  <tbody>\n",
       "    <tr>\n",
       "      <td>count</td>\n",
       "      <td>1041.000000</td>\n",
       "      <td>1041.000000</td>\n",
       "      <td>1041.000000</td>\n",
       "    </tr>\n",
       "    <tr>\n",
       "      <td>mean</td>\n",
       "      <td>5.935639</td>\n",
       "      <td>0.976071</td>\n",
       "      <td>0.003477</td>\n",
       "    </tr>\n",
       "    <tr>\n",
       "      <td>std</td>\n",
       "      <td>13.234304</td>\n",
       "      <td>0.040538</td>\n",
       "      <td>0.007207</td>\n",
       "    </tr>\n",
       "    <tr>\n",
       "      <td>min</td>\n",
       "      <td>1.000000</td>\n",
       "      <td>0.710000</td>\n",
       "      <td>0.000000</td>\n",
       "    </tr>\n",
       "    <tr>\n",
       "      <td>25%</td>\n",
       "      <td>1.000000</td>\n",
       "      <td>0.960000</td>\n",
       "      <td>0.000000</td>\n",
       "    </tr>\n",
       "    <tr>\n",
       "      <td>50%</td>\n",
       "      <td>1.000000</td>\n",
       "      <td>1.000000</td>\n",
       "      <td>0.000000</td>\n",
       "    </tr>\n",
       "    <tr>\n",
       "      <td>75%</td>\n",
       "      <td>4.000000</td>\n",
       "      <td>1.000000</td>\n",
       "      <td>0.000000</td>\n",
       "    </tr>\n",
       "    <tr>\n",
       "      <td>max</td>\n",
       "      <td>92.000000</td>\n",
       "      <td>1.000000</td>\n",
       "      <td>0.050000</td>\n",
       "    </tr>\n",
       "  </tbody>\n",
       "</table>\n",
       "</div>"
      ],
      "text/plain": [
       "       cluster_size  mean_similarity  std_similarity\n",
       "count   1041.000000      1041.000000     1041.000000\n",
       "mean       5.935639         0.976071        0.003477\n",
       "std       13.234304         0.040538        0.007207\n",
       "min        1.000000         0.710000        0.000000\n",
       "25%        1.000000         0.960000        0.000000\n",
       "50%        1.000000         1.000000        0.000000\n",
       "75%        4.000000         1.000000        0.000000\n",
       "max       92.000000         1.000000        0.050000"
      ]
     },
     "execution_count": 14,
     "metadata": {},
     "output_type": "execute_result"
    }
   ],
   "source": [
    "pilot_errors.small_clusters_1.describe()"
   ]
  },
  {
   "cell_type": "code",
   "execution_count": null,
   "metadata": {},
   "outputs": [],
   "source": [
    "pilot_errors._2.timings"
   ]
  },
  {
   "cell_type": "code",
   "execution_count": 15,
   "metadata": {},
   "outputs": [
    {
     "data": {
      "text/plain": [
       "array([list(['Killed', 'by', 'Harvester', 'due', 'to', 'worker', 'queuing', 'too', 'long']),\n",
       "       list(['Killed', 'by', 'Harvester', 'due', 'to', 'worker', 'queuing', 'too', 'long']),\n",
       "       list(['Killed', 'by', 'Harvester', 'due', 'to', 'worker', 'queuing', 'too', 'long']),\n",
       "       ...,\n",
       "       list(['Service', 'not', 'available', 'at', 'the', 'moment:', 'user.mvanadia:user.mvanadia.20234360.EXT0._091667.pool.root', 'to', 'MWT2_UC_SCRATCHDISK,', 'Failed', 'to', 'stat', 'file', '(Permission', \"denied)',)]:failed\", 'to', 'transfer', 'files', 'using', \"copytools=[u'rucio']\"]),\n",
       "       list(['Service', 'not', 'available', 'at', 'the', 'moment:', 'user.mvanadia:user.mvanadia.666000.PowhegPythia8EvtGen_A14_ttbar_nonallhadSMT_v11LHE_P8.log.20234360.101453.log.tgz', 'to', 'MWT2_UC_SCRATCHDISK,', 'Failed', 'to', 'stat', 'file', '(Permission', \"denied)',)]:failed\", 'to', 'transfer', 'files', 'using', \"copytools=[u'rucio']\"]),\n",
       "       list(['Local', 'output', 'file', 'is', 'missing'])], dtype=object)"
      ]
     },
     "execution_count": 15,
     "metadata": {},
     "output_type": "execute_result"
    }
   ],
   "source": [
    "pilot_errors.df['tokenized_pyonmttok'].values"
   ]
  },
  {
   "cell_type": "code",
   "execution_count": 22,
   "metadata": {},
   "outputs": [
    {
     "data": {
      "text/html": [
       "<div>\n",
       "<style scoped>\n",
       "    .dataframe tbody tr th:only-of-type {\n",
       "        vertical-align: middle;\n",
       "    }\n",
       "\n",
       "    .dataframe tbody tr th {\n",
       "        vertical-align: top;\n",
       "    }\n",
       "\n",
       "    .dataframe thead th {\n",
       "        text-align: right;\n",
       "    }\n",
       "</style>\n",
       "<table border=\"1\" class=\"dataframe\">\n",
       "  <thead>\n",
       "    <tr style=\"text-align: right;\">\n",
       "      <th></th>\n",
       "      <th>cluster_size</th>\n",
       "      <th>mean_similarity</th>\n",
       "      <th>std_similarity</th>\n",
       "    </tr>\n",
       "  </thead>\n",
       "  <tbody>\n",
       "    <tr>\n",
       "      <td>count</td>\n",
       "      <td>34.000000</td>\n",
       "      <td>34.000000</td>\n",
       "      <td>34.000000</td>\n",
       "    </tr>\n",
       "    <tr>\n",
       "      <td>mean</td>\n",
       "      <td>674.735294</td>\n",
       "      <td>0.924412</td>\n",
       "      <td>0.012059</td>\n",
       "    </tr>\n",
       "    <tr>\n",
       "      <td>std</td>\n",
       "      <td>1153.139675</td>\n",
       "      <td>0.081879</td>\n",
       "      <td>0.016102</td>\n",
       "    </tr>\n",
       "    <tr>\n",
       "      <td>min</td>\n",
       "      <td>109.000000</td>\n",
       "      <td>0.710000</td>\n",
       "      <td>0.000000</td>\n",
       "    </tr>\n",
       "    <tr>\n",
       "      <td>25%</td>\n",
       "      <td>161.750000</td>\n",
       "      <td>0.900000</td>\n",
       "      <td>0.000000</td>\n",
       "    </tr>\n",
       "    <tr>\n",
       "      <td>50%</td>\n",
       "      <td>272.500000</td>\n",
       "      <td>0.940000</td>\n",
       "      <td>0.000000</td>\n",
       "    </tr>\n",
       "    <tr>\n",
       "      <td>75%</td>\n",
       "      <td>537.750000</td>\n",
       "      <td>1.000000</td>\n",
       "      <td>0.020000</td>\n",
       "    </tr>\n",
       "    <tr>\n",
       "      <td>max</td>\n",
       "      <td>5880.000000</td>\n",
       "      <td>1.000000</td>\n",
       "      <td>0.060000</td>\n",
       "    </tr>\n",
       "  </tbody>\n",
       "</table>\n",
       "</div>"
      ],
      "text/plain": [
       "       cluster_size  mean_similarity  std_similarity\n",
       "count     34.000000        34.000000       34.000000\n",
       "mean     674.735294         0.924412        0.012059\n",
       "std     1153.139675         0.081879        0.016102\n",
       "min      109.000000         0.710000        0.000000\n",
       "25%      161.750000         0.900000        0.000000\n",
       "50%      272.500000         0.940000        0.000000\n",
       "75%      537.750000         1.000000        0.020000\n",
       "max     5880.000000         1.000000        0.060000"
      ]
     },
     "execution_count": 22,
     "metadata": {},
     "output_type": "execute_result"
    }
   ],
   "source": [
    "pilot_errors.big_clusters.describe()"
   ]
  },
  {
   "cell_type": "code",
   "execution_count": 21,
   "metadata": {},
   "outputs": [
    {
     "data": {
      "text/plain": [
       "1695"
      ]
     },
     "execution_count": 21,
     "metadata": {},
     "output_type": "execute_result"
    }
   ],
   "source": [
    "sum(pilot_errors.outliers['cluster_size'])"
   ]
  },
  {
   "cell_type": "code",
   "execution_count": 23,
   "metadata": {
    "scrolled": false
   },
   "outputs": [
    {
     "data": {
      "text/plain": [
       "array([\"Failed to stage-in file: u' from None of the requested files have been to\",\n",
       "       \"File transfer timed out during copy command timed out: TimeoutException: Timeout reached, seconds',)]:failed to\",\n",
       "       'Local output file is missing',\n",
       "       'Payload exceeded maximum allowed memory', 'Job killed by signal:',\n",
       "       'Failed to file: no error information passed (http status code: to',\n",
       "       \"No matching replicas were found in list_replicas() output: [ReplicasNotFound(('No replica found for (allow_lan=True, {})]:failed to transfer files using\",\n",
       "       \"Failed to stage-out file: to None of the given files have been uploaded.',)]:failed to transfer files using\",\n",
       "       'Service not available at the moment: to Failed to stat file to transfer files using',\n",
       "       'Failed to stage-in file: error code: 1099, message: Failed to stage-in file\\\\nstacktrace: Traceback (most recent call last):\\\\n File line 385, in copytool_in\\\\n job = queues.data_in.get(block=True,',\n",
       "       'Looping job killed by pilot',\n",
       "       \"Failed to stage-out file: to Checksum not validated',)]:failed to transfer files using copytools=[u'rucio']\",\n",
       "       'This job was killed by panda server',\n",
       "       'Service not available at the moment: to srm-ifce err: Communication error on send, err: [SE][Ls][] CGSI-gSOAP',\n",
       "       'Unrecognized fatal error in transform stderr:operand expected (error token is \"=\")',\n",
       "       \"No matching replicas were found in list_replicas() output: [ReplicasNotFound(('No replica found for (allow_lan=True, {}), ReplicasNotFound(('No replica found for (allow_lan=True, {})]:failed to transfer\",\n",
       "       'Failed to stage-in file: u\" from RRC-KI-T1_DATADISK, download_pfns() got an unexpected keyword argument \\'traces_copy_out\\'\",)]:failed to transfer files using copytools=[u\\'rucio\\']',\n",
       "       \"Failed to stage-in file: file does not exist: (cannot verify catalog checksum)',)]:failed to transfer files using copytools=[u'rucio']\",\n",
       "       'User code not available on PanDA server (resubmit task with --useNewCode)',\n",
       "       'Local output file is missing: Error: output pfn file does not exist:',\n",
       "       'Payload metadata does not exist',\n",
       "       \"adler32 mismatch on input file: checksum verification failed for checksum!= checksum to transfer files using copytools=[u'rucio']\",\n",
       "       'Failed to stage-out file: to INFN-MILANO-ATLASC_SCRATCHDISK, Replica is',\n",
       "       'Payload ran out of memory',\n",
       "       \"Failed to stage-out file: to Replica is corrupted.',)]:failed to transfer files\",\n",
       "       'SIGSEGV: Invalid memory reference or a segmentation fault',\n",
       "       'Globus system error during stage-out: Globus system error: Copying bytes =>',\n",
       "       'Job failed due to unknown reason (consult log file)',\n",
       "       'Failed to stage-out file: to upload() got an unexpected keyword argument \\'traces_copy_out\\'\",)]:failed to transfer files using copytools=[u\\'rucio\\']',\n",
       "       'Failed to get replicas from Rucio: HTTPSConnectionPool(host=\\'voatlasrucio-server-prod.cern.ch\\', port=443): Read timed out. (read timeout=600)\",)]:failed to transfer files using',\n",
       "       'No release candidates found',\n",
       "       \"Failed to stage-out file: to is blacklisted for writing. No actions have been taken',)]:failed to transfer files using\",\n",
       "       \"Failed to stage-out file: to INFN-COSENZA_SCRATCHDISK, DESTINATION SRM_PUT_TURL error on the turl request: [SE][StatusOfPutRequest][SRM_INVALID_PATH] <none>',)]:failed to\",\n",
       "       'Unrecognized fatal error in transform stderr:while mounting while getting mount flags for while searching parent mount'],\n",
       "      dtype=object)"
      ]
     },
     "execution_count": 23,
     "metadata": {},
     "output_type": "execute_result"
    }
   ],
   "source": [
    "pilot_errors.big_clusters['pattern'].values"
   ]
  },
  {
   "cell_type": "code",
   "execution_count": null,
   "metadata": {},
   "outputs": [],
   "source": [
    "pilot_errors.outliers"
   ]
  },
  {
   "cell_type": "code",
   "execution_count": null,
   "metadata": {},
   "outputs": [],
   "source": [
    "pilot_errors.big_clusters"
   ]
  },
  {
   "cell_type": "code",
   "execution_count": null,
   "metadata": {},
   "outputs": [],
   "source": [
    "pilot_errors.outliers_clusters_df.sort_values(by=['mean_similarity'])"
   ]
  },
  {
   "cell_type": "code",
   "execution_count": null,
   "metadata": {},
   "outputs": [],
   "source": [
    "pilot_errors.outliers_df"
   ]
  },
  {
   "cell_type": "code",
   "execution_count": null,
   "metadata": {},
   "outputs": [],
   "source": [
    "pilot_errors.results.to_csv('pilot_errors.csv')"
   ]
  },
  {
   "cell_type": "code",
   "execution_count": null,
   "metadata": {},
   "outputs": [],
   "source": [
    "sup_errors = multistage.exec(sup, 'superrordiag', 'sup.model')"
   ]
  },
  {
   "cell_type": "code",
   "execution_count": null,
   "metadata": {},
   "outputs": [],
   "source": [
    "sup_errors.big_clusters_1"
   ]
  },
  {
   "cell_type": "code",
   "execution_count": null,
   "metadata": {},
   "outputs": [],
   "source": [
    "sup_errors.small_clusters_1"
   ]
  },
  {
   "cell_type": "code",
   "execution_count": null,
   "metadata": {},
   "outputs": [],
   "source": [
    "sup_errors._1.timings"
   ]
  },
  {
   "cell_type": "code",
   "execution_count": null,
   "metadata": {},
   "outputs": [],
   "source": [
    "sup_errors._2.output.patterns"
   ]
  },
  {
   "cell_type": "code",
   "execution_count": null,
   "metadata": {},
   "outputs": [],
   "source": [
    "sup_errors.small_clusters_2"
   ]
  },
  {
   "cell_type": "code",
   "execution_count": null,
   "metadata": {},
   "outputs": [],
   "source": [
    "sup_errors._2.timings"
   ]
  },
  {
   "cell_type": "code",
   "execution_count": null,
   "metadata": {
    "scrolled": false
   },
   "outputs": [],
   "source": [
    "sup_errors.big_clusters"
   ]
  },
  {
   "cell_type": "code",
   "execution_count": null,
   "metadata": {},
   "outputs": [],
   "source": [
    "sup_errors.outliers"
   ]
  },
  {
   "cell_type": "code",
   "execution_count": null,
   "metadata": {},
   "outputs": [],
   "source": [
    "taskbuf_errors = multistage.exec(taskbuf, 'taskbuffererrordiag', 'taskbuf.model')"
   ]
  },
  {
   "cell_type": "code",
   "execution_count": null,
   "metadata": {
    "scrolled": false
   },
   "outputs": [],
   "source": [
    "taskbuf_errors.big_clusters"
   ]
  },
  {
   "cell_type": "code",
   "execution_count": null,
   "metadata": {},
   "outputs": [],
   "source": [
    "taskbuf_errors.results.to_csv('taskbuf_errors.csv')"
   ]
  },
  {
   "cell_type": "code",
   "execution_count": null,
   "metadata": {},
   "outputs": [],
   "source": [
    "print(taskbuf_errors.in_cluster(0))"
   ]
  },
  {
   "cell_type": "code",
   "execution_count": null,
   "metadata": {},
   "outputs": [],
   "source": [
    "taskbuf_errors.cluster.patterns_stats"
   ]
  },
  {
   "cell_type": "code",
   "execution_count": null,
   "metadata": {},
   "outputs": [],
   "source": [
    "print(taskbuf_errors.cluster.in_cluster(2).tolist())"
   ]
  },
  {
   "cell_type": "code",
   "execution_count": null,
   "metadata": {},
   "outputs": [],
   "source": []
  }
 ],
 "metadata": {
  "kernelspec": {
   "display_name": "Python 3",
   "language": "python",
   "name": "python3"
  },
  "language_info": {
   "codemirror_mode": {
    "name": "ipython",
    "version": 3
   },
   "file_extension": ".py",
   "mimetype": "text/x-python",
   "name": "python",
   "nbconvert_exporter": "python",
   "pygments_lexer": "ipython3",
   "version": "3.7.6"
  }
 },
 "nbformat": 4,
 "nbformat_minor": 2
}
