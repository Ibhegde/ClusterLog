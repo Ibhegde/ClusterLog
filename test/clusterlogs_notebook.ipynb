{
 "cells": [
  {
   "cell_type": "markdown",
   "metadata": {},
   "source": [
    "# Clusterlogs Notebook"
   ]
  },
  {
   "cell_type": "code",
   "execution_count": 2,
   "metadata": {},
   "outputs": [
    {
     "name": "stderr",
     "output_type": "stream",
     "text": [
      "/Users/maria/anaconda3/lib/python3.7/site-packages/fuzzywuzzy/fuzz.py:11: UserWarning: Using slow pure-python SequenceMatcher. Install python-Levenshtein to remove this warning\n",
      "  warnings.warn('Using slow pure-python SequenceMatcher. Install python-Levenshtein to remove this warning')\n"
     ]
    }
   ],
   "source": [
    "import pandas as pd\n",
    "from clusterlogs import pipeline"
   ]
  },
  {
   "cell_type": "markdown",
   "metadata": {},
   "source": [
    "P.S. fuzzywuzzy library will be removed in the next release."
   ]
  },
  {
   "cell_type": "markdown",
   "metadata": {},
   "source": [
    "### 1. Download data from file and create pandas DataFrame with index "
   ]
  },
  {
   "cell_type": "code",
   "execution_count": 3,
   "metadata": {},
   "outputs": [],
   "source": [
    "df = pd.read_csv('test_data.csv', index_col=0).set_index('pandaid')"
   ]
  },
  {
   "cell_type": "code",
   "execution_count": 4,
   "metadata": {},
   "outputs": [
    {
     "data": {
      "text/html": [
       "<div>\n",
       "<style scoped>\n",
       "    .dataframe tbody tr th:only-of-type {\n",
       "        vertical-align: middle;\n",
       "    }\n",
       "\n",
       "    .dataframe tbody tr th {\n",
       "        vertical-align: top;\n",
       "    }\n",
       "\n",
       "    .dataframe thead th {\n",
       "        text-align: right;\n",
       "    }\n",
       "</style>\n",
       "<table border=\"1\" class=\"dataframe\">\n",
       "  <thead>\n",
       "    <tr style=\"text-align: right;\">\n",
       "      <th></th>\n",
       "      <th>starttime</th>\n",
       "      <th>exeerrorcode</th>\n",
       "      <th>exeerrordiag</th>\n",
       "    </tr>\n",
       "    <tr>\n",
       "      <th>pandaid</th>\n",
       "      <th></th>\n",
       "      <th></th>\n",
       "      <th></th>\n",
       "    </tr>\n",
       "  </thead>\n",
       "  <tbody>\n",
       "    <tr>\n",
       "      <td>4498866929</td>\n",
       "      <td>2019-10-01T09:04:39</td>\n",
       "      <td>65</td>\n",
       "      <td>Non-zero return code from EVNTtoHITS (8); Logf...</td>\n",
       "    </tr>\n",
       "    <tr>\n",
       "      <td>4498851809</td>\n",
       "      <td>2019-10-01T09:13:17</td>\n",
       "      <td>11</td>\n",
       "      <td>Missing AthenaMP outputs file athenaMP-outputs...</td>\n",
       "    </tr>\n",
       "    <tr>\n",
       "      <td>4499004301</td>\n",
       "      <td>2019-10-01T10:18:49</td>\n",
       "      <td>15</td>\n",
       "      <td>No events to process: 16000 (skipEvents) &gt;= 23...</td>\n",
       "    </tr>\n",
       "    <tr>\n",
       "      <td>4499011565</td>\n",
       "      <td>2019-10-01T10:25:17</td>\n",
       "      <td>65</td>\n",
       "      <td>Non-zero return code from AODtoDAOD (8); Logfi...</td>\n",
       "    </tr>\n",
       "    <tr>\n",
       "      <td>4499004297</td>\n",
       "      <td>2019-10-01T10:15:46</td>\n",
       "      <td>15</td>\n",
       "      <td>No events to process: 14000 (skipEvents) &gt;= 23...</td>\n",
       "    </tr>\n",
       "    <tr>\n",
       "      <td>4499011462</td>\n",
       "      <td>2019-10-01T10:22:04</td>\n",
       "      <td>65</td>\n",
       "      <td>Non-zero return code from AODtoDAOD (8); Logfi...</td>\n",
       "    </tr>\n",
       "    <tr>\n",
       "      <td>4499008082</td>\n",
       "      <td>2019-10-01T10:23:28</td>\n",
       "      <td>65</td>\n",
       "      <td>Non-zero return code from AODtoDAOD (8); Logfi...</td>\n",
       "    </tr>\n",
       "    <tr>\n",
       "      <td>4499011446</td>\n",
       "      <td>2019-10-01T10:21:21</td>\n",
       "      <td>65</td>\n",
       "      <td>Non-zero return code from AODtoDAOD (8); Logfi...</td>\n",
       "    </tr>\n",
       "    <tr>\n",
       "      <td>4499011466</td>\n",
       "      <td>2019-10-01T10:23:13</td>\n",
       "      <td>65</td>\n",
       "      <td>Non-zero return code from AODtoDAOD (8); Logfi...</td>\n",
       "    </tr>\n",
       "    <tr>\n",
       "      <td>4499008070</td>\n",
       "      <td>2019-10-01T10:26:24</td>\n",
       "      <td>65</td>\n",
       "      <td>Non-zero return code from AODtoDAOD (8); Logfi...</td>\n",
       "    </tr>\n",
       "  </tbody>\n",
       "</table>\n",
       "</div>"
      ],
      "text/plain": [
       "                      starttime  exeerrorcode  \\\n",
       "pandaid                                         \n",
       "4498866929  2019-10-01T09:04:39            65   \n",
       "4498851809  2019-10-01T09:13:17            11   \n",
       "4499004301  2019-10-01T10:18:49            15   \n",
       "4499011565  2019-10-01T10:25:17            65   \n",
       "4499004297  2019-10-01T10:15:46            15   \n",
       "4499011462  2019-10-01T10:22:04            65   \n",
       "4499008082  2019-10-01T10:23:28            65   \n",
       "4499011446  2019-10-01T10:21:21            65   \n",
       "4499011466  2019-10-01T10:23:13            65   \n",
       "4499008070  2019-10-01T10:26:24            65   \n",
       "\n",
       "                                                 exeerrordiag  \n",
       "pandaid                                                        \n",
       "4498866929  Non-zero return code from EVNTtoHITS (8); Logf...  \n",
       "4498851809  Missing AthenaMP outputs file athenaMP-outputs...  \n",
       "4499004301  No events to process: 16000 (skipEvents) >= 23...  \n",
       "4499011565  Non-zero return code from AODtoDAOD (8); Logfi...  \n",
       "4499004297  No events to process: 14000 (skipEvents) >= 23...  \n",
       "4499011462  Non-zero return code from AODtoDAOD (8); Logfi...  \n",
       "4499008082  Non-zero return code from AODtoDAOD (8); Logfi...  \n",
       "4499011446  Non-zero return code from AODtoDAOD (8); Logfi...  \n",
       "4499011466  Non-zero return code from AODtoDAOD (8); Logfi...  \n",
       "4499008070  Non-zero return code from AODtoDAOD (8); Logfi...  "
      ]
     },
     "execution_count": 4,
     "metadata": {},
     "output_type": "execute_result"
    }
   ],
   "source": [
    "df.head(10)"
   ]
  },
  {
   "cell_type": "markdown",
   "metadata": {},
   "source": [
    "### 2. Initialize clusterization parameters"
   ]
  },
  {
   "cell_type": "markdown",
   "metadata": {},
   "source": [
    "    clustering_parameters = {'tokenizer':'nltk|pyonmttok',\n",
    "                             'w2v_size': <size of vector for each token (i.e. 100-300)>,\n",
    "                             'w2v_window': <size of slicing window for NN algorithms (i.e. 5-10)>,\n",
    "                             'min_samples': <minimum size of cluster, it's better to set it as 1>}"
   ]
  },
  {
   "cell_type": "code",
   "execution_count": 5,
   "metadata": {},
   "outputs": [],
   "source": [
    "clustering_parameters = {'tokenizer':'nltk',\n",
    "                         'w2v_size': 200,\n",
    "                         'w2v_window': 5,\n",
    "                         'min_samples': 1}"
   ]
  },
  {
   "cell_type": "markdown",
   "metadata": {},
   "source": [
    "### 3. Initialize clusterization pipeline"
   ]
  },
  {
   "cell_type": "markdown",
   "metadata": {},
   "source": [
    "     target = '<target column with error messages>'"
   ]
  },
  {
   "cell_type": "code",
   "execution_count": 6,
   "metadata": {},
   "outputs": [],
   "source": [
    "cluster = pipeline.ml_clustering(df, 'exeerrordiag', clustering_parameters)"
   ]
  },
  {
   "cell_type": "markdown",
   "metadata": {},
   "source": [
    "### 4. Execute clusterization pipeline"
   ]
  },
  {
   "cell_type": "code",
   "execution_count": 7,
   "metadata": {},
   "outputs": [
    {
     "data": {
      "text/plain": [
       "<clusterlogs.pipeline.ml_clustering at 0x1c23d75828>"
      ]
     },
     "execution_count": 7,
     "metadata": {},
     "output_type": "execute_result"
    }
   ],
   "source": [
    "cluster.process()"
   ]
  },
  {
   "cell_type": "markdown",
   "metadata": {},
   "source": [
    "### 5. Get clusters statistics"
   ]
  },
  {
   "cell_type": "markdown",
   "metadata": {},
   "source": [
    "Clusters Statistics returns DataFrame with statistic for all clusters:\n",
    "- \"cluster_name\" - name of a cluster\n",
    "- \"cluster_size\" = number of log messages in cluster\n",
    "- \"first_entry\" - first log message in cluster\n",
    "- \"mean_length\" - average length of log messages in cluster\n",
    "- \"std_length\" - standard deviation of length of log messages in cluster\n",
    "- \"mean_similarity\" - average similarity of log messages in cluster\n",
    "(calculated as the levenshtein distances between the 1st and all other log messages)\n",
    "- \"std_similarity\" - standard deviation of similarity of log messages in cluster"
   ]
  },
  {
   "cell_type": "code",
   "execution_count": 8,
   "metadata": {},
   "outputs": [],
   "source": [
    "stat = cluster.statistics()"
   ]
  },
  {
   "cell_type": "code",
   "execution_count": 11,
   "metadata": {},
   "outputs": [],
   "source": [
    "stat_df = pd.DataFrame.from_dict(stat)"
   ]
  },
  {
   "cell_type": "code",
   "execution_count": 13,
   "metadata": {},
   "outputs": [
    {
     "data": {
      "text/html": [
       "<div>\n",
       "<style scoped>\n",
       "    .dataframe tbody tr th:only-of-type {\n",
       "        vertical-align: middle;\n",
       "    }\n",
       "\n",
       "    .dataframe tbody tr th {\n",
       "        vertical-align: top;\n",
       "    }\n",
       "\n",
       "    .dataframe thead th {\n",
       "        text-align: right;\n",
       "    }\n",
       "</style>\n",
       "<table border=\"1\" class=\"dataframe\">\n",
       "  <thead>\n",
       "    <tr style=\"text-align: right;\">\n",
       "      <th></th>\n",
       "      <th>cluster_name</th>\n",
       "      <th>cluster_size</th>\n",
       "      <th>first_entry</th>\n",
       "      <th>mean_length</th>\n",
       "      <th>mean_similarity</th>\n",
       "      <th>std_length</th>\n",
       "      <th>std_similarity</th>\n",
       "    </tr>\n",
       "  </thead>\n",
       "  <tbody>\n",
       "    <tr>\n",
       "      <td>0</td>\n",
       "      <td>0</td>\n",
       "      <td>235</td>\n",
       "      <td>Non-zero return code from EVNTtoHITS (8); Logf...</td>\n",
       "      <td>121.98</td>\n",
       "      <td>31.37</td>\n",
       "      <td>53.3</td>\n",
       "      <td>15.28</td>\n",
       "    </tr>\n",
       "    <tr>\n",
       "      <td>1</td>\n",
       "      <td>1</td>\n",
       "      <td>2</td>\n",
       "      <td>File data18_13TeV.00363033.physics_Main.merge....</td>\n",
       "      <td>75</td>\n",
       "      <td>54.5</td>\n",
       "      <td>30</td>\n",
       "      <td>45.5</td>\n",
       "    </tr>\n",
       "    <tr>\n",
       "      <td>2</td>\n",
       "      <td>2</td>\n",
       "      <td>11</td>\n",
       "      <td>No events to process: 2100 (skipEvents) &gt;= 200...</td>\n",
       "      <td>68</td>\n",
       "      <td>98.73</td>\n",
       "      <td>0</td>\n",
       "      <td>0.86</td>\n",
       "    </tr>\n",
       "    <tr>\n",
       "      <td>3</td>\n",
       "      <td>3</td>\n",
       "      <td>1</td>\n",
       "      <td>No events to process: 2000 (skipEvents) &gt;= 200...</td>\n",
       "      <td>68</td>\n",
       "      <td>100</td>\n",
       "      <td>0</td>\n",
       "      <td>0</td>\n",
       "    </tr>\n",
       "  </tbody>\n",
       "</table>\n",
       "</div>"
      ],
      "text/plain": [
       "  cluster_name cluster_size  \\\n",
       "0            0          235   \n",
       "1            1            2   \n",
       "2            2           11   \n",
       "3            3            1   \n",
       "\n",
       "                                         first_entry mean_length  \\\n",
       "0  Non-zero return code from EVNTtoHITS (8); Logf...      121.98   \n",
       "1  File data18_13TeV.00363033.physics_Main.merge....          75   \n",
       "2  No events to process: 2100 (skipEvents) >= 200...          68   \n",
       "3  No events to process: 2000 (skipEvents) >= 200...          68   \n",
       "\n",
       "  mean_similarity std_length std_similarity  \n",
       "0           31.37       53.3          15.28  \n",
       "1            54.5         30           45.5  \n",
       "2           98.73          0           0.86  \n",
       "3             100          0              0  "
      ]
     },
     "execution_count": 13,
     "metadata": {},
     "output_type": "execute_result"
    }
   ],
   "source": [
    "stat_df.sort_values(by='mean_similarity')"
   ]
  },
  {
   "cell_type": "markdown",
   "metadata": {},
   "source": [
    "### Timings for all stages of clusterization pipeline"
   ]
  },
  {
   "cell_type": "markdown",
   "metadata": {},
   "source": [
    "process - timing of all process"
   ]
  },
  {
   "cell_type": "code",
   "execution_count": 21,
   "metadata": {},
   "outputs": [
    {
     "data": {
      "text/plain": [
       "{'data_preparation': 0.0039,\n",
       " 'tokenization': 0.0238,\n",
       " 'tokens_vectorization': 0.0616,\n",
       " 'sentence_vectorization': 0.0354,\n",
       " 'kneighbors': 0.0145,\n",
       " 'epsilon_search': 0.0024,\n",
       " 'dbscan': 0.1139,\n",
       " 'process': 0.2556}"
      ]
     },
     "execution_count": 21,
     "metadata": {},
     "output_type": "execute_result"
    }
   ],
   "source": [
    "cluster.timings"
   ]
  },
  {
   "cell_type": "markdown",
   "metadata": {},
   "source": [
    "### Get all error messages in single cluster"
   ]
  },
  {
   "cell_type": "code",
   "execution_count": 15,
   "metadata": {},
   "outputs": [
    {
     "data": {
      "text/plain": [
       "['No events to process: 2100 (skipEvents) >= 2000 (inputEvents of EVNT',\n",
       " 'No events to process: 2600 (skipEvents) >= 2000 (inputEvents of EVNT',\n",
       " 'No events to process: 2800 (skipEvents) >= 2000 (inputEvents of EVNT',\n",
       " 'No events to process: 2200 (skipEvents) >= 2000 (inputEvents of EVNT',\n",
       " 'No events to process: 2500 (skipEvents) >= 2000 (inputEvents of EVNT',\n",
       " 'No events to process: 3200 (skipEvents) >= 2000 (inputEvents of EVNT',\n",
       " 'No events to process: 2400 (skipEvents) >= 2000 (inputEvents of EVNT',\n",
       " 'No events to process: 2700 (skipEvents) >= 2000 (inputEvents of EVNT',\n",
       " 'No events to process: 3300 (skipEvents) >= 2000 (inputEvents of EVNT',\n",
       " 'No events to process: 2900 (skipEvents) >= 2000 (inputEvents of EVNT',\n",
       " 'No events to process: 3400 (skipEvents) >= 2000 (inputEvents of EVNT']"
      ]
     },
     "execution_count": 15,
     "metadata": {},
     "output_type": "execute_result"
    }
   ],
   "source": [
    "cluster.in_cluster(2)"
   ]
  },
  {
   "cell_type": "markdown",
   "metadata": {},
   "source": [
    "### Output clusters - mode == 'ALL'  (for cluster '2')"
   ]
  },
  {
   "cell_type": "code",
   "execution_count": 33,
   "metadata": {},
   "outputs": [
    {
     "data": {
      "text/plain": [
       "[{'starttime': '2019-10-01T09:00:05',\n",
       "  'exeerrorcode': 15,\n",
       "  'exeerrordiag': 'No events to process: 2100 (skipEvents) >= 2000 (inputEvents of EVNT',\n",
       "  'cluster': 2},\n",
       " {'starttime': '2019-10-01T09:02:55',\n",
       "  'exeerrorcode': 15,\n",
       "  'exeerrordiag': 'No events to process: 2600 (skipEvents) >= 2000 (inputEvents of EVNT',\n",
       "  'cluster': 2},\n",
       " {'starttime': '2019-10-01T09:02:46',\n",
       "  'exeerrorcode': 15,\n",
       "  'exeerrordiag': 'No events to process: 2800 (skipEvents) >= 2000 (inputEvents of EVNT',\n",
       "  'cluster': 2},\n",
       " {'starttime': '2019-10-01T09:00:06',\n",
       "  'exeerrorcode': 15,\n",
       "  'exeerrordiag': 'No events to process: 2200 (skipEvents) >= 2000 (inputEvents of EVNT',\n",
       "  'cluster': 2},\n",
       " {'starttime': '2019-10-01T09:00:41',\n",
       "  'exeerrorcode': 15,\n",
       "  'exeerrordiag': 'No events to process: 2500 (skipEvents) >= 2000 (inputEvents of EVNT',\n",
       "  'cluster': 2},\n",
       " {'starttime': '2019-10-01T09:00:38',\n",
       "  'exeerrorcode': 15,\n",
       "  'exeerrordiag': 'No events to process: 3200 (skipEvents) >= 2000 (inputEvents of EVNT',\n",
       "  'cluster': 2},\n",
       " {'starttime': '2019-10-01T09:01:55',\n",
       "  'exeerrorcode': 15,\n",
       "  'exeerrordiag': 'No events to process: 2400 (skipEvents) >= 2000 (inputEvents of EVNT',\n",
       "  'cluster': 2},\n",
       " {'starttime': '2019-10-01T09:01:42',\n",
       "  'exeerrorcode': 15,\n",
       "  'exeerrordiag': 'No events to process: 2700 (skipEvents) >= 2000 (inputEvents of EVNT',\n",
       "  'cluster': 2},\n",
       " {'starttime': '2019-10-01T09:01:13',\n",
       "  'exeerrorcode': 15,\n",
       "  'exeerrordiag': 'No events to process: 3300 (skipEvents) >= 2000 (inputEvents of EVNT',\n",
       "  'cluster': 2},\n",
       " {'starttime': '2019-10-01T09:00:37',\n",
       "  'exeerrorcode': 15,\n",
       "  'exeerrordiag': 'No events to process: 2900 (skipEvents) >= 2000 (inputEvents of EVNT',\n",
       "  'cluster': 2},\n",
       " {'starttime': '2019-10-01T09:01:13',\n",
       "  'exeerrorcode': 15,\n",
       "  'exeerrordiag': 'No events to process: 3400 (skipEvents) >= 2000 (inputEvents of EVNT',\n",
       "  'cluster': 2}]"
      ]
     },
     "execution_count": 33,
     "metadata": {},
     "output_type": "execute_result"
    }
   ],
   "source": [
    "cluster.clustered_output(mode='ALL')['2']"
   ]
  },
  {
   "cell_type": "markdown",
   "metadata": {},
   "source": [
    "### Output clusters - mode == 'INDEX' (for cluster '2')"
   ]
  },
  {
   "cell_type": "code",
   "execution_count": 34,
   "metadata": {},
   "outputs": [
    {
     "data": {
      "text/plain": [
       "[4498117632,\n",
       " 4498117637,\n",
       " 4498117639,\n",
       " 4498117633,\n",
       " 4498117636,\n",
       " 4498117643,\n",
       " 4498117635,\n",
       " 4498117638,\n",
       " 4498117644,\n",
       " 4498117640,\n",
       " 4498117645]"
      ]
     },
     "execution_count": 34,
     "metadata": {},
     "output_type": "execute_result"
    }
   ],
   "source": [
    "cluster.clustered_output(mode='INDEX')['2']"
   ]
  },
  {
   "cell_type": "markdown",
   "metadata": {},
   "source": [
    "### Output clusters - mode == 'TARGET' (for cluster '2')"
   ]
  },
  {
   "cell_type": "code",
   "execution_count": 35,
   "metadata": {},
   "outputs": [
    {
     "data": {
      "text/plain": [
       "['No events to process: 2100 (skipEvents) >= 2000 (inputEvents of EVNT',\n",
       " 'No events to process: 2600 (skipEvents) >= 2000 (inputEvents of EVNT',\n",
       " 'No events to process: 2800 (skipEvents) >= 2000 (inputEvents of EVNT',\n",
       " 'No events to process: 2200 (skipEvents) >= 2000 (inputEvents of EVNT',\n",
       " 'No events to process: 2500 (skipEvents) >= 2000 (inputEvents of EVNT',\n",
       " 'No events to process: 3200 (skipEvents) >= 2000 (inputEvents of EVNT',\n",
       " 'No events to process: 2400 (skipEvents) >= 2000 (inputEvents of EVNT',\n",
       " 'No events to process: 2700 (skipEvents) >= 2000 (inputEvents of EVNT',\n",
       " 'No events to process: 3300 (skipEvents) >= 2000 (inputEvents of EVNT',\n",
       " 'No events to process: 2900 (skipEvents) >= 2000 (inputEvents of EVNT',\n",
       " 'No events to process: 3400 (skipEvents) >= 2000 (inputEvents of EVNT']"
      ]
     },
     "execution_count": 35,
     "metadata": {},
     "output_type": "execute_result"
    }
   ],
   "source": [
    "cluster.clustered_output(mode='TARGET')['2']"
   ]
  },
  {
   "cell_type": "markdown",
   "metadata": {},
   "source": [
    "### Output clusters - cluster labels"
   ]
  },
  {
   "cell_type": "code",
   "execution_count": 19,
   "metadata": {},
   "outputs": [
    {
     "data": {
      "text/plain": [
       "array([0, 0, 0, 0, 0, 0, 0, 0, 0, 0, 0, 0, 0, 0, 0, 0, 0, 0, 0, 0, 0, 0,\n",
       "       0, 0, 0, 0, 0, 0, 0, 0, 0, 0, 0, 0, 0, 0, 1, 0, 0, 0, 0, 0, 0, 0,\n",
       "       0, 0, 0, 0, 0, 0, 0, 0, 0, 0, 0, 0, 0, 0, 0, 0, 0, 0, 0, 0, 0, 0,\n",
       "       0, 0, 0, 0, 0, 0, 0, 0, 0, 0, 0, 0, 0, 0, 0, 0, 0, 0, 0, 0, 0, 0,\n",
       "       0, 0, 0, 0, 0, 0, 0, 0, 0, 0, 0, 0, 0, 0, 0, 0, 2, 2, 2, 0, 0, 0,\n",
       "       0, 0, 0, 0, 0, 0, 0, 0, 2, 2, 2, 0, 0, 0, 0, 0, 0, 0, 0, 0, 0, 0,\n",
       "       0, 0, 2, 2, 0, 0, 0, 0, 0, 0, 0, 0, 0, 0, 0, 3, 2, 0, 0, 0, 0, 0,\n",
       "       0, 0, 0, 0, 0, 0, 0, 2, 2, 0, 0, 0, 0, 0, 0, 0, 0, 0, 0, 0, 0, 0,\n",
       "       0, 0, 0, 0, 0, 0, 0, 0, 0, 0, 0, 0, 0, 0, 0, 0, 0, 0, 0, 0, 0, 0,\n",
       "       0, 0, 0, 0, 0, 0, 0, 0, 0, 0, 0, 0, 0, 0, 0, 0, 0, 0, 0, 0, 0, 0,\n",
       "       0, 0, 0, 0, 1, 0, 0, 0, 0, 0, 0, 0, 0, 0, 0, 0, 0, 0, 0, 0, 0, 0,\n",
       "       0, 0, 0, 0, 0, 0, 0])"
      ]
     },
     "execution_count": 19,
     "metadata": {},
     "output_type": "execute_result"
    }
   ],
   "source": [
    "cluster.cluster_labels"
   ]
  },
  {
   "cell_type": "markdown",
   "metadata": {},
   "source": [
    "### Vocabulary of all tokens with frequencies"
   ]
  },
  {
   "cell_type": "code",
   "execution_count": 20,
   "metadata": {},
   "outputs": [
    {
     "data": {
      "text/plain": [
       "{'Non-zero': 109,\n",
       " 'return': 109,\n",
       " 'code': 114,\n",
       " 'from': 109,\n",
       " 'EVNTtoHITS': 10,\n",
       " '(': 269,\n",
       " '8': 35,\n",
       " ')': 250,\n",
       " ';': 107,\n",
       " 'Logfile': 113,\n",
       " 'error': 169,\n",
       " 'in': 204,\n",
       " 'log.EVNTtoHITS': 8,\n",
       " ':': 233,\n",
       " '``': 145,\n",
       " 'ValueError': 1,\n",
       " 'ATLAS-P2-ITK-17-04-02': 1,\n",
       " 'is': 4,\n",
       " 'not': 21,\n",
       " 'the': 7,\n",
       " 'expected': 1,\n",
       " 'type': 1,\n",
       " 'and/or': 1,\n",
       " 'value': 1,\n",
       " 'allowed': 1,\n",
       " 'for': 34,\n",
       " 'UID.SimFlags.SimLayout': 1,\n",
       " \"''\": 145,\n",
       " 'Missing': 54,\n",
       " 'AthenaMP': 54,\n",
       " 'outputs': 54,\n",
       " 'file': 65,\n",
       " 'athenaMP-outputs-EVNTtoHITS-sim': 2,\n",
       " 'probably': 59,\n",
       " 'athena': 86,\n",
       " 'crashed': 54,\n",
       " 'No': 19,\n",
       " 'events': 19,\n",
       " 'to': 27,\n",
       " 'process': 19,\n",
       " '16000': 1,\n",
       " 'skipEvents': 19,\n",
       " '>': 20,\n",
       " '=': 20,\n",
       " '2343': 7,\n",
       " 'inputEvents': 19,\n",
       " 'of': 19,\n",
       " 'HITS': 7,\n",
       " 'AODtoDAOD': 74,\n",
       " 'log.AODtoDAOD': 72,\n",
       " 'UID': 101,\n",
       " \"'module\": 24,\n",
       " \"'\": 53,\n",
       " 'object': 24,\n",
       " 'has': 24,\n",
       " 'no': 24,\n",
       " 'attribute': 24,\n",
       " \"'UID\": 24,\n",
       " '14000': 1,\n",
       " 'Smart': 6,\n",
       " 'slimming': 12,\n",
       " 'container': 6,\n",
       " 'BTagging_UID': 6,\n",
       " 'does': 12,\n",
       " 'exist': 6,\n",
       " 'or': 65,\n",
       " 'have': 6,\n",
       " 'a': 11,\n",
       " 'smart': 6,\n",
       " 'list': 7,\n",
       " '64': 1,\n",
       " 'JETM7Kernel_Skim': 1,\n",
       " 'FATAL': 10,\n",
       " 'Standard': 1,\n",
       " 'std': 1,\n",
       " ':exception': 1,\n",
       " 'caught': 6,\n",
       " '65': 68,\n",
       " 'makePool': 4,\n",
       " 'failed': 4,\n",
       " 'UID.UID': 4,\n",
       " 'ERROR': 85,\n",
       " 'Failure': 59,\n",
       " 'waiting': 59,\n",
       " 'sub-process': 59,\n",
       " 'finished': 59,\n",
       " 'abnormally': 59,\n",
       " 'log.UID': 4,\n",
       " 'TypeError': 1,\n",
       " '%': 1,\n",
       " 'd': 1,\n",
       " 'format': 1,\n",
       " 'number': 1,\n",
       " 'required': 1,\n",
       " ',': 9,\n",
       " 'NoneType': 1,\n",
       " 'Fatal': 32,\n",
       " 'logfile': 32,\n",
       " 'log.RAWtoALL': 5,\n",
       " 'ToolSvc.HLTJetMon': 5,\n",
       " 'Unknown': 5,\n",
       " 'exception': 15,\n",
       " 'while': 5,\n",
       " 'filling': 5,\n",
       " 'histograms': 5,\n",
       " 'G4': 9,\n",
       " 'at': 26,\n",
       " 'line': 26,\n",
       " 'LINE_NUMBER': 26,\n",
       " 'see': 26,\n",
       " 'jobReport': 26,\n",
       " 'further': 26,\n",
       " 'details': 26,\n",
       " 'ESDtoDPD': 1,\n",
       " 'log.ESDtoDPD': 1,\n",
       " 'Input': 5,\n",
       " 'argument': 5,\n",
       " 's': 10,\n",
       " '[': 10,\n",
       " \"'RDO.pool.root\": 4,\n",
       " ']': 10,\n",
       " 'globbed': 5,\n",
       " 'NO': 5,\n",
       " 'input': 5,\n",
       " 'files': 5,\n",
       " '-': 8,\n",
       " 'are': 5,\n",
       " 'missing': 5,\n",
       " '8000': 1,\n",
       " '10000': 1,\n",
       " 'RAWtoESD': 5,\n",
       " 'log.RAWtoESD': 5,\n",
       " 'File': 1,\n",
       " 'data18_13TeV.00363033.physics_Main.merge.AOD.f993_m2032._lb0113._0002.1': 1,\n",
       " 'did': 1,\n",
       " 'pass': 1,\n",
       " 'corruption': 1,\n",
       " 'test': 1,\n",
       " 'RAWtoALL': 2,\n",
       " 'Long': 17,\n",
       " 'message': 17,\n",
       " 'log.ESDtoAOD': 1,\n",
       " 'ISF_MC12LLPTrut': 2,\n",
       " '...': 2,\n",
       " 'Unable': 3,\n",
       " 'register': 2,\n",
       " 'truth': 2,\n",
       " 'incident': 2,\n",
       " 'with': 2,\n",
       " 'unknown': 2,\n",
       " 'SimGeoID=0': 2,\n",
       " 'got': 4,\n",
       " 'SIGKILL': 4,\n",
       " 'signal': 4,\n",
       " 'exit': 4,\n",
       " '137': 4,\n",
       " '4000': 1,\n",
       " 'Failed': 1,\n",
       " 'event': 1,\n",
       " 'detected': 1,\n",
       " 'on': 1,\n",
       " '0': 2,\n",
       " 'e': 1,\n",
       " 'w/': 1,\n",
       " 'fail': 1,\n",
       " 'mode': 1,\n",
       " 'AlgStall': 1,\n",
       " 'UID_CT': 1,\n",
       " 'FILE': 1,\n",
       " 'LINE': 1,\n",
       " 'StatusCode': 1,\n",
       " ':execute': 1,\n",
       " 'FAILURE': 1,\n",
       " 'evtStore': 1,\n",
       " 'retrieve': 3,\n",
       " 'alltracks': 1,\n",
       " 'm_UID': 1,\n",
       " '12000': 1,\n",
       " 'identify': 1,\n",
       " 'specific': 1,\n",
       " '33': 3,\n",
       " 'TrigSteer_HLT': 1,\n",
       " 'Signature': 1,\n",
       " 'TE': 2,\n",
       " 'EF_xe10_step1': 1,\n",
       " 'Could': 3,\n",
       " 'find': 1,\n",
       " 'matching': 1,\n",
       " 'sequence': 1,\n",
       " 'output': 2,\n",
       " '.': 1,\n",
       " 'testRTT.RDO.pool.root': 1,\n",
       " '255': 2,\n",
       " 'IOVDbSvc': 4,\n",
       " 'Conditions': 2,\n",
       " 'database': 2,\n",
       " 'connection': 2,\n",
       " 'COOLOFL_INDET/OFLP200': 2,\n",
       " 'can': 2,\n",
       " 'be': 2,\n",
       " 'opened': 2,\n",
       " 'STOP': 2,\n",
       " '18000': 1,\n",
       " '2100': 1,\n",
       " '2000': 13,\n",
       " 'EVNT': 12,\n",
       " '2600': 1,\n",
       " '2800': 1,\n",
       " 'athenaMP-outputs-HITtoRDO-h2r': 48,\n",
       " 'LRMS': 24,\n",
       " '271': 24,\n",
       " 'Job': 24,\n",
       " 'was': 22,\n",
       " 'cancelled': 22,\n",
       " '2200': 1,\n",
       " '2500': 1,\n",
       " '3200': 1,\n",
       " '2400': 1,\n",
       " '2700': 1,\n",
       " '3300': 1,\n",
       " '2900': 1,\n",
       " '3400': 1,\n",
       " 'HITtoRDO': 17,\n",
       " 'log.HITtoRDO': 17,\n",
       " 'athenaMP-outputs-UID-r2t': 4,\n",
       " 'timeout': 2,\n",
       " 'KeyError': 1,\n",
       " \"'nentries\": 1,\n",
       " 'COOL': 2,\n",
       " 'data': 2,\n",
       " 'folder': 2,\n",
       " '/LAR/ElecCalibMC/Noise': 1,\n",
       " 'tag': 2,\n",
       " 'UID-IOVDEP-00': 1,\n",
       " 'Error': 1,\n",
       " 'reading': 1,\n",
       " 'user': 1,\n",
       " 'generated': 1,\n",
       " '/LAR/ElecCalibMC/UID': 1}"
      ]
     },
     "execution_count": 20,
     "metadata": {},
     "output_type": "execute_result"
    }
   ],
   "source": [
    "cluster.get_vocabulary()"
   ]
  },
  {
   "cell_type": "markdown",
   "metadata": {},
   "source": [
    "### Get all tokenized error messages"
   ]
  },
  {
   "cell_type": "code",
   "execution_count": 37,
   "metadata": {},
   "outputs": [
    {
     "data": {
      "text/plain": [
       "[['Non-zero',\n",
       "  'return',\n",
       "  'code',\n",
       "  'from',\n",
       "  'EVNTtoHITS',\n",
       "  '(',\n",
       "  '8',\n",
       "  ')',\n",
       "  ';',\n",
       "  'Logfile',\n",
       "  'error',\n",
       "  'in',\n",
       "  'log.EVNTtoHITS',\n",
       "  ':',\n",
       "  '``',\n",
       "  'ValueError',\n",
       "  ':',\n",
       "  'ATLAS-P2-ITK-17-04-02',\n",
       "  'is',\n",
       "  'not',\n",
       "  'the',\n",
       "  'expected',\n",
       "  'type',\n",
       "  'and/or',\n",
       "  'the',\n",
       "  'value',\n",
       "  'is',\n",
       "  'not',\n",
       "  'allowed',\n",
       "  'for',\n",
       "  ':',\n",
       "  'UID.SimFlags.SimLayout',\n",
       "  \"''\"]]"
      ]
     },
     "execution_count": 37,
     "metadata": {},
     "output_type": "execute_result"
    }
   ],
   "source": [
    "cluster.tokenized[0:1]"
   ]
  },
  {
   "cell_type": "markdown",
   "metadata": {},
   "source": [
    "### Get epsilon value (which was used in DBSCAN algorithm)"
   ]
  },
  {
   "cell_type": "code",
   "execution_count": 24,
   "metadata": {},
   "outputs": [
    {
     "data": {
      "text/plain": [
       "0.062307177769663075"
      ]
     },
     "execution_count": 24,
     "metadata": {},
     "output_type": "execute_result"
    }
   ],
   "source": [
    "cluster.epsilon"
   ]
  },
  {
   "cell_type": "markdown",
   "metadata": {},
   "source": [
    "### Get word2vec model"
   ]
  },
  {
   "cell_type": "code",
   "execution_count": 25,
   "metadata": {},
   "outputs": [
    {
     "data": {
      "text/plain": [
       "<gensim.models.word2vec.Word2Vec at 0x1c24724320>"
      ]
     },
     "execution_count": 25,
     "metadata": {},
     "output_type": "execute_result"
    }
   ],
   "source": [
    "cluster.word2vec"
   ]
  },
  {
   "cell_type": "code",
   "execution_count": null,
   "metadata": {},
   "outputs": [],
   "source": []
  }
 ],
 "metadata": {
  "kernelspec": {
   "display_name": "Python 3",
   "language": "python",
   "name": "python3"
  },
  "language_info": {
   "codemirror_mode": {
    "name": "ipython",
    "version": 3
   },
   "file_extension": ".py",
   "mimetype": "text/x-python",
   "name": "python",
   "nbconvert_exporter": "python",
   "pygments_lexer": "ipython3",
   "version": "3.7.0"
  }
 },
 "nbformat": 4,
 "nbformat_minor": 2
}
