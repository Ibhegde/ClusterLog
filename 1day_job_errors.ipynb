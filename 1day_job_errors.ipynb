{
 "cells": [
  {
   "cell_type": "code",
   "execution_count": 6,
   "metadata": {},
   "outputs": [],
   "source": [
    "import pandas as pd"
   ]
  },
  {
   "cell_type": "code",
   "execution_count": 12,
   "metadata": {},
   "outputs": [
    {
     "ename": "ModuleNotFoundError",
     "evalue": "No module named 'clusterlogs'",
     "output_type": "error",
     "traceback": [
      "\u001b[0;31m---------------------------------------------------------------------------\u001b[0m",
      "\u001b[0;31mModuleNotFoundError\u001b[0m                       Traceback (most recent call last)",
      "\u001b[0;32m<ipython-input-12-a0807f5d5e33>\u001b[0m in \u001b[0;36m<module>\u001b[0;34m\u001b[0m\n\u001b[0;32m----> 1\u001b[0;31m \u001b[0;32mimport\u001b[0m \u001b[0mclusterlogs\u001b[0m\u001b[0;34m\u001b[0m\u001b[0m\n\u001b[0m",
      "\u001b[0;31mModuleNotFoundError\u001b[0m: No module named 'clusterlogs'"
     ]
    }
   ],
   "source": [
    "import clusterlogs"
   ]
  },
  {
   "cell_type": "code",
   "execution_count": 2,
   "metadata": {},
   "outputs": [
    {
     "name": "stderr",
     "output_type": "stream",
     "text": [
      "/Users/maria/anaconda3/lib/python3.7/site-packages/IPython/core/interactiveshell.py:3049: DtypeWarning: Columns (115) have mixed types. Specify dtype option on import or set low_memory=False.\n",
      "  interactivity=interactivity, compiler=compiler, result=result)\n"
     ]
    }
   ],
   "source": [
    "df = pd.read_csv('../samples/jobs-january10-100.csv')"
   ]
  },
  {
   "cell_type": "code",
   "execution_count": 3,
   "metadata": {},
   "outputs": [],
   "source": [
    "df.set_index('pandaid', inplace=True)"
   ]
  },
  {
   "cell_type": "code",
   "execution_count": null,
   "metadata": {},
   "outputs": [],
   "source": []
  },
  {
   "cell_type": "raw",
   "metadata": {},
   "source": [
    "'ddmerrordiag','brokerageerrordiag','exeerrordiag','piloterrordiag','superrordiag','taskbuffererrordiag'"
   ]
  },
  {
   "cell_type": "code",
   "execution_count": 4,
   "metadata": {},
   "outputs": [],
   "source": [
    "errors = df[['ddmerrordiag','brokerageerrordiag','exeerrordiag',\n",
    "             'piloterrordiag','superrordiag','taskbuffererrordiag']].dropna(axis=0, how='all')"
   ]
  },
  {
   "cell_type": "code",
   "execution_count": 5,
   "metadata": {},
   "outputs": [
    {
     "data": {
      "text/html": [
       "<div>\n",
       "<style scoped>\n",
       "    .dataframe tbody tr th:only-of-type {\n",
       "        vertical-align: middle;\n",
       "    }\n",
       "\n",
       "    .dataframe tbody tr th {\n",
       "        vertical-align: top;\n",
       "    }\n",
       "\n",
       "    .dataframe thead th {\n",
       "        text-align: right;\n",
       "    }\n",
       "</style>\n",
       "<table border=\"1\" class=\"dataframe\">\n",
       "  <thead>\n",
       "    <tr style=\"text-align: right;\">\n",
       "      <th></th>\n",
       "      <th>ddmerrordiag</th>\n",
       "      <th>brokerageerrordiag</th>\n",
       "      <th>exeerrordiag</th>\n",
       "      <th>piloterrordiag</th>\n",
       "      <th>superrordiag</th>\n",
       "      <th>taskbuffererrordiag</th>\n",
       "    </tr>\n",
       "    <tr>\n",
       "      <th>pandaid</th>\n",
       "      <th></th>\n",
       "      <th></th>\n",
       "      <th></th>\n",
       "      <th></th>\n",
       "      <th></th>\n",
       "      <th></th>\n",
       "    </tr>\n",
       "  </thead>\n",
       "  <tbody>\n",
       "    <tr>\n",
       "      <td>4598425005</td>\n",
       "      <td>NaN</td>\n",
       "      <td>NaN</td>\n",
       "      <td>NaN</td>\n",
       "      <td>NaN</td>\n",
       "      <td>NaN</td>\n",
       "      <td>killed by kill by Matous Vozak</td>\n",
       "    </tr>\n",
       "    <tr>\n",
       "      <td>4599901443</td>\n",
       "      <td>expected output panda.um.user.shion.USER.36425...</td>\n",
       "      <td>NaN</td>\n",
       "      <td>NaN</td>\n",
       "      <td>Killed by Harvester due to worker queuing too ...</td>\n",
       "      <td>NaN</td>\n",
       "      <td>NaN</td>\n",
       "    </tr>\n",
       "    <tr>\n",
       "      <td>4599901454</td>\n",
       "      <td>expected output panda.um.user.shion.USER.36425...</td>\n",
       "      <td>NaN</td>\n",
       "      <td>NaN</td>\n",
       "      <td>Killed by Harvester due to worker queuing too ...</td>\n",
       "      <td>NaN</td>\n",
       "      <td>NaN</td>\n",
       "    </tr>\n",
       "    <tr>\n",
       "      <td>4599901466</td>\n",
       "      <td>expected output panda.um.user.shion.USER.36425...</td>\n",
       "      <td>NaN</td>\n",
       "      <td>NaN</td>\n",
       "      <td>Killed by Harvester due to worker queuing too ...</td>\n",
       "      <td>NaN</td>\n",
       "      <td>NaN</td>\n",
       "    </tr>\n",
       "    <tr>\n",
       "      <td>4599929289</td>\n",
       "      <td>expected output panda.um.user.shion.USER.41047...</td>\n",
       "      <td>NaN</td>\n",
       "      <td>NaN</td>\n",
       "      <td>Killed by Harvester due to worker queuing too ...</td>\n",
       "      <td>NaN</td>\n",
       "      <td>NaN</td>\n",
       "    </tr>\n",
       "    <tr>\n",
       "      <td>...</td>\n",
       "      <td>...</td>\n",
       "      <td>...</td>\n",
       "      <td>...</td>\n",
       "      <td>...</td>\n",
       "      <td>...</td>\n",
       "      <td>...</td>\n",
       "    </tr>\n",
       "    <tr>\n",
       "      <td>4602695955</td>\n",
       "      <td>NaN</td>\n",
       "      <td>NaN</td>\n",
       "      <td>NaN</td>\n",
       "      <td>NaN</td>\n",
       "      <td>Diag from worker : Condor HoldReason: Job not ...</td>\n",
       "      <td>NaN</td>\n",
       "    </tr>\n",
       "    <tr>\n",
       "      <td>4602824916</td>\n",
       "      <td>NaN</td>\n",
       "      <td>NaN</td>\n",
       "      <td>NaN</td>\n",
       "      <td>NaN</td>\n",
       "      <td>Diag from worker : Condor HoldReason: None ; C...</td>\n",
       "      <td>The worker was cancelled while the job was run...</td>\n",
       "    </tr>\n",
       "    <tr>\n",
       "      <td>4603435209</td>\n",
       "      <td>NaN</td>\n",
       "      <td>NaN</td>\n",
       "      <td>NaN</td>\n",
       "      <td>NaN</td>\n",
       "      <td>Diag from worker : Condor HoldReason: CREAM er...</td>\n",
       "      <td>NaN</td>\n",
       "    </tr>\n",
       "    <tr>\n",
       "      <td>4602793004</td>\n",
       "      <td>NaN</td>\n",
       "      <td>NaN</td>\n",
       "      <td>NaN</td>\n",
       "      <td>NaN</td>\n",
       "      <td>Diag from worker : Condor HoldReason: None ; C...</td>\n",
       "      <td>The worker was cancelled while the job was run...</td>\n",
       "    </tr>\n",
       "    <tr>\n",
       "      <td>4602985117</td>\n",
       "      <td>NaN</td>\n",
       "      <td>NaN</td>\n",
       "      <td>NaN</td>\n",
       "      <td>NaN</td>\n",
       "      <td>Diag from worker : Condor HoldReason: None ; C...</td>\n",
       "      <td>The worker was cancelled while the job was run...</td>\n",
       "    </tr>\n",
       "  </tbody>\n",
       "</table>\n",
       "<p>75493 rows × 6 columns</p>\n",
       "</div>"
      ],
      "text/plain": [
       "                                                 ddmerrordiag  \\\n",
       "pandaid                                                         \n",
       "4598425005                                                NaN   \n",
       "4599901443  expected output panda.um.user.shion.USER.36425...   \n",
       "4599901454  expected output panda.um.user.shion.USER.36425...   \n",
       "4599901466  expected output panda.um.user.shion.USER.36425...   \n",
       "4599929289  expected output panda.um.user.shion.USER.41047...   \n",
       "...                                                       ...   \n",
       "4602695955                                                NaN   \n",
       "4602824916                                                NaN   \n",
       "4603435209                                                NaN   \n",
       "4602793004                                                NaN   \n",
       "4602985117                                                NaN   \n",
       "\n",
       "            brokerageerrordiag exeerrordiag  \\\n",
       "pandaid                                       \n",
       "4598425005                 NaN          NaN   \n",
       "4599901443                 NaN          NaN   \n",
       "4599901454                 NaN          NaN   \n",
       "4599901466                 NaN          NaN   \n",
       "4599929289                 NaN          NaN   \n",
       "...                        ...          ...   \n",
       "4602695955                 NaN          NaN   \n",
       "4602824916                 NaN          NaN   \n",
       "4603435209                 NaN          NaN   \n",
       "4602793004                 NaN          NaN   \n",
       "4602985117                 NaN          NaN   \n",
       "\n",
       "                                               piloterrordiag  \\\n",
       "pandaid                                                         \n",
       "4598425005                                                NaN   \n",
       "4599901443  Killed by Harvester due to worker queuing too ...   \n",
       "4599901454  Killed by Harvester due to worker queuing too ...   \n",
       "4599901466  Killed by Harvester due to worker queuing too ...   \n",
       "4599929289  Killed by Harvester due to worker queuing too ...   \n",
       "...                                                       ...   \n",
       "4602695955                                                NaN   \n",
       "4602824916                                                NaN   \n",
       "4603435209                                                NaN   \n",
       "4602793004                                                NaN   \n",
       "4602985117                                                NaN   \n",
       "\n",
       "                                                 superrordiag  \\\n",
       "pandaid                                                         \n",
       "4598425005                                                NaN   \n",
       "4599901443                                                NaN   \n",
       "4599901454                                                NaN   \n",
       "4599901466                                                NaN   \n",
       "4599929289                                                NaN   \n",
       "...                                                       ...   \n",
       "4602695955  Diag from worker : Condor HoldReason: Job not ...   \n",
       "4602824916  Diag from worker : Condor HoldReason: None ; C...   \n",
       "4603435209  Diag from worker : Condor HoldReason: CREAM er...   \n",
       "4602793004  Diag from worker : Condor HoldReason: None ; C...   \n",
       "4602985117  Diag from worker : Condor HoldReason: None ; C...   \n",
       "\n",
       "                                          taskbuffererrordiag  \n",
       "pandaid                                                        \n",
       "4598425005                     killed by kill by Matous Vozak  \n",
       "4599901443                                                NaN  \n",
       "4599901454                                                NaN  \n",
       "4599901466                                                NaN  \n",
       "4599929289                                                NaN  \n",
       "...                                                       ...  \n",
       "4602695955                                                NaN  \n",
       "4602824916  The worker was cancelled while the job was run...  \n",
       "4603435209                                                NaN  \n",
       "4602793004  The worker was cancelled while the job was run...  \n",
       "4602985117  The worker was cancelled while the job was run...  \n",
       "\n",
       "[75493 rows x 6 columns]"
      ]
     },
     "execution_count": 5,
     "metadata": {},
     "output_type": "execute_result"
    }
   ],
   "source": [
    "errors"
   ]
  },
  {
   "cell_type": "code",
   "execution_count": 6,
   "metadata": {},
   "outputs": [],
   "source": [
    "ddm = errors['ddmerrordiag'].dropna(axis=0)"
   ]
  },
  {
   "cell_type": "code",
   "execution_count": 7,
   "metadata": {},
   "outputs": [],
   "source": [
    "broker = errors['brokerageerrordiag'].dropna(axis=0)"
   ]
  },
  {
   "cell_type": "code",
   "execution_count": 8,
   "metadata": {},
   "outputs": [],
   "source": [
    "exe = errors['exeerrordiag'].dropna()"
   ]
  },
  {
   "cell_type": "code",
   "execution_count": 9,
   "metadata": {},
   "outputs": [],
   "source": [
    "pilot = errors['piloterrordiag'].dropna(axis=0)"
   ]
  },
  {
   "cell_type": "code",
   "execution_count": 10,
   "metadata": {},
   "outputs": [],
   "source": [
    "super = errors['superrordiag'].dropna(axis=0)"
   ]
  },
  {
   "cell_type": "code",
   "execution_count": 11,
   "metadata": {},
   "outputs": [],
   "source": [
    "taskbuf = errors['taskbuffererrordiag'].dropna(axis=0)"
   ]
  },
  {
   "cell_type": "code",
   "execution_count": 12,
   "metadata": {},
   "outputs": [
    {
     "data": {
      "text/plain": [
       "pandaid\n",
       "4599901443    expected output panda.um.user.shion.USER.36425...\n",
       "4599901454    expected output panda.um.user.shion.USER.36425...\n",
       "4599901466    expected output panda.um.user.shion.USER.36425...\n",
       "4599929289    expected output panda.um.user.shion.USER.41047...\n",
       "4599929301    expected output panda.um.user.shion.USER.41047...\n",
       "                                    ...                        \n",
       "4603093853    expected output panda.um.group.phys-higgs.mc16...\n",
       "4603374874    expected output user.navarrjo.21.0.97_Zmumu_jo...\n",
       "4602658529    expected output 1a8101be-db30-451c-87a6-2d5636...\n",
       "4602792972    expected output group.perf-muons.XAMPP.LepHad....\n",
       "4602759658    expected output user.mvanadia.666000.PowhegPyt...\n",
       "Name: ddmerrordiag, Length: 5279, dtype: object"
      ]
     },
     "execution_count": 12,
     "metadata": {},
     "output_type": "execute_result"
    }
   ],
   "source": [
    "ddm"
   ]
  },
  {
   "cell_type": "code",
   "execution_count": 13,
   "metadata": {},
   "outputs": [
    {
     "data": {
      "text/plain": [
       "pandaid\n",
       "4599901443    Killed by Harvester due to worker queuing too ...\n",
       "4599901454    Killed by Harvester due to worker queuing too ...\n",
       "4599901466    Killed by Harvester due to worker queuing too ...\n",
       "4599929289    Killed by Harvester due to worker queuing too ...\n",
       "4599929301    Killed by Harvester due to worker queuing too ...\n",
       "                                    ...                        \n",
       "4602792972    Service not available at the moment: group.per...\n",
       "4602571031    File transfer timed out during stage-out: user...\n",
       "4602676390    Service not available at the moment: user.mvan...\n",
       "4602759658    Service not available at the moment: user.mvan...\n",
       "4602887980                         Local output file is missing\n",
       "Name: piloterrordiag, Length: 24636, dtype: object"
      ]
     },
     "execution_count": 13,
     "metadata": {},
     "output_type": "execute_result"
    }
   ],
   "source": [
    "pilot"
   ]
  },
  {
   "cell_type": "code",
   "execution_count": 14,
   "metadata": {},
   "outputs": [
    {
     "data": {
      "text/plain": [
       "pandaid\n",
       "4599599744    Diag from worker : Error reading user generate...\n",
       "4601313649    Diag from worker : Condor HoldReason: The syst...\n",
       "4601315202    Diag from worker : Condor HoldReason: The syst...\n",
       "4600883141    Diag from worker : cannot get JobStatus of job...\n",
       "4601314262    Diag from worker : cannot get JobStatus of job...\n",
       "                                    ...                        \n",
       "4602695955    Diag from worker : Condor HoldReason: Job not ...\n",
       "4602824916    Diag from worker : Condor HoldReason: None ; C...\n",
       "4603435209    Diag from worker : Condor HoldReason: CREAM er...\n",
       "4602793004    Diag from worker : Condor HoldReason: None ; C...\n",
       "4602985117    Diag from worker : Condor HoldReason: None ; C...\n",
       "Name: superrordiag, Length: 30819, dtype: object"
      ]
     },
     "execution_count": 14,
     "metadata": {},
     "output_type": "execute_result"
    }
   ],
   "source": [
    "super"
   ]
  },
  {
   "cell_type": "code",
   "execution_count": 15,
   "metadata": {},
   "outputs": [
    {
     "data": {
      "text/plain": [
       "pandaid\n",
       "4598425005                       killed by kill by Matous Vozak\n",
       "4600015972                                   reassigned by JEDI\n",
       "4600015976                                   reassigned by JEDI\n",
       "4600016038                                   reassigned by JEDI\n",
       "4600016040                                   reassigned by JEDI\n",
       "                                    ...                        \n",
       "4602824186    The worker was cancelled while the job was run...\n",
       "4602917881    The worker was cancelled while the job was run...\n",
       "4602824916    The worker was cancelled while the job was run...\n",
       "4602793004    The worker was cancelled while the job was run...\n",
       "4602985117    The worker was cancelled while the job was run...\n",
       "Name: taskbuffererrordiag, Length: 36302, dtype: object"
      ]
     },
     "execution_count": 15,
     "metadata": {},
     "output_type": "execute_result"
    }
   ],
   "source": [
    "taskbuf"
   ]
  },
  {
   "cell_type": "code",
   "execution_count": 16,
   "metadata": {},
   "outputs": [
    {
     "data": {
      "text/plain": [
       "array([4598425005, 4600015972, 4600015976, ..., 4602824916, 4602793004,\n",
       "       4602985117])"
      ]
     },
     "execution_count": 16,
     "metadata": {},
     "output_type": "execute_result"
    }
   ],
   "source": [
    "taskbuf.index.values"
   ]
  },
  {
   "cell_type": "code",
   "execution_count": 20,
   "metadata": {},
   "outputs": [
    {
     "ename": "ModuleNotFoundError",
     "evalue": "No module named 'clusterlogs'",
     "output_type": "error",
     "traceback": [
      "\u001b[0;31m---------------------------------------------------------------------------\u001b[0m",
      "\u001b[0;31mModuleNotFoundError\u001b[0m                       Traceback (most recent call last)",
      "\u001b[0;32m<ipython-input-20-841499d5d7af>\u001b[0m in \u001b[0;36m<module>\u001b[0;34m\u001b[0m\n\u001b[0;32m----> 1\u001b[0;31m \u001b[0;32mfrom\u001b[0m \u001b[0mclusterlogs\u001b[0m \u001b[0;32mimport\u001b[0m \u001b[0mmultistage\u001b[0m\u001b[0;34m\u001b[0m\u001b[0m\n\u001b[0m",
      "\u001b[0;31mModuleNotFoundError\u001b[0m: No module named 'clusterlogs'"
     ]
    }
   ],
   "source": [
    "from clusterlogs import multistage"
   ]
  },
  {
   "cell_type": "code",
   "execution_count": null,
   "metadata": {},
   "outputs": [],
   "source": []
  }
 ],
 "metadata": {
  "kernelspec": {
   "display_name": "Python 3",
   "language": "python",
   "name": "python3"
  },
  "language_info": {
   "codemirror_mode": {
    "name": "ipython",
    "version": 3
   },
   "file_extension": ".py",
   "mimetype": "text/x-python",
   "name": "python",
   "nbconvert_exporter": "python",
   "pygments_lexer": "ipython3",
   "version": "3.7.0"
  }
 },
 "nbformat": 4,
 "nbformat_minor": 2
}
